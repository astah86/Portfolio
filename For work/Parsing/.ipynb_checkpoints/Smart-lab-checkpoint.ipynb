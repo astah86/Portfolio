{
 "cells": [
  {
   "cell_type": "code",
   "execution_count": 22,
   "id": "e1dda812-d475-4377-88a9-72d5100369d6",
   "metadata": {},
   "outputs": [],
   "source": [
    "from selenium import webdriver\n",
    "from selenium.webdriver.common.keys import Keys\n",
    "import time\n"
   ]
  },
  {
   "cell_type": "code",
   "execution_count": 41,
   "id": "bf3eb284-1d10-4f3c-af2a-0a733a918390",
   "metadata": {},
   "outputs": [
    {
     "name": "stdout",
     "output_type": "stream",
     "text": [
      "https://smart-lab.ru/q/ABRD/f/y/MSFO/download/\n",
      "https://smart-lab.ru/q/ABRD/f/y/RSBU/download/\n",
      "https://smart-lab.ru/q/ABRD/f/q/MSFO/download/\n",
      "https://smart-lab.ru/q/ABRD/f/q/RSBU/download/\n",
      "https://smart-lab.ru/q/AFKS/f/y/MSFO/download/\n",
      "https://smart-lab.ru/q/AFKS/f/y/RSBU/download/\n",
      "https://smart-lab.ru/q/AFKS/f/q/MSFO/download/\n",
      "https://smart-lab.ru/q/AFKS/f/q/RSBU/download/\n",
      "https://smart-lab.ru/q/AFLT/f/y/MSFO/download/\n",
      "https://smart-lab.ru/q/AFLT/f/y/RSBU/download/\n",
      "https://smart-lab.ru/q/AFLT/f/q/MSFO/download/\n",
      "https://smart-lab.ru/q/AFLT/f/q/RSBU/download/\n",
      "https://smart-lab.ru/q/AKRN/f/y/MSFO/download/\n",
      "https://smart-lab.ru/q/AKRN/f/y/RSBU/download/\n",
      "https://smart-lab.ru/q/AKRN/f/q/MSFO/download/\n",
      "https://smart-lab.ru/q/AKRN/f/q/RSBU/download/\n",
      "https://smart-lab.ru/q/ALBK/f/y/MSFO/download/\n",
      "https://smart-lab.ru/q/ALBK/f/y/RSBU/download/\n",
      "https://smart-lab.ru/q/ALBK/f/q/MSFO/download/\n",
      "https://smart-lab.ru/q/ALBK/f/q/RSBU/download/\n",
      "https://smart-lab.ru/q/ALNU/f/y/MSFO/download/\n",
      "https://smart-lab.ru/q/ALNU/f/y/RSBU/download/\n",
      "https://smart-lab.ru/q/ALNU/f/q/MSFO/download/\n",
      "https://smart-lab.ru/q/ALNU/f/q/RSBU/download/\n",
      "https://smart-lab.ru/q/ALRS/f/y/MSFO/download/\n",
      "https://smart-lab.ru/q/ALRS/f/y/RSBU/download/\n",
      "https://smart-lab.ru/q/ALRS/f/q/MSFO/download/\n",
      "https://smart-lab.ru/q/ALRS/f/q/RSBU/download/\n",
      "https://smart-lab.ru/q/AMEZ/f/y/MSFO/download/\n",
      "https://smart-lab.ru/q/AMEZ/f/y/RSBU/download/\n",
      "https://smart-lab.ru/q/AMEZ/f/q/MSFO/download/\n",
      "https://smart-lab.ru/q/AMEZ/f/q/RSBU/download/\n",
      "https://smart-lab.ru/q/APTK/f/y/MSFO/download/\n",
      "https://smart-lab.ru/q/APTK/f/y/RSBU/download/\n",
      "https://smart-lab.ru/q/APTK/f/q/MSFO/download/\n",
      "https://smart-lab.ru/q/APTK/f/q/RSBU/download/\n",
      "https://smart-lab.ru/q/ARSA/f/y/MSFO/download/\n",
      "https://smart-lab.ru/q/ARSA/f/y/RSBU/download/\n",
      "https://smart-lab.ru/q/ARSA/f/q/MSFO/download/\n",
      "https://smart-lab.ru/q/ARSA/f/q/RSBU/download/\n",
      "https://smart-lab.ru/q/ASSB/f/y/MSFO/download/\n",
      "https://smart-lab.ru/q/ASSB/f/y/RSBU/download/\n",
      "https://smart-lab.ru/q/ASSB/f/q/MSFO/download/\n",
      "https://smart-lab.ru/q/ASSB/f/q/RSBU/download/\n",
      "https://smart-lab.ru/q/BANE/f/y/MSFO/download/\n",
      "https://smart-lab.ru/q/BANE/f/y/RSBU/download/\n",
      "https://smart-lab.ru/q/BANE/f/q/MSFO/download/\n",
      "https://smart-lab.ru/q/BANE/f/q/RSBU/download/\n",
      "https://smart-lab.ru/q/BANEP/f/y/MSFO/download/\n",
      "https://smart-lab.ru/q/BANEP/f/y/RSBU/download/\n",
      "https://smart-lab.ru/q/BANEP/f/q/MSFO/download/\n",
      "https://smart-lab.ru/q/BANEP/f/q/RSBU/download/\n",
      "https://smart-lab.ru/q/BELU/f/y/MSFO/download/\n",
      "https://smart-lab.ru/q/BELU/f/y/RSBU/download/\n",
      "https://smart-lab.ru/q/BELU/f/q/MSFO/download/\n",
      "https://smart-lab.ru/q/BELU/f/q/RSBU/download/\n",
      "https://smart-lab.ru/q/BISV/f/y/MSFO/download/\n",
      "https://smart-lab.ru/q/BISV/f/y/RSBU/download/\n",
      "https://smart-lab.ru/q/BISV/f/q/MSFO/download/\n",
      "https://smart-lab.ru/q/BISV/f/q/RSBU/download/\n",
      "https://smart-lab.ru/q/BISVP/f/y/MSFO/download/\n",
      "https://smart-lab.ru/q/BISVP/f/y/RSBU/download/\n",
      "https://smart-lab.ru/q/BISVP/f/q/MSFO/download/\n",
      "https://smart-lab.ru/q/BISVP/f/q/RSBU/download/\n",
      "https://smart-lab.ru/q/BLNG/f/y/MSFO/download/\n",
      "https://smart-lab.ru/q/BLNG/f/y/RSBU/download/\n",
      "https://smart-lab.ru/q/BLNG/f/q/MSFO/download/\n",
      "https://smart-lab.ru/q/BLNG/f/q/RSBU/download/\n",
      "https://smart-lab.ru/q/BRZL/f/y/MSFO/download/\n",
      "https://smart-lab.ru/q/BRZL/f/y/RSBU/download/\n",
      "https://smart-lab.ru/q/BRZL/f/q/MSFO/download/\n",
      "https://smart-lab.ru/q/BRZL/f/q/RSBU/download/\n",
      "https://smart-lab.ru/q/BSPB/f/y/MSFO/download/\n",
      "https://smart-lab.ru/q/BSPB/f/y/RSBU/download/\n",
      "https://smart-lab.ru/q/BSPB/f/q/MSFO/download/\n",
      "https://smart-lab.ru/q/BSPB/f/q/RSBU/download/\n",
      "https://smart-lab.ru/q/BSPBP/f/y/MSFO/download/\n",
      "https://smart-lab.ru/q/BSPBP/f/y/RSBU/download/\n",
      "https://smart-lab.ru/q/BSPBP/f/q/MSFO/download/\n",
      "https://smart-lab.ru/q/BSPBP/f/q/RSBU/download/\n",
      "https://smart-lab.ru/q/CBOM/f/y/MSFO/download/\n",
      "https://smart-lab.ru/q/CBOM/f/y/RSBU/download/\n",
      "https://smart-lab.ru/q/CBOM/f/q/MSFO/download/\n",
      "https://smart-lab.ru/q/CBOM/f/q/RSBU/download/\n",
      "https://smart-lab.ru/q/CHGZ/f/y/MSFO/download/\n",
      "https://smart-lab.ru/q/CHGZ/f/y/RSBU/download/\n",
      "https://smart-lab.ru/q/CHGZ/f/q/MSFO/download/\n",
      "https://smart-lab.ru/q/CHGZ/f/q/RSBU/download/\n",
      "https://smart-lab.ru/q/CHKZ/f/y/MSFO/download/\n",
      "https://smart-lab.ru/q/CHKZ/f/y/RSBU/download/\n",
      "https://smart-lab.ru/q/CHKZ/f/q/MSFO/download/\n",
      "https://smart-lab.ru/q/CHKZ/f/q/RSBU/download/\n",
      "https://smart-lab.ru/q/CHMF/f/y/MSFO/download/\n",
      "https://smart-lab.ru/q/CHMF/f/y/RSBU/download/\n",
      "https://smart-lab.ru/q/CHMF/f/q/MSFO/download/\n",
      "https://smart-lab.ru/q/CHMF/f/q/RSBU/download/\n",
      "https://smart-lab.ru/q/CHMK/f/y/MSFO/download/\n",
      "https://smart-lab.ru/q/CHMK/f/y/RSBU/download/\n",
      "https://smart-lab.ru/q/CHMK/f/q/MSFO/download/\n",
      "https://smart-lab.ru/q/CHMK/f/q/RSBU/download/\n",
      "https://smart-lab.ru/q/CNTL/f/y/MSFO/download/\n",
      "https://smart-lab.ru/q/CNTL/f/y/RSBU/download/\n",
      "https://smart-lab.ru/q/CNTL/f/q/MSFO/download/\n",
      "https://smart-lab.ru/q/CNTL/f/q/RSBU/download/\n",
      "https://smart-lab.ru/q/CNTLP/f/y/MSFO/download/\n",
      "https://smart-lab.ru/q/CNTLP/f/y/RSBU/download/\n",
      "https://smart-lab.ru/q/CNTLP/f/q/MSFO/download/\n",
      "https://smart-lab.ru/q/CNTLP/f/q/RSBU/download/\n",
      "https://smart-lab.ru/q/DASB/f/y/MSFO/download/\n",
      "https://smart-lab.ru/q/DASB/f/y/RSBU/download/\n",
      "https://smart-lab.ru/q/DASB/f/q/MSFO/download/\n",
      "https://smart-lab.ru/q/DASB/f/q/RSBU/download/\n",
      "https://smart-lab.ru/q/DELI/f/y/MSFO/download/\n",
      "https://smart-lab.ru/q/DELI/f/y/RSBU/download/\n",
      "https://smart-lab.ru/q/DELI/f/q/MSFO/download/\n",
      "https://smart-lab.ru/q/DELI/f/q/RSBU/download/\n",
      "https://smart-lab.ru/q/DSKY/f/y/MSFO/download/\n",
      "https://smart-lab.ru/q/DSKY/f/y/RSBU/download/\n",
      "https://smart-lab.ru/q/DSKY/f/q/MSFO/download/\n",
      "https://smart-lab.ru/q/DSKY/f/q/RSBU/download/\n",
      "https://smart-lab.ru/q/DVEC/f/y/MSFO/download/\n",
      "https://smart-lab.ru/q/DVEC/f/y/RSBU/download/\n",
      "https://smart-lab.ru/q/DVEC/f/q/MSFO/download/\n",
      "https://smart-lab.ru/q/DVEC/f/q/RSBU/download/\n",
      "https://smart-lab.ru/q/DZRD/f/y/MSFO/download/\n",
      "https://smart-lab.ru/q/DZRD/f/y/RSBU/download/\n",
      "https://smart-lab.ru/q/DZRD/f/q/MSFO/download/\n",
      "https://smart-lab.ru/q/DZRD/f/q/RSBU/download/\n",
      "https://smart-lab.ru/q/DZRDP/f/y/MSFO/download/\n",
      "https://smart-lab.ru/q/DZRDP/f/y/RSBU/download/\n",
      "https://smart-lab.ru/q/DZRDP/f/q/MSFO/download/\n",
      "https://smart-lab.ru/q/DZRDP/f/q/RSBU/download/\n",
      "https://smart-lab.ru/q/EELT/f/y/MSFO/download/\n",
      "https://smart-lab.ru/q/EELT/f/y/RSBU/download/\n",
      "https://smart-lab.ru/q/EELT/f/q/MSFO/download/\n",
      "https://smart-lab.ru/q/EELT/f/q/RSBU/download/\n",
      "https://smart-lab.ru/q/ELFV/f/y/MSFO/download/\n",
      "https://smart-lab.ru/q/ELFV/f/y/RSBU/download/\n",
      "https://smart-lab.ru/q/ELFV/f/q/MSFO/download/\n",
      "https://smart-lab.ru/q/ELFV/f/q/RSBU/download/\n",
      "https://smart-lab.ru/q/ELTZ/f/y/MSFO/download/\n",
      "https://smart-lab.ru/q/ELTZ/f/y/RSBU/download/\n",
      "https://smart-lab.ru/q/ELTZ/f/q/MSFO/download/\n",
      "https://smart-lab.ru/q/ELTZ/f/q/RSBU/download/\n",
      "https://smart-lab.ru/q/EUTR/f/y/MSFO/download/\n",
      "https://smart-lab.ru/q/EUTR/f/y/RSBU/download/\n",
      "https://smart-lab.ru/q/EUTR/f/q/MSFO/download/\n",
      "https://smart-lab.ru/q/EUTR/f/q/RSBU/download/\n",
      "https://smart-lab.ru/q/ENPG/f/y/MSFO/download/\n",
      "https://smart-lab.ru/q/ENPG/f/y/RSBU/download/\n",
      "https://smart-lab.ru/q/ENPG/f/q/MSFO/download/\n",
      "https://smart-lab.ru/q/ENPG/f/q/RSBU/download/\n",
      "https://smart-lab.ru/q/FESH/f/y/MSFO/download/\n",
      "https://smart-lab.ru/q/FESH/f/y/RSBU/download/\n",
      "https://smart-lab.ru/q/FESH/f/q/MSFO/download/\n",
      "https://smart-lab.ru/q/FESH/f/q/RSBU/download/\n",
      "https://smart-lab.ru/q/FIVE/f/y/MSFO/download/\n",
      "https://smart-lab.ru/q/FIVE/f/y/RSBU/download/\n",
      "https://smart-lab.ru/q/FIVE/f/q/MSFO/download/\n",
      "https://smart-lab.ru/q/FIVE/f/q/RSBU/download/\n",
      "https://smart-lab.ru/q/GAZA/f/y/MSFO/download/\n",
      "https://smart-lab.ru/q/GAZA/f/y/RSBU/download/\n",
      "https://smart-lab.ru/q/GAZA/f/q/MSFO/download/\n",
      "https://smart-lab.ru/q/GAZA/f/q/RSBU/download/\n",
      "https://smart-lab.ru/q/GAZAP/f/y/MSFO/download/\n",
      "https://smart-lab.ru/q/GAZAP/f/y/RSBU/download/\n",
      "https://smart-lab.ru/q/GAZAP/f/q/MSFO/download/\n",
      "https://smart-lab.ru/q/GAZAP/f/q/RSBU/download/\n",
      "https://smart-lab.ru/q/GAZP/f/y/MSFO/download/\n",
      "https://smart-lab.ru/q/GAZP/f/y/RSBU/download/\n",
      "https://smart-lab.ru/q/GAZP/f/q/MSFO/download/\n",
      "https://smart-lab.ru/q/GAZP/f/q/RSBU/download/\n",
      "https://smart-lab.ru/q/GCHE/f/y/MSFO/download/\n",
      "https://smart-lab.ru/q/GCHE/f/y/RSBU/download/\n",
      "https://smart-lab.ru/q/GCHE/f/q/MSFO/download/\n",
      "https://smart-lab.ru/q/GCHE/f/q/RSBU/download/\n",
      "https://smart-lab.ru/q/GECO/f/y/MSFO/download/\n",
      "https://smart-lab.ru/q/GECO/f/y/RSBU/download/\n",
      "https://smart-lab.ru/q/GECO/f/q/MSFO/download/\n",
      "https://smart-lab.ru/q/GECO/f/q/RSBU/download/\n",
      "https://smart-lab.ru/q/GEMA/f/y/MSFO/download/\n",
      "https://smart-lab.ru/q/GEMA/f/y/RSBU/download/\n",
      "https://smart-lab.ru/q/GEMA/f/q/MSFO/download/\n",
      "https://smart-lab.ru/q/GEMA/f/q/RSBU/download/\n",
      "https://smart-lab.ru/q/GEMC/f/y/MSFO/download/\n",
      "https://smart-lab.ru/q/GEMC/f/y/RSBU/download/\n",
      "https://smart-lab.ru/q/GEMC/f/q/MSFO/download/\n",
      "https://smart-lab.ru/q/GEMC/f/q/RSBU/download/\n",
      "https://smart-lab.ru/q/GMKN/f/y/MSFO/download/\n",
      "https://smart-lab.ru/q/GMKN/f/y/RSBU/download/\n",
      "https://smart-lab.ru/q/GMKN/f/q/MSFO/download/\n",
      "https://smart-lab.ru/q/GMKN/f/q/RSBU/download/\n",
      "https://smart-lab.ru/q/GTLC/f/y/MSFO/download/\n",
      "https://smart-lab.ru/q/GTLC/f/y/RSBU/download/\n",
      "https://smart-lab.ru/q/GTLC/f/q/MSFO/download/\n",
      "https://smart-lab.ru/q/GTLC/f/q/RSBU/download/\n",
      "https://smart-lab.ru/q/GTRK/f/y/MSFO/download/\n",
      "https://smart-lab.ru/q/GTRK/f/y/RSBU/download/\n",
      "https://smart-lab.ru/q/GTRK/f/q/MSFO/download/\n",
      "https://smart-lab.ru/q/GTRK/f/q/RSBU/download/\n",
      "https://smart-lab.ru/q/HALS/f/y/MSFO/download/\n",
      "https://smart-lab.ru/q/HALS/f/y/RSBU/download/\n",
      "https://smart-lab.ru/q/HALS/f/q/MSFO/download/\n",
      "https://smart-lab.ru/q/HALS/f/q/RSBU/download/\n",
      "https://smart-lab.ru/q/HHRU/f/y/MSFO/download/\n",
      "https://smart-lab.ru/q/HHRU/f/y/RSBU/download/\n",
      "https://smart-lab.ru/q/HHRU/f/q/MSFO/download/\n",
      "https://smart-lab.ru/q/HHRU/f/q/RSBU/download/\n",
      "https://smart-lab.ru/q/HIMC/f/y/MSFO/download/\n",
      "https://smart-lab.ru/q/HIMC/f/y/RSBU/download/\n",
      "https://smart-lab.ru/q/HIMC/f/q/MSFO/download/\n",
      "https://smart-lab.ru/q/HIMC/f/q/RSBU/download/\n",
      "https://smart-lab.ru/q/HNFG/f/y/MSFO/download/\n",
      "https://smart-lab.ru/q/HNFG/f/y/RSBU/download/\n",
      "https://smart-lab.ru/q/HNFG/f/q/MSFO/download/\n",
      "https://smart-lab.ru/q/HNFG/f/q/RSBU/download/\n",
      "https://smart-lab.ru/q/HIMCP/f/y/MSFO/download/\n",
      "https://smart-lab.ru/q/HIMCP/f/y/RSBU/download/\n",
      "https://smart-lab.ru/q/HIMCP/f/q/MSFO/download/\n",
      "https://smart-lab.ru/q/HIMCP/f/q/RSBU/download/\n",
      "https://smart-lab.ru/q/IDVP/f/y/MSFO/download/\n",
      "https://smart-lab.ru/q/IDVP/f/y/RSBU/download/\n",
      "https://smart-lab.ru/q/IDVP/f/q/MSFO/download/\n",
      "https://smart-lab.ru/q/IDVP/f/q/RSBU/download/\n",
      "https://smart-lab.ru/q/IGST/f/y/MSFO/download/\n",
      "https://smart-lab.ru/q/IGST/f/y/RSBU/download/\n",
      "https://smart-lab.ru/q/IGST/f/q/MSFO/download/\n",
      "https://smart-lab.ru/q/IGST/f/q/RSBU/download/\n",
      "https://smart-lab.ru/q/IGSTP/f/y/MSFO/download/\n",
      "https://smart-lab.ru/q/IGSTP/f/y/RSBU/download/\n",
      "https://smart-lab.ru/q/IGSTP/f/q/MSFO/download/\n",
      "https://smart-lab.ru/q/IGSTP/f/q/RSBU/download/\n",
      "https://smart-lab.ru/q/IRAO/f/y/MSFO/download/\n",
      "https://smart-lab.ru/q/IRAO/f/y/RSBU/download/\n",
      "https://smart-lab.ru/q/IRAO/f/q/MSFO/download/\n",
      "https://smart-lab.ru/q/IRAO/f/q/RSBU/download/\n",
      "https://smart-lab.ru/q/IRGZ/f/y/MSFO/download/\n",
      "https://smart-lab.ru/q/IRGZ/f/y/RSBU/download/\n",
      "https://smart-lab.ru/q/IRGZ/f/q/MSFO/download/\n",
      "https://smart-lab.ru/q/IRGZ/f/q/RSBU/download/\n",
      "https://smart-lab.ru/q/IRKT/f/y/MSFO/download/\n",
      "https://smart-lab.ru/q/IRKT/f/y/RSBU/download/\n",
      "https://smart-lab.ru/q/IRKT/f/q/MSFO/download/\n",
      "https://smart-lab.ru/q/IRKT/f/q/RSBU/download/\n",
      "https://smart-lab.ru/q/ISKJ/f/y/MSFO/download/\n",
      "https://smart-lab.ru/q/ISKJ/f/y/RSBU/download/\n",
      "https://smart-lab.ru/q/ISKJ/f/q/MSFO/download/\n",
      "https://smart-lab.ru/q/ISKJ/f/q/RSBU/download/\n",
      "https://smart-lab.ru/q/JNOS/f/y/MSFO/download/\n",
      "https://smart-lab.ru/q/JNOS/f/y/RSBU/download/\n",
      "https://smart-lab.ru/q/JNOS/f/q/MSFO/download/\n",
      "https://smart-lab.ru/q/JNOS/f/q/RSBU/download/\n",
      "https://smart-lab.ru/q/JNOSP/f/y/MSFO/download/\n",
      "https://smart-lab.ru/q/JNOSP/f/y/RSBU/download/\n",
      "https://smart-lab.ru/q/JNOSP/f/q/MSFO/download/\n",
      "https://smart-lab.ru/q/JNOSP/f/q/RSBU/download/\n",
      "https://smart-lab.ru/q/KAZT/f/y/MSFO/download/\n",
      "https://smart-lab.ru/q/KAZT/f/y/RSBU/download/\n",
      "https://smart-lab.ru/q/KAZT/f/q/MSFO/download/\n",
      "https://smart-lab.ru/q/KAZT/f/q/RSBU/download/\n",
      "https://smart-lab.ru/q/KAZTP/f/y/MSFO/download/\n",
      "https://smart-lab.ru/q/KAZTP/f/y/RSBU/download/\n",
      "https://smart-lab.ru/q/KAZTP/f/q/MSFO/download/\n",
      "https://smart-lab.ru/q/KAZTP/f/q/RSBU/download/\n",
      "https://smart-lab.ru/q/KBSB/f/y/MSFO/download/\n",
      "https://smart-lab.ru/q/KBSB/f/y/RSBU/download/\n",
      "https://smart-lab.ru/q/KBSB/f/q/MSFO/download/\n",
      "https://smart-lab.ru/q/KBSB/f/q/RSBU/download/\n",
      "https://smart-lab.ru/q/KBTK/f/y/MSFO/download/\n",
      "https://smart-lab.ru/q/KBTK/f/y/RSBU/download/\n",
      "https://smart-lab.ru/q/KBTK/f/q/MSFO/download/\n",
      "https://smart-lab.ru/q/KBTK/f/q/RSBU/download/\n",
      "https://smart-lab.ru/q/KCHE/f/y/MSFO/download/\n",
      "https://smart-lab.ru/q/KCHE/f/y/RSBU/download/\n",
      "https://smart-lab.ru/q/KCHE/f/q/MSFO/download/\n",
      "https://smart-lab.ru/q/KCHE/f/q/RSBU/download/\n",
      "https://smart-lab.ru/q/KCHEP/f/y/MSFO/download/\n",
      "https://smart-lab.ru/q/KCHEP/f/y/RSBU/download/\n",
      "https://smart-lab.ru/q/KCHEP/f/q/MSFO/download/\n",
      "https://smart-lab.ru/q/KCHEP/f/q/RSBU/download/\n",
      "https://smart-lab.ru/q/KGKC/f/y/MSFO/download/\n",
      "https://smart-lab.ru/q/KGKC/f/y/RSBU/download/\n",
      "https://smart-lab.ru/q/KGKC/f/q/MSFO/download/\n",
      "https://smart-lab.ru/q/KGKC/f/q/RSBU/download/\n",
      "https://smart-lab.ru/q/KGKCP/f/y/MSFO/download/\n",
      "https://smart-lab.ru/q/KGKCP/f/y/RSBU/download/\n",
      "https://smart-lab.ru/q/KGKCP/f/q/MSFO/download/\n",
      "https://smart-lab.ru/q/KGKCP/f/q/RSBU/download/\n",
      "https://smart-lab.ru/q/KLSB/f/y/MSFO/download/\n",
      "https://smart-lab.ru/q/KLSB/f/y/RSBU/download/\n",
      "https://smart-lab.ru/q/KLSB/f/q/MSFO/download/\n",
      "https://smart-lab.ru/q/KLSB/f/q/RSBU/download/\n",
      "https://smart-lab.ru/q/KMAZ/f/y/MSFO/download/\n",
      "https://smart-lab.ru/q/KMAZ/f/y/RSBU/download/\n",
      "https://smart-lab.ru/q/KMAZ/f/q/MSFO/download/\n",
      "https://smart-lab.ru/q/KMAZ/f/q/RSBU/download/\n",
      "https://smart-lab.ru/q/KMEZ/f/y/MSFO/download/\n",
      "https://smart-lab.ru/q/KMEZ/f/y/RSBU/download/\n",
      "https://smart-lab.ru/q/KMEZ/f/q/MSFO/download/\n",
      "https://smart-lab.ru/q/KMEZ/f/q/RSBU/download/\n",
      "https://smart-lab.ru/q/KOGK/f/y/MSFO/download/\n",
      "https://smart-lab.ru/q/KOGK/f/y/RSBU/download/\n",
      "https://smart-lab.ru/q/KOGK/f/q/MSFO/download/\n",
      "https://smart-lab.ru/q/KOGK/f/q/RSBU/download/\n",
      "https://smart-lab.ru/q/KRKN/f/y/MSFO/download/\n",
      "https://smart-lab.ru/q/KRKN/f/y/RSBU/download/\n",
      "https://smart-lab.ru/q/KRKN/f/q/MSFO/download/\n",
      "https://smart-lab.ru/q/KRKN/f/q/RSBU/download/\n",
      "https://smart-lab.ru/q/KRKNP/f/y/MSFO/download/\n",
      "https://smart-lab.ru/q/KRKNP/f/y/RSBU/download/\n",
      "https://smart-lab.ru/q/KRKNP/f/q/MSFO/download/\n",
      "https://smart-lab.ru/q/KRKNP/f/q/RSBU/download/\n",
      "https://smart-lab.ru/q/KRKO/f/y/MSFO/download/\n",
      "https://smart-lab.ru/q/KRKO/f/y/RSBU/download/\n",
      "https://smart-lab.ru/q/KRKO/f/q/MSFO/download/\n",
      "https://smart-lab.ru/q/KRKO/f/q/RSBU/download/\n",
      "https://smart-lab.ru/q/KRKOP/f/y/MSFO/download/\n",
      "https://smart-lab.ru/q/KRKOP/f/y/RSBU/download/\n",
      "https://smart-lab.ru/q/KRKOP/f/q/MSFO/download/\n",
      "https://smart-lab.ru/q/KRKOP/f/q/RSBU/download/\n",
      "https://smart-lab.ru/q/KROT/f/y/MSFO/download/\n",
      "https://smart-lab.ru/q/KROT/f/y/RSBU/download/\n",
      "https://smart-lab.ru/q/KROT/f/q/MSFO/download/\n",
      "https://smart-lab.ru/q/KROT/f/q/RSBU/download/\n",
      "https://smart-lab.ru/q/KROTP/f/y/MSFO/download/\n",
      "https://smart-lab.ru/q/KROTP/f/y/RSBU/download/\n",
      "https://smart-lab.ru/q/KROTP/f/q/MSFO/download/\n",
      "https://smart-lab.ru/q/KROTP/f/q/RSBU/download/\n",
      "https://smart-lab.ru/q/KRSB/f/y/MSFO/download/\n",
      "https://smart-lab.ru/q/KRSB/f/y/RSBU/download/\n",
      "https://smart-lab.ru/q/KRSB/f/q/MSFO/download/\n",
      "https://smart-lab.ru/q/KRSB/f/q/RSBU/download/\n",
      "https://smart-lab.ru/q/KRSBP/f/y/MSFO/download/\n",
      "https://smart-lab.ru/q/KRSBP/f/y/RSBU/download/\n",
      "https://smart-lab.ru/q/KRSBP/f/q/MSFO/download/\n",
      "https://smart-lab.ru/q/KRSBP/f/q/RSBU/download/\n",
      "https://smart-lab.ru/q/KTSB/f/y/MSFO/download/\n",
      "https://smart-lab.ru/q/KTSB/f/y/RSBU/download/\n",
      "https://smart-lab.ru/q/KTSB/f/q/MSFO/download/\n",
      "https://smart-lab.ru/q/KTSB/f/q/RSBU/download/\n",
      "https://smart-lab.ru/q/KTSBP/f/y/MSFO/download/\n",
      "https://smart-lab.ru/q/KTSBP/f/y/RSBU/download/\n",
      "https://smart-lab.ru/q/KTSBP/f/q/MSFO/download/\n",
      "https://smart-lab.ru/q/KTSBP/f/q/RSBU/download/\n",
      "https://smart-lab.ru/q/KUBE/f/y/MSFO/download/\n",
      "https://smart-lab.ru/q/KUBE/f/y/RSBU/download/\n",
      "https://smart-lab.ru/q/KUBE/f/q/MSFO/download/\n",
      "https://smart-lab.ru/q/KUBE/f/q/RSBU/download/\n",
      "https://smart-lab.ru/q/KUZB/f/y/MSFO/download/\n",
      "https://smart-lab.ru/q/KUZB/f/y/RSBU/download/\n",
      "https://smart-lab.ru/q/KUZB/f/q/MSFO/download/\n",
      "https://smart-lab.ru/q/KUZB/f/q/RSBU/download/\n",
      "https://smart-lab.ru/q/KZOS/f/y/MSFO/download/\n",
      "https://smart-lab.ru/q/KZOS/f/y/RSBU/download/\n",
      "https://smart-lab.ru/q/KZOS/f/q/MSFO/download/\n",
      "https://smart-lab.ru/q/KZOS/f/q/RSBU/download/\n",
      "https://smart-lab.ru/q/KZOSP/f/y/MSFO/download/\n",
      "https://smart-lab.ru/q/KZOSP/f/y/RSBU/download/\n",
      "https://smart-lab.ru/q/KZOSP/f/q/MSFO/download/\n",
      "https://smart-lab.ru/q/KZOSP/f/q/RSBU/download/\n",
      "https://smart-lab.ru/q/LKOH/f/y/MSFO/download/\n",
      "https://smart-lab.ru/q/LKOH/f/y/RSBU/download/\n",
      "https://smart-lab.ru/q/LKOH/f/q/MSFO/download/\n",
      "https://smart-lab.ru/q/LKOH/f/q/RSBU/download/\n",
      "https://smart-lab.ru/q/LNTA/f/y/MSFO/download/\n",
      "https://smart-lab.ru/q/LNTA/f/y/RSBU/download/\n",
      "https://smart-lab.ru/q/LNTA/f/q/MSFO/download/\n",
      "https://smart-lab.ru/q/LNTA/f/q/RSBU/download/\n",
      "https://smart-lab.ru/q/LNZL/f/y/MSFO/download/\n",
      "https://smart-lab.ru/q/LNZL/f/y/RSBU/download/\n",
      "https://smart-lab.ru/q/LNZL/f/q/MSFO/download/\n",
      "https://smart-lab.ru/q/LNZL/f/q/RSBU/download/\n",
      "https://smart-lab.ru/q/LNZLP/f/y/MSFO/download/\n",
      "https://smart-lab.ru/q/LNZLP/f/y/RSBU/download/\n",
      "https://smart-lab.ru/q/LNZLP/f/q/MSFO/download/\n",
      "https://smart-lab.ru/q/LNZLP/f/q/RSBU/download/\n",
      "https://smart-lab.ru/q/LPSB/f/y/MSFO/download/\n",
      "https://smart-lab.ru/q/LPSB/f/y/RSBU/download/\n",
      "https://smart-lab.ru/q/LPSB/f/q/MSFO/download/\n",
      "https://smart-lab.ru/q/LPSB/f/q/RSBU/download/\n",
      "https://smart-lab.ru/q/LSNG/f/y/MSFO/download/\n",
      "https://smart-lab.ru/q/LSNG/f/y/RSBU/download/\n",
      "https://smart-lab.ru/q/LSNG/f/q/MSFO/download/\n",
      "https://smart-lab.ru/q/LSNG/f/q/RSBU/download/\n",
      "https://smart-lab.ru/q/LSNGP/f/y/MSFO/download/\n",
      "https://smart-lab.ru/q/LSNGP/f/y/RSBU/download/\n",
      "https://smart-lab.ru/q/LSNGP/f/q/MSFO/download/\n",
      "https://smart-lab.ru/q/LSNGP/f/q/RSBU/download/\n",
      "https://smart-lab.ru/q/LSRG/f/y/MSFO/download/\n",
      "https://smart-lab.ru/q/LSRG/f/y/RSBU/download/\n",
      "https://smart-lab.ru/q/LSRG/f/q/MSFO/download/\n",
      "https://smart-lab.ru/q/LSRG/f/q/RSBU/download/\n",
      "https://smart-lab.ru/q/LVHK/f/y/MSFO/download/\n",
      "https://smart-lab.ru/q/LVHK/f/y/RSBU/download/\n",
      "https://smart-lab.ru/q/LVHK/f/q/MSFO/download/\n",
      "https://smart-lab.ru/q/LVHK/f/q/RSBU/download/\n",
      "https://smart-lab.ru/q/MAGE/f/y/MSFO/download/\n",
      "https://smart-lab.ru/q/MAGE/f/y/RSBU/download/\n",
      "https://smart-lab.ru/q/MAGE/f/q/MSFO/download/\n",
      "https://smart-lab.ru/q/MAGE/f/q/RSBU/download/\n",
      "https://smart-lab.ru/q/MAGEP/f/y/MSFO/download/\n",
      "https://smart-lab.ru/q/MAGEP/f/y/RSBU/download/\n",
      "https://smart-lab.ru/q/MAGEP/f/q/MSFO/download/\n",
      "https://smart-lab.ru/q/MAGEP/f/q/RSBU/download/\n",
      "https://smart-lab.ru/q/MAGN/f/y/MSFO/download/\n",
      "https://smart-lab.ru/q/MAGN/f/y/RSBU/download/\n",
      "https://smart-lab.ru/q/MAGN/f/q/MSFO/download/\n",
      "https://smart-lab.ru/q/MAGN/f/q/RSBU/download/\n",
      "https://smart-lab.ru/q/MERF/f/y/MSFO/download/\n",
      "https://smart-lab.ru/q/MERF/f/y/RSBU/download/\n",
      "https://smart-lab.ru/q/MERF/f/q/MSFO/download/\n",
      "https://smart-lab.ru/q/MERF/f/q/RSBU/download/\n",
      "https://smart-lab.ru/q/MFGS/f/y/MSFO/download/\n",
      "https://smart-lab.ru/q/MFGS/f/y/RSBU/download/\n",
      "https://smart-lab.ru/q/MFGS/f/q/MSFO/download/\n",
      "https://smart-lab.ru/q/MFGS/f/q/RSBU/download/\n",
      "https://smart-lab.ru/q/MGKL/f/y/MSFO/download/\n",
      "https://smart-lab.ru/q/MGKL/f/y/RSBU/download/\n",
      "https://smart-lab.ru/q/MGKL/f/q/MSFO/download/\n",
      "https://smart-lab.ru/q/MGKL/f/q/RSBU/download/\n",
      "https://smart-lab.ru/q/MFGSP/f/y/MSFO/download/\n",
      "https://smart-lab.ru/q/MFGSP/f/y/RSBU/download/\n",
      "https://smart-lab.ru/q/MFGSP/f/q/MSFO/download/\n",
      "https://smart-lab.ru/q/MFGSP/f/q/RSBU/download/\n",
      "https://smart-lab.ru/q/MGNT/f/y/MSFO/download/\n",
      "https://smart-lab.ru/q/MGNT/f/y/RSBU/download/\n",
      "https://smart-lab.ru/q/MGNT/f/q/MSFO/download/\n",
      "https://smart-lab.ru/q/MGNT/f/q/RSBU/download/\n",
      "https://smart-lab.ru/q/MGNZ/f/y/MSFO/download/\n",
      "https://smart-lab.ru/q/MGNZ/f/y/RSBU/download/\n",
      "https://smart-lab.ru/q/MGNZ/f/q/MSFO/download/\n",
      "https://smart-lab.ru/q/MGNZ/f/q/RSBU/download/\n",
      "https://smart-lab.ru/q/MGTS/f/y/MSFO/download/\n",
      "https://smart-lab.ru/q/MGTS/f/y/RSBU/download/\n",
      "https://smart-lab.ru/q/MGTS/f/q/MSFO/download/\n",
      "https://smart-lab.ru/q/MGTS/f/q/RSBU/download/\n",
      "https://smart-lab.ru/q/MGTSP/f/y/MSFO/download/\n",
      "https://smart-lab.ru/q/MGTSP/f/y/RSBU/download/\n",
      "https://smart-lab.ru/q/MGTSP/f/q/MSFO/download/\n",
      "https://smart-lab.ru/q/MGTSP/f/q/RSBU/download/\n",
      "https://smart-lab.ru/q/MISB/f/y/MSFO/download/\n",
      "https://smart-lab.ru/q/MISB/f/y/RSBU/download/\n",
      "https://smart-lab.ru/q/MISB/f/q/MSFO/download/\n",
      "https://smart-lab.ru/q/MISB/f/q/RSBU/download/\n",
      "https://smart-lab.ru/q/MISBP/f/y/MSFO/download/\n",
      "https://smart-lab.ru/q/MISBP/f/y/RSBU/download/\n",
      "https://smart-lab.ru/q/MISBP/f/q/MSFO/download/\n",
      "https://smart-lab.ru/q/MISBP/f/q/RSBU/download/\n",
      "https://smart-lab.ru/q/MOEX/f/y/MSFO/download/\n",
      "https://smart-lab.ru/q/MOEX/f/y/RSBU/download/\n",
      "https://smart-lab.ru/q/MOEX/f/q/MSFO/download/\n",
      "https://smart-lab.ru/q/MOEX/f/q/RSBU/download/\n",
      "https://smart-lab.ru/q/ABIO/f/y/MSFO/download/\n",
      "https://smart-lab.ru/q/ABIO/f/y/RSBU/download/\n",
      "https://smart-lab.ru/q/ABIO/f/q/MSFO/download/\n",
      "https://smart-lab.ru/q/ABIO/f/q/RSBU/download/\n",
      "https://smart-lab.ru/q/AGRO/f/y/MSFO/download/\n",
      "https://smart-lab.ru/q/AGRO/f/y/RSBU/download/\n",
      "https://smart-lab.ru/q/AGRO/f/q/MSFO/download/\n",
      "https://smart-lab.ru/q/AGRO/f/q/RSBU/download/\n",
      "https://smart-lab.ru/q/ASTR/f/y/MSFO/download/\n",
      "https://smart-lab.ru/q/ASTR/f/y/RSBU/download/\n",
      "https://smart-lab.ru/q/ASTR/f/q/MSFO/download/\n",
      "https://smart-lab.ru/q/ASTR/f/q/RSBU/download/\n",
      "https://smart-lab.ru/q/AQUA/f/y/MSFO/download/\n",
      "https://smart-lab.ru/q/AQUA/f/y/RSBU/download/\n",
      "https://smart-lab.ru/q/AQUA/f/q/MSFO/download/\n",
      "https://smart-lab.ru/q/AQUA/f/q/RSBU/download/\n",
      "https://smart-lab.ru/q/AVAN/f/y/MSFO/download/\n",
      "https://smart-lab.ru/q/AVAN/f/y/RSBU/download/\n",
      "https://smart-lab.ru/q/AVAN/f/q/MSFO/download/\n",
      "https://smart-lab.ru/q/AVAN/f/q/RSBU/download/\n",
      "https://smart-lab.ru/q/CARM/f/y/MSFO/download/\n",
      "https://smart-lab.ru/q/CARM/f/y/RSBU/download/\n",
      "https://smart-lab.ru/q/CARM/f/q/MSFO/download/\n",
      "https://smart-lab.ru/q/CARM/f/q/RSBU/download/\n",
      "https://smart-lab.ru/q/CIAN/f/y/MSFO/download/\n",
      "https://smart-lab.ru/q/CIAN/f/y/RSBU/download/\n",
      "https://smart-lab.ru/q/CIAN/f/q/MSFO/download/\n",
      "https://smart-lab.ru/q/CIAN/f/q/RSBU/download/\n",
      "https://smart-lab.ru/q/DIAS/f/y/MSFO/download/\n",
      "https://smart-lab.ru/q/DIAS/f/y/RSBU/download/\n",
      "https://smart-lab.ru/q/DIAS/f/q/MSFO/download/\n",
      "https://smart-lab.ru/q/DIAS/f/q/RSBU/download/\n",
      "https://smart-lab.ru/q/DIOD/f/y/MSFO/download/\n",
      "https://smart-lab.ru/q/DIOD/f/y/RSBU/download/\n",
      "https://smart-lab.ru/q/DIOD/f/q/MSFO/download/\n",
      "https://smart-lab.ru/q/DIOD/f/q/RSBU/download/\n",
      "https://smart-lab.ru/q/ETLN/f/y/MSFO/download/\n",
      "https://smart-lab.ru/q/ETLN/f/y/RSBU/download/\n",
      "https://smart-lab.ru/q/ETLN/f/q/MSFO/download/\n",
      "https://smart-lab.ru/q/ETLN/f/q/RSBU/download/\n",
      "https://smart-lab.ru/q/ENRU/f/y/MSFO/download/\n",
      "https://smart-lab.ru/q/ENRU/f/y/RSBU/download/\n",
      "https://smart-lab.ru/q/ENRU/f/q/MSFO/download/\n",
      "https://smart-lab.ru/q/ENRU/f/q/RSBU/download/\n",
      "https://smart-lab.ru/q/FEES/f/y/MSFO/download/\n",
      "https://smart-lab.ru/q/FEES/f/y/RSBU/download/\n",
      "https://smart-lab.ru/q/FEES/f/q/MSFO/download/\n",
      "https://smart-lab.ru/q/FEES/f/q/RSBU/download/\n",
      "https://smart-lab.ru/q/FIXP/f/y/MSFO/download/\n",
      "https://smart-lab.ru/q/FIXP/f/y/RSBU/download/\n",
      "https://smart-lab.ru/q/FIXP/f/q/MSFO/download/\n",
      "https://smart-lab.ru/q/FIXP/f/q/RSBU/download/\n",
      "https://smart-lab.ru/q/FLOT/f/y/MSFO/download/\n",
      "https://smart-lab.ru/q/FLOT/f/y/RSBU/download/\n",
      "https://smart-lab.ru/q/FLOT/f/q/MSFO/download/\n",
      "https://smart-lab.ru/q/FLOT/f/q/RSBU/download/\n",
      "https://smart-lab.ru/q/GLTR/f/y/MSFO/download/\n",
      "https://smart-lab.ru/q/GLTR/f/y/RSBU/download/\n",
      "https://smart-lab.ru/q/GLTR/f/q/MSFO/download/\n",
      "https://smart-lab.ru/q/GLTR/f/q/RSBU/download/\n",
      "https://smart-lab.ru/q/GRNT/f/y/MSFO/download/\n",
      "https://smart-lab.ru/q/GRNT/f/y/RSBU/download/\n",
      "https://smart-lab.ru/q/GRNT/f/q/MSFO/download/\n",
      "https://smart-lab.ru/q/GRNT/f/q/RSBU/download/\n",
      "https://smart-lab.ru/q/HMSG/f/y/MSFO/download/\n",
      "https://smart-lab.ru/q/HMSG/f/y/RSBU/download/\n",
      "https://smart-lab.ru/q/HMSG/f/q/MSFO/download/\n",
      "https://smart-lab.ru/q/HMSG/f/q/RSBU/download/\n",
      "https://smart-lab.ru/q/HYDR/f/y/MSFO/download/\n",
      "https://smart-lab.ru/q/HYDR/f/y/RSBU/download/\n",
      "https://smart-lab.ru/q/HYDR/f/q/MSFO/download/\n",
      "https://smart-lab.ru/q/HYDR/f/q/RSBU/download/\n",
      "https://smart-lab.ru/q/INGR/f/y/MSFO/download/\n",
      "https://smart-lab.ru/q/INGR/f/y/RSBU/download/\n",
      "https://smart-lab.ru/q/INGR/f/q/MSFO/download/\n",
      "https://smart-lab.ru/q/INGR/f/q/RSBU/download/\n",
      "https://smart-lab.ru/q/LIFE/f/y/MSFO/download/\n",
      "https://smart-lab.ru/q/LIFE/f/y/RSBU/download/\n",
      "https://smart-lab.ru/q/LIFE/f/q/MSFO/download/\n",
      "https://smart-lab.ru/q/LIFE/f/q/RSBU/download/\n",
      "https://smart-lab.ru/q/MDMG/f/y/MSFO/download/\n",
      "https://smart-lab.ru/q/MDMG/f/y/RSBU/download/\n",
      "https://smart-lab.ru/q/MDMG/f/q/MSFO/download/\n",
      "https://smart-lab.ru/q/MDMG/f/q/RSBU/download/\n",
      "https://smart-lab.ru/q/OKEY/f/y/MSFO/download/\n",
      "https://smart-lab.ru/q/OKEY/f/y/RSBU/download/\n",
      "https://smart-lab.ru/q/OKEY/f/q/MSFO/download/\n",
      "https://smart-lab.ru/q/OKEY/f/q/RSBU/download/\n",
      "https://smart-lab.ru/q/NKSH/f/y/MSFO/download/\n",
      "https://smart-lab.ru/q/NKSH/f/y/RSBU/download/\n",
      "https://smart-lab.ru/q/NKSH/f/q/MSFO/download/\n",
      "https://smart-lab.ru/q/NKSH/f/q/RSBU/download/\n",
      "https://smart-lab.ru/q/OZON/f/y/MSFO/download/\n",
      "https://smart-lab.ru/q/OZON/f/y/RSBU/download/\n",
      "https://smart-lab.ru/q/OZON/f/q/MSFO/download/\n",
      "https://smart-lab.ru/q/OZON/f/q/RSBU/download/\n",
      "https://smart-lab.ru/q/QIWI/f/y/MSFO/download/\n",
      "https://smart-lab.ru/q/QIWI/f/y/RSBU/download/\n",
      "https://smart-lab.ru/q/QIWI/f/q/MSFO/download/\n",
      "https://smart-lab.ru/q/QIWI/f/q/RSBU/download/\n",
      "https://smart-lab.ru/q/ROST/f/y/MSFO/download/\n",
      "https://smart-lab.ru/q/ROST/f/y/RSBU/download/\n",
      "https://smart-lab.ru/q/ROST/f/q/MSFO/download/\n",
      "https://smart-lab.ru/q/ROST/f/q/RSBU/download/\n",
      "https://smart-lab.ru/q/RSTI/f/y/MSFO/download/\n",
      "https://smart-lab.ru/q/RSTI/f/y/RSBU/download/\n",
      "https://smart-lab.ru/q/RSTI/f/q/MSFO/download/\n",
      "https://smart-lab.ru/q/RSTI/f/q/RSBU/download/\n",
      "https://smart-lab.ru/q/SIBN/f/y/MSFO/download/\n",
      "https://smart-lab.ru/q/SIBN/f/y/RSBU/download/\n",
      "https://smart-lab.ru/q/SIBN/f/q/MSFO/download/\n",
      "https://smart-lab.ru/q/SIBN/f/q/RSBU/download/\n",
      "https://smart-lab.ru/q/SMLT/f/y/MSFO/download/\n",
      "https://smart-lab.ru/q/SMLT/f/y/RSBU/download/\n",
      "https://smart-lab.ru/q/SMLT/f/q/MSFO/download/\n",
      "https://smart-lab.ru/q/SMLT/f/q/RSBU/download/\n",
      "https://smart-lab.ru/q/STSB/f/y/MSFO/download/\n",
      "https://smart-lab.ru/q/STSB/f/y/RSBU/download/\n",
      "https://smart-lab.ru/q/STSB/f/q/MSFO/download/\n",
      "https://smart-lab.ru/q/STSB/f/q/RSBU/download/\n",
      "https://smart-lab.ru/q/TRMK/f/y/MSFO/download/\n",
      "https://smart-lab.ru/q/TRMK/f/y/RSBU/download/\n",
      "https://smart-lab.ru/q/TRMK/f/q/MSFO/download/\n",
      "https://smart-lab.ru/q/TRMK/f/q/RSBU/download/\n",
      "https://smart-lab.ru/q/UPRO/f/y/MSFO/download/\n",
      "https://smart-lab.ru/q/UPRO/f/y/RSBU/download/\n",
      "https://smart-lab.ru/q/UPRO/f/q/MSFO/download/\n",
      "https://smart-lab.ru/q/UPRO/f/q/RSBU/download/\n",
      "https://smart-lab.ru/q/WTCM/f/y/MSFO/download/\n",
      "https://smart-lab.ru/q/WTCM/f/y/RSBU/download/\n",
      "https://smart-lab.ru/q/WTCM/f/q/MSFO/download/\n",
      "https://smart-lab.ru/q/WTCM/f/q/RSBU/download/\n",
      "https://smart-lab.ru/q/YNDX/f/y/MSFO/download/\n",
      "https://smart-lab.ru/q/YNDX/f/y/RSBU/download/\n",
      "https://smart-lab.ru/q/YNDX/f/q/MSFO/download/\n",
      "https://smart-lab.ru/q/YNDX/f/q/RSBU/download/\n",
      "https://smart-lab.ru/q/MRKC/f/y/MSFO/download/\n",
      "https://smart-lab.ru/q/MRKC/f/y/RSBU/download/\n",
      "https://smart-lab.ru/q/MRKC/f/q/MSFO/download/\n",
      "https://smart-lab.ru/q/MRKC/f/q/RSBU/download/\n",
      "https://smart-lab.ru/q/MRKK/f/y/MSFO/download/\n",
      "https://smart-lab.ru/q/MRKK/f/y/RSBU/download/\n",
      "https://smart-lab.ru/q/MRKK/f/q/MSFO/download/\n",
      "https://smart-lab.ru/q/MRKK/f/q/RSBU/download/\n",
      "https://smart-lab.ru/q/MRKP/f/y/MSFO/download/\n",
      "https://smart-lab.ru/q/MRKP/f/y/RSBU/download/\n",
      "https://smart-lab.ru/q/MRKP/f/q/MSFO/download/\n",
      "https://smart-lab.ru/q/MRKP/f/q/RSBU/download/\n",
      "https://smart-lab.ru/q/MRKS/f/y/MSFO/download/\n",
      "https://smart-lab.ru/q/MRKS/f/y/RSBU/download/\n",
      "https://smart-lab.ru/q/MRKS/f/q/MSFO/download/\n",
      "https://smart-lab.ru/q/MRKS/f/q/RSBU/download/\n",
      "https://smart-lab.ru/q/MRKU/f/y/MSFO/download/\n",
      "https://smart-lab.ru/q/MRKU/f/y/RSBU/download/\n",
      "https://smart-lab.ru/q/MRKU/f/q/MSFO/download/\n",
      "https://smart-lab.ru/q/MRKU/f/q/RSBU/download/\n",
      "https://smart-lab.ru/q/MRKV/f/y/MSFO/download/\n",
      "https://smart-lab.ru/q/MRKV/f/y/RSBU/download/\n",
      "https://smart-lab.ru/q/MRKV/f/q/MSFO/download/\n",
      "https://smart-lab.ru/q/MRKV/f/q/RSBU/download/\n",
      "https://smart-lab.ru/q/MRKY/f/y/MSFO/download/\n",
      "https://smart-lab.ru/q/MRKY/f/y/RSBU/download/\n",
      "https://smart-lab.ru/q/MRKY/f/q/MSFO/download/\n",
      "https://smart-lab.ru/q/MRKY/f/q/RSBU/download/\n",
      "https://smart-lab.ru/q/MRKZ/f/y/MSFO/download/\n",
      "https://smart-lab.ru/q/MRKZ/f/y/RSBU/download/\n",
      "https://smart-lab.ru/q/MRKZ/f/q/MSFO/download/\n",
      "https://smart-lab.ru/q/MRKZ/f/q/RSBU/download/\n",
      "https://smart-lab.ru/q/MRSB/f/y/MSFO/download/\n",
      "https://smart-lab.ru/q/MRSB/f/y/RSBU/download/\n",
      "https://smart-lab.ru/q/MRSB/f/q/MSFO/download/\n",
      "https://smart-lab.ru/q/MRSB/f/q/RSBU/download/\n",
      "https://smart-lab.ru/q/MSNG/f/y/MSFO/download/\n",
      "https://smart-lab.ru/q/MSNG/f/y/RSBU/download/\n",
      "https://smart-lab.ru/q/MSNG/f/q/MSFO/download/\n",
      "https://smart-lab.ru/q/MSNG/f/q/RSBU/download/\n",
      "https://smart-lab.ru/q/MSRS/f/y/MSFO/download/\n",
      "https://smart-lab.ru/q/MSRS/f/y/RSBU/download/\n",
      "https://smart-lab.ru/q/MSRS/f/q/MSFO/download/\n",
      "https://smart-lab.ru/q/MSRS/f/q/RSBU/download/\n",
      "https://smart-lab.ru/q/MSTT/f/y/MSFO/download/\n",
      "https://smart-lab.ru/q/MSTT/f/y/RSBU/download/\n",
      "https://smart-lab.ru/q/MSTT/f/q/MSFO/download/\n",
      "https://smart-lab.ru/q/MSTT/f/q/RSBU/download/\n",
      "https://smart-lab.ru/q/MTLR/f/y/MSFO/download/\n",
      "https://smart-lab.ru/q/MTLR/f/y/RSBU/download/\n",
      "https://smart-lab.ru/q/MTLR/f/q/MSFO/download/\n",
      "https://smart-lab.ru/q/MTLR/f/q/RSBU/download/\n",
      "https://smart-lab.ru/q/MTLRP/f/y/MSFO/download/\n",
      "https://smart-lab.ru/q/MTLRP/f/y/RSBU/download/\n",
      "https://smart-lab.ru/q/MTLRP/f/q/MSFO/download/\n",
      "https://smart-lab.ru/q/MTLRP/f/q/RSBU/download/\n",
      "https://smart-lab.ru/q/MTSS/f/y/MSFO/download/\n",
      "https://smart-lab.ru/q/MTSS/f/y/RSBU/download/\n",
      "https://smart-lab.ru/q/MTSS/f/q/MSFO/download/\n",
      "https://smart-lab.ru/q/MTSS/f/q/RSBU/download/\n",
      "https://smart-lab.ru/q/MVID/f/y/MSFO/download/\n",
      "https://smart-lab.ru/q/MVID/f/y/RSBU/download/\n",
      "https://smart-lab.ru/q/MVID/f/q/MSFO/download/\n",
      "https://smart-lab.ru/q/MVID/f/q/RSBU/download/\n",
      "https://smart-lab.ru/q/NAUK/f/y/MSFO/download/\n",
      "https://smart-lab.ru/q/NAUK/f/y/RSBU/download/\n",
      "https://smart-lab.ru/q/NAUK/f/q/MSFO/download/\n",
      "https://smart-lab.ru/q/NAUK/f/q/RSBU/download/\n",
      "https://smart-lab.ru/q/NFAZ/f/y/MSFO/download/\n",
      "https://smart-lab.ru/q/NFAZ/f/y/RSBU/download/\n",
      "https://smart-lab.ru/q/NFAZ/f/q/MSFO/download/\n",
      "https://smart-lab.ru/q/NFAZ/f/q/RSBU/download/\n",
      "https://smart-lab.ru/q/NKHP/f/y/MSFO/download/\n",
      "https://smart-lab.ru/q/NKHP/f/y/RSBU/download/\n",
      "https://smart-lab.ru/q/NKHP/f/q/MSFO/download/\n",
      "https://smart-lab.ru/q/NKHP/f/q/RSBU/download/\n",
      "https://smart-lab.ru/q/NKNC/f/y/MSFO/download/\n",
      "https://smart-lab.ru/q/NKNC/f/y/RSBU/download/\n",
      "https://smart-lab.ru/q/NKNC/f/q/MSFO/download/\n",
      "https://smart-lab.ru/q/NKNC/f/q/RSBU/download/\n",
      "https://smart-lab.ru/q/NKNCP/f/y/MSFO/download/\n",
      "https://smart-lab.ru/q/NKNCP/f/y/RSBU/download/\n",
      "https://smart-lab.ru/q/NKNCP/f/q/MSFO/download/\n",
      "https://smart-lab.ru/q/NKNCP/f/q/RSBU/download/\n",
      "https://smart-lab.ru/q/NLMK/f/y/MSFO/download/\n",
      "https://smart-lab.ru/q/NLMK/f/y/RSBU/download/\n",
      "https://smart-lab.ru/q/NLMK/f/q/MSFO/download/\n",
      "https://smart-lab.ru/q/NLMK/f/q/RSBU/download/\n",
      "https://smart-lab.ru/q/NMTP/f/y/MSFO/download/\n",
      "https://smart-lab.ru/q/NMTP/f/y/RSBU/download/\n",
      "https://smart-lab.ru/q/NMTP/f/q/MSFO/download/\n",
      "https://smart-lab.ru/q/NMTP/f/q/RSBU/download/\n",
      "https://smart-lab.ru/q/NNSB/f/y/MSFO/download/\n",
      "https://smart-lab.ru/q/NNSB/f/y/RSBU/download/\n",
      "https://smart-lab.ru/q/NNSB/f/q/MSFO/download/\n",
      "https://smart-lab.ru/q/NNSB/f/q/RSBU/download/\n",
      "https://smart-lab.ru/q/NNSBP/f/y/MSFO/download/\n",
      "https://smart-lab.ru/q/NNSBP/f/y/RSBU/download/\n",
      "https://smart-lab.ru/q/NNSBP/f/q/MSFO/download/\n",
      "https://smart-lab.ru/q/NNSBP/f/q/RSBU/download/\n",
      "https://smart-lab.ru/q/NSVZ/f/y/MSFO/download/\n",
      "https://smart-lab.ru/q/NSVZ/f/y/RSBU/download/\n",
      "https://smart-lab.ru/q/NSVZ/f/q/MSFO/download/\n",
      "https://smart-lab.ru/q/NSVZ/f/q/RSBU/download/\n",
      "https://smart-lab.ru/q/NVTK/f/y/MSFO/download/\n",
      "https://smart-lab.ru/q/NVTK/f/y/RSBU/download/\n",
      "https://smart-lab.ru/q/NVTK/f/q/MSFO/download/\n",
      "https://smart-lab.ru/q/NVTK/f/q/RSBU/download/\n",
      "https://smart-lab.ru/q/OGKB/f/y/MSFO/download/\n",
      "https://smart-lab.ru/q/OGKB/f/y/RSBU/download/\n",
      "https://smart-lab.ru/q/OGKB/f/q/MSFO/download/\n",
      "https://smart-lab.ru/q/OGKB/f/q/RSBU/download/\n",
      "https://smart-lab.ru/q/OMZZP/f/y/MSFO/download/\n",
      "https://smart-lab.ru/q/OMZZP/f/y/RSBU/download/\n",
      "https://smart-lab.ru/q/OMZZP/f/q/MSFO/download/\n",
      "https://smart-lab.ru/q/OMZZP/f/q/RSBU/download/\n",
      "https://smart-lab.ru/q/PAZA/f/y/MSFO/download/\n",
      "https://smart-lab.ru/q/PAZA/f/y/RSBU/download/\n",
      "https://smart-lab.ru/q/PAZA/f/q/MSFO/download/\n",
      "https://smart-lab.ru/q/PAZA/f/q/RSBU/download/\n",
      "https://smart-lab.ru/q/PHOR/f/y/MSFO/download/\n",
      "https://smart-lab.ru/q/PHOR/f/y/RSBU/download/\n",
      "https://smart-lab.ru/q/PHOR/f/q/MSFO/download/\n",
      "https://smart-lab.ru/q/PHOR/f/q/RSBU/download/\n",
      "https://smart-lab.ru/q/PIKK/f/y/MSFO/download/\n",
      "https://smart-lab.ru/q/PIKK/f/y/RSBU/download/\n",
      "https://smart-lab.ru/q/PIKK/f/q/MSFO/download/\n",
      "https://smart-lab.ru/q/PIKK/f/q/RSBU/download/\n",
      "https://smart-lab.ru/q/PLZL/f/y/MSFO/download/\n",
      "https://smart-lab.ru/q/PLZL/f/y/RSBU/download/\n",
      "https://smart-lab.ru/q/PLZL/f/q/MSFO/download/\n",
      "https://smart-lab.ru/q/PLZL/f/q/RSBU/download/\n",
      "https://smart-lab.ru/q/PMSB/f/y/MSFO/download/\n",
      "https://smart-lab.ru/q/PMSB/f/y/RSBU/download/\n",
      "https://smart-lab.ru/q/PMSB/f/q/MSFO/download/\n",
      "https://smart-lab.ru/q/PMSB/f/q/RSBU/download/\n",
      "https://smart-lab.ru/q/PMSBP/f/y/MSFO/download/\n",
      "https://smart-lab.ru/q/PMSBP/f/y/RSBU/download/\n",
      "https://smart-lab.ru/q/PMSBP/f/q/MSFO/download/\n",
      "https://smart-lab.ru/q/PMSBP/f/q/RSBU/download/\n",
      "https://smart-lab.ru/q/POLY/f/y/MSFO/download/\n",
      "https://smart-lab.ru/q/POLY/f/y/RSBU/download/\n",
      "https://smart-lab.ru/q/POLY/f/q/MSFO/download/\n",
      "https://smart-lab.ru/q/POLY/f/q/RSBU/download/\n",
      "https://smart-lab.ru/q/POSI/f/y/MSFO/download/\n",
      "https://smart-lab.ru/q/POSI/f/y/RSBU/download/\n",
      "https://smart-lab.ru/q/POSI/f/q/MSFO/download/\n",
      "https://smart-lab.ru/q/POSI/f/q/RSBU/download/\n",
      "https://smart-lab.ru/q/PRFN/f/y/MSFO/download/\n",
      "https://smart-lab.ru/q/PRFN/f/y/RSBU/download/\n",
      "https://smart-lab.ru/q/PRFN/f/q/MSFO/download/\n",
      "https://smart-lab.ru/q/PRFN/f/q/RSBU/download/\n",
      "https://smart-lab.ru/q/PRMB/f/y/MSFO/download/\n",
      "https://smart-lab.ru/q/PRMB/f/y/RSBU/download/\n",
      "https://smart-lab.ru/q/PRMB/f/q/MSFO/download/\n",
      "https://smart-lab.ru/q/PRMB/f/q/RSBU/download/\n",
      "https://smart-lab.ru/q/RASP/f/y/MSFO/download/\n",
      "https://smart-lab.ru/q/RASP/f/y/RSBU/download/\n",
      "https://smart-lab.ru/q/RASP/f/q/MSFO/download/\n",
      "https://smart-lab.ru/q/RASP/f/q/RSBU/download/\n",
      "https://smart-lab.ru/q/RDRB/f/y/MSFO/download/\n",
      "https://smart-lab.ru/q/RDRB/f/y/RSBU/download/\n",
      "https://smart-lab.ru/q/RDRB/f/q/MSFO/download/\n",
      "https://smart-lab.ru/q/RDRB/f/q/RSBU/download/\n",
      "https://smart-lab.ru/q/RBCM/f/y/MSFO/download/\n",
      "https://smart-lab.ru/q/RBCM/f/y/RSBU/download/\n",
      "https://smart-lab.ru/q/RBCM/f/q/MSFO/download/\n",
      "https://smart-lab.ru/q/RBCM/f/q/RSBU/download/\n",
      "https://smart-lab.ru/q/RENI/f/y/MSFO/download/\n",
      "https://smart-lab.ru/q/RENI/f/y/RSBU/download/\n",
      "https://smart-lab.ru/q/RENI/f/q/MSFO/download/\n",
      "https://smart-lab.ru/q/RENI/f/q/RSBU/download/\n",
      "https://smart-lab.ru/q/RGSS/f/y/MSFO/download/\n",
      "https://smart-lab.ru/q/RGSS/f/y/RSBU/download/\n",
      "https://smart-lab.ru/q/RGSS/f/q/MSFO/download/\n",
      "https://smart-lab.ru/q/RGSS/f/q/RSBU/download/\n",
      "https://smart-lab.ru/q/RKKE/f/y/MSFO/download/\n",
      "https://smart-lab.ru/q/RKKE/f/y/RSBU/download/\n",
      "https://smart-lab.ru/q/RKKE/f/q/MSFO/download/\n",
      "https://smart-lab.ru/q/RKKE/f/q/RSBU/download/\n",
      "https://smart-lab.ru/q/RNFT/f/y/MSFO/download/\n",
      "https://smart-lab.ru/q/RNFT/f/y/RSBU/download/\n",
      "https://smart-lab.ru/q/RNFT/f/q/MSFO/download/\n",
      "https://smart-lab.ru/q/RNFT/f/q/RSBU/download/\n"
     ]
    },
    {
     "name": "stderr",
     "output_type": "stream",
     "text": [
      "There was an error managing chromedriver (error sending request for url (https://googlechromelabs.github.io/chrome-for-testing/known-good-versions-with-downloads.json): error trying to connect: tcp connect error: Попытка установить соединение была безуспешной, т.к. от другого компьютера за требуемое время не получен нужный отклик, или было разорвано уже установленное соединение из-за неверного отклика уже подключенного компьютера. (os error 10060)); using driver found in the cache\n"
     ]
    },
    {
     "name": "stdout",
     "output_type": "stream",
     "text": [
      "https://smart-lab.ru/q/ROLO/f/y/MSFO/download/\n"
     ]
    },
    {
     "name": "stderr",
     "output_type": "stream",
     "text": [
      "There was an error managing chromedriver (error sending request for url (https://googlechromelabs.github.io/chrome-for-testing/known-good-versions-with-downloads.json): error trying to connect: tcp connect error: Попытка установить соединение была безуспешной, т.к. от другого компьютера за требуемое время не получен нужный отклик, или было разорвано уже установленное соединение из-за неверного отклика уже подключенного компьютера. (os error 10060)); using driver found in the cache\n"
     ]
    },
    {
     "name": "stdout",
     "output_type": "stream",
     "text": [
      "https://smart-lab.ru/q/ROLO/f/y/RSBU/download/\n"
     ]
    },
    {
     "name": "stderr",
     "output_type": "stream",
     "text": [
      "There was an error managing chromedriver (error sending request for url (https://googlechromelabs.github.io/chrome-for-testing/known-good-versions-with-downloads.json): error trying to connect: tcp connect error: Попытка установить соединение была безуспешной, т.к. от другого компьютера за требуемое время не получен нужный отклик, или было разорвано уже установленное соединение из-за неверного отклика уже подключенного компьютера. (os error 10060)); using driver found in the cache\n"
     ]
    },
    {
     "name": "stdout",
     "output_type": "stream",
     "text": [
      "https://smart-lab.ru/q/ROLO/f/q/MSFO/download/\n"
     ]
    },
    {
     "name": "stderr",
     "output_type": "stream",
     "text": [
      "There was an error managing chromedriver (error sending request for url (https://googlechromelabs.github.io/chrome-for-testing/known-good-versions-with-downloads.json): error trying to connect: tcp connect error: Попытка установить соединение была безуспешной, т.к. от другого компьютера за требуемое время не получен нужный отклик, или было разорвано уже установленное соединение из-за неверного отклика уже подключенного компьютера. (os error 10060)); using driver found in the cache\n"
     ]
    },
    {
     "name": "stdout",
     "output_type": "stream",
     "text": [
      "https://smart-lab.ru/q/ROLO/f/q/RSBU/download/\n"
     ]
    },
    {
     "name": "stderr",
     "output_type": "stream",
     "text": [
      "There was an error managing chromedriver (error sending request for url (https://googlechromelabs.github.io/chrome-for-testing/known-good-versions-with-downloads.json): error trying to connect: tcp connect error: Попытка установить соединение была безуспешной, т.к. от другого компьютера за требуемое время не получен нужный отклик, или было разорвано уже установленное соединение из-за неверного отклика уже подключенного компьютера. (os error 10060)); using driver found in the cache\n"
     ]
    },
    {
     "name": "stdout",
     "output_type": "stream",
     "text": [
      "https://smart-lab.ru/q/ROSB/f/y/MSFO/download/\n"
     ]
    },
    {
     "name": "stderr",
     "output_type": "stream",
     "text": [
      "There was an error managing chromedriver (error sending request for url (https://googlechromelabs.github.io/chrome-for-testing/known-good-versions-with-downloads.json): error trying to connect: tcp connect error: Попытка установить соединение была безуспешной, т.к. от другого компьютера за требуемое время не получен нужный отклик, или было разорвано уже установленное соединение из-за неверного отклика уже подключенного компьютера. (os error 10060)); using driver found in the cache\n"
     ]
    },
    {
     "name": "stdout",
     "output_type": "stream",
     "text": [
      "https://smart-lab.ru/q/ROSB/f/y/RSBU/download/\n"
     ]
    },
    {
     "name": "stderr",
     "output_type": "stream",
     "text": [
      "There was an error managing chromedriver (error sending request for url (https://googlechromelabs.github.io/chrome-for-testing/known-good-versions-with-downloads.json): error trying to connect: tcp connect error: Попытка установить соединение была безуспешной, т.к. от другого компьютера за требуемое время не получен нужный отклик, или было разорвано уже установленное соединение из-за неверного отклика уже подключенного компьютера. (os error 10060)); using driver found in the cache\n"
     ]
    },
    {
     "name": "stdout",
     "output_type": "stream",
     "text": [
      "https://smart-lab.ru/q/ROSB/f/q/MSFO/download/\n"
     ]
    },
    {
     "name": "stderr",
     "output_type": "stream",
     "text": [
      "There was an error managing chromedriver (error sending request for url (https://googlechromelabs.github.io/chrome-for-testing/known-good-versions-with-downloads.json): error trying to connect: tcp connect error: Попытка установить соединение была безуспешной, т.к. от другого компьютера за требуемое время не получен нужный отклик, или было разорвано уже установленное соединение из-за неверного отклика уже подключенного компьютера. (os error 10060)); using driver found in the cache\n"
     ]
    },
    {
     "name": "stdout",
     "output_type": "stream",
     "text": [
      "https://smart-lab.ru/q/ROSB/f/q/RSBU/download/\n"
     ]
    },
    {
     "name": "stderr",
     "output_type": "stream",
     "text": [
      "There was an error managing chromedriver (error sending request for url (https://googlechromelabs.github.io/chrome-for-testing/known-good-versions-with-downloads.json): error trying to connect: tcp connect error: Попытка установить соединение была безуспешной, т.к. от другого компьютера за требуемое время не получен нужный отклик, или было разорвано уже установленное соединение из-за неверного отклика уже подключенного компьютера. (os error 10060)); using driver found in the cache\n"
     ]
    },
    {
     "name": "stdout",
     "output_type": "stream",
     "text": [
      "https://smart-lab.ru/q/ROSN/f/y/MSFO/download/\n"
     ]
    },
    {
     "name": "stderr",
     "output_type": "stream",
     "text": [
      "There was an error managing chromedriver (error sending request for url (https://googlechromelabs.github.io/chrome-for-testing/known-good-versions-with-downloads.json): error trying to connect: tcp connect error: Попытка установить соединение была безуспешной, т.к. от другого компьютера за требуемое время не получен нужный отклик, или было разорвано уже установленное соединение из-за неверного отклика уже подключенного компьютера. (os error 10060)); using driver found in the cache\n"
     ]
    },
    {
     "name": "stdout",
     "output_type": "stream",
     "text": [
      "https://smart-lab.ru/q/ROSN/f/y/RSBU/download/\n"
     ]
    },
    {
     "name": "stderr",
     "output_type": "stream",
     "text": [
      "There was an error managing chromedriver (error sending request for url (https://googlechromelabs.github.io/chrome-for-testing/known-good-versions-with-downloads.json): error trying to connect: tcp connect error: Попытка установить соединение была безуспешной, т.к. от другого компьютера за требуемое время не получен нужный отклик, или было разорвано уже установленное соединение из-за неверного отклика уже подключенного компьютера. (os error 10060)); using driver found in the cache\n"
     ]
    },
    {
     "name": "stdout",
     "output_type": "stream",
     "text": [
      "https://smart-lab.ru/q/ROSN/f/q/MSFO/download/\n"
     ]
    },
    {
     "name": "stderr",
     "output_type": "stream",
     "text": [
      "There was an error managing chromedriver (error sending request for url (https://googlechromelabs.github.io/chrome-for-testing/known-good-versions-with-downloads.json): error trying to connect: tcp connect error: Попытка установить соединение была безуспешной, т.к. от другого компьютера за требуемое время не получен нужный отклик, или было разорвано уже установленное соединение из-за неверного отклика уже подключенного компьютера. (os error 10060)); using driver found in the cache\n"
     ]
    },
    {
     "name": "stdout",
     "output_type": "stream",
     "text": [
      "https://smart-lab.ru/q/ROSN/f/q/RSBU/download/\n"
     ]
    },
    {
     "name": "stderr",
     "output_type": "stream",
     "text": [
      "There was an error managing chromedriver (error sending request for url (https://googlechromelabs.github.io/chrome-for-testing/known-good-versions-with-downloads.json): error trying to connect: tcp connect error: Попытка установить соединение была безуспешной, т.к. от другого компьютера за требуемое время не получен нужный отклик, или было разорвано уже установленное соединение из-за неверного отклика уже подключенного компьютера. (os error 10060)); using driver found in the cache\n"
     ]
    },
    {
     "name": "stdout",
     "output_type": "stream",
     "text": [
      "https://smart-lab.ru/q/RTGZ/f/y/MSFO/download/\n"
     ]
    },
    {
     "name": "stderr",
     "output_type": "stream",
     "text": [
      "There was an error managing chromedriver (error sending request for url (https://googlechromelabs.github.io/chrome-for-testing/known-good-versions-with-downloads.json): error trying to connect: tcp connect error: Попытка установить соединение была безуспешной, т.к. от другого компьютера за требуемое время не получен нужный отклик, или было разорвано уже установленное соединение из-за неверного отклика уже подключенного компьютера. (os error 10060)); using driver found in the cache\n"
     ]
    },
    {
     "name": "stdout",
     "output_type": "stream",
     "text": [
      "https://smart-lab.ru/q/RTGZ/f/y/RSBU/download/\n"
     ]
    },
    {
     "name": "stderr",
     "output_type": "stream",
     "text": [
      "There was an error managing chromedriver (error sending request for url (https://googlechromelabs.github.io/chrome-for-testing/known-good-versions-with-downloads.json): error trying to connect: tcp connect error: Попытка установить соединение была безуспешной, т.к. от другого компьютера за требуемое время не получен нужный отклик, или было разорвано уже установленное соединение из-за неверного отклика уже подключенного компьютера. (os error 10060)); using driver found in the cache\n"
     ]
    },
    {
     "name": "stdout",
     "output_type": "stream",
     "text": [
      "https://smart-lab.ru/q/RTGZ/f/q/MSFO/download/\n"
     ]
    },
    {
     "name": "stderr",
     "output_type": "stream",
     "text": [
      "There was an error managing chromedriver (error sending request for url (https://googlechromelabs.github.io/chrome-for-testing/known-good-versions-with-downloads.json): error trying to connect: tcp connect error: Попытка установить соединение была безуспешной, т.к. от другого компьютера за требуемое время не получен нужный отклик, или было разорвано уже установленное соединение из-за неверного отклика уже подключенного компьютера. (os error 10060)); using driver found in the cache\n"
     ]
    },
    {
     "name": "stdout",
     "output_type": "stream",
     "text": [
      "https://smart-lab.ru/q/RTGZ/f/q/RSBU/download/\n"
     ]
    },
    {
     "name": "stderr",
     "output_type": "stream",
     "text": [
      "There was an error managing chromedriver (error sending request for url (https://googlechromelabs.github.io/chrome-for-testing/known-good-versions-with-downloads.json): error trying to connect: tcp connect error: Попытка установить соединение была безуспешной, т.к. от другого компьютера за требуемое время не получен нужный отклик, или было разорвано уже установленное соединение из-за неверного отклика уже подключенного компьютера. (os error 10060)); using driver found in the cache\n"
     ]
    },
    {
     "name": "stdout",
     "output_type": "stream",
     "text": [
      "https://smart-lab.ru/q/RTKM/f/y/MSFO/download/\n"
     ]
    },
    {
     "name": "stderr",
     "output_type": "stream",
     "text": [
      "There was an error managing chromedriver (error sending request for url (https://googlechromelabs.github.io/chrome-for-testing/known-good-versions-with-downloads.json): error trying to connect: tcp connect error: Попытка установить соединение была безуспешной, т.к. от другого компьютера за требуемое время не получен нужный отклик, или было разорвано уже установленное соединение из-за неверного отклика уже подключенного компьютера. (os error 10060)); using driver found in the cache\n"
     ]
    },
    {
     "name": "stdout",
     "output_type": "stream",
     "text": [
      "https://smart-lab.ru/q/RTKM/f/y/RSBU/download/\n"
     ]
    },
    {
     "name": "stderr",
     "output_type": "stream",
     "text": [
      "There was an error managing chromedriver (error sending request for url (https://googlechromelabs.github.io/chrome-for-testing/known-good-versions-with-downloads.json): error trying to connect: tcp connect error: Попытка установить соединение была безуспешной, т.к. от другого компьютера за требуемое время не получен нужный отклик, или было разорвано уже установленное соединение из-за неверного отклика уже подключенного компьютера. (os error 10060)); using driver found in the cache\n"
     ]
    },
    {
     "name": "stdout",
     "output_type": "stream",
     "text": [
      "https://smart-lab.ru/q/RTKM/f/q/MSFO/download/\n"
     ]
    },
    {
     "name": "stderr",
     "output_type": "stream",
     "text": [
      "There was an error managing chromedriver (error sending request for url (https://googlechromelabs.github.io/chrome-for-testing/known-good-versions-with-downloads.json): error trying to connect: tcp connect error: Попытка установить соединение была безуспешной, т.к. от другого компьютера за требуемое время не получен нужный отклик, или было разорвано уже установленное соединение из-за неверного отклика уже подключенного компьютера. (os error 10060)); using driver found in the cache\n"
     ]
    },
    {
     "name": "stdout",
     "output_type": "stream",
     "text": [
      "https://smart-lab.ru/q/RTKM/f/q/RSBU/download/\n"
     ]
    },
    {
     "name": "stderr",
     "output_type": "stream",
     "text": [
      "There was an error managing chromedriver (error sending request for url (https://googlechromelabs.github.io/chrome-for-testing/known-good-versions-with-downloads.json): error trying to connect: tcp connect error: Попытка установить соединение была безуспешной, т.к. от другого компьютера за требуемое время не получен нужный отклик, или было разорвано уже установленное соединение из-за неверного отклика уже подключенного компьютера. (os error 10060)); using driver found in the cache\n"
     ]
    },
    {
     "name": "stdout",
     "output_type": "stream",
     "text": [
      "https://smart-lab.ru/q/RTKMP/f/y/MSFO/download/\n"
     ]
    },
    {
     "name": "stderr",
     "output_type": "stream",
     "text": [
      "There was an error managing chromedriver (error sending request for url (https://googlechromelabs.github.io/chrome-for-testing/known-good-versions-with-downloads.json): error trying to connect: tcp connect error: Попытка установить соединение была безуспешной, т.к. от другого компьютера за требуемое время не получен нужный отклик, или было разорвано уже установленное соединение из-за неверного отклика уже подключенного компьютера. (os error 10060)); using driver found in the cache\n"
     ]
    },
    {
     "name": "stdout",
     "output_type": "stream",
     "text": [
      "https://smart-lab.ru/q/RTKMP/f/y/RSBU/download/\n"
     ]
    },
    {
     "name": "stderr",
     "output_type": "stream",
     "text": [
      "There was an error managing chromedriver (error sending request for url (https://googlechromelabs.github.io/chrome-for-testing/known-good-versions-with-downloads.json): error trying to connect: tcp connect error: Попытка установить соединение была безуспешной, т.к. от другого компьютера за требуемое время не получен нужный отклик, или было разорвано уже установленное соединение из-за неверного отклика уже подключенного компьютера. (os error 10060)); using driver found in the cache\n"
     ]
    },
    {
     "name": "stdout",
     "output_type": "stream",
     "text": [
      "https://smart-lab.ru/q/RTKMP/f/q/MSFO/download/\n"
     ]
    },
    {
     "name": "stderr",
     "output_type": "stream",
     "text": [
      "There was an error managing chromedriver (error sending request for url (https://googlechromelabs.github.io/chrome-for-testing/known-good-versions-with-downloads.json): error trying to connect: tcp connect error: Попытка установить соединение была безуспешной, т.к. от другого компьютера за требуемое время не получен нужный отклик, или было разорвано уже установленное соединение из-за неверного отклика уже подключенного компьютера. (os error 10060)); using driver found in the cache\n"
     ]
    },
    {
     "name": "stdout",
     "output_type": "stream",
     "text": [
      "https://smart-lab.ru/q/RTKMP/f/q/RSBU/download/\n"
     ]
    },
    {
     "name": "stderr",
     "output_type": "stream",
     "text": [
      "There was an error managing chromedriver (error sending request for url (https://googlechromelabs.github.io/chrome-for-testing/known-good-versions-with-downloads.json): error trying to connect: tcp connect error: Попытка установить соединение была безуспешной, т.к. от другого компьютера за требуемое время не получен нужный отклик, или было разорвано уже установленное соединение из-за неверного отклика уже подключенного компьютера. (os error 10060)); using driver found in the cache\n"
     ]
    },
    {
     "name": "stdout",
     "output_type": "stream",
     "text": [
      "https://smart-lab.ru/q/RTSB/f/y/MSFO/download/\n"
     ]
    },
    {
     "name": "stderr",
     "output_type": "stream",
     "text": [
      "There was an error managing chromedriver (error sending request for url (https://googlechromelabs.github.io/chrome-for-testing/known-good-versions-with-downloads.json): error trying to connect: tcp connect error: Попытка установить соединение была безуспешной, т.к. от другого компьютера за требуемое время не получен нужный отклик, или было разорвано уже установленное соединение из-за неверного отклика уже подключенного компьютера. (os error 10060)); using driver found in the cache\n"
     ]
    },
    {
     "name": "stdout",
     "output_type": "stream",
     "text": [
      "https://smart-lab.ru/q/RTSB/f/y/RSBU/download/\n"
     ]
    },
    {
     "name": "stderr",
     "output_type": "stream",
     "text": [
      "There was an error managing chromedriver (error sending request for url (https://googlechromelabs.github.io/chrome-for-testing/known-good-versions-with-downloads.json): error trying to connect: tcp connect error: Попытка установить соединение была безуспешной, т.к. от другого компьютера за требуемое время не получен нужный отклик, или было разорвано уже установленное соединение из-за неверного отклика уже подключенного компьютера. (os error 10060)); using driver found in the cache\n"
     ]
    },
    {
     "name": "stdout",
     "output_type": "stream",
     "text": [
      "https://smart-lab.ru/q/RTSB/f/q/MSFO/download/\n"
     ]
    },
    {
     "name": "stderr",
     "output_type": "stream",
     "text": [
      "There was an error managing chromedriver (error sending request for url (https://googlechromelabs.github.io/chrome-for-testing/known-good-versions-with-downloads.json): error trying to connect: tcp connect error: Попытка установить соединение была безуспешной, т.к. от другого компьютера за требуемое время не получен нужный отклик, или было разорвано уже установленное соединение из-за неверного отклика уже подключенного компьютера. (os error 10060)); using driver found in the cache\n"
     ]
    },
    {
     "name": "stdout",
     "output_type": "stream",
     "text": [
      "https://smart-lab.ru/q/RTSB/f/q/RSBU/download/\n"
     ]
    },
    {
     "name": "stderr",
     "output_type": "stream",
     "text": [
      "There was an error managing chromedriver (error sending request for url (https://googlechromelabs.github.io/chrome-for-testing/known-good-versions-with-downloads.json): error trying to connect: tcp connect error: Попытка установить соединение была безуспешной, т.к. от другого компьютера за требуемое время не получен нужный отклик, или было разорвано уже установленное соединение из-за неверного отклика уже подключенного компьютера. (os error 10060)); using driver found in the cache\n"
     ]
    },
    {
     "name": "stdout",
     "output_type": "stream",
     "text": [
      "https://smart-lab.ru/q/RTSBP/f/y/MSFO/download/\n"
     ]
    },
    {
     "name": "stderr",
     "output_type": "stream",
     "text": [
      "There was an error managing chromedriver (error sending request for url (https://googlechromelabs.github.io/chrome-for-testing/known-good-versions-with-downloads.json): error trying to connect: tcp connect error: Попытка установить соединение была безуспешной, т.к. от другого компьютера за требуемое время не получен нужный отклик, или было разорвано уже установленное соединение из-за неверного отклика уже подключенного компьютера. (os error 10060)); using driver found in the cache\n"
     ]
    },
    {
     "name": "stdout",
     "output_type": "stream",
     "text": [
      "https://smart-lab.ru/q/RTSBP/f/y/RSBU/download/\n"
     ]
    },
    {
     "name": "stderr",
     "output_type": "stream",
     "text": [
      "There was an error managing chromedriver (error sending request for url (https://googlechromelabs.github.io/chrome-for-testing/known-good-versions-with-downloads.json): error trying to connect: tcp connect error: Попытка установить соединение была безуспешной, т.к. от другого компьютера за требуемое время не получен нужный отклик, или было разорвано уже установленное соединение из-за неверного отклика уже подключенного компьютера. (os error 10060)); using driver found in the cache\n"
     ]
    },
    {
     "name": "stdout",
     "output_type": "stream",
     "text": [
      "https://smart-lab.ru/q/RTSBP/f/q/MSFO/download/\n"
     ]
    },
    {
     "name": "stderr",
     "output_type": "stream",
     "text": [
      "There was an error managing chromedriver (error sending request for url (https://googlechromelabs.github.io/chrome-for-testing/known-good-versions-with-downloads.json): error trying to connect: tcp connect error: Попытка установить соединение была безуспешной, т.к. от другого компьютера за требуемое время не получен нужный отклик, или было разорвано уже установленное соединение из-за неверного отклика уже подключенного компьютера. (os error 10060)); using driver found in the cache\n"
     ]
    },
    {
     "name": "stdout",
     "output_type": "stream",
     "text": [
      "https://smart-lab.ru/q/RTSBP/f/q/RSBU/download/\n"
     ]
    },
    {
     "name": "stderr",
     "output_type": "stream",
     "text": [
      "There was an error managing chromedriver (error sending request for url (https://googlechromelabs.github.io/chrome-for-testing/known-good-versions-with-downloads.json): error trying to connect: tcp connect error: Попытка установить соединение была безуспешной, т.к. от другого компьютера за требуемое время не получен нужный отклик, или было разорвано уже установленное соединение из-за неверного отклика уже подключенного компьютера. (os error 10060)); using driver found in the cache\n"
     ]
    },
    {
     "name": "stdout",
     "output_type": "stream",
     "text": [
      "https://smart-lab.ru/q/RUAL/f/y/MSFO/download/\n"
     ]
    },
    {
     "name": "stderr",
     "output_type": "stream",
     "text": [
      "There was an error managing chromedriver (error sending request for url (https://googlechromelabs.github.io/chrome-for-testing/known-good-versions-with-downloads.json): error trying to connect: tcp connect error: Попытка установить соединение была безуспешной, т.к. от другого компьютера за требуемое время не получен нужный отклик, или было разорвано уже установленное соединение из-за неверного отклика уже подключенного компьютера. (os error 10060)); using driver found in the cache\n"
     ]
    },
    {
     "name": "stdout",
     "output_type": "stream",
     "text": [
      "https://smart-lab.ru/q/RUAL/f/y/RSBU/download/\n"
     ]
    },
    {
     "name": "stderr",
     "output_type": "stream",
     "text": [
      "There was an error managing chromedriver (error sending request for url (https://googlechromelabs.github.io/chrome-for-testing/known-good-versions-with-downloads.json): error trying to connect: tcp connect error: Попытка установить соединение была безуспешной, т.к. от другого компьютера за требуемое время не получен нужный отклик, или было разорвано уже установленное соединение из-за неверного отклика уже подключенного компьютера. (os error 10060)); using driver found in the cache\n"
     ]
    },
    {
     "name": "stdout",
     "output_type": "stream",
     "text": [
      "https://smart-lab.ru/q/RUAL/f/q/MSFO/download/\n"
     ]
    },
    {
     "name": "stderr",
     "output_type": "stream",
     "text": [
      "There was an error managing chromedriver (error sending request for url (https://googlechromelabs.github.io/chrome-for-testing/known-good-versions-with-downloads.json): error trying to connect: tcp connect error: Попытка установить соединение была безуспешной, т.к. от другого компьютера за требуемое время не получен нужный отклик, или было разорвано уже установленное соединение из-за неверного отклика уже подключенного компьютера. (os error 10060)); using driver found in the cache\n"
     ]
    },
    {
     "name": "stdout",
     "output_type": "stream",
     "text": [
      "https://smart-lab.ru/q/RUAL/f/q/RSBU/download/\n"
     ]
    },
    {
     "name": "stderr",
     "output_type": "stream",
     "text": [
      "There was an error managing chromedriver (error sending request for url (https://googlechromelabs.github.io/chrome-for-testing/known-good-versions-with-downloads.json): error trying to connect: tcp connect error: Попытка установить соединение была безуспешной, т.к. от другого компьютера за требуемое время не получен нужный отклик, или было разорвано уже установленное соединение из-за неверного отклика уже подключенного компьютера. (os error 10060)); using driver found in the cache\n"
     ]
    },
    {
     "name": "stdout",
     "output_type": "stream",
     "text": [
      "https://smart-lab.ru/q/RUGR/f/y/MSFO/download/\n"
     ]
    },
    {
     "name": "stderr",
     "output_type": "stream",
     "text": [
      "There was an error managing chromedriver (error sending request for url (https://googlechromelabs.github.io/chrome-for-testing/known-good-versions-with-downloads.json): error trying to connect: tcp connect error: Попытка установить соединение была безуспешной, т.к. от другого компьютера за требуемое время не получен нужный отклик, или было разорвано уже установленное соединение из-за неверного отклика уже подключенного компьютера. (os error 10060)); using driver found in the cache\n"
     ]
    },
    {
     "name": "stdout",
     "output_type": "stream",
     "text": [
      "https://smart-lab.ru/q/RUGR/f/y/RSBU/download/\n"
     ]
    },
    {
     "name": "stderr",
     "output_type": "stream",
     "text": [
      "There was an error managing chromedriver (error sending request for url (https://googlechromelabs.github.io/chrome-for-testing/known-good-versions-with-downloads.json): error trying to connect: tcp connect error: Попытка установить соединение была безуспешной, т.к. от другого компьютера за требуемое время не получен нужный отклик, или было разорвано уже установленное соединение из-за неверного отклика уже подключенного компьютера. (os error 10060)); using driver found in the cache\n"
     ]
    },
    {
     "name": "stdout",
     "output_type": "stream",
     "text": [
      "https://smart-lab.ru/q/RUGR/f/q/MSFO/download/\n"
     ]
    },
    {
     "name": "stderr",
     "output_type": "stream",
     "text": [
      "There was an error managing chromedriver (error sending request for url (https://googlechromelabs.github.io/chrome-for-testing/known-good-versions-with-downloads.json): error trying to connect: tcp connect error: Попытка установить соединение была безуспешной, т.к. от другого компьютера за требуемое время не получен нужный отклик, или было разорвано уже установленное соединение из-за неверного отклика уже подключенного компьютера. (os error 10060)); using driver found in the cache\n"
     ]
    },
    {
     "name": "stdout",
     "output_type": "stream",
     "text": [
      "https://smart-lab.ru/q/RUGR/f/q/RSBU/download/\n"
     ]
    },
    {
     "name": "stderr",
     "output_type": "stream",
     "text": [
      "There was an error managing chromedriver (error sending request for url (https://googlechromelabs.github.io/chrome-for-testing/known-good-versions-with-downloads.json): error trying to connect: tcp connect error: Попытка установить соединение была безуспешной, т.к. от другого компьютера за требуемое время не получен нужный отклик, или было разорвано уже установленное соединение из-за неверного отклика уже подключенного компьютера. (os error 10060)); using driver found in the cache\n"
     ]
    },
    {
     "name": "stdout",
     "output_type": "stream",
     "text": [
      "https://smart-lab.ru/q/RUSI/f/y/MSFO/download/\n"
     ]
    },
    {
     "name": "stderr",
     "output_type": "stream",
     "text": [
      "There was an error managing chromedriver (error sending request for url (https://googlechromelabs.github.io/chrome-for-testing/known-good-versions-with-downloads.json): error trying to connect: tcp connect error: Попытка установить соединение была безуспешной, т.к. от другого компьютера за требуемое время не получен нужный отклик, или было разорвано уже установленное соединение из-за неверного отклика уже подключенного компьютера. (os error 10060)); using driver found in the cache\n"
     ]
    },
    {
     "name": "stdout",
     "output_type": "stream",
     "text": [
      "https://smart-lab.ru/q/RUSI/f/y/RSBU/download/\n"
     ]
    },
    {
     "name": "stderr",
     "output_type": "stream",
     "text": [
      "There was an error managing chromedriver (error sending request for url (https://googlechromelabs.github.io/chrome-for-testing/known-good-versions-with-downloads.json): error trying to connect: tcp connect error: Попытка установить соединение была безуспешной, т.к. от другого компьютера за требуемое время не получен нужный отклик, или было разорвано уже установленное соединение из-за неверного отклика уже подключенного компьютера. (os error 10060)); using driver found in the cache\n"
     ]
    },
    {
     "name": "stdout",
     "output_type": "stream",
     "text": [
      "https://smart-lab.ru/q/RUSI/f/q/MSFO/download/\n"
     ]
    },
    {
     "name": "stderr",
     "output_type": "stream",
     "text": [
      "There was an error managing chromedriver (error sending request for url (https://googlechromelabs.github.io/chrome-for-testing/known-good-versions-with-downloads.json): error trying to connect: tcp connect error: Попытка установить соединение была безуспешной, т.к. от другого компьютера за требуемое время не получен нужный отклик, или было разорвано уже установленное соединение из-за неверного отклика уже подключенного компьютера. (os error 10060)); using driver found in the cache\n"
     ]
    },
    {
     "name": "stdout",
     "output_type": "stream",
     "text": [
      "https://smart-lab.ru/q/RUSI/f/q/RSBU/download/\n"
     ]
    },
    {
     "name": "stderr",
     "output_type": "stream",
     "text": [
      "There was an error managing chromedriver (error sending request for url (https://googlechromelabs.github.io/chrome-for-testing/known-good-versions-with-downloads.json): error trying to connect: tcp connect error: Попытка установить соединение была безуспешной, т.к. от другого компьютера за требуемое время не получен нужный отклик, или было разорвано уже установленное соединение из-за неверного отклика уже подключенного компьютера. (os error 10060)); using driver found in the cache\n"
     ]
    },
    {
     "name": "stdout",
     "output_type": "stream",
     "text": [
      "https://smart-lab.ru/q/RUSP/f/y/MSFO/download/\n"
     ]
    },
    {
     "name": "stderr",
     "output_type": "stream",
     "text": [
      "There was an error managing chromedriver (error sending request for url (https://googlechromelabs.github.io/chrome-for-testing/known-good-versions-with-downloads.json): error trying to connect: tcp connect error: Попытка установить соединение была безуспешной, т.к. от другого компьютера за требуемое время не получен нужный отклик, или было разорвано уже установленное соединение из-за неверного отклика уже подключенного компьютера. (os error 10060)); using driver found in the cache\n"
     ]
    },
    {
     "name": "stdout",
     "output_type": "stream",
     "text": [
      "https://smart-lab.ru/q/RUSP/f/y/RSBU/download/\n"
     ]
    },
    {
     "name": "stderr",
     "output_type": "stream",
     "text": [
      "There was an error managing chromedriver (error sending request for url (https://googlechromelabs.github.io/chrome-for-testing/known-good-versions-with-downloads.json): error trying to connect: tcp connect error: Попытка установить соединение была безуспешной, т.к. от другого компьютера за требуемое время не получен нужный отклик, или было разорвано уже установленное соединение из-за неверного отклика уже подключенного компьютера. (os error 10060)); using driver found in the cache\n"
     ]
    },
    {
     "name": "stdout",
     "output_type": "stream",
     "text": [
      "https://smart-lab.ru/q/RUSP/f/q/MSFO/download/\n"
     ]
    },
    {
     "name": "stderr",
     "output_type": "stream",
     "text": [
      "There was an error managing chromedriver (error sending request for url (https://googlechromelabs.github.io/chrome-for-testing/known-good-versions-with-downloads.json): error trying to connect: tcp connect error: Попытка установить соединение была безуспешной, т.к. от другого компьютера за требуемое время не получен нужный отклик, или было разорвано уже установленное соединение из-за неверного отклика уже подключенного компьютера. (os error 10060)); using driver found in the cache\n"
     ]
    },
    {
     "name": "stdout",
     "output_type": "stream",
     "text": [
      "https://smart-lab.ru/q/RUSP/f/q/RSBU/download/\n"
     ]
    },
    {
     "name": "stderr",
     "output_type": "stream",
     "text": [
      "There was an error managing chromedriver (error sending request for url (https://googlechromelabs.github.io/chrome-for-testing/known-good-versions-with-downloads.json): error trying to connect: tcp connect error: Попытка установить соединение была безуспешной, т.к. от другого компьютера за требуемое время не получен нужный отклик, или было разорвано уже установленное соединение из-за неверного отклика уже подключенного компьютера. (os error 10060)); using driver found in the cache\n"
     ]
    },
    {
     "name": "stdout",
     "output_type": "stream",
     "text": [
      "https://smart-lab.ru/q/RZSB/f/y/MSFO/download/\n"
     ]
    },
    {
     "name": "stderr",
     "output_type": "stream",
     "text": [
      "There was an error managing chromedriver (error sending request for url (https://googlechromelabs.github.io/chrome-for-testing/known-good-versions-with-downloads.json): error trying to connect: tcp connect error: Попытка установить соединение была безуспешной, т.к. от другого компьютера за требуемое время не получен нужный отклик, или было разорвано уже установленное соединение из-за неверного отклика уже подключенного компьютера. (os error 10060)); using driver found in the cache\n"
     ]
    },
    {
     "name": "stdout",
     "output_type": "stream",
     "text": [
      "https://smart-lab.ru/q/RZSB/f/y/RSBU/download/\n"
     ]
    },
    {
     "name": "stderr",
     "output_type": "stream",
     "text": [
      "There was an error managing chromedriver (error sending request for url (https://googlechromelabs.github.io/chrome-for-testing/known-good-versions-with-downloads.json): error trying to connect: tcp connect error: Попытка установить соединение была безуспешной, т.к. от другого компьютера за требуемое время не получен нужный отклик, или было разорвано уже установленное соединение из-за неверного отклика уже подключенного компьютера. (os error 10060)); using driver found in the cache\n"
     ]
    },
    {
     "name": "stdout",
     "output_type": "stream",
     "text": [
      "https://smart-lab.ru/q/RZSB/f/q/MSFO/download/\n"
     ]
    },
    {
     "name": "stderr",
     "output_type": "stream",
     "text": [
      "There was an error managing chromedriver (error sending request for url (https://googlechromelabs.github.io/chrome-for-testing/known-good-versions-with-downloads.json): error trying to connect: tcp connect error: Попытка установить соединение была безуспешной, т.к. от другого компьютера за требуемое время не получен нужный отклик, или было разорвано уже установленное соединение из-за неверного отклика уже подключенного компьютера. (os error 10060)); using driver found in the cache\n"
     ]
    },
    {
     "name": "stdout",
     "output_type": "stream",
     "text": [
      "https://smart-lab.ru/q/RZSB/f/q/RSBU/download/\n"
     ]
    },
    {
     "name": "stderr",
     "output_type": "stream",
     "text": [
      "There was an error managing chromedriver (error sending request for url (https://googlechromelabs.github.io/chrome-for-testing/known-good-versions-with-downloads.json): error trying to connect: tcp connect error: Попытка установить соединение была безуспешной, т.к. от другого компьютера за требуемое время не получен нужный отклик, или было разорвано уже установленное соединение из-за неверного отклика уже подключенного компьютера. (os error 10060)); using driver found in the cache\n"
     ]
    },
    {
     "name": "stdout",
     "output_type": "stream",
     "text": [
      "https://smart-lab.ru/q/SAGO/f/y/MSFO/download/\n"
     ]
    },
    {
     "name": "stderr",
     "output_type": "stream",
     "text": [
      "There was an error managing chromedriver (error sending request for url (https://googlechromelabs.github.io/chrome-for-testing/known-good-versions-with-downloads.json): error trying to connect: tcp connect error: Попытка установить соединение была безуспешной, т.к. от другого компьютера за требуемое время не получен нужный отклик, или было разорвано уже установленное соединение из-за неверного отклика уже подключенного компьютера. (os error 10060)); using driver found in the cache\n"
     ]
    },
    {
     "name": "stdout",
     "output_type": "stream",
     "text": [
      "https://smart-lab.ru/q/SAGO/f/y/RSBU/download/\n"
     ]
    },
    {
     "name": "stderr",
     "output_type": "stream",
     "text": [
      "There was an error managing chromedriver (error sending request for url (https://googlechromelabs.github.io/chrome-for-testing/known-good-versions-with-downloads.json): error trying to connect: tcp connect error: Попытка установить соединение была безуспешной, т.к. от другого компьютера за требуемое время не получен нужный отклик, или было разорвано уже установленное соединение из-за неверного отклика уже подключенного компьютера. (os error 10060)); using driver found in the cache\n"
     ]
    },
    {
     "name": "stdout",
     "output_type": "stream",
     "text": [
      "https://smart-lab.ru/q/SAGO/f/q/MSFO/download/\n"
     ]
    },
    {
     "name": "stderr",
     "output_type": "stream",
     "text": [
      "There was an error managing chromedriver (error sending request for url (https://googlechromelabs.github.io/chrome-for-testing/known-good-versions-with-downloads.json): error trying to connect: tcp connect error: Попытка установить соединение была безуспешной, т.к. от другого компьютера за требуемое время не получен нужный отклик, или было разорвано уже установленное соединение из-за неверного отклика уже подключенного компьютера. (os error 10060)); using driver found in the cache\n"
     ]
    },
    {
     "name": "stdout",
     "output_type": "stream",
     "text": [
      "https://smart-lab.ru/q/SAGO/f/q/RSBU/download/\n"
     ]
    },
    {
     "name": "stderr",
     "output_type": "stream",
     "text": [
      "There was an error managing chromedriver (error sending request for url (https://googlechromelabs.github.io/chrome-for-testing/known-good-versions-with-downloads.json): error trying to connect: tcp connect error: Попытка установить соединение была безуспешной, т.к. от другого компьютера за требуемое время не получен нужный отклик, или было разорвано уже установленное соединение из-за неверного отклика уже подключенного компьютера. (os error 10060)); using driver found in the cache\n"
     ]
    },
    {
     "name": "stdout",
     "output_type": "stream",
     "text": [
      "https://smart-lab.ru/q/SAGOP/f/y/MSFO/download/\n"
     ]
    },
    {
     "name": "stderr",
     "output_type": "stream",
     "text": [
      "There was an error managing chromedriver (error sending request for url (https://googlechromelabs.github.io/chrome-for-testing/known-good-versions-with-downloads.json): error trying to connect: tcp connect error: Попытка установить соединение была безуспешной, т.к. от другого компьютера за требуемое время не получен нужный отклик, или было разорвано уже установленное соединение из-за неверного отклика уже подключенного компьютера. (os error 10060)); using driver found in the cache\n"
     ]
    },
    {
     "name": "stdout",
     "output_type": "stream",
     "text": [
      "https://smart-lab.ru/q/SAGOP/f/y/RSBU/download/\n"
     ]
    },
    {
     "name": "stderr",
     "output_type": "stream",
     "text": [
      "There was an error managing chromedriver (error sending request for url (https://googlechromelabs.github.io/chrome-for-testing/known-good-versions-with-downloads.json): error trying to connect: tcp connect error: Попытка установить соединение была безуспешной, т.к. от другого компьютера за требуемое время не получен нужный отклик, или было разорвано уже установленное соединение из-за неверного отклика уже подключенного компьютера. (os error 10060)); using driver found in the cache\n"
     ]
    },
    {
     "name": "stdout",
     "output_type": "stream",
     "text": [
      "https://smart-lab.ru/q/SAGOP/f/q/MSFO/download/\n"
     ]
    },
    {
     "name": "stderr",
     "output_type": "stream",
     "text": [
      "There was an error managing chromedriver (error sending request for url (https://googlechromelabs.github.io/chrome-for-testing/known-good-versions-with-downloads.json): error trying to connect: tcp connect error: Попытка установить соединение была безуспешной, т.к. от другого компьютера за требуемое время не получен нужный отклик, или было разорвано уже установленное соединение из-за неверного отклика уже подключенного компьютера. (os error 10060)); using driver found in the cache\n"
     ]
    },
    {
     "name": "stdout",
     "output_type": "stream",
     "text": [
      "https://smart-lab.ru/q/SAGOP/f/q/RSBU/download/\n"
     ]
    },
    {
     "name": "stderr",
     "output_type": "stream",
     "text": [
      "There was an error managing chromedriver (error sending request for url (https://googlechromelabs.github.io/chrome-for-testing/known-good-versions-with-downloads.json): error trying to connect: tcp connect error: Попытка установить соединение была безуспешной, т.к. от другого компьютера за требуемое время не получен нужный отклик, или было разорвано уже установленное соединение из-за неверного отклика уже подключенного компьютера. (os error 10060)); using driver found in the cache\n"
     ]
    },
    {
     "name": "stdout",
     "output_type": "stream",
     "text": [
      "https://smart-lab.ru/q/SARE/f/y/MSFO/download/\n"
     ]
    },
    {
     "name": "stderr",
     "output_type": "stream",
     "text": [
      "There was an error managing chromedriver (error sending request for url (https://googlechromelabs.github.io/chrome-for-testing/known-good-versions-with-downloads.json): error trying to connect: tcp connect error: Попытка установить соединение была безуспешной, т.к. от другого компьютера за требуемое время не получен нужный отклик, или было разорвано уже установленное соединение из-за неверного отклика уже подключенного компьютера. (os error 10060)); using driver found in the cache\n"
     ]
    },
    {
     "name": "stdout",
     "output_type": "stream",
     "text": [
      "https://smart-lab.ru/q/SARE/f/y/RSBU/download/\n"
     ]
    },
    {
     "name": "stderr",
     "output_type": "stream",
     "text": [
      "There was an error managing chromedriver (error sending request for url (https://googlechromelabs.github.io/chrome-for-testing/known-good-versions-with-downloads.json): error trying to connect: tcp connect error: Попытка установить соединение была безуспешной, т.к. от другого компьютера за требуемое время не получен нужный отклик, или было разорвано уже установленное соединение из-за неверного отклика уже подключенного компьютера. (os error 10060)); using driver found in the cache\n"
     ]
    },
    {
     "name": "stdout",
     "output_type": "stream",
     "text": [
      "https://smart-lab.ru/q/SARE/f/q/MSFO/download/\n"
     ]
    },
    {
     "name": "stderr",
     "output_type": "stream",
     "text": [
      "There was an error managing chromedriver (error sending request for url (https://googlechromelabs.github.io/chrome-for-testing/known-good-versions-with-downloads.json): error trying to connect: tcp connect error: Попытка установить соединение была безуспешной, т.к. от другого компьютера за требуемое время не получен нужный отклик, или было разорвано уже установленное соединение из-за неверного отклика уже подключенного компьютера. (os error 10060)); using driver found in the cache\n"
     ]
    },
    {
     "name": "stdout",
     "output_type": "stream",
     "text": [
      "https://smart-lab.ru/q/SARE/f/q/RSBU/download/\n"
     ]
    },
    {
     "name": "stderr",
     "output_type": "stream",
     "text": [
      "There was an error managing chromedriver (error sending request for url (https://googlechromelabs.github.io/chrome-for-testing/known-good-versions-with-downloads.json): error trying to connect: tcp connect error: Попытка установить соединение была безуспешной, т.к. от другого компьютера за требуемое время не получен нужный отклик, или было разорвано уже установленное соединение из-за неверного отклика уже подключенного компьютера. (os error 10060)); using driver found in the cache\n"
     ]
    },
    {
     "name": "stdout",
     "output_type": "stream",
     "text": [
      "https://smart-lab.ru/q/SAREP/f/y/MSFO/download/\n"
     ]
    },
    {
     "name": "stderr",
     "output_type": "stream",
     "text": [
      "There was an error managing chromedriver (error sending request for url (https://googlechromelabs.github.io/chrome-for-testing/known-good-versions-with-downloads.json): error trying to connect: tcp connect error: Попытка установить соединение была безуспешной, т.к. от другого компьютера за требуемое время не получен нужный отклик, или было разорвано уже установленное соединение из-за неверного отклика уже подключенного компьютера. (os error 10060)); using driver found in the cache\n"
     ]
    },
    {
     "name": "stdout",
     "output_type": "stream",
     "text": [
      "https://smart-lab.ru/q/SAREP/f/y/RSBU/download/\n"
     ]
    },
    {
     "name": "stderr",
     "output_type": "stream",
     "text": [
      "There was an error managing chromedriver (error sending request for url (https://googlechromelabs.github.io/chrome-for-testing/known-good-versions-with-downloads.json): error trying to connect: tcp connect error: Попытка установить соединение была безуспешной, т.к. от другого компьютера за требуемое время не получен нужный отклик, или было разорвано уже установленное соединение из-за неверного отклика уже подключенного компьютера. (os error 10060)); using driver found in the cache\n"
     ]
    },
    {
     "name": "stdout",
     "output_type": "stream",
     "text": [
      "https://smart-lab.ru/q/SAREP/f/q/MSFO/download/\n"
     ]
    },
    {
     "name": "stderr",
     "output_type": "stream",
     "text": [
      "There was an error managing chromedriver (error sending request for url (https://googlechromelabs.github.io/chrome-for-testing/known-good-versions-with-downloads.json): error trying to connect: tcp connect error: Попытка установить соединение была безуспешной, т.к. от другого компьютера за требуемое время не получен нужный отклик, или было разорвано уже установленное соединение из-за неверного отклика уже подключенного компьютера. (os error 10060)); using driver found in the cache\n"
     ]
    },
    {
     "name": "stdout",
     "output_type": "stream",
     "text": [
      "https://smart-lab.ru/q/SAREP/f/q/RSBU/download/\n"
     ]
    },
    {
     "name": "stderr",
     "output_type": "stream",
     "text": [
      "There was an error managing chromedriver (error sending request for url (https://googlechromelabs.github.io/chrome-for-testing/known-good-versions-with-downloads.json): error trying to connect: tcp connect error: Попытка установить соединение была безуспешной, т.к. от другого компьютера за требуемое время не получен нужный отклик, или было разорвано уже установленное соединение из-за неверного отклика уже подключенного компьютера. (os error 10060)); using driver found in the cache\n"
     ]
    },
    {
     "name": "stdout",
     "output_type": "stream",
     "text": [
      "https://smart-lab.ru/q/SBER/f/y/MSFO/download/\n"
     ]
    },
    {
     "name": "stderr",
     "output_type": "stream",
     "text": [
      "There was an error managing chromedriver (error sending request for url (https://googlechromelabs.github.io/chrome-for-testing/known-good-versions-with-downloads.json): error trying to connect: tcp connect error: Попытка установить соединение была безуспешной, т.к. от другого компьютера за требуемое время не получен нужный отклик, или было разорвано уже установленное соединение из-за неверного отклика уже подключенного компьютера. (os error 10060)); using driver found in the cache\n"
     ]
    },
    {
     "name": "stdout",
     "output_type": "stream",
     "text": [
      "https://smart-lab.ru/q/SBER/f/y/RSBU/download/\n"
     ]
    },
    {
     "name": "stderr",
     "output_type": "stream",
     "text": [
      "There was an error managing chromedriver (error sending request for url (https://googlechromelabs.github.io/chrome-for-testing/known-good-versions-with-downloads.json): error trying to connect: tcp connect error: Попытка установить соединение была безуспешной, т.к. от другого компьютера за требуемое время не получен нужный отклик, или было разорвано уже установленное соединение из-за неверного отклика уже подключенного компьютера. (os error 10060)); using driver found in the cache\n"
     ]
    },
    {
     "name": "stdout",
     "output_type": "stream",
     "text": [
      "https://smart-lab.ru/q/SBER/f/q/MSFO/download/\n"
     ]
    },
    {
     "name": "stderr",
     "output_type": "stream",
     "text": [
      "There was an error managing chromedriver (error sending request for url (https://googlechromelabs.github.io/chrome-for-testing/known-good-versions-with-downloads.json): error trying to connect: tcp connect error: Попытка установить соединение была безуспешной, т.к. от другого компьютера за требуемое время не получен нужный отклик, или было разорвано уже установленное соединение из-за неверного отклика уже подключенного компьютера. (os error 10060)); using driver found in the cache\n"
     ]
    },
    {
     "name": "stdout",
     "output_type": "stream",
     "text": [
      "https://smart-lab.ru/q/SBER/f/q/RSBU/download/\n"
     ]
    },
    {
     "name": "stderr",
     "output_type": "stream",
     "text": [
      "There was an error managing chromedriver (error sending request for url (https://googlechromelabs.github.io/chrome-for-testing/known-good-versions-with-downloads.json): error trying to connect: tcp connect error: Попытка установить соединение была безуспешной, т.к. от другого компьютера за требуемое время не получен нужный отклик, или было разорвано уже установленное соединение из-за неверного отклика уже подключенного компьютера. (os error 10060)); using driver found in the cache\n"
     ]
    },
    {
     "name": "stdout",
     "output_type": "stream",
     "text": [
      "https://smart-lab.ru/q/SELG/f/y/MSFO/download/\n"
     ]
    },
    {
     "name": "stderr",
     "output_type": "stream",
     "text": [
      "There was an error managing chromedriver (error sending request for url (https://googlechromelabs.github.io/chrome-for-testing/known-good-versions-with-downloads.json): error trying to connect: tcp connect error: Попытка установить соединение была безуспешной, т.к. от другого компьютера за требуемое время не получен нужный отклик, или было разорвано уже установленное соединение из-за неверного отклика уже подключенного компьютера. (os error 10060)); using driver found in the cache\n"
     ]
    },
    {
     "name": "stdout",
     "output_type": "stream",
     "text": [
      "https://smart-lab.ru/q/SELG/f/y/RSBU/download/\n"
     ]
    },
    {
     "name": "stderr",
     "output_type": "stream",
     "text": [
      "There was an error managing chromedriver (error sending request for url (https://googlechromelabs.github.io/chrome-for-testing/known-good-versions-with-downloads.json): error trying to connect: tcp connect error: Попытка установить соединение была безуспешной, т.к. от другого компьютера за требуемое время не получен нужный отклик, или было разорвано уже установленное соединение из-за неверного отклика уже подключенного компьютера. (os error 10060)); using driver found in the cache\n"
     ]
    },
    {
     "name": "stdout",
     "output_type": "stream",
     "text": [
      "https://smart-lab.ru/q/SELG/f/q/MSFO/download/\n"
     ]
    },
    {
     "name": "stderr",
     "output_type": "stream",
     "text": [
      "There was an error managing chromedriver (error sending request for url (https://googlechromelabs.github.io/chrome-for-testing/known-good-versions-with-downloads.json): error trying to connect: tcp connect error: Попытка установить соединение была безуспешной, т.к. от другого компьютера за требуемое время не получен нужный отклик, или было разорвано уже установленное соединение из-за неверного отклика уже подключенного компьютера. (os error 10060)); using driver found in the cache\n"
     ]
    },
    {
     "name": "stdout",
     "output_type": "stream",
     "text": [
      "https://smart-lab.ru/q/SELG/f/q/RSBU/download/\n"
     ]
    },
    {
     "name": "stderr",
     "output_type": "stream",
     "text": [
      "There was an error managing chromedriver (error sending request for url (https://googlechromelabs.github.io/chrome-for-testing/known-good-versions-with-downloads.json): error trying to connect: tcp connect error: Попытка установить соединение была безуспешной, т.к. от другого компьютера за требуемое время не получен нужный отклик, или было разорвано уже установленное соединение из-за неверного отклика уже подключенного компьютера. (os error 10060)); using driver found in the cache\n"
     ]
    },
    {
     "name": "stdout",
     "output_type": "stream",
     "text": [
      "https://smart-lab.ru/q/SBERP/f/y/MSFO/download/\n"
     ]
    },
    {
     "name": "stderr",
     "output_type": "stream",
     "text": [
      "There was an error managing chromedriver (error sending request for url (https://googlechromelabs.github.io/chrome-for-testing/known-good-versions-with-downloads.json): error trying to connect: tcp connect error: Попытка установить соединение была безуспешной, т.к. от другого компьютера за требуемое время не получен нужный отклик, или было разорвано уже установленное соединение из-за неверного отклика уже подключенного компьютера. (os error 10060)); using driver found in the cache\n"
     ]
    },
    {
     "name": "stdout",
     "output_type": "stream",
     "text": [
      "https://smart-lab.ru/q/SBERP/f/y/RSBU/download/\n"
     ]
    },
    {
     "name": "stderr",
     "output_type": "stream",
     "text": [
      "There was an error managing chromedriver (error sending request for url (https://googlechromelabs.github.io/chrome-for-testing/known-good-versions-with-downloads.json): error trying to connect: tcp connect error: Попытка установить соединение была безуспешной, т.к. от другого компьютера за требуемое время не получен нужный отклик, или было разорвано уже установленное соединение из-за неверного отклика уже подключенного компьютера. (os error 10060)); using driver found in the cache\n"
     ]
    },
    {
     "name": "stdout",
     "output_type": "stream",
     "text": [
      "https://smart-lab.ru/q/SBERP/f/q/MSFO/download/\n"
     ]
    },
    {
     "name": "stderr",
     "output_type": "stream",
     "text": [
      "There was an error managing chromedriver (error sending request for url (https://googlechromelabs.github.io/chrome-for-testing/known-good-versions-with-downloads.json): error trying to connect: tcp connect error: Попытка установить соединение была безуспешной, т.к. от другого компьютера за требуемое время не получен нужный отклик, или было разорвано уже установленное соединение из-за неверного отклика уже подключенного компьютера. (os error 10060)); using driver found in the cache\n"
     ]
    },
    {
     "name": "stdout",
     "output_type": "stream",
     "text": [
      "https://smart-lab.ru/q/SBERP/f/q/RSBU/download/\n"
     ]
    },
    {
     "name": "stderr",
     "output_type": "stream",
     "text": [
      "There was an error managing chromedriver (error sending request for url (https://googlechromelabs.github.io/chrome-for-testing/known-good-versions-with-downloads.json): error trying to connect: tcp connect error: Попытка установить соединение была безуспешной, т.к. от другого компьютера за требуемое время не получен нужный отклик, или было разорвано уже установленное соединение из-за неверного отклика уже подключенного компьютера. (os error 10060)); using driver found in the cache\n"
     ]
    },
    {
     "name": "stdout",
     "output_type": "stream",
     "text": [
      "https://smart-lab.ru/q/SFIN/f/y/MSFO/download/\n"
     ]
    },
    {
     "name": "stderr",
     "output_type": "stream",
     "text": [
      "There was an error managing chromedriver (error sending request for url (https://googlechromelabs.github.io/chrome-for-testing/known-good-versions-with-downloads.json): error trying to connect: tcp connect error: Попытка установить соединение была безуспешной, т.к. от другого компьютера за требуемое время не получен нужный отклик, или было разорвано уже установленное соединение из-за неверного отклика уже подключенного компьютера. (os error 10060)); using driver found in the cache\n"
     ]
    },
    {
     "name": "stdout",
     "output_type": "stream",
     "text": [
      "https://smart-lab.ru/q/SFIN/f/y/RSBU/download/\n"
     ]
    },
    {
     "name": "stderr",
     "output_type": "stream",
     "text": [
      "There was an error managing chromedriver (error sending request for url (https://googlechromelabs.github.io/chrome-for-testing/known-good-versions-with-downloads.json): error trying to connect: tcp connect error: Попытка установить соединение была безуспешной, т.к. от другого компьютера за требуемое время не получен нужный отклик, или было разорвано уже установленное соединение из-за неверного отклика уже подключенного компьютера. (os error 10060)); using driver found in the cache\n"
     ]
    },
    {
     "name": "stdout",
     "output_type": "stream",
     "text": [
      "https://smart-lab.ru/q/SFIN/f/q/MSFO/download/\n"
     ]
    },
    {
     "name": "stderr",
     "output_type": "stream",
     "text": [
      "There was an error managing chromedriver (error sending request for url (https://googlechromelabs.github.io/chrome-for-testing/known-good-versions-with-downloads.json): error trying to connect: tcp connect error: Попытка установить соединение была безуспешной, т.к. от другого компьютера за требуемое время не получен нужный отклик, или было разорвано уже установленное соединение из-за неверного отклика уже подключенного компьютера. (os error 10060)); using driver found in the cache\n"
     ]
    },
    {
     "name": "stdout",
     "output_type": "stream",
     "text": [
      "https://smart-lab.ru/q/SFIN/f/q/RSBU/download/\n"
     ]
    },
    {
     "name": "stderr",
     "output_type": "stream",
     "text": [
      "There was an error managing chromedriver (error sending request for url (https://googlechromelabs.github.io/chrome-for-testing/known-good-versions-with-downloads.json): error trying to connect: tcp connect error: Попытка установить соединение была безуспешной, т.к. от другого компьютера за требуемое время не получен нужный отклик, или было разорвано уже установленное соединение из-за неверного отклика уже подключенного компьютера. (os error 10060)); using driver found in the cache\n"
     ]
    },
    {
     "name": "stdout",
     "output_type": "stream",
     "text": [
      "https://smart-lab.ru/q/SGZH/f/y/MSFO/download/\n"
     ]
    },
    {
     "name": "stderr",
     "output_type": "stream",
     "text": [
      "There was an error managing chromedriver (error sending request for url (https://googlechromelabs.github.io/chrome-for-testing/known-good-versions-with-downloads.json): error trying to connect: tcp connect error: Попытка установить соединение была безуспешной, т.к. от другого компьютера за требуемое время не получен нужный отклик, или было разорвано уже установленное соединение из-за неверного отклика уже подключенного компьютера. (os error 10060)); using driver found in the cache\n"
     ]
    },
    {
     "name": "stdout",
     "output_type": "stream",
     "text": [
      "https://smart-lab.ru/q/SGZH/f/y/RSBU/download/\n"
     ]
    },
    {
     "name": "stderr",
     "output_type": "stream",
     "text": [
      "There was an error managing chromedriver (error sending request for url (https://googlechromelabs.github.io/chrome-for-testing/known-good-versions-with-downloads.json): error trying to connect: tcp connect error: Попытка установить соединение была безуспешной, т.к. от другого компьютера за требуемое время не получен нужный отклик, или было разорвано уже установленное соединение из-за неверного отклика уже подключенного компьютера. (os error 10060)); using driver found in the cache\n"
     ]
    },
    {
     "name": "stdout",
     "output_type": "stream",
     "text": [
      "https://smart-lab.ru/q/SGZH/f/q/MSFO/download/\n"
     ]
    },
    {
     "name": "stderr",
     "output_type": "stream",
     "text": [
      "There was an error managing chromedriver (error sending request for url (https://googlechromelabs.github.io/chrome-for-testing/known-good-versions-with-downloads.json): error trying to connect: tcp connect error: Попытка установить соединение была безуспешной, т.к. от другого компьютера за требуемое время не получен нужный отклик, или было разорвано уже установленное соединение из-за неверного отклика уже подключенного компьютера. (os error 10060)); using driver found in the cache\n"
     ]
    },
    {
     "name": "stdout",
     "output_type": "stream",
     "text": [
      "https://smart-lab.ru/q/SGZH/f/q/RSBU/download/\n"
     ]
    },
    {
     "name": "stderr",
     "output_type": "stream",
     "text": [
      "There was an error managing chromedriver (error sending request for url (https://googlechromelabs.github.io/chrome-for-testing/known-good-versions-with-downloads.json): error trying to connect: tcp connect error: Попытка установить соединение была безуспешной, т.к. от другого компьютера за требуемое время не получен нужный отклик, или было разорвано уже установленное соединение из-за неверного отклика уже подключенного компьютера. (os error 10060)); using driver found in the cache\n"
     ]
    },
    {
     "name": "stdout",
     "output_type": "stream",
     "text": [
      "https://smart-lab.ru/q/SLEN/f/y/MSFO/download/\n"
     ]
    },
    {
     "name": "stderr",
     "output_type": "stream",
     "text": [
      "There was an error managing chromedriver (error sending request for url (https://googlechromelabs.github.io/chrome-for-testing/known-good-versions-with-downloads.json): error trying to connect: tcp connect error: Попытка установить соединение была безуспешной, т.к. от другого компьютера за требуемое время не получен нужный отклик, или было разорвано уже установленное соединение из-за неверного отклика уже подключенного компьютера. (os error 10060)); using driver found in the cache\n"
     ]
    },
    {
     "name": "stdout",
     "output_type": "stream",
     "text": [
      "https://smart-lab.ru/q/SLEN/f/y/RSBU/download/\n"
     ]
    },
    {
     "name": "stderr",
     "output_type": "stream",
     "text": [
      "There was an error managing chromedriver (error sending request for url (https://googlechromelabs.github.io/chrome-for-testing/known-good-versions-with-downloads.json): error trying to connect: tcp connect error: Попытка установить соединение была безуспешной, т.к. от другого компьютера за требуемое время не получен нужный отклик, или было разорвано уже установленное соединение из-за неверного отклика уже подключенного компьютера. (os error 10060)); using driver found in the cache\n"
     ]
    },
    {
     "name": "stdout",
     "output_type": "stream",
     "text": [
      "https://smart-lab.ru/q/SLEN/f/q/MSFO/download/\n"
     ]
    },
    {
     "name": "stderr",
     "output_type": "stream",
     "text": [
      "There was an error managing chromedriver (error sending request for url (https://googlechromelabs.github.io/chrome-for-testing/known-good-versions-with-downloads.json): error trying to connect: tcp connect error: Попытка установить соединение была безуспешной, т.к. от другого компьютера за требуемое время не получен нужный отклик, или было разорвано уже установленное соединение из-за неверного отклика уже подключенного компьютера. (os error 10060)); using driver found in the cache\n"
     ]
    },
    {
     "name": "stdout",
     "output_type": "stream",
     "text": [
      "https://smart-lab.ru/q/SLEN/f/q/RSBU/download/\n"
     ]
    },
    {
     "name": "stderr",
     "output_type": "stream",
     "text": [
      "There was an error managing chromedriver (error sending request for url (https://googlechromelabs.github.io/chrome-for-testing/known-good-versions-with-downloads.json): error trying to connect: tcp connect error: Попытка установить соединение была безуспешной, т.к. от другого компьютера за требуемое время не получен нужный отклик, или было разорвано уже установленное соединение из-за неверного отклика уже подключенного компьютера. (os error 10060)); using driver found in the cache\n"
     ]
    },
    {
     "name": "stdout",
     "output_type": "stream",
     "text": [
      "https://smart-lab.ru/q/SNGS/f/y/MSFO/download/\n"
     ]
    },
    {
     "name": "stderr",
     "output_type": "stream",
     "text": [
      "There was an error managing chromedriver (error sending request for url (https://googlechromelabs.github.io/chrome-for-testing/known-good-versions-with-downloads.json): error trying to connect: tcp connect error: Попытка установить соединение была безуспешной, т.к. от другого компьютера за требуемое время не получен нужный отклик, или было разорвано уже установленное соединение из-за неверного отклика уже подключенного компьютера. (os error 10060)); using driver found in the cache\n"
     ]
    },
    {
     "name": "stdout",
     "output_type": "stream",
     "text": [
      "https://smart-lab.ru/q/SNGS/f/y/RSBU/download/\n"
     ]
    },
    {
     "name": "stderr",
     "output_type": "stream",
     "text": [
      "There was an error managing chromedriver (error sending request for url (https://googlechromelabs.github.io/chrome-for-testing/known-good-versions-with-downloads.json): error trying to connect: tcp connect error: Попытка установить соединение была безуспешной, т.к. от другого компьютера за требуемое время не получен нужный отклик, или было разорвано уже установленное соединение из-за неверного отклика уже подключенного компьютера. (os error 10060)); using driver found in the cache\n"
     ]
    },
    {
     "name": "stdout",
     "output_type": "stream",
     "text": [
      "https://smart-lab.ru/q/SNGS/f/q/MSFO/download/\n"
     ]
    },
    {
     "name": "stderr",
     "output_type": "stream",
     "text": [
      "There was an error managing chromedriver (error sending request for url (https://googlechromelabs.github.io/chrome-for-testing/known-good-versions-with-downloads.json): error trying to connect: tcp connect error: Попытка установить соединение была безуспешной, т.к. от другого компьютера за требуемое время не получен нужный отклик, или было разорвано уже установленное соединение из-за неверного отклика уже подключенного компьютера. (os error 10060)); using driver found in the cache\n"
     ]
    },
    {
     "name": "stdout",
     "output_type": "stream",
     "text": [
      "https://smart-lab.ru/q/SNGS/f/q/RSBU/download/\n"
     ]
    },
    {
     "name": "stderr",
     "output_type": "stream",
     "text": [
      "There was an error managing chromedriver (error sending request for url (https://googlechromelabs.github.io/chrome-for-testing/known-good-versions-with-downloads.json): error trying to connect: tcp connect error: Попытка установить соединение была безуспешной, т.к. от другого компьютера за требуемое время не получен нужный отклик, или было разорвано уже установленное соединение из-за неверного отклика уже подключенного компьютера. (os error 10060)); using driver found in the cache\n"
     ]
    },
    {
     "name": "stdout",
     "output_type": "stream",
     "text": [
      "https://smart-lab.ru/q/SNGSP/f/y/MSFO/download/\n"
     ]
    },
    {
     "name": "stderr",
     "output_type": "stream",
     "text": [
      "There was an error managing chromedriver (error sending request for url (https://googlechromelabs.github.io/chrome-for-testing/known-good-versions-with-downloads.json): error trying to connect: tcp connect error: Попытка установить соединение была безуспешной, т.к. от другого компьютера за требуемое время не получен нужный отклик, или было разорвано уже установленное соединение из-за неверного отклика уже подключенного компьютера. (os error 10060)); using driver found in the cache\n"
     ]
    },
    {
     "name": "stdout",
     "output_type": "stream",
     "text": [
      "https://smart-lab.ru/q/SNGSP/f/y/RSBU/download/\n"
     ]
    },
    {
     "name": "stderr",
     "output_type": "stream",
     "text": [
      "There was an error managing chromedriver (error sending request for url (https://googlechromelabs.github.io/chrome-for-testing/known-good-versions-with-downloads.json): error trying to connect: tcp connect error: Попытка установить соединение была безуспешной, т.к. от другого компьютера за требуемое время не получен нужный отклик, или было разорвано уже установленное соединение из-за неверного отклика уже подключенного компьютера. (os error 10060)); using driver found in the cache\n"
     ]
    },
    {
     "name": "stdout",
     "output_type": "stream",
     "text": [
      "https://smart-lab.ru/q/SNGSP/f/q/MSFO/download/\n"
     ]
    },
    {
     "name": "stderr",
     "output_type": "stream",
     "text": [
      "There was an error managing chromedriver (error sending request for url (https://googlechromelabs.github.io/chrome-for-testing/known-good-versions-with-downloads.json): error trying to connect: tcp connect error: Попытка установить соединение была безуспешной, т.к. от другого компьютера за требуемое время не получен нужный отклик, или было разорвано уже установленное соединение из-за неверного отклика уже подключенного компьютера. (os error 10060)); using driver found in the cache\n"
     ]
    },
    {
     "name": "stdout",
     "output_type": "stream",
     "text": [
      "https://smart-lab.ru/q/SNGSP/f/q/RSBU/download/\n"
     ]
    },
    {
     "name": "stderr",
     "output_type": "stream",
     "text": [
      "There was an error managing chromedriver (error sending request for url (https://googlechromelabs.github.io/chrome-for-testing/known-good-versions-with-downloads.json): error trying to connect: tcp connect error: Попытка установить соединение была безуспешной, т.к. от другого компьютера за требуемое время не получен нужный отклик, или было разорвано уже установленное соединение из-за неверного отклика уже подключенного компьютера. (os error 10060)); using driver found in the cache\n"
     ]
    },
    {
     "name": "stdout",
     "output_type": "stream",
     "text": [
      "https://smart-lab.ru/q/SOFL/f/y/MSFO/download/\n"
     ]
    },
    {
     "name": "stderr",
     "output_type": "stream",
     "text": [
      "There was an error managing chromedriver (error sending request for url (https://googlechromelabs.github.io/chrome-for-testing/known-good-versions-with-downloads.json): error trying to connect: tcp connect error: Попытка установить соединение была безуспешной, т.к. от другого компьютера за требуемое время не получен нужный отклик, или было разорвано уже установленное соединение из-за неверного отклика уже подключенного компьютера. (os error 10060)); using driver found in the cache\n"
     ]
    },
    {
     "name": "stdout",
     "output_type": "stream",
     "text": [
      "https://smart-lab.ru/q/SOFL/f/y/RSBU/download/\n"
     ]
    },
    {
     "name": "stderr",
     "output_type": "stream",
     "text": [
      "There was an error managing chromedriver (error sending request for url (https://googlechromelabs.github.io/chrome-for-testing/known-good-versions-with-downloads.json): error trying to connect: tcp connect error: Попытка установить соединение была безуспешной, т.к. от другого компьютера за требуемое время не получен нужный отклик, или было разорвано уже установленное соединение из-за неверного отклика уже подключенного компьютера. (os error 10060)); using driver found in the cache\n"
     ]
    },
    {
     "name": "stdout",
     "output_type": "stream",
     "text": [
      "https://smart-lab.ru/q/SOFL/f/q/MSFO/download/\n"
     ]
    },
    {
     "name": "stderr",
     "output_type": "stream",
     "text": [
      "There was an error managing chromedriver (error sending request for url (https://googlechromelabs.github.io/chrome-for-testing/known-good-versions-with-downloads.json): error trying to connect: tcp connect error: Попытка установить соединение была безуспешной, т.к. от другого компьютера за требуемое время не получен нужный отклик, или было разорвано уже установленное соединение из-за неверного отклика уже подключенного компьютера. (os error 10060)); using driver found in the cache\n"
     ]
    },
    {
     "name": "stdout",
     "output_type": "stream",
     "text": [
      "https://smart-lab.ru/q/SOFL/f/q/RSBU/download/\n"
     ]
    },
    {
     "name": "stderr",
     "output_type": "stream",
     "text": [
      "There was an error managing chromedriver (error sending request for url (https://googlechromelabs.github.io/chrome-for-testing/known-good-versions-with-downloads.json): error trying to connect: tcp connect error: Попытка установить соединение была безуспешной, т.к. от другого компьютера за требуемое время не получен нужный отклик, или было разорвано уже установленное соединение из-за неверного отклика уже подключенного компьютера. (os error 10060)); using driver found in the cache\n"
     ]
    },
    {
     "name": "stdout",
     "output_type": "stream",
     "text": [
      "https://smart-lab.ru/q/SPBE/f/y/MSFO/download/\n"
     ]
    },
    {
     "name": "stderr",
     "output_type": "stream",
     "text": [
      "There was an error managing chromedriver (error sending request for url (https://googlechromelabs.github.io/chrome-for-testing/known-good-versions-with-downloads.json): error trying to connect: tcp connect error: Попытка установить соединение была безуспешной, т.к. от другого компьютера за требуемое время не получен нужный отклик, или было разорвано уже установленное соединение из-за неверного отклика уже подключенного компьютера. (os error 10060)); using driver found in the cache\n"
     ]
    },
    {
     "name": "stdout",
     "output_type": "stream",
     "text": [
      "https://smart-lab.ru/q/SPBE/f/y/RSBU/download/\n"
     ]
    },
    {
     "name": "stderr",
     "output_type": "stream",
     "text": [
      "There was an error managing chromedriver (error sending request for url (https://googlechromelabs.github.io/chrome-for-testing/known-good-versions-with-downloads.json): error trying to connect: tcp connect error: Попытка установить соединение была безуспешной, т.к. от другого компьютера за требуемое время не получен нужный отклик, или было разорвано уже установленное соединение из-за неверного отклика уже подключенного компьютера. (os error 10060)); using driver found in the cache\n"
     ]
    },
    {
     "name": "stdout",
     "output_type": "stream",
     "text": [
      "https://smart-lab.ru/q/SPBE/f/q/MSFO/download/\n"
     ]
    },
    {
     "name": "stderr",
     "output_type": "stream",
     "text": [
      "There was an error managing chromedriver (error sending request for url (https://googlechromelabs.github.io/chrome-for-testing/known-good-versions-with-downloads.json): error trying to connect: tcp connect error: Попытка установить соединение была безуспешной, т.к. от другого компьютера за требуемое время не получен нужный отклик, или было разорвано уже установленное соединение из-за неверного отклика уже подключенного компьютера. (os error 10060)); using driver found in the cache\n"
     ]
    },
    {
     "name": "stdout",
     "output_type": "stream",
     "text": [
      "https://smart-lab.ru/q/SPBE/f/q/RSBU/download/\n"
     ]
    },
    {
     "name": "stderr",
     "output_type": "stream",
     "text": [
      "There was an error managing chromedriver (error sending request for url (https://googlechromelabs.github.io/chrome-for-testing/known-good-versions-with-downloads.json): error trying to connect: tcp connect error: Попытка установить соединение была безуспешной, т.к. от другого компьютера за требуемое время не получен нужный отклик, или было разорвано уже установленное соединение из-за неверного отклика уже подключенного компьютера. (os error 10060)); using driver found in the cache\n"
     ]
    },
    {
     "name": "stdout",
     "output_type": "stream",
     "text": [
      "https://smart-lab.ru/q/STSBP/f/y/MSFO/download/\n"
     ]
    },
    {
     "name": "stderr",
     "output_type": "stream",
     "text": [
      "There was an error managing chromedriver (error sending request for url (https://googlechromelabs.github.io/chrome-for-testing/known-good-versions-with-downloads.json): error trying to connect: tcp connect error: Попытка установить соединение была безуспешной, т.к. от другого компьютера за требуемое время не получен нужный отклик, или было разорвано уже установленное соединение из-за неверного отклика уже подключенного компьютера. (os error 10060)); using driver found in the cache\n"
     ]
    },
    {
     "name": "stdout",
     "output_type": "stream",
     "text": [
      "https://smart-lab.ru/q/STSBP/f/y/RSBU/download/\n"
     ]
    },
    {
     "name": "stderr",
     "output_type": "stream",
     "text": [
      "There was an error managing chromedriver (error sending request for url (https://googlechromelabs.github.io/chrome-for-testing/known-good-versions-with-downloads.json): error trying to connect: tcp connect error: Попытка установить соединение была безуспешной, т.к. от другого компьютера за требуемое время не получен нужный отклик, или было разорвано уже установленное соединение из-за неверного отклика уже подключенного компьютера. (os error 10060)); using driver found in the cache\n"
     ]
    },
    {
     "name": "stdout",
     "output_type": "stream",
     "text": [
      "https://smart-lab.ru/q/STSBP/f/q/MSFO/download/\n"
     ]
    },
    {
     "name": "stderr",
     "output_type": "stream",
     "text": [
      "There was an error managing chromedriver (error sending request for url (https://googlechromelabs.github.io/chrome-for-testing/known-good-versions-with-downloads.json): error trying to connect: tcp connect error: Попытка установить соединение была безуспешной, т.к. от другого компьютера за требуемое время не получен нужный отклик, или было разорвано уже установленное соединение из-за неверного отклика уже подключенного компьютера. (os error 10060)); using driver found in the cache\n"
     ]
    },
    {
     "name": "stdout",
     "output_type": "stream",
     "text": [
      "https://smart-lab.ru/q/STSBP/f/q/RSBU/download/\n"
     ]
    },
    {
     "name": "stderr",
     "output_type": "stream",
     "text": [
      "There was an error managing chromedriver (error sending request for url (https://googlechromelabs.github.io/chrome-for-testing/known-good-versions-with-downloads.json): error trying to connect: tcp connect error: Попытка установить соединение была безуспешной, т.к. от другого компьютера за требуемое время не получен нужный отклик, или было разорвано уже установленное соединение из-за неверного отклика уже подключенного компьютера. (os error 10060)); using driver found in the cache\n"
     ]
    },
    {
     "name": "stdout",
     "output_type": "stream",
     "text": [
      "https://smart-lab.ru/q/SVCB/f/y/MSFO/download/\n"
     ]
    },
    {
     "name": "stderr",
     "output_type": "stream",
     "text": [
      "There was an error managing chromedriver (error sending request for url (https://googlechromelabs.github.io/chrome-for-testing/known-good-versions-with-downloads.json): error trying to connect: tcp connect error: Попытка установить соединение была безуспешной, т.к. от другого компьютера за требуемое время не получен нужный отклик, или было разорвано уже установленное соединение из-за неверного отклика уже подключенного компьютера. (os error 10060)); using driver found in the cache\n"
     ]
    },
    {
     "name": "stdout",
     "output_type": "stream",
     "text": [
      "https://smart-lab.ru/q/SVCB/f/y/RSBU/download/\n"
     ]
    },
    {
     "name": "stderr",
     "output_type": "stream",
     "text": [
      "There was an error managing chromedriver (error sending request for url (https://googlechromelabs.github.io/chrome-for-testing/known-good-versions-with-downloads.json): error trying to connect: tcp connect error: Попытка установить соединение была безуспешной, т.к. от другого компьютера за требуемое время не получен нужный отклик, или было разорвано уже установленное соединение из-за неверного отклика уже подключенного компьютера. (os error 10060)); using driver found in the cache\n"
     ]
    },
    {
     "name": "stdout",
     "output_type": "stream",
     "text": [
      "https://smart-lab.ru/q/SVCB/f/q/MSFO/download/\n"
     ]
    },
    {
     "name": "stderr",
     "output_type": "stream",
     "text": [
      "There was an error managing chromedriver (error sending request for url (https://googlechromelabs.github.io/chrome-for-testing/known-good-versions-with-downloads.json): error trying to connect: tcp connect error: Попытка установить соединение была безуспешной, т.к. от другого компьютера за требуемое время не получен нужный отклик, или было разорвано уже установленное соединение из-за неверного отклика уже подключенного компьютера. (os error 10060)); using driver found in the cache\n"
     ]
    },
    {
     "name": "stdout",
     "output_type": "stream",
     "text": [
      "https://smart-lab.ru/q/SVCB/f/q/RSBU/download/\n"
     ]
    },
    {
     "name": "stderr",
     "output_type": "stream",
     "text": [
      "There was an error managing chromedriver (error sending request for url (https://googlechromelabs.github.io/chrome-for-testing/known-good-versions-with-downloads.json): error trying to connect: tcp connect error: Попытка установить соединение была безуспешной, т.к. от другого компьютера за требуемое время не получен нужный отклик, или было разорвано уже установленное соединение из-за неверного отклика уже подключенного компьютера. (os error 10060)); using driver found in the cache\n"
     ]
    },
    {
     "name": "stdout",
     "output_type": "stream",
     "text": [
      "https://smart-lab.ru/q/SVAV/f/y/MSFO/download/\n"
     ]
    },
    {
     "name": "stderr",
     "output_type": "stream",
     "text": [
      "There was an error managing chromedriver (error sending request for url (https://googlechromelabs.github.io/chrome-for-testing/known-good-versions-with-downloads.json): error trying to connect: tcp connect error: Попытка установить соединение была безуспешной, т.к. от другого компьютера за требуемое время не получен нужный отклик, или было разорвано уже установленное соединение из-за неверного отклика уже подключенного компьютера. (os error 10060)); using driver found in the cache\n"
     ]
    },
    {
     "name": "stdout",
     "output_type": "stream",
     "text": [
      "https://smart-lab.ru/q/SVAV/f/y/RSBU/download/\n"
     ]
    },
    {
     "name": "stderr",
     "output_type": "stream",
     "text": [
      "There was an error managing chromedriver (error sending request for url (https://googlechromelabs.github.io/chrome-for-testing/known-good-versions-with-downloads.json): error trying to connect: tcp connect error: Попытка установить соединение была безуспешной, т.к. от другого компьютера за требуемое время не получен нужный отклик, или было разорвано уже установленное соединение из-за неверного отклика уже подключенного компьютера. (os error 10060)); using driver found in the cache\n"
     ]
    },
    {
     "name": "stdout",
     "output_type": "stream",
     "text": [
      "https://smart-lab.ru/q/SVAV/f/q/MSFO/download/\n"
     ]
    },
    {
     "name": "stderr",
     "output_type": "stream",
     "text": [
      "There was an error managing chromedriver (error sending request for url (https://googlechromelabs.github.io/chrome-for-testing/known-good-versions-with-downloads.json): error trying to connect: tcp connect error: Попытка установить соединение была безуспешной, т.к. от другого компьютера за требуемое время не получен нужный отклик, или было разорвано уже установленное соединение из-за неверного отклика уже подключенного компьютера. (os error 10060)); using driver found in the cache\n"
     ]
    },
    {
     "name": "stdout",
     "output_type": "stream",
     "text": [
      "https://smart-lab.ru/q/SVAV/f/q/RSBU/download/\n"
     ]
    },
    {
     "name": "stderr",
     "output_type": "stream",
     "text": [
      "There was an error managing chromedriver (error sending request for url (https://googlechromelabs.github.io/chrome-for-testing/known-good-versions-with-downloads.json): error trying to connect: tcp connect error: Попытка установить соединение была безуспешной, т.к. от другого компьютера за требуемое время не получен нужный отклик, или было разорвано уже установленное соединение из-за неверного отклика уже подключенного компьютера. (os error 10060)); using driver found in the cache\n"
     ]
    },
    {
     "name": "stdout",
     "output_type": "stream",
     "text": [
      "https://smart-lab.ru/q/SVET/f/y/MSFO/download/\n"
     ]
    },
    {
     "name": "stderr",
     "output_type": "stream",
     "text": [
      "There was an error managing chromedriver (error sending request for url (https://googlechromelabs.github.io/chrome-for-testing/known-good-versions-with-downloads.json): error trying to connect: tcp connect error: Попытка установить соединение была безуспешной, т.к. от другого компьютера за требуемое время не получен нужный отклик, или было разорвано уже установленное соединение из-за неверного отклика уже подключенного компьютера. (os error 10060)); using driver found in the cache\n"
     ]
    },
    {
     "name": "stdout",
     "output_type": "stream",
     "text": [
      "https://smart-lab.ru/q/SVET/f/y/RSBU/download/\n"
     ]
    },
    {
     "name": "stderr",
     "output_type": "stream",
     "text": [
      "There was an error managing chromedriver (error sending request for url (https://googlechromelabs.github.io/chrome-for-testing/known-good-versions-with-downloads.json): error trying to connect: tcp connect error: Попытка установить соединение была безуспешной, т.к. от другого компьютера за требуемое время не получен нужный отклик, или было разорвано уже установленное соединение из-за неверного отклика уже подключенного компьютера. (os error 10060)); using driver found in the cache\n"
     ]
    },
    {
     "name": "stdout",
     "output_type": "stream",
     "text": [
      "https://smart-lab.ru/q/SVET/f/q/MSFO/download/\n"
     ]
    },
    {
     "name": "stderr",
     "output_type": "stream",
     "text": [
      "There was an error managing chromedriver (error sending request for url (https://googlechromelabs.github.io/chrome-for-testing/known-good-versions-with-downloads.json): error trying to connect: tcp connect error: Попытка установить соединение была безуспешной, т.к. от другого компьютера за требуемое время не получен нужный отклик, или было разорвано уже установленное соединение из-за неверного отклика уже подключенного компьютера. (os error 10060)); using driver found in the cache\n"
     ]
    },
    {
     "name": "stdout",
     "output_type": "stream",
     "text": [
      "https://smart-lab.ru/q/SVET/f/q/RSBU/download/\n"
     ]
    },
    {
     "name": "stderr",
     "output_type": "stream",
     "text": [
      "There was an error managing chromedriver (error sending request for url (https://googlechromelabs.github.io/chrome-for-testing/known-good-versions-with-downloads.json): error trying to connect: tcp connect error: Попытка установить соединение была безуспешной, т.к. от другого компьютера за требуемое время не получен нужный отклик, или было разорвано уже установленное соединение из-за неверного отклика уже подключенного компьютера. (os error 10060)); using driver found in the cache\n"
     ]
    },
    {
     "name": "stdout",
     "output_type": "stream",
     "text": [
      "https://smart-lab.ru/q/TASB/f/y/MSFO/download/\n"
     ]
    },
    {
     "name": "stderr",
     "output_type": "stream",
     "text": [
      "There was an error managing chromedriver (error sending request for url (https://googlechromelabs.github.io/chrome-for-testing/known-good-versions-with-downloads.json): error trying to connect: tcp connect error: Попытка установить соединение была безуспешной, т.к. от другого компьютера за требуемое время не получен нужный отклик, или было разорвано уже установленное соединение из-за неверного отклика уже подключенного компьютера. (os error 10060)); using driver found in the cache\n"
     ]
    },
    {
     "name": "stdout",
     "output_type": "stream",
     "text": [
      "https://smart-lab.ru/q/TASB/f/y/RSBU/download/\n"
     ]
    },
    {
     "name": "stderr",
     "output_type": "stream",
     "text": [
      "There was an error managing chromedriver (error sending request for url (https://googlechromelabs.github.io/chrome-for-testing/known-good-versions-with-downloads.json): error trying to connect: tcp connect error: Попытка установить соединение была безуспешной, т.к. от другого компьютера за требуемое время не получен нужный отклик, или было разорвано уже установленное соединение из-за неверного отклика уже подключенного компьютера. (os error 10060)); using driver found in the cache\n"
     ]
    },
    {
     "name": "stdout",
     "output_type": "stream",
     "text": [
      "https://smart-lab.ru/q/TASB/f/q/MSFO/download/\n"
     ]
    },
    {
     "name": "stderr",
     "output_type": "stream",
     "text": [
      "There was an error managing chromedriver (error sending request for url (https://googlechromelabs.github.io/chrome-for-testing/known-good-versions-with-downloads.json): error trying to connect: tcp connect error: Попытка установить соединение была безуспешной, т.к. от другого компьютера за требуемое время не получен нужный отклик, или было разорвано уже установленное соединение из-за неверного отклика уже подключенного компьютера. (os error 10060)); using driver found in the cache\n"
     ]
    },
    {
     "name": "stdout",
     "output_type": "stream",
     "text": [
      "https://smart-lab.ru/q/TASB/f/q/RSBU/download/\n"
     ]
    },
    {
     "name": "stderr",
     "output_type": "stream",
     "text": [
      "There was an error managing chromedriver (error sending request for url (https://googlechromelabs.github.io/chrome-for-testing/known-good-versions-with-downloads.json): error trying to connect: tcp connect error: Попытка установить соединение была безуспешной, т.к. от другого компьютера за требуемое время не получен нужный отклик, или было разорвано уже установленное соединение из-за неверного отклика уже подключенного компьютера. (os error 10060)); using driver found in the cache\n"
     ]
    },
    {
     "name": "stdout",
     "output_type": "stream",
     "text": [
      "https://smart-lab.ru/q/TASBP/f/y/MSFO/download/\n"
     ]
    },
    {
     "name": "stderr",
     "output_type": "stream",
     "text": [
      "There was an error managing chromedriver (error sending request for url (https://googlechromelabs.github.io/chrome-for-testing/known-good-versions-with-downloads.json): error trying to connect: tcp connect error: Попытка установить соединение была безуспешной, т.к. от другого компьютера за требуемое время не получен нужный отклик, или было разорвано уже установленное соединение из-за неверного отклика уже подключенного компьютера. (os error 10060)); using driver found in the cache\n"
     ]
    },
    {
     "name": "stdout",
     "output_type": "stream",
     "text": [
      "https://smart-lab.ru/q/TASBP/f/y/RSBU/download/\n"
     ]
    },
    {
     "name": "stderr",
     "output_type": "stream",
     "text": [
      "There was an error managing chromedriver (error sending request for url (https://googlechromelabs.github.io/chrome-for-testing/known-good-versions-with-downloads.json): error trying to connect: tcp connect error: Попытка установить соединение была безуспешной, т.к. от другого компьютера за требуемое время не получен нужный отклик, или было разорвано уже установленное соединение из-за неверного отклика уже подключенного компьютера. (os error 10060)); using driver found in the cache\n"
     ]
    },
    {
     "name": "stdout",
     "output_type": "stream",
     "text": [
      "https://smart-lab.ru/q/TASBP/f/q/MSFO/download/\n"
     ]
    },
    {
     "name": "stderr",
     "output_type": "stream",
     "text": [
      "There was an error managing chromedriver (error sending request for url (https://googlechromelabs.github.io/chrome-for-testing/known-good-versions-with-downloads.json): error trying to connect: tcp connect error: Попытка установить соединение была безуспешной, т.к. от другого компьютера за требуемое время не получен нужный отклик, или было разорвано уже установленное соединение из-за неверного отклика уже подключенного компьютера. (os error 10060)); using driver found in the cache\n"
     ]
    },
    {
     "name": "stdout",
     "output_type": "stream",
     "text": [
      "https://smart-lab.ru/q/TASBP/f/q/RSBU/download/\n"
     ]
    },
    {
     "name": "stderr",
     "output_type": "stream",
     "text": [
      "There was an error managing chromedriver (error sending request for url (https://googlechromelabs.github.io/chrome-for-testing/known-good-versions-with-downloads.json): error trying to connect: tcp connect error: Попытка установить соединение была безуспешной, т.к. от другого компьютера за требуемое время не получен нужный отклик, или было разорвано уже установленное соединение из-за неверного отклика уже подключенного компьютера. (os error 10060)); using driver found in the cache\n"
     ]
    },
    {
     "name": "stdout",
     "output_type": "stream",
     "text": [
      "https://smart-lab.ru/q/TATN/f/y/MSFO/download/\n"
     ]
    },
    {
     "name": "stderr",
     "output_type": "stream",
     "text": [
      "There was an error managing chromedriver (error sending request for url (https://googlechromelabs.github.io/chrome-for-testing/known-good-versions-with-downloads.json): error trying to connect: tcp connect error: Попытка установить соединение была безуспешной, т.к. от другого компьютера за требуемое время не получен нужный отклик, или было разорвано уже установленное соединение из-за неверного отклика уже подключенного компьютера. (os error 10060)); using driver found in the cache\n"
     ]
    },
    {
     "name": "stdout",
     "output_type": "stream",
     "text": [
      "https://smart-lab.ru/q/TATN/f/y/RSBU/download/\n"
     ]
    },
    {
     "name": "stderr",
     "output_type": "stream",
     "text": [
      "There was an error managing chromedriver (error sending request for url (https://googlechromelabs.github.io/chrome-for-testing/known-good-versions-with-downloads.json): error trying to connect: tcp connect error: Попытка установить соединение была безуспешной, т.к. от другого компьютера за требуемое время не получен нужный отклик, или было разорвано уже установленное соединение из-за неверного отклика уже подключенного компьютера. (os error 10060)); using driver found in the cache\n"
     ]
    },
    {
     "name": "stdout",
     "output_type": "stream",
     "text": [
      "https://smart-lab.ru/q/TATN/f/q/MSFO/download/\n"
     ]
    },
    {
     "name": "stderr",
     "output_type": "stream",
     "text": [
      "There was an error managing chromedriver (error sending request for url (https://googlechromelabs.github.io/chrome-for-testing/known-good-versions-with-downloads.json): error trying to connect: tcp connect error: Попытка установить соединение была безуспешной, т.к. от другого компьютера за требуемое время не получен нужный отклик, или было разорвано уже установленное соединение из-за неверного отклика уже подключенного компьютера. (os error 10060)); using driver found in the cache\n"
     ]
    },
    {
     "name": "stdout",
     "output_type": "stream",
     "text": [
      "https://smart-lab.ru/q/TATN/f/q/RSBU/download/\n"
     ]
    },
    {
     "name": "stderr",
     "output_type": "stream",
     "text": [
      "There was an error managing chromedriver (error sending request for url (https://googlechromelabs.github.io/chrome-for-testing/known-good-versions-with-downloads.json): error trying to connect: tcp connect error: Попытка установить соединение была безуспешной, т.к. от другого компьютера за требуемое время не получен нужный отклик, или было разорвано уже установленное соединение из-за неверного отклика уже подключенного компьютера. (os error 10060)); using driver found in the cache\n"
     ]
    },
    {
     "name": "stdout",
     "output_type": "stream",
     "text": [
      "https://smart-lab.ru/q/TATNP/f/y/MSFO/download/\n"
     ]
    },
    {
     "name": "stderr",
     "output_type": "stream",
     "text": [
      "There was an error managing chromedriver (error sending request for url (https://googlechromelabs.github.io/chrome-for-testing/known-good-versions-with-downloads.json): error trying to connect: tcp connect error: Попытка установить соединение была безуспешной, т.к. от другого компьютера за требуемое время не получен нужный отклик, или было разорвано уже установленное соединение из-за неверного отклика уже подключенного компьютера. (os error 10060)); using driver found in the cache\n"
     ]
    },
    {
     "name": "stdout",
     "output_type": "stream",
     "text": [
      "https://smart-lab.ru/q/TATNP/f/y/RSBU/download/\n"
     ]
    },
    {
     "name": "stderr",
     "output_type": "stream",
     "text": [
      "There was an error managing chromedriver (error sending request for url (https://googlechromelabs.github.io/chrome-for-testing/known-good-versions-with-downloads.json): error trying to connect: tcp connect error: Попытка установить соединение была безуспешной, т.к. от другого компьютера за требуемое время не получен нужный отклик, или было разорвано уже установленное соединение из-за неверного отклика уже подключенного компьютера. (os error 10060)); using driver found in the cache\n"
     ]
    },
    {
     "name": "stdout",
     "output_type": "stream",
     "text": [
      "https://smart-lab.ru/q/TATNP/f/q/MSFO/download/\n"
     ]
    },
    {
     "name": "stderr",
     "output_type": "stream",
     "text": [
      "There was an error managing chromedriver (error sending request for url (https://googlechromelabs.github.io/chrome-for-testing/known-good-versions-with-downloads.json): error trying to connect: tcp connect error: Попытка установить соединение была безуспешной, т.к. от другого компьютера за требуемое время не получен нужный отклик, или было разорвано уже установленное соединение из-за неверного отклика уже подключенного компьютера. (os error 10060)); using driver found in the cache\n"
     ]
    },
    {
     "name": "stdout",
     "output_type": "stream",
     "text": [
      "https://smart-lab.ru/q/TATNP/f/q/RSBU/download/\n"
     ]
    },
    {
     "name": "stderr",
     "output_type": "stream",
     "text": [
      "There was an error managing chromedriver (error sending request for url (https://googlechromelabs.github.io/chrome-for-testing/known-good-versions-with-downloads.json): error trying to connect: tcp connect error: Попытка установить соединение была безуспешной, т.к. от другого компьютера за требуемое время не получен нужный отклик, или было разорвано уже установленное соединение из-за неверного отклика уже подключенного компьютера. (os error 10060)); using driver found in the cache\n"
     ]
    },
    {
     "name": "stdout",
     "output_type": "stream",
     "text": [
      "https://smart-lab.ru/q/TCSG/f/y/MSFO/download/\n"
     ]
    },
    {
     "name": "stderr",
     "output_type": "stream",
     "text": [
      "There was an error managing chromedriver (error sending request for url (https://googlechromelabs.github.io/chrome-for-testing/known-good-versions-with-downloads.json): error trying to connect: tcp connect error: Попытка установить соединение была безуспешной, т.к. от другого компьютера за требуемое время не получен нужный отклик, или было разорвано уже установленное соединение из-за неверного отклика уже подключенного компьютера. (os error 10060)); using driver found in the cache\n"
     ]
    },
    {
     "name": "stdout",
     "output_type": "stream",
     "text": [
      "https://smart-lab.ru/q/TCSG/f/y/RSBU/download/\n"
     ]
    },
    {
     "name": "stderr",
     "output_type": "stream",
     "text": [
      "There was an error managing chromedriver (error sending request for url (https://googlechromelabs.github.io/chrome-for-testing/known-good-versions-with-downloads.json): error trying to connect: tcp connect error: Попытка установить соединение была безуспешной, т.к. от другого компьютера за требуемое время не получен нужный отклик, или было разорвано уже установленное соединение из-за неверного отклика уже подключенного компьютера. (os error 10060)); using driver found in the cache\n"
     ]
    },
    {
     "name": "stdout",
     "output_type": "stream",
     "text": [
      "https://smart-lab.ru/q/TCSG/f/q/MSFO/download/\n"
     ]
    },
    {
     "name": "stderr",
     "output_type": "stream",
     "text": [
      "There was an error managing chromedriver (error sending request for url (https://googlechromelabs.github.io/chrome-for-testing/known-good-versions-with-downloads.json): error trying to connect: tcp connect error: Попытка установить соединение была безуспешной, т.к. от другого компьютера за требуемое время не получен нужный отклик, или было разорвано уже установленное соединение из-за неверного отклика уже подключенного компьютера. (os error 10060)); using driver found in the cache\n"
     ]
    },
    {
     "name": "stdout",
     "output_type": "stream",
     "text": [
      "https://smart-lab.ru/q/TCSG/f/q/RSBU/download/\n"
     ]
    },
    {
     "name": "stderr",
     "output_type": "stream",
     "text": [
      "There was an error managing chromedriver (error sending request for url (https://googlechromelabs.github.io/chrome-for-testing/known-good-versions-with-downloads.json): error trying to connect: tcp connect error: Попытка установить соединение была безуспешной, т.к. от другого компьютера за требуемое время не получен нужный отклик, или было разорвано уже установленное соединение из-за неверного отклика уже подключенного компьютера. (os error 10060)); using driver found in the cache\n"
     ]
    },
    {
     "name": "stdout",
     "output_type": "stream",
     "text": [
      "https://smart-lab.ru/q/TGKA/f/y/MSFO/download/\n"
     ]
    },
    {
     "name": "stderr",
     "output_type": "stream",
     "text": [
      "There was an error managing chromedriver (error sending request for url (https://googlechromelabs.github.io/chrome-for-testing/known-good-versions-with-downloads.json): error trying to connect: tcp connect error: Попытка установить соединение была безуспешной, т.к. от другого компьютера за требуемое время не получен нужный отклик, или было разорвано уже установленное соединение из-за неверного отклика уже подключенного компьютера. (os error 10060)); using driver found in the cache\n"
     ]
    },
    {
     "name": "stdout",
     "output_type": "stream",
     "text": [
      "https://smart-lab.ru/q/TGKA/f/y/RSBU/download/\n"
     ]
    },
    {
     "name": "stderr",
     "output_type": "stream",
     "text": [
      "There was an error managing chromedriver (error sending request for url (https://googlechromelabs.github.io/chrome-for-testing/known-good-versions-with-downloads.json): error trying to connect: tcp connect error: Попытка установить соединение была безуспешной, т.к. от другого компьютера за требуемое время не получен нужный отклик, или было разорвано уже установленное соединение из-за неверного отклика уже подключенного компьютера. (os error 10060)); using driver found in the cache\n"
     ]
    },
    {
     "name": "stdout",
     "output_type": "stream",
     "text": [
      "https://smart-lab.ru/q/TGKA/f/q/MSFO/download/\n"
     ]
    },
    {
     "name": "stderr",
     "output_type": "stream",
     "text": [
      "There was an error managing chromedriver (error sending request for url (https://googlechromelabs.github.io/chrome-for-testing/known-good-versions-with-downloads.json): error trying to connect: tcp connect error: Попытка установить соединение была безуспешной, т.к. от другого компьютера за требуемое время не получен нужный отклик, или было разорвано уже установленное соединение из-за неверного отклика уже подключенного компьютера. (os error 10060)); using driver found in the cache\n"
     ]
    },
    {
     "name": "stdout",
     "output_type": "stream",
     "text": [
      "https://smart-lab.ru/q/TGKA/f/q/RSBU/download/\n"
     ]
    },
    {
     "name": "stderr",
     "output_type": "stream",
     "text": [
      "There was an error managing chromedriver (error sending request for url (https://googlechromelabs.github.io/chrome-for-testing/known-good-versions-with-downloads.json): error trying to connect: tcp connect error: Попытка установить соединение была безуспешной, т.к. от другого компьютера за требуемое время не получен нужный отклик, или было разорвано уже установленное соединение из-за неверного отклика уже подключенного компьютера. (os error 10060)); using driver found in the cache\n"
     ]
    },
    {
     "name": "stdout",
     "output_type": "stream",
     "text": [
      "https://smart-lab.ru/q/TGKB/f/y/MSFO/download/\n"
     ]
    },
    {
     "name": "stderr",
     "output_type": "stream",
     "text": [
      "There was an error managing chromedriver (error sending request for url (https://googlechromelabs.github.io/chrome-for-testing/known-good-versions-with-downloads.json): error trying to connect: tcp connect error: Попытка установить соединение была безуспешной, т.к. от другого компьютера за требуемое время не получен нужный отклик, или было разорвано уже установленное соединение из-за неверного отклика уже подключенного компьютера. (os error 10060)); using driver found in the cache\n"
     ]
    },
    {
     "name": "stdout",
     "output_type": "stream",
     "text": [
      "https://smart-lab.ru/q/TGKB/f/y/RSBU/download/\n"
     ]
    },
    {
     "name": "stderr",
     "output_type": "stream",
     "text": [
      "There was an error managing chromedriver (error sending request for url (https://googlechromelabs.github.io/chrome-for-testing/known-good-versions-with-downloads.json): error trying to connect: tcp connect error: Попытка установить соединение была безуспешной, т.к. от другого компьютера за требуемое время не получен нужный отклик, или было разорвано уже установленное соединение из-за неверного отклика уже подключенного компьютера. (os error 10060)); using driver found in the cache\n"
     ]
    },
    {
     "name": "stdout",
     "output_type": "stream",
     "text": [
      "https://smart-lab.ru/q/TGKB/f/q/MSFO/download/\n"
     ]
    },
    {
     "name": "stderr",
     "output_type": "stream",
     "text": [
      "There was an error managing chromedriver (error sending request for url (https://googlechromelabs.github.io/chrome-for-testing/known-good-versions-with-downloads.json): error trying to connect: tcp connect error: Попытка установить соединение была безуспешной, т.к. от другого компьютера за требуемое время не получен нужный отклик, или было разорвано уже установленное соединение из-за неверного отклика уже подключенного компьютера. (os error 10060)); using driver found in the cache\n"
     ]
    },
    {
     "name": "stdout",
     "output_type": "stream",
     "text": [
      "https://smart-lab.ru/q/TGKB/f/q/RSBU/download/\n"
     ]
    },
    {
     "name": "stderr",
     "output_type": "stream",
     "text": [
      "There was an error managing chromedriver (error sending request for url (https://googlechromelabs.github.io/chrome-for-testing/known-good-versions-with-downloads.json): error trying to connect: tcp connect error: Попытка установить соединение была безуспешной, т.к. от другого компьютера за требуемое время не получен нужный отклик, или было разорвано уже установленное соединение из-за неверного отклика уже подключенного компьютера. (os error 10060)); using driver found in the cache\n"
     ]
    },
    {
     "name": "stdout",
     "output_type": "stream",
     "text": [
      "https://smart-lab.ru/q/TGKBP/f/y/MSFO/download/\n"
     ]
    },
    {
     "name": "stderr",
     "output_type": "stream",
     "text": [
      "There was an error managing chromedriver (error sending request for url (https://googlechromelabs.github.io/chrome-for-testing/known-good-versions-with-downloads.json): error trying to connect: tcp connect error: Попытка установить соединение была безуспешной, т.к. от другого компьютера за требуемое время не получен нужный отклик, или было разорвано уже установленное соединение из-за неверного отклика уже подключенного компьютера. (os error 10060)); using driver found in the cache\n"
     ]
    },
    {
     "name": "stdout",
     "output_type": "stream",
     "text": [
      "https://smart-lab.ru/q/TGKBP/f/y/RSBU/download/\n"
     ]
    },
    {
     "name": "stderr",
     "output_type": "stream",
     "text": [
      "There was an error managing chromedriver (error sending request for url (https://googlechromelabs.github.io/chrome-for-testing/known-good-versions-with-downloads.json): error trying to connect: tcp connect error: Попытка установить соединение была безуспешной, т.к. от другого компьютера за требуемое время не получен нужный отклик, или было разорвано уже установленное соединение из-за неверного отклика уже подключенного компьютера. (os error 10060)); using driver found in the cache\n"
     ]
    },
    {
     "name": "stdout",
     "output_type": "stream",
     "text": [
      "https://smart-lab.ru/q/TGKBP/f/q/MSFO/download/\n"
     ]
    },
    {
     "name": "stderr",
     "output_type": "stream",
     "text": [
      "There was an error managing chromedriver (error sending request for url (https://googlechromelabs.github.io/chrome-for-testing/known-good-versions-with-downloads.json): error trying to connect: tcp connect error: Попытка установить соединение была безуспешной, т.к. от другого компьютера за требуемое время не получен нужный отклик, или было разорвано уже установленное соединение из-за неверного отклика уже подключенного компьютера. (os error 10060)); using driver found in the cache\n"
     ]
    },
    {
     "name": "stdout",
     "output_type": "stream",
     "text": [
      "https://smart-lab.ru/q/TGKBP/f/q/RSBU/download/\n"
     ]
    },
    {
     "name": "stderr",
     "output_type": "stream",
     "text": [
      "There was an error managing chromedriver (error sending request for url (https://googlechromelabs.github.io/chrome-for-testing/known-good-versions-with-downloads.json): error trying to connect: tcp connect error: Попытка установить соединение была безуспешной, т.к. от другого компьютера за требуемое время не получен нужный отклик, или было разорвано уже установленное соединение из-за неверного отклика уже подключенного компьютера. (os error 10060)); using driver found in the cache\n"
     ]
    },
    {
     "name": "stdout",
     "output_type": "stream",
     "text": [
      "https://smart-lab.ru/q/TGKN/f/y/MSFO/download/\n"
     ]
    },
    {
     "name": "stderr",
     "output_type": "stream",
     "text": [
      "There was an error managing chromedriver (error sending request for url (https://googlechromelabs.github.io/chrome-for-testing/known-good-versions-with-downloads.json): error trying to connect: tcp connect error: Попытка установить соединение была безуспешной, т.к. от другого компьютера за требуемое время не получен нужный отклик, или было разорвано уже установленное соединение из-за неверного отклика уже подключенного компьютера. (os error 10060)); using driver found in the cache\n"
     ]
    },
    {
     "name": "stdout",
     "output_type": "stream",
     "text": [
      "https://smart-lab.ru/q/TGKN/f/y/RSBU/download/\n"
     ]
    },
    {
     "name": "stderr",
     "output_type": "stream",
     "text": [
      "There was an error managing chromedriver (error sending request for url (https://googlechromelabs.github.io/chrome-for-testing/known-good-versions-with-downloads.json): error trying to connect: tcp connect error: Попытка установить соединение была безуспешной, т.к. от другого компьютера за требуемое время не получен нужный отклик, или было разорвано уже установленное соединение из-за неверного отклика уже подключенного компьютера. (os error 10060)); using driver found in the cache\n"
     ]
    },
    {
     "name": "stdout",
     "output_type": "stream",
     "text": [
      "https://smart-lab.ru/q/TGKN/f/q/MSFO/download/\n"
     ]
    },
    {
     "name": "stderr",
     "output_type": "stream",
     "text": [
      "There was an error managing chromedriver (error sending request for url (https://googlechromelabs.github.io/chrome-for-testing/known-good-versions-with-downloads.json): error trying to connect: tcp connect error: Попытка установить соединение была безуспешной, т.к. от другого компьютера за требуемое время не получен нужный отклик, или было разорвано уже установленное соединение из-за неверного отклика уже подключенного компьютера. (os error 10060)); using driver found in the cache\n"
     ]
    },
    {
     "name": "stdout",
     "output_type": "stream",
     "text": [
      "https://smart-lab.ru/q/TGKN/f/q/RSBU/download/\n"
     ]
    },
    {
     "name": "stderr",
     "output_type": "stream",
     "text": [
      "There was an error managing chromedriver (error sending request for url (https://googlechromelabs.github.io/chrome-for-testing/known-good-versions-with-downloads.json): error trying to connect: tcp connect error: Попытка установить соединение была безуспешной, т.к. от другого компьютера за требуемое время не получен нужный отклик, или было разорвано уже установленное соединение из-за неверного отклика уже подключенного компьютера. (os error 10060)); using driver found in the cache\n"
     ]
    },
    {
     "name": "stdout",
     "output_type": "stream",
     "text": [
      "https://smart-lab.ru/q/TNSE/f/y/MSFO/download/\n"
     ]
    },
    {
     "name": "stderr",
     "output_type": "stream",
     "text": [
      "There was an error managing chromedriver (error sending request for url (https://googlechromelabs.github.io/chrome-for-testing/known-good-versions-with-downloads.json): error trying to connect: tcp connect error: Попытка установить соединение была безуспешной, т.к. от другого компьютера за требуемое время не получен нужный отклик, или было разорвано уже установленное соединение из-за неверного отклика уже подключенного компьютера. (os error 10060)); using driver found in the cache\n"
     ]
    },
    {
     "name": "stdout",
     "output_type": "stream",
     "text": [
      "https://smart-lab.ru/q/TNSE/f/y/RSBU/download/\n"
     ]
    },
    {
     "name": "stderr",
     "output_type": "stream",
     "text": [
      "There was an error managing chromedriver (error sending request for url (https://googlechromelabs.github.io/chrome-for-testing/known-good-versions-with-downloads.json): error trying to connect: tcp connect error: Попытка установить соединение была безуспешной, т.к. от другого компьютера за требуемое время не получен нужный отклик, или было разорвано уже установленное соединение из-за неверного отклика уже подключенного компьютера. (os error 10060)); using driver found in the cache\n"
     ]
    },
    {
     "name": "stdout",
     "output_type": "stream",
     "text": [
      "https://smart-lab.ru/q/TNSE/f/q/MSFO/download/\n"
     ]
    },
    {
     "name": "stderr",
     "output_type": "stream",
     "text": [
      "There was an error managing chromedriver (error sending request for url (https://googlechromelabs.github.io/chrome-for-testing/known-good-versions-with-downloads.json): error trying to connect: tcp connect error: Попытка установить соединение была безуспешной, т.к. от другого компьютера за требуемое время не получен нужный отклик, или было разорвано уже установленное соединение из-за неверного отклика уже подключенного компьютера. (os error 10060)); using driver found in the cache\n"
     ]
    },
    {
     "name": "stdout",
     "output_type": "stream",
     "text": [
      "https://smart-lab.ru/q/TNSE/f/q/RSBU/download/\n"
     ]
    },
    {
     "name": "stderr",
     "output_type": "stream",
     "text": [
      "There was an error managing chromedriver (error sending request for url (https://googlechromelabs.github.io/chrome-for-testing/known-good-versions-with-downloads.json): error trying to connect: tcp connect error: Попытка установить соединение была безуспешной, т.к. от другого компьютера за требуемое время не получен нужный отклик, или было разорвано уже установленное соединение из-за неверного отклика уже подключенного компьютера. (os error 10060)); using driver found in the cache\n"
     ]
    },
    {
     "name": "stdout",
     "output_type": "stream",
     "text": [
      "https://smart-lab.ru/q/TORS/f/y/MSFO/download/\n"
     ]
    },
    {
     "name": "stderr",
     "output_type": "stream",
     "text": [
      "There was an error managing chromedriver (error sending request for url (https://googlechromelabs.github.io/chrome-for-testing/known-good-versions-with-downloads.json): error trying to connect: tcp connect error: Попытка установить соединение была безуспешной, т.к. от другого компьютера за требуемое время не получен нужный отклик, или было разорвано уже установленное соединение из-за неверного отклика уже подключенного компьютера. (os error 10060)); using driver found in the cache\n"
     ]
    },
    {
     "name": "stdout",
     "output_type": "stream",
     "text": [
      "https://smart-lab.ru/q/TORS/f/y/RSBU/download/\n"
     ]
    },
    {
     "name": "stderr",
     "output_type": "stream",
     "text": [
      "There was an error managing chromedriver (error sending request for url (https://googlechromelabs.github.io/chrome-for-testing/known-good-versions-with-downloads.json): error trying to connect: tcp connect error: Попытка установить соединение была безуспешной, т.к. от другого компьютера за требуемое время не получен нужный отклик, или было разорвано уже установленное соединение из-за неверного отклика уже подключенного компьютера. (os error 10060)); using driver found in the cache\n"
     ]
    },
    {
     "name": "stdout",
     "output_type": "stream",
     "text": [
      "https://smart-lab.ru/q/TORS/f/q/MSFO/download/\n"
     ]
    },
    {
     "name": "stderr",
     "output_type": "stream",
     "text": [
      "There was an error managing chromedriver (error sending request for url (https://googlechromelabs.github.io/chrome-for-testing/known-good-versions-with-downloads.json): error trying to connect: tcp connect error: Попытка установить соединение была безуспешной, т.к. от другого компьютера за требуемое время не получен нужный отклик, или было разорвано уже установленное соединение из-за неверного отклика уже подключенного компьютера. (os error 10060)); using driver found in the cache\n"
     ]
    },
    {
     "name": "stdout",
     "output_type": "stream",
     "text": [
      "https://smart-lab.ru/q/TORS/f/q/RSBU/download/\n"
     ]
    },
    {
     "name": "stderr",
     "output_type": "stream",
     "text": [
      "There was an error managing chromedriver (error sending request for url (https://googlechromelabs.github.io/chrome-for-testing/known-good-versions-with-downloads.json): error trying to connect: tcp connect error: Попытка установить соединение была безуспешной, т.к. от другого компьютера за требуемое время не получен нужный отклик, или было разорвано уже установленное соединение из-за неверного отклика уже подключенного компьютера. (os error 10060)); using driver found in the cache\n"
     ]
    },
    {
     "name": "stdout",
     "output_type": "stream",
     "text": [
      "https://smart-lab.ru/q/TORSP/f/y/MSFO/download/\n"
     ]
    },
    {
     "name": "stderr",
     "output_type": "stream",
     "text": [
      "There was an error managing chromedriver (error sending request for url (https://googlechromelabs.github.io/chrome-for-testing/known-good-versions-with-downloads.json): error trying to connect: tcp connect error: Попытка установить соединение была безуспешной, т.к. от другого компьютера за требуемое время не получен нужный отклик, или было разорвано уже установленное соединение из-за неверного отклика уже подключенного компьютера. (os error 10060)); using driver found in the cache\n"
     ]
    },
    {
     "name": "stdout",
     "output_type": "stream",
     "text": [
      "https://smart-lab.ru/q/TORSP/f/y/RSBU/download/\n"
     ]
    },
    {
     "name": "stderr",
     "output_type": "stream",
     "text": [
      "There was an error managing chromedriver (error sending request for url (https://googlechromelabs.github.io/chrome-for-testing/known-good-versions-with-downloads.json): error trying to connect: tcp connect error: Попытка установить соединение была безуспешной, т.к. от другого компьютера за требуемое время не получен нужный отклик, или было разорвано уже установленное соединение из-за неверного отклика уже подключенного компьютера. (os error 10060)); using driver found in the cache\n"
     ]
    },
    {
     "name": "stdout",
     "output_type": "stream",
     "text": [
      "https://smart-lab.ru/q/TORSP/f/q/MSFO/download/\n"
     ]
    },
    {
     "name": "stderr",
     "output_type": "stream",
     "text": [
      "There was an error managing chromedriver (error sending request for url (https://googlechromelabs.github.io/chrome-for-testing/known-good-versions-with-downloads.json): error trying to connect: tcp connect error: Попытка установить соединение была безуспешной, т.к. от другого компьютера за требуемое время не получен нужный отклик, или было разорвано уже установленное соединение из-за неверного отклика уже подключенного компьютера. (os error 10060)); using driver found in the cache\n"
     ]
    },
    {
     "name": "stdout",
     "output_type": "stream",
     "text": [
      "https://smart-lab.ru/q/TORSP/f/q/RSBU/download/\n"
     ]
    },
    {
     "name": "stderr",
     "output_type": "stream",
     "text": [
      "There was an error managing chromedriver (error sending request for url (https://googlechromelabs.github.io/chrome-for-testing/known-good-versions-with-downloads.json): error trying to connect: tcp connect error: Попытка установить соединение была безуспешной, т.к. от другого компьютера за требуемое время не получен нужный отклик, или было разорвано уже установленное соединение из-за неверного отклика уже подключенного компьютера. (os error 10060)); using driver found in the cache\n"
     ]
    },
    {
     "name": "stdout",
     "output_type": "stream",
     "text": [
      "https://smart-lab.ru/q/TRNFP/f/y/MSFO/download/\n"
     ]
    },
    {
     "name": "stderr",
     "output_type": "stream",
     "text": [
      "There was an error managing chromedriver (error sending request for url (https://googlechromelabs.github.io/chrome-for-testing/known-good-versions-with-downloads.json): error trying to connect: tcp connect error: Попытка установить соединение была безуспешной, т.к. от другого компьютера за требуемое время не получен нужный отклик, или было разорвано уже установленное соединение из-за неверного отклика уже подключенного компьютера. (os error 10060)); using driver found in the cache\n"
     ]
    },
    {
     "name": "stdout",
     "output_type": "stream",
     "text": [
      "https://smart-lab.ru/q/TRNFP/f/y/RSBU/download/\n"
     ]
    },
    {
     "name": "stderr",
     "output_type": "stream",
     "text": [
      "There was an error managing chromedriver (error sending request for url (https://googlechromelabs.github.io/chrome-for-testing/known-good-versions-with-downloads.json): error trying to connect: tcp connect error: Попытка установить соединение была безуспешной, т.к. от другого компьютера за требуемое время не получен нужный отклик, или было разорвано уже установленное соединение из-за неверного отклика уже подключенного компьютера. (os error 10060)); using driver found in the cache\n"
     ]
    },
    {
     "name": "stdout",
     "output_type": "stream",
     "text": [
      "https://smart-lab.ru/q/TRNFP/f/q/MSFO/download/\n"
     ]
    },
    {
     "name": "stderr",
     "output_type": "stream",
     "text": [
      "There was an error managing chromedriver (error sending request for url (https://googlechromelabs.github.io/chrome-for-testing/known-good-versions-with-downloads.json): error trying to connect: tcp connect error: Попытка установить соединение была безуспешной, т.к. от другого компьютера за требуемое время не получен нужный отклик, или было разорвано уже установленное соединение из-за неверного отклика уже подключенного компьютера. (os error 10060)); using driver found in the cache\n"
     ]
    },
    {
     "name": "stdout",
     "output_type": "stream",
     "text": [
      "https://smart-lab.ru/q/TRNFP/f/q/RSBU/download/\n"
     ]
    },
    {
     "name": "stderr",
     "output_type": "stream",
     "text": [
      "There was an error managing chromedriver (error sending request for url (https://googlechromelabs.github.io/chrome-for-testing/known-good-versions-with-downloads.json): error trying to connect: tcp connect error: Попытка установить соединение была безуспешной, т.к. от другого компьютера за требуемое время не получен нужный отклик, или было разорвано уже установленное соединение из-за неверного отклика уже подключенного компьютера. (os error 10060)); using driver found in the cache\n"
     ]
    },
    {
     "name": "stdout",
     "output_type": "stream",
     "text": [
      "https://smart-lab.ru/q/TTLK/f/y/MSFO/download/\n"
     ]
    },
    {
     "name": "stderr",
     "output_type": "stream",
     "text": [
      "There was an error managing chromedriver (error sending request for url (https://googlechromelabs.github.io/chrome-for-testing/known-good-versions-with-downloads.json): error trying to connect: tcp connect error: Попытка установить соединение была безуспешной, т.к. от другого компьютера за требуемое время не получен нужный отклик, или было разорвано уже установленное соединение из-за неверного отклика уже подключенного компьютера. (os error 10060)); using driver found in the cache\n"
     ]
    },
    {
     "name": "stdout",
     "output_type": "stream",
     "text": [
      "https://smart-lab.ru/q/TTLK/f/y/RSBU/download/\n"
     ]
    },
    {
     "name": "stderr",
     "output_type": "stream",
     "text": [
      "There was an error managing chromedriver (error sending request for url (https://googlechromelabs.github.io/chrome-for-testing/known-good-versions-with-downloads.json): error trying to connect: tcp connect error: Попытка установить соединение была безуспешной, т.к. от другого компьютера за требуемое время не получен нужный отклик, или было разорвано уже установленное соединение из-за неверного отклика уже подключенного компьютера. (os error 10060)); using driver found in the cache\n"
     ]
    },
    {
     "name": "stdout",
     "output_type": "stream",
     "text": [
      "https://smart-lab.ru/q/TTLK/f/q/MSFO/download/\n"
     ]
    },
    {
     "name": "stderr",
     "output_type": "stream",
     "text": [
      "There was an error managing chromedriver (error sending request for url (https://googlechromelabs.github.io/chrome-for-testing/known-good-versions-with-downloads.json): error trying to connect: tcp connect error: Попытка установить соединение была безуспешной, т.к. от другого компьютера за требуемое время не получен нужный отклик, или было разорвано уже установленное соединение из-за неверного отклика уже подключенного компьютера. (os error 10060)); using driver found in the cache\n"
     ]
    },
    {
     "name": "stdout",
     "output_type": "stream",
     "text": [
      "https://smart-lab.ru/q/TTLK/f/q/RSBU/download/\n"
     ]
    },
    {
     "name": "stderr",
     "output_type": "stream",
     "text": [
      "There was an error managing chromedriver (error sending request for url (https://googlechromelabs.github.io/chrome-for-testing/known-good-versions-with-downloads.json): error trying to connect: tcp connect error: Попытка установить соединение была безуспешной, т.к. от другого компьютера за требуемое время не получен нужный отклик, или было разорвано уже установленное соединение из-за неверного отклика уже подключенного компьютера. (os error 10060)); using driver found in the cache\n"
     ]
    },
    {
     "name": "stdout",
     "output_type": "stream",
     "text": [
      "https://smart-lab.ru/q/TUZA/f/y/MSFO/download/\n"
     ]
    },
    {
     "name": "stderr",
     "output_type": "stream",
     "text": [
      "There was an error managing chromedriver (error sending request for url (https://googlechromelabs.github.io/chrome-for-testing/known-good-versions-with-downloads.json): error trying to connect: tcp connect error: Попытка установить соединение была безуспешной, т.к. от другого компьютера за требуемое время не получен нужный отклик, или было разорвано уже установленное соединение из-за неверного отклика уже подключенного компьютера. (os error 10060)); using driver found in the cache\n"
     ]
    },
    {
     "name": "stdout",
     "output_type": "stream",
     "text": [
      "https://smart-lab.ru/q/TUZA/f/y/RSBU/download/\n"
     ]
    },
    {
     "name": "stderr",
     "output_type": "stream",
     "text": [
      "There was an error managing chromedriver (error sending request for url (https://googlechromelabs.github.io/chrome-for-testing/known-good-versions-with-downloads.json): error trying to connect: tcp connect error: Попытка установить соединение была безуспешной, т.к. от другого компьютера за требуемое время не получен нужный отклик, или было разорвано уже установленное соединение из-за неверного отклика уже подключенного компьютера. (os error 10060)); using driver found in the cache\n"
     ]
    },
    {
     "name": "stdout",
     "output_type": "stream",
     "text": [
      "https://smart-lab.ru/q/TUZA/f/q/MSFO/download/\n"
     ]
    },
    {
     "name": "stderr",
     "output_type": "stream",
     "text": [
      "There was an error managing chromedriver (error sending request for url (https://googlechromelabs.github.io/chrome-for-testing/known-good-versions-with-downloads.json): error trying to connect: tcp connect error: Попытка установить соединение была безуспешной, т.к. от другого компьютера за требуемое время не получен нужный отклик, или было разорвано уже установленное соединение из-за неверного отклика уже подключенного компьютера. (os error 10060)); using driver found in the cache\n"
     ]
    },
    {
     "name": "stdout",
     "output_type": "stream",
     "text": [
      "https://smart-lab.ru/q/TUZA/f/q/RSBU/download/\n"
     ]
    },
    {
     "name": "stderr",
     "output_type": "stream",
     "text": [
      "There was an error managing chromedriver (error sending request for url (https://googlechromelabs.github.io/chrome-for-testing/known-good-versions-with-downloads.json): error trying to connect: tcp connect error: Попытка установить соединение была безуспешной, т.к. от другого компьютера за требуемое время не получен нужный отклик, или было разорвано уже установленное соединение из-за неверного отклика уже подключенного компьютера. (os error 10060)); using driver found in the cache\n"
     ]
    },
    {
     "name": "stdout",
     "output_type": "stream",
     "text": [
      "https://smart-lab.ru/q/UCSS/f/y/MSFO/download/\n"
     ]
    },
    {
     "name": "stderr",
     "output_type": "stream",
     "text": [
      "There was an error managing chromedriver (error sending request for url (https://googlechromelabs.github.io/chrome-for-testing/known-good-versions-with-downloads.json): error trying to connect: tcp connect error: Попытка установить соединение была безуспешной, т.к. от другого компьютера за требуемое время не получен нужный отклик, или было разорвано уже установленное соединение из-за неверного отклика уже подключенного компьютера. (os error 10060)); using driver found in the cache\n"
     ]
    },
    {
     "name": "stdout",
     "output_type": "stream",
     "text": [
      "https://smart-lab.ru/q/UCSS/f/y/RSBU/download/\n"
     ]
    },
    {
     "name": "stderr",
     "output_type": "stream",
     "text": [
      "There was an error managing chromedriver (error sending request for url (https://googlechromelabs.github.io/chrome-for-testing/known-good-versions-with-downloads.json): error trying to connect: tcp connect error: Попытка установить соединение была безуспешной, т.к. от другого компьютера за требуемое время не получен нужный отклик, или было разорвано уже установленное соединение из-за неверного отклика уже подключенного компьютера. (os error 10060)); using driver found in the cache\n"
     ]
    },
    {
     "name": "stdout",
     "output_type": "stream",
     "text": [
      "https://smart-lab.ru/q/UCSS/f/q/MSFO/download/\n"
     ]
    },
    {
     "name": "stderr",
     "output_type": "stream",
     "text": [
      "There was an error managing chromedriver (error sending request for url (https://googlechromelabs.github.io/chrome-for-testing/known-good-versions-with-downloads.json): error trying to connect: tcp connect error: Попытка установить соединение была безуспешной, т.к. от другого компьютера за требуемое время не получен нужный отклик, или было разорвано уже установленное соединение из-за неверного отклика уже подключенного компьютера. (os error 10060)); using driver found in the cache\n"
     ]
    },
    {
     "name": "stdout",
     "output_type": "stream",
     "text": [
      "https://smart-lab.ru/q/UCSS/f/q/RSBU/download/\n"
     ]
    },
    {
     "name": "stderr",
     "output_type": "stream",
     "text": [
      "There was an error managing chromedriver (error sending request for url (https://googlechromelabs.github.io/chrome-for-testing/known-good-versions-with-downloads.json): error trying to connect: tcp connect error: Попытка установить соединение была безуспешной, т.к. от другого компьютера за требуемое время не получен нужный отклик, или было разорвано уже установленное соединение из-за неверного отклика уже подключенного компьютера. (os error 10060)); using driver found in the cache\n"
     ]
    },
    {
     "name": "stdout",
     "output_type": "stream",
     "text": [
      "https://smart-lab.ru/q/UGLD/f/y/MSFO/download/\n"
     ]
    },
    {
     "name": "stderr",
     "output_type": "stream",
     "text": [
      "There was an error managing chromedriver (error sending request for url (https://googlechromelabs.github.io/chrome-for-testing/known-good-versions-with-downloads.json): error trying to connect: tcp connect error: Попытка установить соединение была безуспешной, т.к. от другого компьютера за требуемое время не получен нужный отклик, или было разорвано уже установленное соединение из-за неверного отклика уже подключенного компьютера. (os error 10060)); using driver found in the cache\n"
     ]
    },
    {
     "name": "stdout",
     "output_type": "stream",
     "text": [
      "https://smart-lab.ru/q/UGLD/f/y/RSBU/download/\n"
     ]
    },
    {
     "name": "stderr",
     "output_type": "stream",
     "text": [
      "There was an error managing chromedriver (error sending request for url (https://googlechromelabs.github.io/chrome-for-testing/known-good-versions-with-downloads.json): error trying to connect: tcp connect error: Попытка установить соединение была безуспешной, т.к. от другого компьютера за требуемое время не получен нужный отклик, или было разорвано уже установленное соединение из-за неверного отклика уже подключенного компьютера. (os error 10060)); using driver found in the cache\n"
     ]
    },
    {
     "name": "stdout",
     "output_type": "stream",
     "text": [
      "https://smart-lab.ru/q/UGLD/f/q/MSFO/download/\n"
     ]
    },
    {
     "name": "stderr",
     "output_type": "stream",
     "text": [
      "There was an error managing chromedriver (error sending request for url (https://googlechromelabs.github.io/chrome-for-testing/known-good-versions-with-downloads.json): error trying to connect: tcp connect error: Попытка установить соединение была безуспешной, т.к. от другого компьютера за требуемое время не получен нужный отклик, или было разорвано уже установленное соединение из-за неверного отклика уже подключенного компьютера. (os error 10060)); using driver found in the cache\n"
     ]
    },
    {
     "name": "stdout",
     "output_type": "stream",
     "text": [
      "https://smart-lab.ru/q/UGLD/f/q/RSBU/download/\n"
     ]
    },
    {
     "name": "stderr",
     "output_type": "stream",
     "text": [
      "There was an error managing chromedriver (error sending request for url (https://googlechromelabs.github.io/chrome-for-testing/known-good-versions-with-downloads.json): error trying to connect: tcp connect error: Попытка установить соединение была безуспешной, т.к. от другого компьютера за требуемое время не получен нужный отклик, или было разорвано уже установленное соединение из-за неверного отклика уже подключенного компьютера. (os error 10060)); using driver found in the cache\n"
     ]
    },
    {
     "name": "stdout",
     "output_type": "stream",
     "text": [
      "https://smart-lab.ru/q/UKUZ/f/y/MSFO/download/\n"
     ]
    },
    {
     "name": "stderr",
     "output_type": "stream",
     "text": [
      "There was an error managing chromedriver (error sending request for url (https://googlechromelabs.github.io/chrome-for-testing/known-good-versions-with-downloads.json): error trying to connect: tcp connect error: Попытка установить соединение была безуспешной, т.к. от другого компьютера за требуемое время не получен нужный отклик, или было разорвано уже установленное соединение из-за неверного отклика уже подключенного компьютера. (os error 10060)); using driver found in the cache\n"
     ]
    },
    {
     "name": "stdout",
     "output_type": "stream",
     "text": [
      "https://smart-lab.ru/q/UKUZ/f/y/RSBU/download/\n"
     ]
    },
    {
     "name": "stderr",
     "output_type": "stream",
     "text": [
      "There was an error managing chromedriver (error sending request for url (https://googlechromelabs.github.io/chrome-for-testing/known-good-versions-with-downloads.json): error trying to connect: tcp connect error: Попытка установить соединение была безуспешной, т.к. от другого компьютера за требуемое время не получен нужный отклик, или было разорвано уже установленное соединение из-за неверного отклика уже подключенного компьютера. (os error 10060)); using driver found in the cache\n"
     ]
    },
    {
     "name": "stdout",
     "output_type": "stream",
     "text": [
      "https://smart-lab.ru/q/UKUZ/f/q/MSFO/download/\n"
     ]
    },
    {
     "name": "stderr",
     "output_type": "stream",
     "text": [
      "There was an error managing chromedriver (error sending request for url (https://googlechromelabs.github.io/chrome-for-testing/known-good-versions-with-downloads.json): error trying to connect: tcp connect error: Попытка установить соединение была безуспешной, т.к. от другого компьютера за требуемое время не получен нужный отклик, или было разорвано уже установленное соединение из-за неверного отклика уже подключенного компьютера. (os error 10060)); using driver found in the cache\n"
     ]
    },
    {
     "name": "stdout",
     "output_type": "stream",
     "text": [
      "https://smart-lab.ru/q/UKUZ/f/q/RSBU/download/\n"
     ]
    },
    {
     "name": "stderr",
     "output_type": "stream",
     "text": [
      "There was an error managing chromedriver (error sending request for url (https://googlechromelabs.github.io/chrome-for-testing/known-good-versions-with-downloads.json): error trying to connect: tcp connect error: Попытка установить соединение была безуспешной, т.к. от другого компьютера за требуемое время не получен нужный отклик, или было разорвано уже установленное соединение из-за неверного отклика уже подключенного компьютера. (os error 10060)); using driver found in the cache\n"
     ]
    },
    {
     "name": "stdout",
     "output_type": "stream",
     "text": [
      "https://smart-lab.ru/q/UNAC/f/y/MSFO/download/\n"
     ]
    },
    {
     "name": "stderr",
     "output_type": "stream",
     "text": [
      "There was an error managing chromedriver (error sending request for url (https://googlechromelabs.github.io/chrome-for-testing/known-good-versions-with-downloads.json): error trying to connect: tcp connect error: Попытка установить соединение была безуспешной, т.к. от другого компьютера за требуемое время не получен нужный отклик, или было разорвано уже установленное соединение из-за неверного отклика уже подключенного компьютера. (os error 10060)); using driver found in the cache\n"
     ]
    },
    {
     "name": "stdout",
     "output_type": "stream",
     "text": [
      "https://smart-lab.ru/q/UNAC/f/y/RSBU/download/\n"
     ]
    },
    {
     "name": "stderr",
     "output_type": "stream",
     "text": [
      "There was an error managing chromedriver (error sending request for url (https://googlechromelabs.github.io/chrome-for-testing/known-good-versions-with-downloads.json): error trying to connect: tcp connect error: Попытка установить соединение была безуспешной, т.к. от другого компьютера за требуемое время не получен нужный отклик, или было разорвано уже установленное соединение из-за неверного отклика уже подключенного компьютера. (os error 10060)); using driver found in the cache\n"
     ]
    },
    {
     "name": "stdout",
     "output_type": "stream",
     "text": [
      "https://smart-lab.ru/q/UNAC/f/q/MSFO/download/\n"
     ]
    },
    {
     "name": "stderr",
     "output_type": "stream",
     "text": [
      "There was an error managing chromedriver (error sending request for url (https://googlechromelabs.github.io/chrome-for-testing/known-good-versions-with-downloads.json): error trying to connect: tcp connect error: Попытка установить соединение была безуспешной, т.к. от другого компьютера за требуемое время не получен нужный отклик, или было разорвано уже установленное соединение из-за неверного отклика уже подключенного компьютера. (os error 10060)); using driver found in the cache\n"
     ]
    },
    {
     "name": "stdout",
     "output_type": "stream",
     "text": [
      "https://smart-lab.ru/q/UNAC/f/q/RSBU/download/\n"
     ]
    },
    {
     "name": "stderr",
     "output_type": "stream",
     "text": [
      "There was an error managing chromedriver (error sending request for url (https://googlechromelabs.github.io/chrome-for-testing/known-good-versions-with-downloads.json): error trying to connect: tcp connect error: Попытка установить соединение была безуспешной, т.к. от другого компьютера за требуемое время не получен нужный отклик, или было разорвано уже установленное соединение из-за неверного отклика уже подключенного компьютера. (os error 10060)); using driver found in the cache\n"
     ]
    },
    {
     "name": "stdout",
     "output_type": "stream",
     "text": [
      "https://smart-lab.ru/q/UNKL/f/y/MSFO/download/\n"
     ]
    },
    {
     "name": "stderr",
     "output_type": "stream",
     "text": [
      "There was an error managing chromedriver (error sending request for url (https://googlechromelabs.github.io/chrome-for-testing/known-good-versions-with-downloads.json): error trying to connect: tcp connect error: Попытка установить соединение была безуспешной, т.к. от другого компьютера за требуемое время не получен нужный отклик, или было разорвано уже установленное соединение из-за неверного отклика уже подключенного компьютера. (os error 10060)); using driver found in the cache\n"
     ]
    },
    {
     "name": "stdout",
     "output_type": "stream",
     "text": [
      "https://smart-lab.ru/q/UNKL/f/y/RSBU/download/\n"
     ]
    },
    {
     "name": "stderr",
     "output_type": "stream",
     "text": [
      "There was an error managing chromedriver (error sending request for url (https://googlechromelabs.github.io/chrome-for-testing/known-good-versions-with-downloads.json): error trying to connect: tcp connect error: Попытка установить соединение была безуспешной, т.к. от другого компьютера за требуемое время не получен нужный отклик, или было разорвано уже установленное соединение из-за неверного отклика уже подключенного компьютера. (os error 10060)); using driver found in the cache\n"
     ]
    },
    {
     "name": "stdout",
     "output_type": "stream",
     "text": [
      "https://smart-lab.ru/q/UNKL/f/q/MSFO/download/\n"
     ]
    },
    {
     "name": "stderr",
     "output_type": "stream",
     "text": [
      "There was an error managing chromedriver (error sending request for url (https://googlechromelabs.github.io/chrome-for-testing/known-good-versions-with-downloads.json): error trying to connect: tcp connect error: Попытка установить соединение была безуспешной, т.к. от другого компьютера за требуемое время не получен нужный отклик, или было разорвано уже установленное соединение из-за неверного отклика уже подключенного компьютера. (os error 10060)); using driver found in the cache\n"
     ]
    },
    {
     "name": "stdout",
     "output_type": "stream",
     "text": [
      "https://smart-lab.ru/q/UNKL/f/q/RSBU/download/\n"
     ]
    },
    {
     "name": "stderr",
     "output_type": "stream",
     "text": [
      "There was an error managing chromedriver (error sending request for url (https://googlechromelabs.github.io/chrome-for-testing/known-good-versions-with-downloads.json): error trying to connect: tcp connect error: Попытка установить соединение была безуспешной, т.к. от другого компьютера за требуемое время не получен нужный отклик, или было разорвано уже установленное соединение из-за неверного отклика уже подключенного компьютера. (os error 10060)); using driver found in the cache\n"
     ]
    },
    {
     "name": "stdout",
     "output_type": "stream",
     "text": [
      "https://smart-lab.ru/q/URKZ/f/y/MSFO/download/\n"
     ]
    },
    {
     "name": "stderr",
     "output_type": "stream",
     "text": [
      "There was an error managing chromedriver (error sending request for url (https://googlechromelabs.github.io/chrome-for-testing/known-good-versions-with-downloads.json): error trying to connect: tcp connect error: Попытка установить соединение была безуспешной, т.к. от другого компьютера за требуемое время не получен нужный отклик, или было разорвано уже установленное соединение из-за неверного отклика уже подключенного компьютера. (os error 10060)); using driver found in the cache\n"
     ]
    },
    {
     "name": "stdout",
     "output_type": "stream",
     "text": [
      "https://smart-lab.ru/q/URKZ/f/y/RSBU/download/\n"
     ]
    },
    {
     "name": "stderr",
     "output_type": "stream",
     "text": [
      "There was an error managing chromedriver (error sending request for url (https://googlechromelabs.github.io/chrome-for-testing/known-good-versions-with-downloads.json): error trying to connect: tcp connect error: Попытка установить соединение была безуспешной, т.к. от другого компьютера за требуемое время не получен нужный отклик, или было разорвано уже установленное соединение из-за неверного отклика уже подключенного компьютера. (os error 10060)); using driver found in the cache\n"
     ]
    },
    {
     "name": "stdout",
     "output_type": "stream",
     "text": [
      "https://smart-lab.ru/q/URKZ/f/q/MSFO/download/\n"
     ]
    },
    {
     "name": "stderr",
     "output_type": "stream",
     "text": [
      "There was an error managing chromedriver (error sending request for url (https://googlechromelabs.github.io/chrome-for-testing/known-good-versions-with-downloads.json): error trying to connect: tcp connect error: Попытка установить соединение была безуспешной, т.к. от другого компьютера за требуемое время не получен нужный отклик, или было разорвано уже установленное соединение из-за неверного отклика уже подключенного компьютера. (os error 10060)); using driver found in the cache\n"
     ]
    },
    {
     "name": "stdout",
     "output_type": "stream",
     "text": [
      "https://smart-lab.ru/q/URKZ/f/q/RSBU/download/\n"
     ]
    },
    {
     "name": "stderr",
     "output_type": "stream",
     "text": [
      "There was an error managing chromedriver (error sending request for url (https://googlechromelabs.github.io/chrome-for-testing/known-good-versions-with-downloads.json): error trying to connect: tcp connect error: Попытка установить соединение была безуспешной, т.к. от другого компьютера за требуемое время не получен нужный отклик, или было разорвано уже установленное соединение из-за неверного отклика уже подключенного компьютера. (os error 10060)); using driver found in the cache\n"
     ]
    },
    {
     "name": "stdout",
     "output_type": "stream",
     "text": [
      "https://smart-lab.ru/q/USBN/f/y/MSFO/download/\n"
     ]
    },
    {
     "name": "stderr",
     "output_type": "stream",
     "text": [
      "There was an error managing chromedriver (error sending request for url (https://googlechromelabs.github.io/chrome-for-testing/known-good-versions-with-downloads.json): error trying to connect: tcp connect error: Попытка установить соединение была безуспешной, т.к. от другого компьютера за требуемое время не получен нужный отклик, или было разорвано уже установленное соединение из-за неверного отклика уже подключенного компьютера. (os error 10060)); using driver found in the cache\n"
     ]
    },
    {
     "name": "stdout",
     "output_type": "stream",
     "text": [
      "https://smart-lab.ru/q/USBN/f/y/RSBU/download/\n"
     ]
    },
    {
     "name": "stderr",
     "output_type": "stream",
     "text": [
      "There was an error managing chromedriver (error sending request for url (https://googlechromelabs.github.io/chrome-for-testing/known-good-versions-with-downloads.json): error trying to connect: tcp connect error: Попытка установить соединение была безуспешной, т.к. от другого компьютера за требуемое время не получен нужный отклик, или было разорвано уже установленное соединение из-за неверного отклика уже подключенного компьютера. (os error 10060)); using driver found in the cache\n"
     ]
    },
    {
     "name": "stdout",
     "output_type": "stream",
     "text": [
      "https://smart-lab.ru/q/USBN/f/q/MSFO/download/\n"
     ]
    },
    {
     "name": "stderr",
     "output_type": "stream",
     "text": [
      "There was an error managing chromedriver (error sending request for url (https://googlechromelabs.github.io/chrome-for-testing/known-good-versions-with-downloads.json): error trying to connect: tcp connect error: Попытка установить соединение была безуспешной, т.к. от другого компьютера за требуемое время не получен нужный отклик, или было разорвано уже установленное соединение из-за неверного отклика уже подключенного компьютера. (os error 10060)); using driver found in the cache\n"
     ]
    },
    {
     "name": "stdout",
     "output_type": "stream",
     "text": [
      "https://smart-lab.ru/q/USBN/f/q/RSBU/download/\n"
     ]
    },
    {
     "name": "stderr",
     "output_type": "stream",
     "text": [
      "There was an error managing chromedriver (error sending request for url (https://googlechromelabs.github.io/chrome-for-testing/known-good-versions-with-downloads.json): error trying to connect: tcp connect error: Попытка установить соединение была безуспешной, т.к. от другого компьютера за требуемое время не получен нужный отклик, или было разорвано уже установленное соединение из-за неверного отклика уже подключенного компьютера. (os error 10060)); using driver found in the cache\n"
     ]
    },
    {
     "name": "stdout",
     "output_type": "stream",
     "text": [
      "https://smart-lab.ru/q/UTAR/f/y/MSFO/download/\n"
     ]
    },
    {
     "name": "stderr",
     "output_type": "stream",
     "text": [
      "There was an error managing chromedriver (error sending request for url (https://googlechromelabs.github.io/chrome-for-testing/known-good-versions-with-downloads.json): error trying to connect: tcp connect error: Попытка установить соединение была безуспешной, т.к. от другого компьютера за требуемое время не получен нужный отклик, или было разорвано уже установленное соединение из-за неверного отклика уже подключенного компьютера. (os error 10060)); using driver found in the cache\n"
     ]
    },
    {
     "name": "stdout",
     "output_type": "stream",
     "text": [
      "https://smart-lab.ru/q/UTAR/f/y/RSBU/download/\n"
     ]
    },
    {
     "name": "stderr",
     "output_type": "stream",
     "text": [
      "There was an error managing chromedriver (error sending request for url (https://googlechromelabs.github.io/chrome-for-testing/known-good-versions-with-downloads.json): error trying to connect: tcp connect error: Попытка установить соединение была безуспешной, т.к. от другого компьютера за требуемое время не получен нужный отклик, или было разорвано уже установленное соединение из-за неверного отклика уже подключенного компьютера. (os error 10060)); using driver found in the cache\n"
     ]
    },
    {
     "name": "stdout",
     "output_type": "stream",
     "text": [
      "https://smart-lab.ru/q/UTAR/f/q/MSFO/download/\n"
     ]
    },
    {
     "name": "stderr",
     "output_type": "stream",
     "text": [
      "There was an error managing chromedriver (error sending request for url (https://googlechromelabs.github.io/chrome-for-testing/known-good-versions-with-downloads.json): error trying to connect: tcp connect error: Попытка установить соединение была безуспешной, т.к. от другого компьютера за требуемое время не получен нужный отклик, или было разорвано уже установленное соединение из-за неверного отклика уже подключенного компьютера. (os error 10060)); using driver found in the cache\n"
     ]
    },
    {
     "name": "stdout",
     "output_type": "stream",
     "text": [
      "https://smart-lab.ru/q/UTAR/f/q/RSBU/download/\n"
     ]
    },
    {
     "name": "stderr",
     "output_type": "stream",
     "text": [
      "There was an error managing chromedriver (error sending request for url (https://googlechromelabs.github.io/chrome-for-testing/known-good-versions-with-downloads.json): error trying to connect: tcp connect error: Попытка установить соединение была безуспешной, т.к. от другого компьютера за требуемое время не получен нужный отклик, или было разорвано уже установленное соединение из-за неверного отклика уже подключенного компьютера. (os error 10060)); using driver found in the cache\n"
     ]
    },
    {
     "name": "stdout",
     "output_type": "stream",
     "text": [
      "https://smart-lab.ru/q/UWGN/f/y/MSFO/download/\n"
     ]
    },
    {
     "name": "stderr",
     "output_type": "stream",
     "text": [
      "There was an error managing chromedriver (error sending request for url (https://googlechromelabs.github.io/chrome-for-testing/known-good-versions-with-downloads.json): error trying to connect: tcp connect error: Попытка установить соединение была безуспешной, т.к. от другого компьютера за требуемое время не получен нужный отклик, или было разорвано уже установленное соединение из-за неверного отклика уже подключенного компьютера. (os error 10060)); using driver found in the cache\n"
     ]
    },
    {
     "name": "stdout",
     "output_type": "stream",
     "text": [
      "https://smart-lab.ru/q/UWGN/f/y/RSBU/download/\n"
     ]
    },
    {
     "name": "stderr",
     "output_type": "stream",
     "text": [
      "There was an error managing chromedriver (error sending request for url (https://googlechromelabs.github.io/chrome-for-testing/known-good-versions-with-downloads.json): error trying to connect: tcp connect error: Попытка установить соединение была безуспешной, т.к. от другого компьютера за требуемое время не получен нужный отклик, или было разорвано уже установленное соединение из-за неверного отклика уже подключенного компьютера. (os error 10060)); using driver found in the cache\n"
     ]
    },
    {
     "name": "stdout",
     "output_type": "stream",
     "text": [
      "https://smart-lab.ru/q/UWGN/f/q/MSFO/download/\n"
     ]
    },
    {
     "name": "stderr",
     "output_type": "stream",
     "text": [
      "There was an error managing chromedriver (error sending request for url (https://googlechromelabs.github.io/chrome-for-testing/known-good-versions-with-downloads.json): error trying to connect: tcp connect error: Попытка установить соединение была безуспешной, т.к. от другого компьютера за требуемое время не получен нужный отклик, или было разорвано уже установленное соединение из-за неверного отклика уже подключенного компьютера. (os error 10060)); using driver found in the cache\n"
     ]
    },
    {
     "name": "stdout",
     "output_type": "stream",
     "text": [
      "https://smart-lab.ru/q/UWGN/f/q/RSBU/download/\n"
     ]
    },
    {
     "name": "stderr",
     "output_type": "stream",
     "text": [
      "There was an error managing chromedriver (error sending request for url (https://googlechromelabs.github.io/chrome-for-testing/known-good-versions-with-downloads.json): error trying to connect: tcp connect error: Попытка установить соединение была безуспешной, т.к. от другого компьютера за требуемое время не получен нужный отклик, или было разорвано уже установленное соединение из-за неверного отклика уже подключенного компьютера. (os error 10060)); using driver found in the cache\n"
     ]
    },
    {
     "name": "stdout",
     "output_type": "stream",
     "text": [
      "https://smart-lab.ru/q/VGSB/f/y/MSFO/download/\n"
     ]
    },
    {
     "name": "stderr",
     "output_type": "stream",
     "text": [
      "There was an error managing chromedriver (error sending request for url (https://googlechromelabs.github.io/chrome-for-testing/known-good-versions-with-downloads.json): error trying to connect: tcp connect error: Попытка установить соединение была безуспешной, т.к. от другого компьютера за требуемое время не получен нужный отклик, или было разорвано уже установленное соединение из-за неверного отклика уже подключенного компьютера. (os error 10060)); using driver found in the cache\n"
     ]
    },
    {
     "name": "stdout",
     "output_type": "stream",
     "text": [
      "https://smart-lab.ru/q/VGSB/f/y/RSBU/download/\n"
     ]
    },
    {
     "name": "stderr",
     "output_type": "stream",
     "text": [
      "There was an error managing chromedriver (error sending request for url (https://googlechromelabs.github.io/chrome-for-testing/known-good-versions-with-downloads.json): error trying to connect: tcp connect error: Попытка установить соединение была безуспешной, т.к. от другого компьютера за требуемое время не получен нужный отклик, или было разорвано уже установленное соединение из-за неверного отклика уже подключенного компьютера. (os error 10060)); using driver found in the cache\n"
     ]
    },
    {
     "name": "stdout",
     "output_type": "stream",
     "text": [
      "https://smart-lab.ru/q/VGSB/f/q/MSFO/download/\n"
     ]
    },
    {
     "name": "stderr",
     "output_type": "stream",
     "text": [
      "There was an error managing chromedriver (error sending request for url (https://googlechromelabs.github.io/chrome-for-testing/known-good-versions-with-downloads.json): error trying to connect: tcp connect error: Попытка установить соединение была безуспешной, т.к. от другого компьютера за требуемое время не получен нужный отклик, или было разорвано уже установленное соединение из-за неверного отклика уже подключенного компьютера. (os error 10060)); using driver found in the cache\n"
     ]
    },
    {
     "name": "stdout",
     "output_type": "stream",
     "text": [
      "https://smart-lab.ru/q/VGSB/f/q/RSBU/download/\n"
     ]
    },
    {
     "name": "stderr",
     "output_type": "stream",
     "text": [
      "There was an error managing chromedriver (error sending request for url (https://googlechromelabs.github.io/chrome-for-testing/known-good-versions-with-downloads.json): error trying to connect: tcp connect error: Попытка установить соединение была безуспешной, т.к. от другого компьютера за требуемое время не получен нужный отклик, или было разорвано уже установленное соединение из-за неверного отклика уже подключенного компьютера. (os error 10060)); using driver found in the cache\n"
     ]
    },
    {
     "name": "stdout",
     "output_type": "stream",
     "text": [
      "https://smart-lab.ru/q/VGSBP/f/y/MSFO/download/\n"
     ]
    },
    {
     "name": "stderr",
     "output_type": "stream",
     "text": [
      "There was an error managing chromedriver (error sending request for url (https://googlechromelabs.github.io/chrome-for-testing/known-good-versions-with-downloads.json): error trying to connect: tcp connect error: Попытка установить соединение была безуспешной, т.к. от другого компьютера за требуемое время не получен нужный отклик, или было разорвано уже установленное соединение из-за неверного отклика уже подключенного компьютера. (os error 10060)); using driver found in the cache\n"
     ]
    },
    {
     "name": "stdout",
     "output_type": "stream",
     "text": [
      "https://smart-lab.ru/q/VGSBP/f/y/RSBU/download/\n"
     ]
    },
    {
     "name": "stderr",
     "output_type": "stream",
     "text": [
      "There was an error managing chromedriver (error sending request for url (https://googlechromelabs.github.io/chrome-for-testing/known-good-versions-with-downloads.json): error trying to connect: tcp connect error: Попытка установить соединение была безуспешной, т.к. от другого компьютера за требуемое время не получен нужный отклик, или было разорвано уже установленное соединение из-за неверного отклика уже подключенного компьютера. (os error 10060)); using driver found in the cache\n"
     ]
    },
    {
     "name": "stdout",
     "output_type": "stream",
     "text": [
      "https://smart-lab.ru/q/VGSBP/f/q/MSFO/download/\n"
     ]
    },
    {
     "name": "stderr",
     "output_type": "stream",
     "text": [
      "There was an error managing chromedriver (error sending request for url (https://googlechromelabs.github.io/chrome-for-testing/known-good-versions-with-downloads.json): error trying to connect: tcp connect error: Попытка установить соединение была безуспешной, т.к. от другого компьютера за требуемое время не получен нужный отклик, или было разорвано уже установленное соединение из-за неверного отклика уже подключенного компьютера. (os error 10060)); using driver found in the cache\n"
     ]
    },
    {
     "name": "stdout",
     "output_type": "stream",
     "text": [
      "https://smart-lab.ru/q/VGSBP/f/q/RSBU/download/\n"
     ]
    },
    {
     "name": "stderr",
     "output_type": "stream",
     "text": [
      "There was an error managing chromedriver (error sending request for url (https://googlechromelabs.github.io/chrome-for-testing/known-good-versions-with-downloads.json): error trying to connect: tcp connect error: Попытка установить соединение была безуспешной, т.к. от другого компьютера за требуемое время не получен нужный отклик, или было разорвано уже установленное соединение из-за неверного отклика уже подключенного компьютера. (os error 10060)); using driver found in the cache\n"
     ]
    },
    {
     "name": "stdout",
     "output_type": "stream",
     "text": [
      "https://smart-lab.ru/q/VJGZ/f/y/MSFO/download/\n"
     ]
    },
    {
     "name": "stderr",
     "output_type": "stream",
     "text": [
      "There was an error managing chromedriver (error sending request for url (https://googlechromelabs.github.io/chrome-for-testing/known-good-versions-with-downloads.json): error trying to connect: tcp connect error: Попытка установить соединение была безуспешной, т.к. от другого компьютера за требуемое время не получен нужный отклик, или было разорвано уже установленное соединение из-за неверного отклика уже подключенного компьютера. (os error 10060)); using driver found in the cache\n"
     ]
    },
    {
     "name": "stdout",
     "output_type": "stream",
     "text": [
      "https://smart-lab.ru/q/VJGZ/f/y/RSBU/download/\n"
     ]
    },
    {
     "name": "stderr",
     "output_type": "stream",
     "text": [
      "There was an error managing chromedriver (error sending request for url (https://googlechromelabs.github.io/chrome-for-testing/known-good-versions-with-downloads.json): error trying to connect: tcp connect error: Попытка установить соединение была безуспешной, т.к. от другого компьютера за требуемое время не получен нужный отклик, или было разорвано уже установленное соединение из-за неверного отклика уже подключенного компьютера. (os error 10060)); using driver found in the cache\n"
     ]
    },
    {
     "name": "stdout",
     "output_type": "stream",
     "text": [
      "https://smart-lab.ru/q/VJGZ/f/q/MSFO/download/\n"
     ]
    },
    {
     "name": "stderr",
     "output_type": "stream",
     "text": [
      "There was an error managing chromedriver (error sending request for url (https://googlechromelabs.github.io/chrome-for-testing/known-good-versions-with-downloads.json): error trying to connect: tcp connect error: Попытка установить соединение была безуспешной, т.к. от другого компьютера за требуемое время не получен нужный отклик, или было разорвано уже установленное соединение из-за неверного отклика уже подключенного компьютера. (os error 10060)); using driver found in the cache\n"
     ]
    },
    {
     "name": "stdout",
     "output_type": "stream",
     "text": [
      "https://smart-lab.ru/q/VJGZ/f/q/RSBU/download/\n"
     ]
    },
    {
     "name": "stderr",
     "output_type": "stream",
     "text": [
      "There was an error managing chromedriver (error sending request for url (https://googlechromelabs.github.io/chrome-for-testing/known-good-versions-with-downloads.json): error trying to connect: tcp connect error: Попытка установить соединение была безуспешной, т.к. от другого компьютера за требуемое время не получен нужный отклик, или было разорвано уже установленное соединение из-за неверного отклика уже подключенного компьютера. (os error 10060)); using driver found in the cache\n"
     ]
    },
    {
     "name": "stdout",
     "output_type": "stream",
     "text": [
      "https://smart-lab.ru/q/VJGZP/f/y/MSFO/download/\n"
     ]
    },
    {
     "name": "stderr",
     "output_type": "stream",
     "text": [
      "There was an error managing chromedriver (error sending request for url (https://googlechromelabs.github.io/chrome-for-testing/known-good-versions-with-downloads.json): error trying to connect: tcp connect error: Попытка установить соединение была безуспешной, т.к. от другого компьютера за требуемое время не получен нужный отклик, или было разорвано уже установленное соединение из-за неверного отклика уже подключенного компьютера. (os error 10060)); using driver found in the cache\n"
     ]
    },
    {
     "name": "stdout",
     "output_type": "stream",
     "text": [
      "https://smart-lab.ru/q/VJGZP/f/y/RSBU/download/\n"
     ]
    },
    {
     "name": "stderr",
     "output_type": "stream",
     "text": [
      "There was an error managing chromedriver (error sending request for url (https://googlechromelabs.github.io/chrome-for-testing/known-good-versions-with-downloads.json): error trying to connect: tcp connect error: Попытка установить соединение была безуспешной, т.к. от другого компьютера за требуемое время не получен нужный отклик, или было разорвано уже установленное соединение из-за неверного отклика уже подключенного компьютера. (os error 10060)); using driver found in the cache\n"
     ]
    },
    {
     "name": "stdout",
     "output_type": "stream",
     "text": [
      "https://smart-lab.ru/q/VJGZP/f/q/MSFO/download/\n"
     ]
    },
    {
     "name": "stderr",
     "output_type": "stream",
     "text": [
      "There was an error managing chromedriver (error sending request for url (https://googlechromelabs.github.io/chrome-for-testing/known-good-versions-with-downloads.json): error trying to connect: tcp connect error: Попытка установить соединение была безуспешной, т.к. от другого компьютера за требуемое время не получен нужный отклик, или было разорвано уже установленное соединение из-за неверного отклика уже подключенного компьютера. (os error 10060)); using driver found in the cache\n"
     ]
    },
    {
     "name": "stdout",
     "output_type": "stream",
     "text": [
      "https://smart-lab.ru/q/VJGZP/f/q/RSBU/download/\n"
     ]
    },
    {
     "name": "stderr",
     "output_type": "stream",
     "text": [
      "There was an error managing chromedriver (error sending request for url (https://googlechromelabs.github.io/chrome-for-testing/known-good-versions-with-downloads.json): error trying to connect: tcp connect error: Попытка установить соединение была безуспешной, т.к. от другого компьютера за требуемое время не получен нужный отклик, или было разорвано уже установленное соединение из-за неверного отклика уже подключенного компьютера. (os error 10060)); using driver found in the cache\n"
     ]
    },
    {
     "name": "stdout",
     "output_type": "stream",
     "text": [
      "https://smart-lab.ru/q/VKCO/f/y/MSFO/download/\n"
     ]
    },
    {
     "name": "stderr",
     "output_type": "stream",
     "text": [
      "There was an error managing chromedriver (error sending request for url (https://googlechromelabs.github.io/chrome-for-testing/known-good-versions-with-downloads.json): error trying to connect: tcp connect error: Попытка установить соединение была безуспешной, т.к. от другого компьютера за требуемое время не получен нужный отклик, или было разорвано уже установленное соединение из-за неверного отклика уже подключенного компьютера. (os error 10060)); using driver found in the cache\n"
     ]
    },
    {
     "name": "stdout",
     "output_type": "stream",
     "text": [
      "https://smart-lab.ru/q/VKCO/f/y/RSBU/download/\n"
     ]
    },
    {
     "name": "stderr",
     "output_type": "stream",
     "text": [
      "There was an error managing chromedriver (error sending request for url (https://googlechromelabs.github.io/chrome-for-testing/known-good-versions-with-downloads.json): error trying to connect: tcp connect error: Попытка установить соединение была безуспешной, т.к. от другого компьютера за требуемое время не получен нужный отклик, или было разорвано уже установленное соединение из-за неверного отклика уже подключенного компьютера. (os error 10060)); using driver found in the cache\n"
     ]
    },
    {
     "name": "stdout",
     "output_type": "stream",
     "text": [
      "https://smart-lab.ru/q/VKCO/f/q/MSFO/download/\n"
     ]
    },
    {
     "name": "stderr",
     "output_type": "stream",
     "text": [
      "There was an error managing chromedriver (error sending request for url (https://googlechromelabs.github.io/chrome-for-testing/known-good-versions-with-downloads.json): error trying to connect: tcp connect error: Попытка установить соединение была безуспешной, т.к. от другого компьютера за требуемое время не получен нужный отклик, или было разорвано уже установленное соединение из-за неверного отклика уже подключенного компьютера. (os error 10060)); using driver found in the cache\n"
     ]
    },
    {
     "name": "stdout",
     "output_type": "stream",
     "text": [
      "https://smart-lab.ru/q/VKCO/f/q/RSBU/download/\n"
     ]
    },
    {
     "name": "stderr",
     "output_type": "stream",
     "text": [
      "There was an error managing chromedriver (error sending request for url (https://googlechromelabs.github.io/chrome-for-testing/known-good-versions-with-downloads.json): error trying to connect: tcp connect error: Попытка установить соединение была безуспешной, т.к. от другого компьютера за требуемое время не получен нужный отклик, или было разорвано уже установленное соединение из-за неверного отклика уже подключенного компьютера. (os error 10060)); using driver found in the cache\n"
     ]
    },
    {
     "name": "stdout",
     "output_type": "stream",
     "text": [
      "https://smart-lab.ru/q/VLHZ/f/y/MSFO/download/\n"
     ]
    },
    {
     "name": "stderr",
     "output_type": "stream",
     "text": [
      "There was an error managing chromedriver (error sending request for url (https://googlechromelabs.github.io/chrome-for-testing/known-good-versions-with-downloads.json): error trying to connect: tcp connect error: Попытка установить соединение была безуспешной, т.к. от другого компьютера за требуемое время не получен нужный отклик, или было разорвано уже установленное соединение из-за неверного отклика уже подключенного компьютера. (os error 10060)); using driver found in the cache\n"
     ]
    },
    {
     "name": "stdout",
     "output_type": "stream",
     "text": [
      "https://smart-lab.ru/q/VLHZ/f/y/RSBU/download/\n"
     ]
    },
    {
     "name": "stderr",
     "output_type": "stream",
     "text": [
      "There was an error managing chromedriver (error sending request for url (https://googlechromelabs.github.io/chrome-for-testing/known-good-versions-with-downloads.json): error trying to connect: tcp connect error: Попытка установить соединение была безуспешной, т.к. от другого компьютера за требуемое время не получен нужный отклик, или было разорвано уже установленное соединение из-за неверного отклика уже подключенного компьютера. (os error 10060)); using driver found in the cache\n"
     ]
    },
    {
     "name": "stdout",
     "output_type": "stream",
     "text": [
      "https://smart-lab.ru/q/VLHZ/f/q/MSFO/download/\n"
     ]
    },
    {
     "name": "stderr",
     "output_type": "stream",
     "text": [
      "There was an error managing chromedriver (error sending request for url (https://googlechromelabs.github.io/chrome-for-testing/known-good-versions-with-downloads.json): error trying to connect: tcp connect error: Попытка установить соединение была безуспешной, т.к. от другого компьютера за требуемое время не получен нужный отклик, или было разорвано уже установленное соединение из-за неверного отклика уже подключенного компьютера. (os error 10060)); using driver found in the cache\n"
     ]
    },
    {
     "name": "stdout",
     "output_type": "stream",
     "text": [
      "https://smart-lab.ru/q/VLHZ/f/q/RSBU/download/\n"
     ]
    },
    {
     "name": "stderr",
     "output_type": "stream",
     "text": [
      "There was an error managing chromedriver (error sending request for url (https://googlechromelabs.github.io/chrome-for-testing/known-good-versions-with-downloads.json): error trying to connect: tcp connect error: Попытка установить соединение была безуспешной, т.к. от другого компьютера за требуемое время не получен нужный отклик, или было разорвано уже установленное соединение из-за неверного отклика уже подключенного компьютера. (os error 10060)); using driver found in the cache\n"
     ]
    },
    {
     "name": "stdout",
     "output_type": "stream",
     "text": [
      "https://smart-lab.ru/q/VRSB/f/y/MSFO/download/\n"
     ]
    },
    {
     "name": "stderr",
     "output_type": "stream",
     "text": [
      "There was an error managing chromedriver (error sending request for url (https://googlechromelabs.github.io/chrome-for-testing/known-good-versions-with-downloads.json): error trying to connect: tcp connect error: Попытка установить соединение была безуспешной, т.к. от другого компьютера за требуемое время не получен нужный отклик, или было разорвано уже установленное соединение из-за неверного отклика уже подключенного компьютера. (os error 10060)); using driver found in the cache\n"
     ]
    },
    {
     "name": "stdout",
     "output_type": "stream",
     "text": [
      "https://smart-lab.ru/q/VRSB/f/y/RSBU/download/\n"
     ]
    },
    {
     "name": "stderr",
     "output_type": "stream",
     "text": [
      "There was an error managing chromedriver (error sending request for url (https://googlechromelabs.github.io/chrome-for-testing/known-good-versions-with-downloads.json): error trying to connect: tcp connect error: Попытка установить соединение была безуспешной, т.к. от другого компьютера за требуемое время не получен нужный отклик, или было разорвано уже установленное соединение из-за неверного отклика уже подключенного компьютера. (os error 10060)); using driver found in the cache\n"
     ]
    },
    {
     "name": "stdout",
     "output_type": "stream",
     "text": [
      "https://smart-lab.ru/q/VRSB/f/q/MSFO/download/\n"
     ]
    },
    {
     "name": "stderr",
     "output_type": "stream",
     "text": [
      "There was an error managing chromedriver (error sending request for url (https://googlechromelabs.github.io/chrome-for-testing/known-good-versions-with-downloads.json): error trying to connect: tcp connect error: Попытка установить соединение была безуспешной, т.к. от другого компьютера за требуемое время не получен нужный отклик, или было разорвано уже установленное соединение из-за неверного отклика уже подключенного компьютера. (os error 10060)); using driver found in the cache\n"
     ]
    },
    {
     "name": "stdout",
     "output_type": "stream",
     "text": [
      "https://smart-lab.ru/q/VRSB/f/q/RSBU/download/\n"
     ]
    },
    {
     "name": "stderr",
     "output_type": "stream",
     "text": [
      "There was an error managing chromedriver (error sending request for url (https://googlechromelabs.github.io/chrome-for-testing/known-good-versions-with-downloads.json): error trying to connect: tcp connect error: Попытка установить соединение была безуспешной, т.к. от другого компьютера за требуемое время не получен нужный отклик, или было разорвано уже установленное соединение из-за неверного отклика уже подключенного компьютера. (os error 10060)); using driver found in the cache\n"
     ]
    },
    {
     "name": "stdout",
     "output_type": "stream",
     "text": [
      "https://smart-lab.ru/q/VRSBP/f/y/MSFO/download/\n"
     ]
    },
    {
     "name": "stderr",
     "output_type": "stream",
     "text": [
      "There was an error managing chromedriver (error sending request for url (https://googlechromelabs.github.io/chrome-for-testing/known-good-versions-with-downloads.json): error trying to connect: tcp connect error: Попытка установить соединение была безуспешной, т.к. от другого компьютера за требуемое время не получен нужный отклик, или было разорвано уже установленное соединение из-за неверного отклика уже подключенного компьютера. (os error 10060)); using driver found in the cache\n"
     ]
    },
    {
     "name": "stdout",
     "output_type": "stream",
     "text": [
      "https://smart-lab.ru/q/VRSBP/f/y/RSBU/download/\n"
     ]
    },
    {
     "name": "stderr",
     "output_type": "stream",
     "text": [
      "There was an error managing chromedriver (error sending request for url (https://googlechromelabs.github.io/chrome-for-testing/known-good-versions-with-downloads.json): error trying to connect: tcp connect error: Попытка установить соединение была безуспешной, т.к. от другого компьютера за требуемое время не получен нужный отклик, или было разорвано уже установленное соединение из-за неверного отклика уже подключенного компьютера. (os error 10060)); using driver found in the cache\n"
     ]
    },
    {
     "name": "stdout",
     "output_type": "stream",
     "text": [
      "https://smart-lab.ru/q/VRSBP/f/q/MSFO/download/\n"
     ]
    },
    {
     "name": "stderr",
     "output_type": "stream",
     "text": [
      "There was an error managing chromedriver (error sending request for url (https://googlechromelabs.github.io/chrome-for-testing/known-good-versions-with-downloads.json): error trying to connect: tcp connect error: Попытка установить соединение была безуспешной, т.к. от другого компьютера за требуемое время не получен нужный отклик, или было разорвано уже установленное соединение из-за неверного отклика уже подключенного компьютера. (os error 10060)); using driver found in the cache\n"
     ]
    },
    {
     "name": "stdout",
     "output_type": "stream",
     "text": [
      "https://smart-lab.ru/q/VRSBP/f/q/RSBU/download/\n"
     ]
    },
    {
     "name": "stderr",
     "output_type": "stream",
     "text": [
      "There was an error managing chromedriver (error sending request for url (https://googlechromelabs.github.io/chrome-for-testing/known-good-versions-with-downloads.json): error trying to connect: tcp connect error: Попытка установить соединение была безуспешной, т.к. от другого компьютера за требуемое время не получен нужный отклик, или было разорвано уже установленное соединение из-за неверного отклика уже подключенного компьютера. (os error 10060)); using driver found in the cache\n"
     ]
    },
    {
     "name": "stdout",
     "output_type": "stream",
     "text": [
      "https://smart-lab.ru/q/VSMO/f/y/MSFO/download/\n"
     ]
    },
    {
     "name": "stderr",
     "output_type": "stream",
     "text": [
      "There was an error managing chromedriver (error sending request for url (https://googlechromelabs.github.io/chrome-for-testing/known-good-versions-with-downloads.json): error trying to connect: tcp connect error: Попытка установить соединение была безуспешной, т.к. от другого компьютера за требуемое время не получен нужный отклик, или было разорвано уже установленное соединение из-за неверного отклика уже подключенного компьютера. (os error 10060)); using driver found in the cache\n"
     ]
    },
    {
     "name": "stdout",
     "output_type": "stream",
     "text": [
      "https://smart-lab.ru/q/VSMO/f/y/RSBU/download/\n"
     ]
    },
    {
     "name": "stderr",
     "output_type": "stream",
     "text": [
      "There was an error managing chromedriver (error sending request for url (https://googlechromelabs.github.io/chrome-for-testing/known-good-versions-with-downloads.json): error trying to connect: tcp connect error: Попытка установить соединение была безуспешной, т.к. от другого компьютера за требуемое время не получен нужный отклик, или было разорвано уже установленное соединение из-за неверного отклика уже подключенного компьютера. (os error 10060)); using driver found in the cache\n"
     ]
    },
    {
     "name": "stdout",
     "output_type": "stream",
     "text": [
      "https://smart-lab.ru/q/VSMO/f/q/MSFO/download/\n"
     ]
    },
    {
     "name": "stderr",
     "output_type": "stream",
     "text": [
      "There was an error managing chromedriver (error sending request for url (https://googlechromelabs.github.io/chrome-for-testing/known-good-versions-with-downloads.json): error trying to connect: tcp connect error: Попытка установить соединение была безуспешной, т.к. от другого компьютера за требуемое время не получен нужный отклик, или было разорвано уже установленное соединение из-за неверного отклика уже подключенного компьютера. (os error 10060)); using driver found in the cache\n"
     ]
    },
    {
     "name": "stdout",
     "output_type": "stream",
     "text": [
      "https://smart-lab.ru/q/VSMO/f/q/RSBU/download/\n"
     ]
    },
    {
     "name": "stderr",
     "output_type": "stream",
     "text": [
      "There was an error managing chromedriver (error sending request for url (https://googlechromelabs.github.io/chrome-for-testing/known-good-versions-with-downloads.json): error trying to connect: tcp connect error: Попытка установить соединение была безуспешной, т.к. от другого компьютера за требуемое время не получен нужный отклик, или было разорвано уже установленное соединение из-за неверного отклика уже подключенного компьютера. (os error 10060)); using driver found in the cache\n"
     ]
    },
    {
     "name": "stdout",
     "output_type": "stream",
     "text": [
      "https://smart-lab.ru/q/VSYD/f/y/MSFO/download/\n"
     ]
    },
    {
     "name": "stderr",
     "output_type": "stream",
     "text": [
      "There was an error managing chromedriver (error sending request for url (https://googlechromelabs.github.io/chrome-for-testing/known-good-versions-with-downloads.json): error trying to connect: tcp connect error: Попытка установить соединение была безуспешной, т.к. от другого компьютера за требуемое время не получен нужный отклик, или было разорвано уже установленное соединение из-за неверного отклика уже подключенного компьютера. (os error 10060)); using driver found in the cache\n"
     ]
    },
    {
     "name": "stdout",
     "output_type": "stream",
     "text": [
      "https://smart-lab.ru/q/VSYD/f/y/RSBU/download/\n"
     ]
    },
    {
     "name": "stderr",
     "output_type": "stream",
     "text": [
      "There was an error managing chromedriver (error sending request for url (https://googlechromelabs.github.io/chrome-for-testing/known-good-versions-with-downloads.json): error trying to connect: tcp connect error: Попытка установить соединение была безуспешной, т.к. от другого компьютера за требуемое время не получен нужный отклик, или было разорвано уже установленное соединение из-за неверного отклика уже подключенного компьютера. (os error 10060)); using driver found in the cache\n"
     ]
    },
    {
     "name": "stdout",
     "output_type": "stream",
     "text": [
      "https://smart-lab.ru/q/VSYD/f/q/MSFO/download/\n"
     ]
    },
    {
     "name": "stderr",
     "output_type": "stream",
     "text": [
      "There was an error managing chromedriver (error sending request for url (https://googlechromelabs.github.io/chrome-for-testing/known-good-versions-with-downloads.json): error trying to connect: tcp connect error: Попытка установить соединение была безуспешной, т.к. от другого компьютера за требуемое время не получен нужный отклик, или было разорвано уже установленное соединение из-за неверного отклика уже подключенного компьютера. (os error 10060)); using driver found in the cache\n"
     ]
    },
    {
     "name": "stdout",
     "output_type": "stream",
     "text": [
      "https://smart-lab.ru/q/VSYD/f/q/RSBU/download/\n"
     ]
    },
    {
     "name": "stderr",
     "output_type": "stream",
     "text": [
      "There was an error managing chromedriver (error sending request for url (https://googlechromelabs.github.io/chrome-for-testing/known-good-versions-with-downloads.json): error trying to connect: tcp connect error: Попытка установить соединение была безуспешной, т.к. от другого компьютера за требуемое время не получен нужный отклик, или было разорвано уже установленное соединение из-за неверного отклика уже подключенного компьютера. (os error 10060)); using driver found in the cache\n"
     ]
    },
    {
     "name": "stdout",
     "output_type": "stream",
     "text": [
      "https://smart-lab.ru/q/VSYDP/f/y/MSFO/download/\n"
     ]
    },
    {
     "name": "stderr",
     "output_type": "stream",
     "text": [
      "There was an error managing chromedriver (error sending request for url (https://googlechromelabs.github.io/chrome-for-testing/known-good-versions-with-downloads.json): error trying to connect: tcp connect error: Попытка установить соединение была безуспешной, т.к. от другого компьютера за требуемое время не получен нужный отклик, или было разорвано уже установленное соединение из-за неверного отклика уже подключенного компьютера. (os error 10060)); using driver found in the cache\n"
     ]
    },
    {
     "name": "stdout",
     "output_type": "stream",
     "text": [
      "https://smart-lab.ru/q/VSYDP/f/y/RSBU/download/\n"
     ]
    },
    {
     "name": "stderr",
     "output_type": "stream",
     "text": [
      "There was an error managing chromedriver (error sending request for url (https://googlechromelabs.github.io/chrome-for-testing/known-good-versions-with-downloads.json): error trying to connect: tcp connect error: Попытка установить соединение была безуспешной, т.к. от другого компьютера за требуемое время не получен нужный отклик, или было разорвано уже установленное соединение из-за неверного отклика уже подключенного компьютера. (os error 10060)); using driver found in the cache\n"
     ]
    },
    {
     "name": "stdout",
     "output_type": "stream",
     "text": [
      "https://smart-lab.ru/q/VSYDP/f/q/MSFO/download/\n"
     ]
    },
    {
     "name": "stderr",
     "output_type": "stream",
     "text": [
      "There was an error managing chromedriver (error sending request for url (https://googlechromelabs.github.io/chrome-for-testing/known-good-versions-with-downloads.json): error trying to connect: tcp connect error: Попытка установить соединение была безуспешной, т.к. от другого компьютера за требуемое время не получен нужный отклик, или было разорвано уже установленное соединение из-за неверного отклика уже подключенного компьютера. (os error 10060)); using driver found in the cache\n"
     ]
    },
    {
     "name": "stdout",
     "output_type": "stream",
     "text": [
      "https://smart-lab.ru/q/VSYDP/f/q/RSBU/download/\n"
     ]
    },
    {
     "name": "stderr",
     "output_type": "stream",
     "text": [
      "There was an error managing chromedriver (error sending request for url (https://googlechromelabs.github.io/chrome-for-testing/known-good-versions-with-downloads.json): error trying to connect: tcp connect error: Попытка установить соединение была безуспешной, т.к. от другого компьютера за требуемое время не получен нужный отклик, или было разорвано уже установленное соединение из-за неверного отклика уже подключенного компьютера. (os error 10060)); using driver found in the cache\n"
     ]
    },
    {
     "name": "stdout",
     "output_type": "stream",
     "text": [
      "https://smart-lab.ru/q/VTBR/f/y/MSFO/download/\n"
     ]
    },
    {
     "name": "stderr",
     "output_type": "stream",
     "text": [
      "There was an error managing chromedriver (error sending request for url (https://googlechromelabs.github.io/chrome-for-testing/known-good-versions-with-downloads.json): error trying to connect: tcp connect error: Попытка установить соединение была безуспешной, т.к. от другого компьютера за требуемое время не получен нужный отклик, или было разорвано уже установленное соединение из-за неверного отклика уже подключенного компьютера. (os error 10060)); using driver found in the cache\n"
     ]
    },
    {
     "name": "stdout",
     "output_type": "stream",
     "text": [
      "https://smart-lab.ru/q/VTBR/f/y/RSBU/download/\n"
     ]
    },
    {
     "name": "stderr",
     "output_type": "stream",
     "text": [
      "There was an error managing chromedriver (error sending request for url (https://googlechromelabs.github.io/chrome-for-testing/known-good-versions-with-downloads.json): error trying to connect: tcp connect error: Попытка установить соединение была безуспешной, т.к. от другого компьютера за требуемое время не получен нужный отклик, или было разорвано уже установленное соединение из-за неверного отклика уже подключенного компьютера. (os error 10060)); using driver found in the cache\n"
     ]
    },
    {
     "name": "stdout",
     "output_type": "stream",
     "text": [
      "https://smart-lab.ru/q/VTBR/f/q/MSFO/download/\n"
     ]
    },
    {
     "name": "stderr",
     "output_type": "stream",
     "text": [
      "There was an error managing chromedriver (error sending request for url (https://googlechromelabs.github.io/chrome-for-testing/known-good-versions-with-downloads.json): error trying to connect: tcp connect error: Попытка установить соединение была безуспешной, т.к. от другого компьютера за требуемое время не получен нужный отклик, или было разорвано уже установленное соединение из-за неверного отклика уже подключенного компьютера. (os error 10060)); using driver found in the cache\n"
     ]
    },
    {
     "name": "stdout",
     "output_type": "stream",
     "text": [
      "https://smart-lab.ru/q/VTBR/f/q/RSBU/download/\n"
     ]
    },
    {
     "name": "stderr",
     "output_type": "stream",
     "text": [
      "There was an error managing chromedriver (error sending request for url (https://googlechromelabs.github.io/chrome-for-testing/known-good-versions-with-downloads.json): error trying to connect: tcp connect error: Попытка установить соединение была безуспешной, т.к. от другого компьютера за требуемое время не получен нужный отклик, или было разорвано уже установленное соединение из-за неверного отклика уже подключенного компьютера. (os error 10060)); using driver found in the cache\n"
     ]
    },
    {
     "name": "stdout",
     "output_type": "stream",
     "text": [
      "https://smart-lab.ru/q/WTCMP/f/y/MSFO/download/\n"
     ]
    },
    {
     "name": "stderr",
     "output_type": "stream",
     "text": [
      "There was an error managing chromedriver (error sending request for url (https://googlechromelabs.github.io/chrome-for-testing/known-good-versions-with-downloads.json): error trying to connect: tcp connect error: Попытка установить соединение была безуспешной, т.к. от другого компьютера за требуемое время не получен нужный отклик, или было разорвано уже установленное соединение из-за неверного отклика уже подключенного компьютера. (os error 10060)); using driver found in the cache\n"
     ]
    },
    {
     "name": "stdout",
     "output_type": "stream",
     "text": [
      "https://smart-lab.ru/q/WTCMP/f/y/RSBU/download/\n"
     ]
    },
    {
     "name": "stderr",
     "output_type": "stream",
     "text": [
      "There was an error managing chromedriver (error sending request for url (https://googlechromelabs.github.io/chrome-for-testing/known-good-versions-with-downloads.json): error trying to connect: tcp connect error: Попытка установить соединение была безуспешной, т.к. от другого компьютера за требуемое время не получен нужный отклик, или было разорвано уже установленное соединение из-за неверного отклика уже подключенного компьютера. (os error 10060)); using driver found in the cache\n"
     ]
    },
    {
     "name": "stdout",
     "output_type": "stream",
     "text": [
      "https://smart-lab.ru/q/WTCMP/f/q/MSFO/download/\n"
     ]
    },
    {
     "name": "stderr",
     "output_type": "stream",
     "text": [
      "There was an error managing chromedriver (error sending request for url (https://googlechromelabs.github.io/chrome-for-testing/known-good-versions-with-downloads.json): error trying to connect: tcp connect error: Попытка установить соединение была безуспешной, т.к. от другого компьютера за требуемое время не получен нужный отклик, или было разорвано уже установленное соединение из-за неверного отклика уже подключенного компьютера. (os error 10060)); using driver found in the cache\n"
     ]
    },
    {
     "name": "stdout",
     "output_type": "stream",
     "text": [
      "https://smart-lab.ru/q/WTCMP/f/q/RSBU/download/\n"
     ]
    },
    {
     "name": "stderr",
     "output_type": "stream",
     "text": [
      "There was an error managing chromedriver (error sending request for url (https://googlechromelabs.github.io/chrome-for-testing/known-good-versions-with-downloads.json): error trying to connect: tcp connect error: Попытка установить соединение была безуспешной, т.к. от другого компьютера за требуемое время не получен нужный отклик, или было разорвано уже установленное соединение из-за неверного отклика уже подключенного компьютера. (os error 10060)); using driver found in the cache\n"
     ]
    },
    {
     "name": "stdout",
     "output_type": "stream",
     "text": [
      "https://smart-lab.ru/q/WUSH/f/y/MSFO/download/\n"
     ]
    },
    {
     "name": "stderr",
     "output_type": "stream",
     "text": [
      "There was an error managing chromedriver (error sending request for url (https://googlechromelabs.github.io/chrome-for-testing/known-good-versions-with-downloads.json): error trying to connect: tcp connect error: Попытка установить соединение была безуспешной, т.к. от другого компьютера за требуемое время не получен нужный отклик, или было разорвано уже установленное соединение из-за неверного отклика уже подключенного компьютера. (os error 10060)); using driver found in the cache\n"
     ]
    },
    {
     "name": "stdout",
     "output_type": "stream",
     "text": [
      "https://smart-lab.ru/q/WUSH/f/y/RSBU/download/\n"
     ]
    },
    {
     "name": "stderr",
     "output_type": "stream",
     "text": [
      "There was an error managing chromedriver (error sending request for url (https://googlechromelabs.github.io/chrome-for-testing/known-good-versions-with-downloads.json): error trying to connect: tcp connect error: Попытка установить соединение была безуспешной, т.к. от другого компьютера за требуемое время не получен нужный отклик, или было разорвано уже установленное соединение из-за неверного отклика уже подключенного компьютера. (os error 10060)); using driver found in the cache\n"
     ]
    },
    {
     "name": "stdout",
     "output_type": "stream",
     "text": [
      "https://smart-lab.ru/q/WUSH/f/q/MSFO/download/\n"
     ]
    },
    {
     "name": "stderr",
     "output_type": "stream",
     "text": [
      "There was an error managing chromedriver (error sending request for url (https://googlechromelabs.github.io/chrome-for-testing/known-good-versions-with-downloads.json): error trying to connect: tcp connect error: Попытка установить соединение была безуспешной, т.к. от другого компьютера за требуемое время не получен нужный отклик, или было разорвано уже установленное соединение из-за неверного отклика уже подключенного компьютера. (os error 10060)); using driver found in the cache\n"
     ]
    },
    {
     "name": "stdout",
     "output_type": "stream",
     "text": [
      "https://smart-lab.ru/q/WUSH/f/q/RSBU/download/\n"
     ]
    },
    {
     "name": "stderr",
     "output_type": "stream",
     "text": [
      "There was an error managing chromedriver (error sending request for url (https://googlechromelabs.github.io/chrome-for-testing/known-good-versions-with-downloads.json): error trying to connect: tcp connect error: Попытка установить соединение была безуспешной, т.к. от другого компьютера за требуемое время не получен нужный отклик, или было разорвано уже установленное соединение из-за неверного отклика уже подключенного компьютера. (os error 10060)); using driver found in the cache\n"
     ]
    },
    {
     "name": "stdout",
     "output_type": "stream",
     "text": [
      "https://smart-lab.ru/q/YAKG/f/y/MSFO/download/\n"
     ]
    },
    {
     "name": "stderr",
     "output_type": "stream",
     "text": [
      "There was an error managing chromedriver (error sending request for url (https://googlechromelabs.github.io/chrome-for-testing/known-good-versions-with-downloads.json): error trying to connect: tcp connect error: Попытка установить соединение была безуспешной, т.к. от другого компьютера за требуемое время не получен нужный отклик, или было разорвано уже установленное соединение из-за неверного отклика уже подключенного компьютера. (os error 10060)); using driver found in the cache\n"
     ]
    },
    {
     "name": "stdout",
     "output_type": "stream",
     "text": [
      "https://smart-lab.ru/q/YAKG/f/y/RSBU/download/\n"
     ]
    },
    {
     "name": "stderr",
     "output_type": "stream",
     "text": [
      "There was an error managing chromedriver (error sending request for url (https://googlechromelabs.github.io/chrome-for-testing/known-good-versions-with-downloads.json): error trying to connect: tcp connect error: Попытка установить соединение была безуспешной, т.к. от другого компьютера за требуемое время не получен нужный отклик, или было разорвано уже установленное соединение из-за неверного отклика уже подключенного компьютера. (os error 10060)); using driver found in the cache\n"
     ]
    },
    {
     "name": "stdout",
     "output_type": "stream",
     "text": [
      "https://smart-lab.ru/q/YAKG/f/q/MSFO/download/\n"
     ]
    },
    {
     "name": "stderr",
     "output_type": "stream",
     "text": [
      "There was an error managing chromedriver (error sending request for url (https://googlechromelabs.github.io/chrome-for-testing/known-good-versions-with-downloads.json): error trying to connect: tcp connect error: Попытка установить соединение была безуспешной, т.к. от другого компьютера за требуемое время не получен нужный отклик, или было разорвано уже установленное соединение из-за неверного отклика уже подключенного компьютера. (os error 10060)); using driver found in the cache\n"
     ]
    },
    {
     "name": "stdout",
     "output_type": "stream",
     "text": [
      "https://smart-lab.ru/q/YAKG/f/q/RSBU/download/\n"
     ]
    },
    {
     "name": "stderr",
     "output_type": "stream",
     "text": [
      "There was an error managing chromedriver (error sending request for url (https://googlechromelabs.github.io/chrome-for-testing/known-good-versions-with-downloads.json): error trying to connect: tcp connect error: Попытка установить соединение была безуспешной, т.к. от другого компьютера за требуемое время не получен нужный отклик, или было разорвано уже установленное соединение из-за неверного отклика уже подключенного компьютера. (os error 10060)); using driver found in the cache\n"
     ]
    },
    {
     "name": "stdout",
     "output_type": "stream",
     "text": [
      "https://smart-lab.ru/q/YKEN/f/y/MSFO/download/\n"
     ]
    },
    {
     "name": "stderr",
     "output_type": "stream",
     "text": [
      "There was an error managing chromedriver (error sending request for url (https://googlechromelabs.github.io/chrome-for-testing/known-good-versions-with-downloads.json): error trying to connect: tcp connect error: Попытка установить соединение была безуспешной, т.к. от другого компьютера за требуемое время не получен нужный отклик, или было разорвано уже установленное соединение из-за неверного отклика уже подключенного компьютера. (os error 10060)); using driver found in the cache\n"
     ]
    },
    {
     "name": "stdout",
     "output_type": "stream",
     "text": [
      "https://smart-lab.ru/q/YKEN/f/y/RSBU/download/\n"
     ]
    },
    {
     "name": "stderr",
     "output_type": "stream",
     "text": [
      "There was an error managing chromedriver (error sending request for url (https://googlechromelabs.github.io/chrome-for-testing/known-good-versions-with-downloads.json): error trying to connect: tcp connect error: Попытка установить соединение была безуспешной, т.к. от другого компьютера за требуемое время не получен нужный отклик, или было разорвано уже установленное соединение из-за неверного отклика уже подключенного компьютера. (os error 10060)); using driver found in the cache\n"
     ]
    },
    {
     "name": "stdout",
     "output_type": "stream",
     "text": [
      "https://smart-lab.ru/q/YKEN/f/q/MSFO/download/\n"
     ]
    },
    {
     "name": "stderr",
     "output_type": "stream",
     "text": [
      "There was an error managing chromedriver (error sending request for url (https://googlechromelabs.github.io/chrome-for-testing/known-good-versions-with-downloads.json): error trying to connect: tcp connect error: Попытка установить соединение была безуспешной, т.к. от другого компьютера за требуемое время не получен нужный отклик, или было разорвано уже установленное соединение из-за неверного отклика уже подключенного компьютера. (os error 10060)); using driver found in the cache\n"
     ]
    },
    {
     "name": "stdout",
     "output_type": "stream",
     "text": [
      "https://smart-lab.ru/q/YKEN/f/q/RSBU/download/\n"
     ]
    },
    {
     "name": "stderr",
     "output_type": "stream",
     "text": [
      "There was an error managing chromedriver (error sending request for url (https://googlechromelabs.github.io/chrome-for-testing/known-good-versions-with-downloads.json): error trying to connect: tcp connect error: Попытка установить соединение была безуспешной, т.к. от другого компьютера за требуемое время не получен нужный отклик, или было разорвано уже установленное соединение из-за неверного отклика уже подключенного компьютера. (os error 10060)); using driver found in the cache\n"
     ]
    },
    {
     "name": "stdout",
     "output_type": "stream",
     "text": [
      "https://smart-lab.ru/q/YKENP/f/y/MSFO/download/\n"
     ]
    },
    {
     "name": "stderr",
     "output_type": "stream",
     "text": [
      "There was an error managing chromedriver (error sending request for url (https://googlechromelabs.github.io/chrome-for-testing/known-good-versions-with-downloads.json): error trying to connect: tcp connect error: Попытка установить соединение была безуспешной, т.к. от другого компьютера за требуемое время не получен нужный отклик, или было разорвано уже установленное соединение из-за неверного отклика уже подключенного компьютера. (os error 10060)); using driver found in the cache\n"
     ]
    },
    {
     "name": "stdout",
     "output_type": "stream",
     "text": [
      "https://smart-lab.ru/q/YKENP/f/y/RSBU/download/\n"
     ]
    },
    {
     "name": "stderr",
     "output_type": "stream",
     "text": [
      "There was an error managing chromedriver (error sending request for url (https://googlechromelabs.github.io/chrome-for-testing/known-good-versions-with-downloads.json): error trying to connect: tcp connect error: Попытка установить соединение была безуспешной, т.к. от другого компьютера за требуемое время не получен нужный отклик, или было разорвано уже установленное соединение из-за неверного отклика уже подключенного компьютера. (os error 10060)); using driver found in the cache\n"
     ]
    },
    {
     "name": "stdout",
     "output_type": "stream",
     "text": [
      "https://smart-lab.ru/q/YKENP/f/q/MSFO/download/\n"
     ]
    },
    {
     "name": "stderr",
     "output_type": "stream",
     "text": [
      "There was an error managing chromedriver (error sending request for url (https://googlechromelabs.github.io/chrome-for-testing/known-good-versions-with-downloads.json): error trying to connect: tcp connect error: Попытка установить соединение была безуспешной, т.к. от другого компьютера за требуемое время не получен нужный отклик, или было разорвано уже установленное соединение из-за неверного отклика уже подключенного компьютера. (os error 10060)); using driver found in the cache\n"
     ]
    },
    {
     "name": "stdout",
     "output_type": "stream",
     "text": [
      "https://smart-lab.ru/q/YKENP/f/q/RSBU/download/\n"
     ]
    },
    {
     "name": "stderr",
     "output_type": "stream",
     "text": [
      "There was an error managing chromedriver (error sending request for url (https://googlechromelabs.github.io/chrome-for-testing/known-good-versions-with-downloads.json): error trying to connect: tcp connect error: Попытка установить соединение была безуспешной, т.к. от другого компьютера за требуемое время не получен нужный отклик, или было разорвано уже установленное соединение из-за неверного отклика уже подключенного компьютера. (os error 10060)); using driver found in the cache\n"
     ]
    },
    {
     "name": "stdout",
     "output_type": "stream",
     "text": [
      "https://smart-lab.ru/q/YRSB/f/y/MSFO/download/\n"
     ]
    },
    {
     "name": "stderr",
     "output_type": "stream",
     "text": [
      "There was an error managing chromedriver (error sending request for url (https://googlechromelabs.github.io/chrome-for-testing/known-good-versions-with-downloads.json): error trying to connect: tcp connect error: Попытка установить соединение была безуспешной, т.к. от другого компьютера за требуемое время не получен нужный отклик, или было разорвано уже установленное соединение из-за неверного отклика уже подключенного компьютера. (os error 10060)); using driver found in the cache\n"
     ]
    },
    {
     "name": "stdout",
     "output_type": "stream",
     "text": [
      "https://smart-lab.ru/q/YRSB/f/y/RSBU/download/\n"
     ]
    },
    {
     "name": "stderr",
     "output_type": "stream",
     "text": [
      "There was an error managing chromedriver (error sending request for url (https://googlechromelabs.github.io/chrome-for-testing/known-good-versions-with-downloads.json): error trying to connect: tcp connect error: Попытка установить соединение была безуспешной, т.к. от другого компьютера за требуемое время не получен нужный отклик, или было разорвано уже установленное соединение из-за неверного отклика уже подключенного компьютера. (os error 10060)); using driver found in the cache\n"
     ]
    },
    {
     "name": "stdout",
     "output_type": "stream",
     "text": [
      "https://smart-lab.ru/q/YRSB/f/q/MSFO/download/\n"
     ]
    },
    {
     "name": "stderr",
     "output_type": "stream",
     "text": [
      "There was an error managing chromedriver (error sending request for url (https://googlechromelabs.github.io/chrome-for-testing/known-good-versions-with-downloads.json): error trying to connect: tcp connect error: Попытка установить соединение была безуспешной, т.к. от другого компьютера за требуемое время не получен нужный отклик, или было разорвано уже установленное соединение из-за неверного отклика уже подключенного компьютера. (os error 10060)); using driver found in the cache\n"
     ]
    },
    {
     "name": "stdout",
     "output_type": "stream",
     "text": [
      "https://smart-lab.ru/q/YRSB/f/q/RSBU/download/\n"
     ]
    },
    {
     "name": "stderr",
     "output_type": "stream",
     "text": [
      "There was an error managing chromedriver (error sending request for url (https://googlechromelabs.github.io/chrome-for-testing/known-good-versions-with-downloads.json): error trying to connect: tcp connect error: Попытка установить соединение была безуспешной, т.к. от другого компьютера за требуемое время не получен нужный отклик, или было разорвано уже установленное соединение из-за неверного отклика уже подключенного компьютера. (os error 10060)); using driver found in the cache\n"
     ]
    },
    {
     "name": "stdout",
     "output_type": "stream",
     "text": [
      "https://smart-lab.ru/q/YRSBP/f/y/MSFO/download/\n"
     ]
    },
    {
     "name": "stderr",
     "output_type": "stream",
     "text": [
      "There was an error managing chromedriver (error sending request for url (https://googlechromelabs.github.io/chrome-for-testing/known-good-versions-with-downloads.json): error trying to connect: tcp connect error: Попытка установить соединение была безуспешной, т.к. от другого компьютера за требуемое время не получен нужный отклик, или было разорвано уже установленное соединение из-за неверного отклика уже подключенного компьютера. (os error 10060)); using driver found in the cache\n"
     ]
    },
    {
     "name": "stdout",
     "output_type": "stream",
     "text": [
      "https://smart-lab.ru/q/YRSBP/f/y/RSBU/download/\n"
     ]
    },
    {
     "name": "stderr",
     "output_type": "stream",
     "text": [
      "There was an error managing chromedriver (error sending request for url (https://googlechromelabs.github.io/chrome-for-testing/known-good-versions-with-downloads.json): error trying to connect: tcp connect error: Попытка установить соединение была безуспешной, т.к. от другого компьютера за требуемое время не получен нужный отклик, или было разорвано уже установленное соединение из-за неверного отклика уже подключенного компьютера. (os error 10060)); using driver found in the cache\n"
     ]
    },
    {
     "name": "stdout",
     "output_type": "stream",
     "text": [
      "https://smart-lab.ru/q/YRSBP/f/q/MSFO/download/\n"
     ]
    },
    {
     "name": "stderr",
     "output_type": "stream",
     "text": [
      "There was an error managing chromedriver (error sending request for url (https://googlechromelabs.github.io/chrome-for-testing/known-good-versions-with-downloads.json): error trying to connect: tcp connect error: Попытка установить соединение была безуспешной, т.к. от другого компьютера за требуемое время не получен нужный отклик, или было разорвано уже установленное соединение из-за неверного отклика уже подключенного компьютера. (os error 10060)); using driver found in the cache\n"
     ]
    },
    {
     "name": "stdout",
     "output_type": "stream",
     "text": [
      "https://smart-lab.ru/q/YRSBP/f/q/RSBU/download/\n"
     ]
    },
    {
     "name": "stderr",
     "output_type": "stream",
     "text": [
      "There was an error managing chromedriver (error sending request for url (https://googlechromelabs.github.io/chrome-for-testing/known-good-versions-with-downloads.json): error trying to connect: tcp connect error: Попытка установить соединение была безуспешной, т.к. от другого компьютера за требуемое время не получен нужный отклик, или было разорвано уже установленное соединение из-за неверного отклика уже подключенного компьютера. (os error 10060)); using driver found in the cache\n"
     ]
    },
    {
     "name": "stdout",
     "output_type": "stream",
     "text": [
      "https://smart-lab.ru/q/ZILL/f/y/MSFO/download/\n"
     ]
    },
    {
     "name": "stderr",
     "output_type": "stream",
     "text": [
      "There was an error managing chromedriver (error sending request for url (https://googlechromelabs.github.io/chrome-for-testing/known-good-versions-with-downloads.json): error trying to connect: tcp connect error: Попытка установить соединение была безуспешной, т.к. от другого компьютера за требуемое время не получен нужный отклик, или было разорвано уже установленное соединение из-за неверного отклика уже подключенного компьютера. (os error 10060)); using driver found in the cache\n"
     ]
    },
    {
     "name": "stdout",
     "output_type": "stream",
     "text": [
      "https://smart-lab.ru/q/ZILL/f/y/RSBU/download/\n"
     ]
    },
    {
     "name": "stderr",
     "output_type": "stream",
     "text": [
      "There was an error managing chromedriver (error sending request for url (https://googlechromelabs.github.io/chrome-for-testing/known-good-versions-with-downloads.json): error trying to connect: tcp connect error: Попытка установить соединение была безуспешной, т.к. от другого компьютера за требуемое время не получен нужный отклик, или было разорвано уже установленное соединение из-за неверного отклика уже подключенного компьютера. (os error 10060)); using driver found in the cache\n"
     ]
    },
    {
     "name": "stdout",
     "output_type": "stream",
     "text": [
      "https://smart-lab.ru/q/ZILL/f/q/MSFO/download/\n"
     ]
    },
    {
     "name": "stderr",
     "output_type": "stream",
     "text": [
      "There was an error managing chromedriver (error sending request for url (https://googlechromelabs.github.io/chrome-for-testing/known-good-versions-with-downloads.json): error trying to connect: tcp connect error: Попытка установить соединение была безуспешной, т.к. от другого компьютера за требуемое время не получен нужный отклик, или было разорвано уже установленное соединение из-за неверного отклика уже подключенного компьютера. (os error 10060)); using driver found in the cache\n"
     ]
    },
    {
     "name": "stdout",
     "output_type": "stream",
     "text": [
      "https://smart-lab.ru/q/ZILL/f/q/RSBU/download/\n"
     ]
    },
    {
     "name": "stderr",
     "output_type": "stream",
     "text": [
      "There was an error managing chromedriver (error sending request for url (https://googlechromelabs.github.io/chrome-for-testing/known-good-versions-with-downloads.json): error trying to connect: tcp connect error: Попытка установить соединение была безуспешной, т.к. от другого компьютера за требуемое время не получен нужный отклик, или было разорвано уже установленное соединение из-за неверного отклика уже подключенного компьютера. (os error 10060)); using driver found in the cache\n"
     ]
    },
    {
     "name": "stdout",
     "output_type": "stream",
     "text": [
      "https://smart-lab.ru/q/ZVEZ/f/y/MSFO/download/\n"
     ]
    },
    {
     "name": "stderr",
     "output_type": "stream",
     "text": [
      "There was an error managing chromedriver (error sending request for url (https://googlechromelabs.github.io/chrome-for-testing/known-good-versions-with-downloads.json): error trying to connect: tcp connect error: Попытка установить соединение была безуспешной, т.к. от другого компьютера за требуемое время не получен нужный отклик, или было разорвано уже установленное соединение из-за неверного отклика уже подключенного компьютера. (os error 10060)); using driver found in the cache\n"
     ]
    },
    {
     "name": "stdout",
     "output_type": "stream",
     "text": [
      "https://smart-lab.ru/q/ZVEZ/f/y/RSBU/download/\n"
     ]
    },
    {
     "name": "stderr",
     "output_type": "stream",
     "text": [
      "There was an error managing chromedriver (error sending request for url (https://googlechromelabs.github.io/chrome-for-testing/known-good-versions-with-downloads.json): error trying to connect: tcp connect error: Попытка установить соединение была безуспешной, т.к. от другого компьютера за требуемое время не получен нужный отклик, или было разорвано уже установленное соединение из-за неверного отклика уже подключенного компьютера. (os error 10060)); using driver found in the cache\n"
     ]
    },
    {
     "name": "stdout",
     "output_type": "stream",
     "text": [
      "https://smart-lab.ru/q/ZVEZ/f/q/MSFO/download/\n"
     ]
    },
    {
     "name": "stderr",
     "output_type": "stream",
     "text": [
      "There was an error managing chromedriver (error sending request for url (https://googlechromelabs.github.io/chrome-for-testing/known-good-versions-with-downloads.json): error trying to connect: tcp connect error: Попытка установить соединение была безуспешной, т.к. от другого компьютера за требуемое время не получен нужный отклик, или было разорвано уже установленное соединение из-за неверного отклика уже подключенного компьютера. (os error 10060)); using driver found in the cache\n"
     ]
    },
    {
     "name": "stdout",
     "output_type": "stream",
     "text": [
      "https://smart-lab.ru/q/ZVEZ/f/q/RSBU/download/\n"
     ]
    }
   ],
   "source": [
    "\n",
    "period = ['y', 'q']\n",
    "report = ['MSFO', 'RSBU']\n",
    "tickers = ['ABRD','AFKS','AFLT','AKRN','ALBK','ALNU','ALRS','AMEZ','APTK','ARSA','ASSB','BANE','BANEP','BELU','BISV','BISVP','BLNG','BRZL','BSPB',\n",
    "          'BSPBP','CBOM','CHGZ','CHKZ','CHMF','CHMK','CNTL','CNTLP','DASB','DELI','DSKY','DVEC','DZRD','DZRDP','EELT','ELFV','ELTZ','EUTR','ENPG',\n",
    "          'FESH','FIVE','GAZA','GAZAP','GAZP','GCHE','GECO','GEMA','GEMC','GMKN','GTLC','GTRK','HALS','HHRU','HIMC','HNFG','HIMCP','IDVP','IGST',\n",
    "          'IGSTP','IRAO','IRGZ','IRKT','ISKJ','JNOS','JNOSP','KAZT','KAZTP','KBSB','KBTK','KCHE','KCHEP','KGKC','KGKCP','KLSB','KMAZ','KMEZ','KOGK',\n",
    "          'KRKN','KRKNP','KRKO','KRKOP','KROT','KROTP','KRSB','KRSBP','KTSB','KTSBP','KUBE','KUZB','KZOS','KZOSP','LKOH','LNTA','LNZL','LNZLP','LPSB',\n",
    "          'LSNG','LSNGP','LSRG','LVHK','MAGE','MAGEP','MAGN','MERF','MFGS','MGKL','MFGSP','MGNT','MGNZ','MGTS','MGTSP','MISB','MISBP','MOEX','ABIO',\n",
    "          'AGRO','ASTR','AQUA','AVAN','CARM','CIAN','DIAS','DIOD','ETLN','ENRU','FEES','FIXP','FLOT','GLTR','GRNT','HMSG','HYDR','INGR','LIFE','MDMG',\n",
    "          'OKEY','NKSH','OZON','QIWI','ROST','RSTI','SIBN','SMLT','STSB','TRMK','UPRO','WTCM','YNDX','MRKC','MRKK','MRKP','MRKS','MRKU','MRKV','MRKY',\n",
    "          'MRKZ','MRSB','MSNG','MSRS','MSTT','MTLR','MTLRP','MTSS','MVID','NAUK','NFAZ','NKHP','NKNC','NKNCP','NLMK','NMTP','NNSB','NNSBP','NSVZ',\n",
    "          'NVTK','OGKB','OMZZP','PAZA','PHOR','PIKK','PLZL','PMSB','PMSBP','POLY','POSI','PRFN','PRMB','RASP','RDRB','RBCM','RENI','RGSS','RKKE',\n",
    "          'RNFT','ROLO','ROSB','ROSN','RTGZ','RTKM','RTKMP','RTSB','RTSBP','RUAL','RUGR','RUSI','RUSP','RZSB','SAGO','SAGOP','SARE','SAREP','SBER',\n",
    "          'SELG','SBERP','SFIN','SGZH','SLEN','SNGS','SNGSP','SOFL','SPBE','STSBP','SVCB','SVAV','SVET','TASB','TASBP','TATN','TATNP','TCSG','TGKA',\n",
    "          'TGKB','TGKBP','TGKN','TNSE','TORS','TORSP','TRNFP','TTLK','TUZA','UCSS','UGLD','UKUZ','UNAC','UNKL','URKZ','USBN','UTAR','UWGN','VGSB',\n",
    "          'VGSBP','VJGZ','VJGZP','VKCO','VLHZ','VRSB','VRSBP','VSMO','VSYD','VSYDP','VTBR','WTCMP','WUSH','YAKG','YKEN','YKENP','YRSB','YRSBP','ZILL',\n",
    "          'ZVEZ']\n",
    "empty = []\n",
    "for tick in tickers:    \n",
    "    for i in period:\n",
    "        for j in report:\n",
    "            driver = webdriver.Chrome()\n",
    "            url = 'https://smart-lab.ru/q/' + tick + '/f/' + i + '/' + j + '/download/'\n",
    "            print(url)\n",
    "            try:\n",
    "                driver.get(url)\n",
    "                time.sleep(1)\n",
    "            except:\n",
    "                empty.append(tick + '_' + i + '_' + j)\n",
    "                break\n",
    "            finally:\n",
    "                                \n",
    "                driver.close()\n",
    "                driver.quit()\n",
    "                time.sleep(5)"
   ]
  },
  {
   "cell_type": "code",
   "execution_count": 44,
   "id": "1f84bd7a-d4cf-4406-b2c9-d607994058b3",
   "metadata": {},
   "outputs": [
    {
     "data": {
      "text/plain": [
       "[]"
      ]
     },
     "execution_count": 44,
     "metadata": {},
     "output_type": "execute_result"
    }
   ],
   "source": [
    "empty"
   ]
  },
  {
   "cell_type": "code",
   "execution_count": 33,
   "id": "5985e982-f655-4871-8ba2-69f961ebac12",
   "metadata": {},
   "outputs": [
    {
     "data": {
      "text/plain": [
       "['ABRD',\n",
       " 'AFKS',\n",
       " 'AFLT',\n",
       " 'AKRN',\n",
       " 'ALBK',\n",
       " 'ALNU',\n",
       " 'ALRS',\n",
       " 'AMEZ',\n",
       " 'APTK',\n",
       " 'ARSA',\n",
       " 'ASSB',\n",
       " 'BANE',\n",
       " 'BANEP',\n",
       " 'BELU',\n",
       " 'BISV',\n",
       " 'BISVP',\n",
       " 'BLNG',\n",
       " 'BRZL',\n",
       " 'BSPB',\n",
       " 'BSPBP',\n",
       " 'CBOM',\n",
       " 'CHGZ',\n",
       " 'CHKZ',\n",
       " 'CHMF',\n",
       " 'CHMK',\n",
       " 'CNTL',\n",
       " 'CNTLP',\n",
       " 'DASB',\n",
       " 'DELI',\n",
       " 'DSKY',\n",
       " 'DVEC',\n",
       " 'DZRD',\n",
       " 'DZRDP',\n",
       " 'EELT',\n",
       " 'ELFV',\n",
       " 'ELTZ',\n",
       " 'EUTR',\n",
       " 'ENPG',\n",
       " 'FESH',\n",
       " 'FIVE',\n",
       " 'GAZA',\n",
       " 'GAZAP',\n",
       " 'GAZP',\n",
       " 'GCHE',\n",
       " 'GECO',\n",
       " 'GEMA',\n",
       " 'GEMC',\n",
       " 'GMKN',\n",
       " 'GTLC',\n",
       " 'GTRK',\n",
       " 'HALS',\n",
       " 'HHRU',\n",
       " 'HIMC',\n",
       " 'HNFG',\n",
       " 'HIMCP',\n",
       " 'IDVP',\n",
       " 'IGST',\n",
       " 'IGSTP',\n",
       " 'IRAO',\n",
       " 'IRGZ',\n",
       " 'IRKT',\n",
       " 'ISKJ',\n",
       " 'JNOS',\n",
       " 'JNOSP',\n",
       " 'KAZT',\n",
       " 'KAZTP',\n",
       " 'KBSB',\n",
       " 'KBTK',\n",
       " 'KCHE',\n",
       " 'KCHEP',\n",
       " 'KGKC',\n",
       " 'KGKCP',\n",
       " 'KLSB',\n",
       " 'KMAZ',\n",
       " 'KMEZ',\n",
       " 'KOGK',\n",
       " 'KRKN',\n",
       " 'KRKNP',\n",
       " 'KRKO',\n",
       " 'KRKOP',\n",
       " 'KROT',\n",
       " 'KROTP',\n",
       " 'KRSB',\n",
       " 'KRSBP',\n",
       " 'KTSB',\n",
       " 'KTSBP',\n",
       " 'KUBE',\n",
       " 'KUZB',\n",
       " 'KZOS',\n",
       " 'KZOSP',\n",
       " 'LKOH',\n",
       " 'LNTA',\n",
       " 'LNZL',\n",
       " 'LNZLP',\n",
       " 'LPSB',\n",
       " 'LSNG',\n",
       " 'LSNGP',\n",
       " 'LSRG',\n",
       " 'LVHK',\n",
       " 'MAGE',\n",
       " 'MAGEP',\n",
       " 'MAGN',\n",
       " 'MERF',\n",
       " 'MFGS',\n",
       " 'MGKL',\n",
       " 'MFGSP',\n",
       " 'MGNT',\n",
       " 'MGNZ',\n",
       " 'MGTS',\n",
       " 'MGTSP',\n",
       " 'MISB',\n",
       " 'MISBP',\n",
       " 'MOEX',\n",
       " 'ABIO',\n",
       " 'AGRO',\n",
       " 'ASTR',\n",
       " 'AQUA',\n",
       " 'AVAN',\n",
       " 'CARM',\n",
       " 'CIAN',\n",
       " 'DIAS',\n",
       " 'DIOD',\n",
       " 'ETLN',\n",
       " 'ENRU',\n",
       " 'FEES',\n",
       " 'FIXP',\n",
       " 'FLOT',\n",
       " 'GLTR',\n",
       " 'GRNT',\n",
       " 'HMSG',\n",
       " 'HYDR',\n",
       " 'INGR',\n",
       " 'LIFE',\n",
       " 'MDMG',\n",
       " 'OKEY',\n",
       " 'NKSH',\n",
       " 'OZON',\n",
       " 'QIWI',\n",
       " 'ROST',\n",
       " 'RSTI',\n",
       " 'SIBN',\n",
       " 'SMLT',\n",
       " 'STSB',\n",
       " 'TRMK',\n",
       " 'UPRO',\n",
       " 'WTCM',\n",
       " 'YNDX',\n",
       " 'MRKC',\n",
       " 'MRKK',\n",
       " 'MRKP',\n",
       " 'MRKS',\n",
       " 'MRKU',\n",
       " 'MRKV',\n",
       " 'MRKY',\n",
       " 'MRKZ',\n",
       " 'MRSB',\n",
       " 'MSNG',\n",
       " 'MSRS',\n",
       " 'MSTT',\n",
       " 'MTLR',\n",
       " 'MTLRP',\n",
       " 'MTSS',\n",
       " 'MVID',\n",
       " 'NAUK',\n",
       " 'NFAZ',\n",
       " 'NKHP',\n",
       " 'NKNC',\n",
       " 'NKNCP',\n",
       " 'NLMK',\n",
       " 'NMTP',\n",
       " 'NNSB',\n",
       " 'NNSBP',\n",
       " 'NSVZ',\n",
       " 'NVTK',\n",
       " 'OGKB',\n",
       " 'OMZZP',\n",
       " 'PAZA',\n",
       " 'PHOR',\n",
       " 'PIKK',\n",
       " 'PLZL',\n",
       " 'PMSB',\n",
       " 'PMSBP',\n",
       " 'POLY',\n",
       " 'POSI',\n",
       " 'PRFN',\n",
       " 'PRMB',\n",
       " 'RASP',\n",
       " 'RDRB',\n",
       " 'RBCM',\n",
       " 'RENI',\n",
       " 'RGSS',\n",
       " 'RKKE',\n",
       " 'RNFT',\n",
       " 'ROLO',\n",
       " 'ROSB',\n",
       " 'ROSN',\n",
       " 'RTGZ',\n",
       " 'RTKM',\n",
       " 'RTKMP',\n",
       " 'RTSB',\n",
       " 'RTSBP',\n",
       " 'RUAL',\n",
       " 'RUGR',\n",
       " 'RUSI',\n",
       " 'RUSP',\n",
       " 'RZSB',\n",
       " 'SAGO',\n",
       " 'SAGOP',\n",
       " 'SARE',\n",
       " 'SAREP',\n",
       " 'SBER',\n",
       " 'SELG',\n",
       " 'SBERP',\n",
       " 'SFIN',\n",
       " 'SGZH',\n",
       " 'SLEN',\n",
       " 'SNGS',\n",
       " 'SNGSP',\n",
       " 'SOFL',\n",
       " 'SPBE',\n",
       " 'STSBP',\n",
       " 'SVCB',\n",
       " 'SVAV',\n",
       " 'SVET',\n",
       " 'TASB',\n",
       " 'TASBP',\n",
       " 'TATN',\n",
       " 'TATNP',\n",
       " 'TCSG',\n",
       " 'TGKA',\n",
       " 'TGKB',\n",
       " 'TGKBP',\n",
       " 'TGKN',\n",
       " 'TNSE',\n",
       " 'TORS',\n",
       " 'TORSP',\n",
       " 'TRNFP',\n",
       " 'TTLK',\n",
       " 'TUZA',\n",
       " 'UCSS',\n",
       " 'UGLD',\n",
       " 'UKUZ',\n",
       " 'UNAC',\n",
       " 'UNKL',\n",
       " 'URKZ',\n",
       " 'USBN',\n",
       " 'UTAR',\n",
       " 'UWGN',\n",
       " 'VGSB',\n",
       " 'VGSBP',\n",
       " 'VJGZ',\n",
       " 'VJGZP',\n",
       " 'VKCO',\n",
       " 'VLHZ',\n",
       " 'VRSB',\n",
       " 'VRSBP',\n",
       " 'VSMO',\n",
       " 'VSYD',\n",
       " 'VSYDP',\n",
       " 'VTBR',\n",
       " 'WTCMP',\n",
       " 'WUSH',\n",
       " 'YAKG',\n",
       " 'YKEN',\n",
       " 'YKENP',\n",
       " 'YRSB',\n",
       " 'YRSBP',\n",
       " 'ZILL',\n",
       " 'ZVEZ']"
      ]
     },
     "execution_count": 33,
     "metadata": {},
     "output_type": "execute_result"
    }
   ],
   "source": [
    "ticker"
   ]
  },
  {
   "cell_type": "code",
   "execution_count": 43,
   "id": "e3666166-da2a-406e-8970-7391cf86be48",
   "metadata": {},
   "outputs": [
    {
     "data": {
      "text/plain": [
       "[]"
      ]
     },
     "execution_count": 43,
     "metadata": {},
     "output_type": "execute_result"
    }
   ],
   "source": [
    "empty"
   ]
  },
  {
   "cell_type": "code",
   "execution_count": 3,
   "id": "8864621e-8269-4ed8-b7a2-656c24dd4065",
   "metadata": {},
   "outputs": [
    {
     "name": "stdout",
     "output_type": "stream",
     "text": [
      "Requirement already satisfied: selenium in c:\\users\\msi-1\\appdata\\local\\programs\\python\\python312\\lib\\site-packages (4.19.0)\n",
      "Requirement already satisfied: urllib3<3,>=1.26 in c:\\users\\msi-1\\appdata\\local\\programs\\python\\python312\\lib\\site-packages (from urllib3[socks]<3,>=1.26->selenium) (2.2.1)\n",
      "Requirement already satisfied: trio~=0.17 in c:\\users\\msi-1\\appdata\\local\\programs\\python\\python312\\lib\\site-packages (from selenium) (0.25.0)\n",
      "Requirement already satisfied: trio-websocket~=0.9 in c:\\users\\msi-1\\appdata\\local\\programs\\python\\python312\\lib\\site-packages (from selenium) (0.11.1)\n",
      "Requirement already satisfied: certifi>=2021.10.8 in c:\\users\\msi-1\\appdata\\local\\programs\\python\\python312\\lib\\site-packages (from selenium) (2024.2.2)\n",
      "Requirement already satisfied: typing_extensions>=4.9.0 in c:\\users\\msi-1\\appdata\\local\\programs\\python\\python312\\lib\\site-packages (from selenium) (4.11.0)\n",
      "Requirement already satisfied: attrs>=23.2.0 in c:\\users\\msi-1\\appdata\\local\\programs\\python\\python312\\lib\\site-packages (from trio~=0.17->selenium) (23.2.0)\n",
      "Requirement already satisfied: sortedcontainers in c:\\users\\msi-1\\appdata\\local\\programs\\python\\python312\\lib\\site-packages (from trio~=0.17->selenium) (2.4.0)\n",
      "Requirement already satisfied: idna in c:\\users\\msi-1\\appdata\\local\\programs\\python\\python312\\lib\\site-packages (from trio~=0.17->selenium) (3.7)\n",
      "Requirement already satisfied: outcome in c:\\users\\msi-1\\appdata\\local\\programs\\python\\python312\\lib\\site-packages (from trio~=0.17->selenium) (1.3.0.post0)\n",
      "Requirement already satisfied: sniffio>=1.3.0 in c:\\users\\msi-1\\appdata\\local\\programs\\python\\python312\\lib\\site-packages (from trio~=0.17->selenium) (1.3.1)\n",
      "Requirement already satisfied: cffi>=1.14 in c:\\users\\msi-1\\appdata\\local\\programs\\python\\python312\\lib\\site-packages (from trio~=0.17->selenium) (1.16.0)\n",
      "Requirement already satisfied: wsproto>=0.14 in c:\\users\\msi-1\\appdata\\local\\programs\\python\\python312\\lib\\site-packages (from trio-websocket~=0.9->selenium) (1.2.0)\n",
      "Requirement already satisfied: pysocks!=1.5.7,<2.0,>=1.5.6 in c:\\users\\msi-1\\appdata\\local\\programs\\python\\python312\\lib\\site-packages (from urllib3[socks]<3,>=1.26->selenium) (1.7.1)\n",
      "Requirement already satisfied: pycparser in c:\\users\\msi-1\\appdata\\local\\programs\\python\\python312\\lib\\site-packages (from cffi>=1.14->trio~=0.17->selenium) (2.22)\n",
      "Requirement already satisfied: h11<1,>=0.9.0 in c:\\users\\msi-1\\appdata\\local\\programs\\python\\python312\\lib\\site-packages (from wsproto>=0.14->trio-websocket~=0.9->selenium) (0.14.0)\n",
      "Note: you may need to restart the kernel to use updated packages.\n"
     ]
    }
   ],
   "source": [
    "pip install selenium"
   ]
  }
 ],
 "metadata": {
  "kernelspec": {
   "display_name": "Python 3.12",
   "language": "python",
   "name": "my_python_3_8"
  },
  "language_info": {
   "codemirror_mode": {
    "name": "ipython",
    "version": 3
   },
   "file_extension": ".py",
   "mimetype": "text/x-python",
   "name": "python",
   "nbconvert_exporter": "python",
   "pygments_lexer": "ipython3",
   "version": "3.12.2"
  }
 },
 "nbformat": 4,
 "nbformat_minor": 5
}
