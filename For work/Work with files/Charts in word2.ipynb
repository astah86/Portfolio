{
 "cells": [
  {
   "cell_type": "code",
   "execution_count": 1,
   "id": "c1135a86",
   "metadata": {},
   "outputs": [],
   "source": [
    "import os\n",
    "import pandas as pd\n",
    "import numpy as np\n",
    "import json\n",
    "import shutil\n",
    "import datetime as dt\n",
    "import openpyxl\n",
    "import sys\n",
    "import docx\n",
    "from tkinter import Tk, filedialog\n",
    "from docx.enum.text import WD_ALIGN_PARAGRAPH\n",
    "from docx.shared import Pt, RGBColor"
   ]
  },
  {
   "cell_type": "code",
   "execution_count": 2,
   "id": "40e4f49b",
   "metadata": {},
   "outputs": [
    {
     "data": {
      "text/plain": [
       "'D://Michael//Data//Empire_November_2022//Results'"
      ]
     },
     "execution_count": 2,
     "metadata": {},
     "output_type": "execute_result"
    }
   ],
   "source": [
    "root = Tk() # pointing root to Tk() to use it as Tk() in program.\n",
    "root.withdraw() # Hides small tkinter window.\n",
    "root.attributes('-topmost', True) # Opened windows will be active. above all windows despite of selection.\n",
    "open_file = filedialog.askdirectory() # Returns opened path as str\n",
    "folder_png = open_file.replace(\"/\",\"//\")\n",
    "folder_png"
   ]
  },
  {
   "cell_type": "code",
   "execution_count": 21,
   "id": "74901c05",
   "metadata": {},
   "outputs": [],
   "source": [
    "def inch_to_cm(value):\n",
    "    return value / 2.54\n",
    "\n",
    "def findCap(s):\n",
    "    string = ''\n",
    "    for ele in str(s):\n",
    "        if ord(ele) >= 65 and ord(ele) <= 90:\n",
    "            string += ele\n",
    "    return string\n",
    "s = '//'\n",
    "\n",
    "openkey = 0\n",
    "for pathname in os.listdir(folder_png):\n",
    "    \n",
    "    \n",
    "    \n",
    "    tickers = pd.read_csv(folder_png[: folder_png.find('Results')] + 'Tickers//' + findCap(pathname) + '.csv')\n",
    "    Count_tickers = tickers.iloc[:,0].count()\n",
    "    \n",
    "    for pathname2 in os.listdir(folder_png + s + pathname):\n",
    "        \n",
    "        list_files = os.listdir(folder_png + s + pathname + s + pathname2)\n",
    "        n = 0\n",
    "        \n",
    "        \n",
    "        for filename in os.listdir(folder_png + s + pathname + s + pathname2):\n",
    "            if filename.count('TradeDetails') > 0:\n",
    "                trades = pd.read_excel(folder_png + s + pathname + s + pathname2 + s + filename, sheet_name = 'Origin_origin weights')\n",
    "                Count_trades = trades.iloc[:,0].count()\n",
    "\n",
    "        trades_processed = round(Count_trades * 100 / Count_tickers,1)\n",
    "\n",
    "        while n < len(list_files):\n",
    "\n",
    "            if (list_files[n].count('png') > 0) :\n",
    "                if openkey == 0:\n",
    "                    \n",
    "                    doc = docx.Document()\n",
    "                    doc.save(folder_png[:folder_png.rfind(\"/\") + 1] + \\\n",
    "                             folder_png[folder_png.find('Data//') + 6: folder_png.find('//Results')]  + '_Charts' +  '.docx')\n",
    "                    doc = docx.Document(folder_png[:folder_png.rfind(\"/\") + 1] + \\\n",
    "                                        folder_png[folder_png.find('Data//') + 6: folder_png.find('//Results')]  + '_Charts' +  '.docx')\n",
    "                    p = doc.add_paragraph('Portfolio name: ' + pathname + ' (' + str(trades_processed) + '% trades_processed)')\n",
    "                    p.alignment = WD_ALIGN_PARAGRAPH.CENTER \n",
    "                    p.style = doc.styles['Heading 1']\n",
    "                    p1 = doc.add_paragraph('Account type: ' + pathname2)\n",
    "                    p1.alignment = WD_ALIGN_PARAGRAPH.CENTER \n",
    "                    p1.style = doc.styles['Heading 1']\n",
    "                    doc.add_picture(folder_png + s + pathname + s + pathname2 + s + list_files[n], width=docx.shared.Inches(inch_to_cm(13.330)), height=docx.shared.Inches(inch_to_cm(9)))\n",
    "                    \n",
    "\n",
    "                    openkey = 1\n",
    "                else:\n",
    "                    p = doc.add_paragraph('Portfolio name: ' + pathname + ' (' + str(trades_processed) + '% trades_processed)')\n",
    "                    p.alignment = WD_ALIGN_PARAGRAPH.CENTER \n",
    "                    p.style = doc.styles['Heading 1']\n",
    "                    p1 = doc.add_paragraph('Account type: ' + pathname2)\n",
    "                    p1.alignment = WD_ALIGN_PARAGRAPH.CENTER \n",
    "                    p1.style = doc.styles['Heading 1']\n",
    "                    doc.add_picture(folder_png + s + pathname  + s + pathname2 + s + list_files[n], width=docx.shared.Inches(inch_to_cm(13.330)), height=docx.shared.Inches(inch_to_cm(9)))\n",
    "                    \n",
    "                   \n",
    "                        \n",
    "                \n",
    "            n += 1\n",
    "        p2 = doc.add_paragraph('Trades: ')\n",
    "        p2.style = doc.styles['Heading 3']\n",
    "        p2.alignment = WD_ALIGN_PARAGRAPH.CENTER \n",
    "\n",
    "        trades = 0\n",
    "        for png in os.listdir(folder_png + s + pathname + s + pathname2 + s + 'Trades'):\n",
    "            if ((png.count('png') > 0)):\n",
    "                doc.add_picture(folder_png + s + pathname + s + pathname2 + s + 'Trades' + s + png, width=docx.shared.Inches(inch_to_cm(13.330)), height=docx.shared.Inches(inch_to_cm(9)))\n",
    "                trades = 1\n",
    "        if trades == 0:\n",
    "            p2 = doc.add_paragraph('No Trades ')\n",
    "            p2.style = doc.styles['Heading 3']\n",
    "            p2.alignment = WD_ALIGN_PARAGRAPH.CENTER \n",
    "p.style.font.size = Pt(14)\n",
    "p2.style.font.size = Pt(12) \n",
    "p1.style.font.size = Pt(10)       \n",
    "doc.save(folder_png[:folder_png.rfind(\"/\") + 1] + \\\n",
    "                             folder_png[folder_png.find('Data//') + 6: folder_png.find('//Results')]  + '_Charts' +  '.docx')   \n"
   ]
  },
  {
   "cell_type": "code",
   "execution_count": 14,
   "id": "86b0c172",
   "metadata": {},
   "outputs": [
    {
     "data": {
      "text/plain": [
       "['Communication Services',\n",
       " 'Consumer Discretionary',\n",
       " 'Consumer Staples',\n",
       " 'Energy',\n",
       " 'Financial',\n",
       " 'Health Care',\n",
       " 'Industrial',\n",
       " 'Materials',\n",
       " 'Technology',\n",
       " 'The Real Estate',\n",
       " 'Utilities']"
      ]
     },
     "execution_count": 14,
     "metadata": {},
     "output_type": "execute_result"
    }
   ],
   "source": [
    "os.listdir(folder_png)"
   ]
  },
  {
   "cell_type": "code",
   "execution_count": null,
   "id": "15290867",
   "metadata": {},
   "outputs": [],
   "source": []
  }
 ],
 "metadata": {
  "kernelspec": {
   "display_name": "Python 3 (ipykernel)",
   "language": "python",
   "name": "python3"
  },
  "language_info": {
   "codemirror_mode": {
    "name": "ipython",
    "version": 3
   },
   "file_extension": ".py",
   "mimetype": "text/x-python",
   "name": "python",
   "nbconvert_exporter": "python",
   "pygments_lexer": "ipython3",
   "version": "3.11.7"
  }
 },
 "nbformat": 4,
 "nbformat_minor": 5
}
