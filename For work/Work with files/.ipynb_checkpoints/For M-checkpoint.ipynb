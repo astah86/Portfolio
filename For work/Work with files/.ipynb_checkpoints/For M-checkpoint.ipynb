{
 "cells": [
  {
   "cell_type": "code",
   "execution_count": 1,
   "id": "bb2d9f5c",
   "metadata": {},
   "outputs": [],
   "source": [
    "import os\n",
    "import pandas as pd\n",
    "import numpy as np\n",
    "import json\n",
    "import shutil\n",
    "import datetime as dt\n",
    "import openpyxl\n",
    "\n",
    "from pandas.io.excel import ExcelWriter"
   ]
  },
  {
   "cell_type": "code",
   "execution_count": 3,
   "id": "1084bd15",
   "metadata": {},
   "outputs": [
    {
     "name": "stdout",
     "output_type": "stream",
     "text": [
      "Collecting aspose-cells\n",
      "  Downloading aspose-cells-22.8.0.tar.gz (12.2 MB)\n",
      "Collecting JPype1>=1.2.1\n",
      "  Downloading JPype1-1.4.0-cp39-cp39-win_amd64.whl (344 kB)\n",
      "Building wheels for collected packages: aspose-cells\n",
      "  Building wheel for aspose-cells (setup.py): started\n",
      "  Building wheel for aspose-cells (setup.py): finished with status 'done'\n",
      "  Created wheel for aspose-cells: filename=aspose_cells-22.8.0-py3-none-any.whl size=12186927 sha256=f668522c33b792cfbd66d7880e0bfe2871a4a9f0ec4f59aba9d1546389115c88\n",
      "  Stored in directory: c:\\users\\m.astoshonok\\appdata\\local\\pip\\cache\\wheels\\b1\\6b\\3e\\fc23ab9e85d76c1070ec919886f76bd8eb1a8280e758f2157e\n",
      "Successfully built aspose-cells\n",
      "Installing collected packages: JPype1, aspose-cells\n",
      "Successfully installed JPype1-1.4.0 aspose-cells-22.8.0\n",
      "Note: you may need to restart the kernel to use updated packages.\n"
     ]
    }
   ],
   "source": [
    "pip install aspose-cells"
   ]
  },
  {
   "cell_type": "code",
   "execution_count": 3,
   "id": "c7c8d446",
   "metadata": {},
   "outputs": [
    {
     "name": "stdin",
     "output_type": "stream",
     "text": [
      "Enter name the gpoup of portfolios:  XLV-XLK-2\n"
     ]
    }
   ],
   "source": [
    "Portfolio = input('Enter name the gpoup of portfolios: ')\n",
    "pathresult = 'D:\\\\Michael\\\\Data\\\\' + Portfolio + '\\\\Auto\\\\Results\\\\'\n",
    "strategy = pd.read_csv('D:\\\\Michael\\\\Data\\\\' + Portfolio + '\\\\Auto\\\\PortfolioStrategy.csv', index_col = 'Portfolio')\n",
    "new = 'D:\\\\Michael\\\\Data\\\\' + Portfolio + '\\\\Auto\\\\For Marketing\\\\'\n",
    "trades = 'Individual Trades'\n",
    "os.mkdir(new)\n",
    "for pathname in os.listdir(pathresult):\n",
    "    os.mkdir(new + pathname)\n",
    "    os.mkdir(new + pathname + '\\\\' + trades)\n",
    "    Equity = pd.DataFrame()\n",
    "    for filename in os.listdir(pathresult + '\\\\' + pathname):\n",
    "        if ((filename[-4:] == 'rwch') and (filename.count('_') > 0) and (filename.count('$') == 0)) or ((filename[-3:] == 'png') and (filename.count('_') > 0) and (filename.count('$') == 0)) or ((filename[-4:] == 'xlsx') and (filename.count('stop') > 0)):\n",
    "            shutil.copy(pathresult + '\\\\' + pathname + '\\\\' + filename, new + pathname + '\\\\' + trades + '\\\\' + filename)\n",
    "        if ((filename[-3:] == 'png') and (filename.count('_') == 0) ) :\n",
    "            shutil.copy(pathresult + '\\\\' + pathname + '\\\\' + filename, new + pathname  + '\\\\' + pathname + '.png')\n",
    "        if ((filename[-4:] == 'rwch') and (filename.count('_') == 0) ) :\n",
    "            shutil.copy(pathresult + '\\\\' + pathname + '\\\\' + filename, new + pathname  + '\\\\' + pathname + '.rwch')\n",
    "            \n",
    "        if ((filename[-4:] == 'rwch') and (filename.count('$') == 1) ) :\n",
    "            shutil.copy(pathresult + '\\\\' + pathname + '\\\\' + filename, new + pathname  + '\\\\' + pathname + '_$' + '.rwch')\n",
    "        if ((filename[-3:] == 'png') and (filename.count('$') == 1) ) :\n",
    "            shutil.copy(pathresult + '\\\\' + pathname + '\\\\' + filename, new + pathname  + '\\\\' + pathname + '_$' + '.png')\n",
    "            \n",
    "          \n",
    "            \n",
    "        if ((filename[-4:] == 'xlsx') and (filename.count('Equities') > 0)) :\n",
    "            Equity = pd.read_excel(pathresult + pathname + '\\\\' + filename, sheet_name = strategy.loc[pathname,'Sheet'], usecols = ['Date', 'Origin_origin weights'], parse_dates = [0])\n",
    "            tradesmith = pd.read_excel(pathresult + pathname + '\\\\' + filename, sheet_name = 'PercentageEquities', usecols = [strategy.loc[pathname,'Strategy']])\n",
    "            \n",
    "            # for $ gain\n",
    "            # tradesmith = pd.read_excel(pathresult + pathname + '\\\\' + filename, sheet_name = 'Absolute equities', usecols = [strategy.loc[pathname,'Strategy']]) \n",
    "            \n",
    "            # for ROI\n",
    "            # tradesmith = pd.read_excel(pathresult + pathname + '\\\\' + filename, sheet_name = 'ROI equities', usecols = [strategy.loc[pathname,'Strategy']])\n",
    "            \n",
    "            # Absolute = pd.read_excel(pathresult + pathname + '\\\\' + filename, sheet_name = 'Absolute equities', usecols = ['Date', 'Origin_origin weights', strategy.loc[pathname,'Strategy'].replace('VQ pos size','origin weights')], parse_dates = [0])\n",
    "            Equity.insert(2, strategy.loc[pathname,'Strategy'], tradesmith)\n",
    "           \n",
    "   \n",
    "            Equity['Date'] = Equity['Date'].astype('datetime64[ns]').dt.strftime(\"%m/%d/%Y\")\n",
    "            \n",
    "            \n",
    "            # Absolute['Date'] = Absolute['Date'].astype('datetime64[ns]').dt.strftime(\"%m/%d/%Y\")\n",
    "            with ExcelWriter(new + pathname  + '\\\\' + pathname + ' equity curves.xlsx') as writer:\n",
    "                Equity.to_excel(writer,sheet_name='Percentage', index = False)\n",
    "            \n",
    "#                 Absolute.to_excel(writer, sheet_name='Absolute', index = False)#for $ equity\n",
    "            \n",
    "            \n",
    "        if ((filename[-4:] == 'xlsx') and (filename.count('TradeDetails') > 0)):\n",
    "            tradedetails = new + pathname + '\\\\' + pathname + ' trade details.xlsx'\n",
    "            shutil.copy(pathresult + '\\\\' + pathname + '\\\\' + filename, tradedetails)\n",
    "    wb = openpyxl.load_workbook(tradedetails)\n",
    "    sheet = wb.sheetnames\n",
    "    for i in sheet:\n",
    "        if (i != 'Origin_origin weights') and (i != strategy.loc[pathname,'Strategy']):\n",
    "            pfd = wb[i]\n",
    "            wb.remove(pfd)\n",
    "        \n",
    "    wb.save(tradedetails)\n",
    "    "
   ]
  },
  {
   "cell_type": "code",
   "execution_count": 8,
   "id": "67fbb10d-166b-4f43-8ad0-8d3db6d0d87c",
   "metadata": {},
   "outputs": [
    {
     "data": {
      "text/plain": [
       "'D:\\\\Michael\\\\Data\\\\Chaikin\\\\Auto\\\\For Marketing\\\\Chaikin Power Tactics\\\\Chaikin Power Tactics trade details.xlsx'"
      ]
     },
     "execution_count": 8,
     "metadata": {},
     "output_type": "execute_result"
    }
   ],
   "source": [
    "tradedetails"
   ]
  },
  {
   "cell_type": "code",
   "execution_count": null,
   "id": "d4a5e0b6-071d-45a7-9978-56d89c0add88",
   "metadata": {},
   "outputs": [],
   "source": [
    "Portfolio = input('Enter name the gpoup of portfolios: ')\n",
    "pathresult = 'D:\\\\Michael\\\\Data\\\\' + Portfolio + '\\\\Auto\\\\Results\\\\'\n",
    "# strategy = pd.read_csv('D:\\\\Michael\\\\Data\\\\' + Portfolio + '\\\\Auto\\\\PortfolioStrategy.csv', index_col = 'Portfolio')\n",
    "new = 'D:\\\\Michael\\\\Data\\\\' + Portfolio + '\\\\Auto\\\\For Marketing\\\\'\n",
    "trades = 'Individual Trades'\n",
    "os.mkdir(new)\n",
    "for pathname in os.listdir(pathresult):\n",
    "    os.mkdir(new + pathname)\n",
    "    os.mkdir(new + pathname + '\\\\' + trades)\n",
    "    Equity = pd.DataFrame()\n",
    "    for filename in os.listdir(pathresult + '\\\\' + pathname):\n",
    "        if ((filename[-4:] == 'rwch') and (filename.count('_') > 0) and (filename.count('$') == 0)) or ((filename[-3:] == 'png') and (filename.count('_') > 0) and (filename.count('$') == 0)) or ((filename[-4:] == 'xlsx') and (filename.count('stop') > 0)):\n",
    "            shutil.copy(pathresult + '\\\\' + pathname + '\\\\' + filename, new + pathname + '\\\\' + trades + '\\\\' + filename)\n",
    "        if ((filename[-3:] == 'png') and (filename.count('_') == 0) ) :\n",
    "            shutil.copy(pathresult + '\\\\' + pathname + '\\\\' + filename, new + pathname  + '\\\\' + pathname + '.png')\n",
    "        if ((filename[-4:] == 'rwch') and (filename.count('_') == 0) ) :\n",
    "            shutil.copy(pathresult + '\\\\' + pathname + '\\\\' + filename, new + pathname  + '\\\\' + pathname + '.rwch')\n",
    "            \n",
    "        if ((filename[-4:] == 'rwch') and (filename.count('$') == 1) ) :\n",
    "            shutil.copy(pathresult + '\\\\' + pathname + '\\\\' + filename, new + pathname  + '\\\\' + pathname + '_$' + '.rwch')\n",
    "        if ((filename[-3:] == 'png') and (filename.count('$') == 1) ) :\n",
    "            shutil.copy(pathresult + '\\\\' + pathname + '\\\\' + filename, new + pathname  + '\\\\' + pathname + '_$' + '.png')\n",
    "            \n",
    "          \n",
    "            \n",
    "        if ((filename[-4:] == 'xlsx') and (filename.count('Equities') > 0)) :\n",
    "            Equity = pd.read_excel(pathresult + pathname + '\\\\' + filename, sheet_name = strategy.loc[pathname,'Sheet'], usecols = ['Date', 'Origin_origin weights'], parse_dates = [0])\n",
    "            tradesmith = pd.read_excel(pathresult + pathname + '\\\\' + filename, sheet_name = 'PercentageEquities', usecols = [strategy.loc[pathname,'Strategy']])\n",
    "            Absolute = pd.read_excel(pathresult + pathname + '\\\\' + filename, sheet_name = 'Absolute equities', usecols = ['Date', 'Origin_origin weights', strategy.loc[pathname,'Strategy'].replace('VQ pos size','origin weights')], parse_dates = [0])\n",
    "            Equity.insert(2, strategy.loc[pathname,'Strategy'], tradesmith)\n",
    "           \n",
    "   \n",
    "            Equity['Date'] = Equity['Date'].astype('datetime64').dt.strftime(\"%m/%d/%Y\")\n",
    "            \n",
    "            \n",
    "            Absolute['Date'] = Absolute['Date'].astype('datetime64').dt.strftime(\"%m/%d/%Y\")\n",
    "            with ExcelWriter(new + pathname  + '\\\\' + pathname + ' equity curves.xlsx') as writer:\n",
    "                Equity.to_excel(writer,sheet_name='Percentage', index = False)\n",
    "            \n",
    "#                 Absolute.to_excel(writer, sheet_name='Absolute', index = False)#for $ equity\n",
    "            \n",
    "            \n",
    "        if ((filename[-4:] == 'xlsx') and (filename.count('TradeDetails') > 0)):\n",
    "            tradedetails = new + pathname + '\\\\' + pathname + ' trade details.xlsx'\n",
    "            shutil.copy(pathresult + '\\\\' + pathname + '\\\\' + filename, tradedetails)\n",
    "    wb = openpyxl.load_workbook(tradedetails)\n",
    "    sheet = wb.sheetnames\n",
    "    for i in sheet:\n",
    "        if (i != 'Origin_origin weights') and (i != strategy.loc[pathname,'Strategy']):\n",
    "            pfd = wb[i]\n",
    "            wb.remove(pfd)\n",
    "        \n",
    "    wb.save(tradedetails)\n",
    "    "
   ]
  },
  {
   "cell_type": "markdown",
   "id": "d0386671",
   "metadata": {},
   "source": [
    "# ROI "
   ]
  },
  {
   "cell_type": "code",
   "execution_count": 4,
   "id": "1d89648f",
   "metadata": {},
   "outputs": [
    {
     "name": "stdout",
     "output_type": "stream",
     "text": [
      "Enter name the gpoup of portfolios: TBSOWS1\n"
     ]
    }
   ],
   "source": [
    "Portfolio = input('Enter name the gpoup of portfolios: ')\n",
    "pathresult = 'D:\\\\Michael\\\\Data\\\\' + Portfolio + '\\\\Auto\\\\Results\\\\'\n",
    "strategy = pd.read_csv('D:\\\\Michael\\\\Data\\\\' + Portfolio + '\\\\Auto\\\\PortfolioStrategy.csv', index_col = 'Portfolio')\n",
    "new = 'D:\\\\Michael\\\\Data\\\\' + Portfolio + '\\\\Auto\\\\For Marketing\\\\'\n",
    "trades = 'Individual Trades'\n",
    "os.mkdir(new)\n",
    "for pathname in os.listdir(pathresult):\n",
    "    os.mkdir(new + pathname)\n",
    "    os.mkdir(new + pathname + '\\\\' + trades)\n",
    "    Equity = pd.DataFrame()\n",
    "    for filename in os.listdir(pathresult + '\\\\' + pathname):\n",
    "        if ((filename[-4:] == 'rwch') and (filename.count('_') > 0) and (filename.count('$') == 0)) or ((filename[-3:] == 'png') and (filename.count('_') > 0) and (filename.count('$') == 0)) or ((filename[-4:] == 'xlsx') and (filename.count('stop') > 0)):\n",
    "            shutil.copy(pathresult + '\\\\' + pathname + '\\\\' + filename, new + pathname + '\\\\' + trades + '\\\\' + filename)\n",
    "        if ((filename[-3:] == 'png') and (filename.count('_') == 0) ) :\n",
    "            shutil.copy(pathresult + '\\\\' + pathname + '\\\\' + filename, new + pathname  + '\\\\' + pathname + '.png')\n",
    "        if ((filename[-4:] == 'rwch') and (filename.count('_') == 0) ) :\n",
    "            shutil.copy(pathresult + '\\\\' + pathname + '\\\\' + filename, new + pathname  + '\\\\' + pathname + '.rwch')\n",
    "            \n",
    "        if ((filename[-4:] == 'rwch') and (filename.count('$') == 1) ) :\n",
    "            shutil.copy(pathresult + '\\\\' + pathname + '\\\\' + filename, new + pathname  + '\\\\' + pathname + '_$' + '.rwch')\n",
    "        if ((filename[-3:] == 'png') and (filename.count('$') == 1) ) :\n",
    "            shutil.copy(pathresult + '\\\\' + pathname + '\\\\' + filename, new + pathname  + '\\\\' + pathname + '_$' + '.png')\n",
    "            \n",
    "          \n",
    "            \n",
    "        if ((filename[-4:] == 'xlsx') and (filename.count('Equities') > 0)) :\n",
    "            Equity = pd.read_excel(pathresult + pathname + '\\\\' + filename, sheet_name = strategy.loc[pathname,'Sheet'], usecols = ['Date', 'Origin_origin weights'], parse_dates = [0])\n",
    "            tradesmith = pd.read_excel(pathresult + pathname + '\\\\' + filename, sheet_name = 'ROI equities', usecols = [strategy.loc[pathname,'Strategy']])\n",
    "            Absolute = pd.read_excel(pathresult + pathname + '\\\\' + filename, sheet_name = 'Absolute equities', usecols = ['Date', 'Origin_origin weights', strategy.loc[pathname,'Strategy'].replace('VQ pos size','origin weights')], parse_dates = [0])\n",
    "            Equity.insert(2, strategy.loc[pathname,'Strategy'], tradesmith)\n",
    "           \n",
    "   \n",
    "            Equity['Date'] = Equity['Date'].astype('datetime64').dt.strftime(\"%m/%d/%Y\")\n",
    "            \n",
    "            \n",
    "            Absolute['Date'] = Absolute['Date'].astype('datetime64').dt.strftime(\"%m/%d/%Y\")\n",
    "            with ExcelWriter(new + pathname  + '\\\\' + pathname + ' equity curves.xlsx') as writer:\n",
    "                Equity.to_excel(writer,sheet_name='Percentage', index = False)\n",
    "            \n",
    "#                 Absolute.to_excel(writer, sheet_name='Absolute', index = False)#for $ equity\n",
    "            \n",
    "            \n",
    "        if ((filename[-4:] == 'xlsx') and (filename.count('TradeDetails') > 0)):\n",
    "            tradedetails = new + pathname + '\\\\' + pathname + ' trade details.xlsx'\n",
    "            shutil.copy(pathresult + '\\\\' + pathname + '\\\\' + filename, tradedetails)\n",
    "    wb = openpyxl.load_workbook(tradedetails)\n",
    "    sheet = wb.sheetnames\n",
    "    for i in sheet:\n",
    "        if (i != 'Origin_origin weights') and (i != strategy.loc[pathname,'Strategy']):\n",
    "            pfd = wb[i]\n",
    "            wb.remove(pfd)\n",
    "        \n",
    "    wb.save(tradedetails)\n",
    "    "
   ]
  },
  {
   "cell_type": "code",
   "execution_count": null,
   "id": "88d863ca",
   "metadata": {},
   "outputs": [],
   "source": []
  }
 ],
 "metadata": {
  "kernelspec": {
   "display_name": "Python 3 (ipykernel)",
   "language": "python",
   "name": "python3"
  },
  "language_info": {
   "codemirror_mode": {
    "name": "ipython",
    "version": 3
   },
   "file_extension": ".py",
   "mimetype": "text/x-python",
   "name": "python",
   "nbconvert_exporter": "python",
   "pygments_lexer": "ipython3",
   "version": "3.12.4"
  }
 },
 "nbformat": 4,
 "nbformat_minor": 5
}
