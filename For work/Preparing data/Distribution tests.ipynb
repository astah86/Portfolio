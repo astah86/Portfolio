{
 "cells": [
  {
   "cell_type": "code",
   "execution_count": 1,
   "id": "d3c40ca9",
   "metadata": {},
   "outputs": [],
   "source": [
    "import os\n",
    "import pandas as pd\n",
    "import numpy as np\n",
    "import json\n",
    "import shutil\n",
    "import datetime as dt\n",
    "import openpyxl\n",
    "from IPython.display import clear_output\n",
    "from progress.bar import IncrementalBar\n",
    "import ipywidgets\n",
    "import ipywidgets as widgets\n",
    "import time, sys\n",
    "from IPython.display import clear_output\n",
    "import scipy.special as sps\n",
    "from scipy import *\n",
    "import warnings\n",
    "from scipy.stats import kurtosis\n",
    "from scipy.stats import skew\n",
    "from scipy import stats\n",
    "import statsmodels.api as sm\n",
    "import seaborn as sns\n",
    "import matplotlib.pyplot as plt"
   ]
  },
  {
   "cell_type": "code",
   "execution_count": 64,
   "id": "8c0003d7",
   "metadata": {},
   "outputs": [
    {
     "name": "stdout",
     "output_type": "stream",
     "text": [
      "Enter indicator name: SMITREND\n"
     ]
    }
   ],
   "source": [
    "mainpath = 'D:\\\\Michael\\\\Data\\\\Money movers\\\\Stats\\\\'\n",
    "Name = input('Enter indicator name: ')\n",
    "ID = mainpath + Name + '\\\\'\n",
    "n = 0\n",
    "for file in os.listdir(ID):\n",
    "    if n == 0:\n",
    "        IDfile1 = pd.read_csv(ID + file, usecols=['Profit'])\n",
    "    else:\n",
    "        IDfile2 = pd.read_csv(ID + file, usecols=['Profit'])\n",
    "    n = 1\n"
   ]
  },
  {
   "cell_type": "code",
   "execution_count": 69,
   "id": "621e406e",
   "metadata": {},
   "outputs": [
    {
     "name": "stdout",
     "output_type": "stream",
     "text": [
      "Sample X is normally distributed False\n",
      "Sample Y is normally distributed False\n",
      "The samples have equal variances False\n",
      "The samples are statistically distinguishable. Mann-Whitney test\n"
     ]
    },
    {
     "data": {
      "image/png": "[encoded data removed]",
      "text/plain": [
       "<Figure size 576x360 with 1 Axes>"
      ]
     },
     "metadata": {
      "needs_background": "light"
     },
     "output_type": "display_data"
    },
    {
     "data": {
      "image/png": "[encoded data removed]",
      "text/plain": [
       "<Figure size 576x360 with 1 Axes>"
      ]
     },
     "metadata": {
      "needs_background": "light"
     },
     "output_type": "display_data"
    }
   ],
   "source": [
    "X_shapiro = stats.shapiro(IDfile1.Profit)\n",
    "print(f'Sample X is normally distributed {X_shapiro[1] > 0.05}')\n",
    "Y_shapiro = stats.shapiro(IDfile2.Profit)\n",
    "print(f'Sample Y is normally distributed {Y_shapiro[1] > 0.05}')\n",
    "plt.figure(figsize=(8, 5))\n",
    "plt.hist(IDfile1, color='indigo', bins = 1000)\n",
    "plt.xlabel('Profit %')\n",
    "plt.ylabel('Frequency')\n",
    "plt.title('Distribution X');\n",
    "plt.figure(figsize=(8, 5))\n",
    "plt.hist(IDfile2, color='red', bins = 1000)\n",
    "plt.xlabel('Profit %')\n",
    "plt.ylabel('Frequency')\n",
    "plt.title('Distribution Y');\n",
    "XY_leven = stats.levene(IDfile1.Profit, IDfile2.Profit)\n",
    "print(f'The samples have equal variances {XY_leven[1] > 0.05}')\n",
    "\n",
    "if X_shapiro[1] > 0.05 and Y_shapiro[1] > 0.05:\n",
    "    if XY_leven > 0.05:\n",
    "        XY_student = stats.ttest_ind(IDfile1.Profit, IDfile2.Profit, equal_var=True)\n",
    "        if XY_student[1] > 0.05:\n",
    "            print('The samples are statistically indistinguishable. Student test')\n",
    "        else:\n",
    "            print('The samples are statistically distinguishable. Student test')\n",
    "    else:\n",
    "        XY_welch = stats.ttest_ind(IDfile1.Profit, IDfile2.Profit, equal_var=False)\n",
    "\n",
    "        if XY_welch[1] > 0.05:\n",
    "            print('The samples are statistically indistinguishable. Welch test')\n",
    "        else:\n",
    "            print('The samples are statistically distinguishable. Welch test')\n",
    "else:\n",
    "    XY_mann_whitney = stats.mannwhitneyu(IDfile1.Profit, IDfile2.Profit)\n",
    "    if XY_mann_whitney[1] > 0.05:\n",
    "        print('The samples are statistically indistinguishable. Mann-Whitney test')\n",
    "    else:\n",
    "        print('The samples are statistically distinguishable. Mann-Whitney test')"
   ]
  },
  {
   "cell_type": "code",
   "execution_count": 66,
   "id": "5073e056",
   "metadata": {},
   "outputs": [],
   "source": [
    "m1 = IDfile1[IDfile1.Profit > 0].shape[0]\n",
    "n1 = IDfile1.shape[0]\n",
    "m2 = IDfile2[IDfile2.Profit > 0].shape[0]\n",
    "n2 = IDfile2.shape[0]\n"
   ]
  },
  {
   "cell_type": "code",
   "execution_count": 70,
   "id": "ff42d906",
   "metadata": {},
   "outputs": [
    {
     "name": "stdout",
     "output_type": "stream",
     "text": [
      "The indicator has confirmed its effectiveness\n"
     ]
    }
   ],
   "source": [
    "T = (m2/n2 - m1/n1)/((m1 + m2)/(n1 + n2) * (1 - (m1 + m2)/(n1 + n2)) * (1/n1 + 1/n2))**0.5\n",
    "P = 1 - stats.norm.cdf(T)\n",
    "if P > 0.05:\n",
    "    print('The indicator has not confirmed its effectiveness')\n",
    "else:\n",
    "    print('The indicator has confirmed its effectiveness')"
   ]
  },
  {
   "cell_type": "code",
   "execution_count": null,
   "id": "c59c2e35",
   "metadata": {},
   "outputs": [],
   "source": []
  }
 ],
 "metadata": {
  "kernelspec": {
   "display_name": "Python 3 (ipykernel)",
   "language": "python",
   "name": "python3"
  },
  "language_info": {
   "codemirror_mode": {
    "name": "ipython",
    "version": 3
   },
   "file_extension": ".py",
   "mimetype": "text/x-python",
   "name": "python",
   "nbconvert_exporter": "python",
   "pygments_lexer": "ipython3",
   "version": "3.9.7"
  }
 },
 "nbformat": 4,
 "nbformat_minor": 5
}
