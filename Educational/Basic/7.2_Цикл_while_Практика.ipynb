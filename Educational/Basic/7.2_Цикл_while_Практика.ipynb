{
 "cells": [
  {
   "cell_type": "markdown",
   "metadata": {
    "id": "lqNU9N8PYi7B"
   },
   "source": [
    "1. По последним данным, население Торжка в 2020 году составляло 44 439 человек. Постепенно количество местных жителей снижается. Предположим, что с каждым годом население сокращается на 650 человек. Напишите цикл, который выводил бы на печать год и прогнозируемое число жителей Торжка, пока население не уменьшится до 40 тысяч человек."
   ]
  },
  {
   "cell_type": "code",
   "execution_count": 2,
   "metadata": {
    "id": "MvCpTC_tf-Hg"
   },
   "outputs": [
    {
     "name": "stdout",
     "output_type": "stream",
     "text": [
      "В  2021  году население Торжка будет -  43789  человек\n",
      "В  2022  году население Торжка будет -  43139  человек\n",
      "В  2023  году население Торжка будет -  42489  человек\n",
      "В  2024  году население Торжка будет -  41839  человек\n",
      "В  2025  году население Торжка будет -  41189  человек\n",
      "В  2026  году население Торжка будет -  40539  человек\n",
      "В  2027  году население Торжка будет -  39889  человек\n"
     ]
    }
   ],
   "source": [
    "population = 44439\n",
    "year = 2020\n",
    "while population >= 40000:\n",
    "    population -= 650\n",
    "    year += 1\n",
    "    print ('В ', year, ' году население Торжка будет - ', population, ' человек')\n"
   ]
  },
  {
   "cell_type": "markdown",
   "metadata": {
    "id": "svsxVq2rhzFJ"
   },
   "source": [
    "2. При помощи цикла `while`, напишите программу, которая просит ввести любое число и выводит в ответ его квадрат. Программа должна повторять это действие бесконечно. Но, если человек вводит число 5, программа выводит на печать «дурак опять» и прекращает работать."
   ]
  },
  {
   "cell_type": "code",
   "execution_count": 3,
   "metadata": {
    "id": "J7crePstChLr"
   },
   "outputs": [
    {
     "name": "stdout",
     "output_type": "stream",
     "text": [
      "Введите целое число: 7\n",
      "49\n",
      "Введите целое число: 4\n",
      "16\n",
      "Введите целое число: 7\n",
      "49\n",
      "Введите целое число: 5\n",
      "Дурак опять!\n"
     ]
    }
   ],
   "source": [
    "while True:\n",
    "    number = int(input('Введите целое число: '))\n",
    "    if number != 5:\n",
    "        print(number**2)\n",
    "    else:\n",
    "        print('Дурак опять!')\n",
    "        break\n"
   ]
  },
  {
   "cell_type": "markdown",
   "metadata": {
    "id": "Awg_hkSN4r1Y"
   },
   "source": [
    "3. Напишите цикл с использованием `while` – `else`, стартовой точкой которого было бы 25. В каждом прохождении цикла число должно умножаться на 3 и выводиться на печать. Когда число превысит один миллион, цикл должен остановиться, а на печать нужно вывести \"стоп\"."
   ]
  },
  {
   "cell_type": "code",
   "execution_count": null,
   "metadata": {
    "id": "6NQn89iX4-AA"
   },
   "outputs": [],
   "source": [
    "# Старт\n",
    "a = 25\n",
    "\n",
    "# Цикл"
   ]
  },
  {
   "cell_type": "markdown",
   "metadata": {
    "id": "Y-iEWhGLiFPD"
   },
   "source": [
    "|\n",
    "\n",
    "|\n",
    "\n",
    "|\n",
    "\n",
    "|\n",
    "\n",
    "|\n",
    "\n",
    "|\n",
    "\n",
    "|\n",
    "\n",
    "|\n",
    "\n",
    "|\n",
    "\n",
    "|\n",
    "\n",
    "|\n",
    "\n",
    "|\n",
    "\n",
    "|\n",
    "\n",
    "## Решения"
   ]
  },
  {
   "cell_type": "markdown",
   "metadata": {
    "id": "R1HkHIokiEmf"
   },
   "source": [
    "1. По последним данным, население Торжка в 2020 году составляло 44 439 человек. Постепенно количество местных жителей снижается. Предположим, что с каждым годом население сокращается на 650 человек. Напишите цикл, который выводил бы на печать год и прогнозируемое число жителей Торжка, пока население не уменьшится до 40 тысяч человек."
   ]
  },
  {
   "cell_type": "code",
   "execution_count": 1,
   "metadata": {
    "colab": {
     "base_uri": "https://localhost:8080/"
    },
    "executionInfo": {
     "elapsed": 7,
     "status": "ok",
     "timestamp": 1645753281554,
     "user": {
      "displayName": "Евгения Миллер",
      "photoUrl": "https://lh3.googleusercontent.com/a-/AOh14Gj2X0dQicVOw3_uvDLm2AdkkDjMIUubVj8NCWQ6=s64",
      "userId": "01842992490389353651"
     },
     "user_tz": -180
    },
    "id": "gyaCUODciEmh",
    "outputId": "c5ce52c5-bcf6-4e4c-c712-7385ade4ae4b"
   },
   "outputs": [
    {
     "name": "stdout",
     "output_type": "stream",
     "text": [
      "2021 43789\n",
      "2022 43139\n",
      "2023 42489\n",
      "2024 41839\n",
      "2025 41189\n",
      "2026 40539\n",
      "2027 39889\n"
     ]
    }
   ],
   "source": [
    "population = 44439\n",
    "year = 2020\n",
    "while population >= 40000:\n",
    "    year += 1\n",
    "    population -= 650\n",
    "    print(year, population)"
   ]
  },
  {
   "cell_type": "markdown",
   "metadata": {
    "id": "n_hb7z6WiEmi"
   },
   "source": [
    "2. При помощи цикла `while`, напишите программу, которая просит ввести любое число и выводит в ответ его квадрат. Программа должна повторять это действие бесконечно. Но, если человек вводит число 5, программа выводит на печать «дурак опять» и прекращает работать."
   ]
  },
  {
   "cell_type": "code",
   "execution_count": 2,
   "metadata": {
    "colab": {
     "base_uri": "https://localhost:8080/"
    },
    "executionInfo": {
     "elapsed": 7062,
     "status": "ok",
     "timestamp": 1645753386104,
     "user": {
      "displayName": "Евгения Миллер",
      "photoUrl": "https://lh3.googleusercontent.com/a-/AOh14Gj2X0dQicVOw3_uvDLm2AdkkDjMIUubVj8NCWQ6=s64",
      "userId": "01842992490389353651"
     },
     "user_tz": -180
    },
    "id": "QT72t9m7iEmj",
    "outputId": "75f81898-0ae4-4fe0-9990-ad1f3e18c6d7"
   },
   "outputs": [
    {
     "name": "stdout",
     "output_type": "stream",
     "text": [
      "Введите число 44\n",
      "1936.0\n",
      "Введите число 24\n",
      "576.0\n",
      "Введите число 5\n",
      "Дурак опять\n"
     ]
    }
   ],
   "source": [
    "while True:\n",
    "    number = float(input('Введите число '))\n",
    "    if number == 5:\n",
    "        print('Дурак опять')\n",
    "        break\n",
    "    print(number**2)"
   ]
  },
  {
   "cell_type": "markdown",
   "metadata": {
    "id": "2w4UEA6iiEmk"
   },
   "source": [
    "3. Напишите цикл с использованием `while` – `else`, стартовой точкой которого было бы 25. В каждом прохождении цикла число должно умножаться на 3 и выводиться на печать. Когда число превысит один миллион, цикл должен остановиться, а на печать нужно вывести \"стоп\"."
   ]
  },
  {
   "cell_type": "code",
   "execution_count": 3,
   "metadata": {
    "colab": {
     "base_uri": "https://localhost:8080/"
    },
    "executionInfo": {
     "elapsed": 261,
     "status": "ok",
     "timestamp": 1645753595553,
     "user": {
      "displayName": "Евгения Миллер",
      "photoUrl": "https://lh3.googleusercontent.com/a-/AOh14Gj2X0dQicVOw3_uvDLm2AdkkDjMIUubVj8NCWQ6=s64",
      "userId": "01842992490389353651"
     },
     "user_tz": -180
    },
    "id": "nrkJ2hM3iEmk",
    "outputId": "3eea4800-855d-43cf-a509-e27f1f4aa3d3"
   },
   "outputs": [
    {
     "name": "stdout",
     "output_type": "stream",
     "text": [
      "75\n",
      "225\n",
      "675\n",
      "2025\n",
      "6075\n",
      "18225\n",
      "54675\n",
      "164025\n",
      "492075\n",
      "1476225\n",
      "Стоп\n"
     ]
    }
   ],
   "source": [
    "# Старт\n",
    "a = 25\n",
    "\n",
    "# Цикл\n",
    "while a <= 1000000:\n",
    "    a *= 3\n",
    "    print(a)\n",
    "else:\n",
    "    print('Стоп')"
   ]
  },
  {
   "cell_type": "code",
   "execution_count": null,
   "metadata": {
    "id": "roCefVTvjvOR"
   },
   "outputs": [],
   "source": []
  }
 ],
 "metadata": {
  "colab": {
   "collapsed_sections": [],
   "name": "7.2_Цикл_while_Практика.ipynb",
   "provenance": []
  },
  "kernelspec": {
   "display_name": "Python 3 (ipykernel)",
   "language": "python",
   "name": "python3"
  },
  "language_info": {
   "codemirror_mode": {
    "name": "ipython",
    "version": 3
   },
   "file_extension": ".py",
   "mimetype": "text/x-python",
   "name": "python",
   "nbconvert_exporter": "python",
   "pygments_lexer": "ipython3",
   "version": "3.9.7"
  }
 },
 "nbformat": 4,
 "nbformat_minor": 1
}
