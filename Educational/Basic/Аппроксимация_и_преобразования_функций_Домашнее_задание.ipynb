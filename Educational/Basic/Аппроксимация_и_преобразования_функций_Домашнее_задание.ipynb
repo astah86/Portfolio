{
 "cells": [
  {
   "cell_type": "markdown",
   "metadata": {
    "id": "-zOqnEVGugHU"
   },
   "source": [
    "# Блок 1.\n",
    "\n",
    "С помощью symPy найдите полиномы, описывающие данные наборы точек. Затем проведите полное исследование каждого полученного полинома: проверьте четность/нечетность, найдите нули, промежутки знакопостоянства. Постройте их графики. С помощью изменения промежутка для х добейтесь того, чтобы все нули были отображены на графике функции. <br><br><br>\n",
    "а) $(-4; -4268), (-3; -1227), (-1; -17), (1; 17), (3; 1227), (4; 4268)$<br><br>\n",
    "б)$ (-4; -16729), (-3; -3999), (-1; 5), (1; 1), (3; 4005), (4; 16735)$\n"
   ]
  },
  {
   "cell_type": "code",
   "execution_count": 1,
   "metadata": {
    "id": "mO8e_U97uxvk"
   },
   "outputs": [],
   "source": [
    "from sympy import *\n",
    "\n",
    "a0, a1, a2, a3, a4, a5 = symbols('a0, a1, a2, a3, a4, a5')"
   ]
  },
  {
   "cell_type": "code",
   "execution_count": 2,
   "metadata": {
    "id": "kc4GeXezBbiy"
   },
   "outputs": [],
   "source": [
    "eq1_lp = a5*(-4)**5 + a4*(-4)**4 + a3*(-4)**3 + a2*(-4)**2 + a1*(-4) + a0 + 4268\n",
    "eq2_lp = a5*(-3)**5 + a4*(-3)**4 + a3*(-3)**3 + a2*(-3)**2 + a1*(-3) + a0 + 1227\n",
    "eq3_lp = a5*(-1)**5 + a4*(-1)**4 + a3*(-1)**3 + a2*(-1)**2 + a1*(-1) + a0 + 17\n",
    "eq4_lp = a5*(1)**5 + a4*(1)**4 + a3*(1)**3 + a2*(1)**2 + a1*(1) + a0 - 17\n",
    "eq5_lp = a5*(3)**5 + a4*(3)**4 + a3*(3)**3 + a2*(3)**2 + a1*(3) + a0 - 1227\n",
    "eq6_lp = a5*(4)**5 + a4*(4)**4 + a3*(4)**3 + a2*(4)**2 + a1*(4) + a0 - 4268\n"
   ]
  },
  {
   "cell_type": "code",
   "execution_count": 3,
   "metadata": {
    "colab": {
     "base_uri": "https://localhost:8080/",
     "height": 37
    },
    "id": "khT7HWl4IygY",
    "outputId": "a54d39f8-0e0f-4f26-c97c-53211a70c1ed"
   },
   "outputs": [
    {
     "data": {
      "text/latex": [
       "$\\displaystyle \\left\\{\\left( 3, \\  0, \\  19, \\  0, \\  -5, \\  0\\right)\\right\\}$"
      ],
      "text/plain": [
       "FiniteSet((3, 0, 19, 0, -5, 0))"
      ]
     },
     "execution_count": 3,
     "metadata": {},
     "output_type": "execute_result"
    }
   ],
   "source": [
    "nonlinsolve([eq1_lp, eq2_lp, eq3_lp, eq4_lp, eq5_lp, eq6_lp], [a5, a4, a3, a2, a1, a0])"
   ]
  },
  {
   "cell_type": "code",
   "execution_count": 10,
   "metadata": {
    "colab": {
     "base_uri": "https://localhost:8080/",
     "height": 38
    },
    "id": "9qqw4Ih4J6_a",
    "outputId": "d2bf9a01-b27c-4d8d-8012-b5238240ff93"
   },
   "outputs": [
    {
     "data": {
      "text/latex": [
       "$\\displaystyle 3 x^{5} + 19 x^{3} - 5 x$"
      ],
      "text/plain": [
       "3*x**5 + 19*x**3 - 5*x"
      ]
     },
     "execution_count": 10,
     "metadata": {},
     "output_type": "execute_result"
    }
   ],
   "source": [
    "x = Symbol('x')\n",
    "f = 3*x**5 + 19*x**3 - 5*x\n",
    "f"
   ]
  },
  {
   "cell_type": "code",
   "execution_count": 11,
   "metadata": {
    "colab": {
     "base_uri": "https://localhost:8080/",
     "height": 38
    },
    "id": "8XaneHh-LA_F",
    "outputId": "7b0e209f-3b97-42c1-8d0c-6cd7eaff3671"
   },
   "outputs": [
    {
     "data": {
      "text/latex": [
       "$\\displaystyle - 3 x^{5} - 19 x^{3} + 5 x$"
      ],
      "text/plain": [
       "-3*x**5 - 19*x**3 + 5*x"
      ]
     },
     "execution_count": 11,
     "metadata": {},
     "output_type": "execute_result"
    }
   ],
   "source": [
    "f.subs(x,-x)"
   ]
  },
  {
   "cell_type": "markdown",
   "metadata": {
    "id": "D2ZkJH2ALGGM"
   },
   "source": [
    "Функция является нечетной"
   ]
  },
  {
   "cell_type": "code",
   "execution_count": 18,
   "metadata": {
    "colab": {
     "base_uri": "https://localhost:8080/",
     "height": 352
    },
    "id": "8Kymp-W4LMyw",
    "outputId": "0673bb4e-bb7a-4ba8-9fa7-7230f103972c"
   },
   "outputs": [
    {
     "data": {
      "image/png": "[encoded data removed]",
      "text/plain": [
       "<Figure size 432x288 with 1 Axes>"
      ]
     },
     "metadata": {
      "needs_background": "light"
     },
     "output_type": "display_data"
    },
    {
     "name": "stdout",
     "output_type": "stream",
     "text": [
      "Нули функции [0, -I*sqrt(19/6 + sqrt(421)/6), I*sqrt(19/6 + sqrt(421)/6), -sqrt(-19/6 + sqrt(421)/6), sqrt(-19/6 + sqrt(421)/6)]\n",
      "Фунция меньше нуля на промежутках ((0 < x) & (x < sqrt(-19/6 + sqrt(421)/6))) | ((-oo < x) & (x < -sqrt(-19/6 + sqrt(421)/6)))\n",
      "Фунция больше нуля на промежутках ((x < oo) & (sqrt(-19/6 + sqrt(421)/6) < x)) | ((x < 0) & (-sqrt(-19/6 + sqrt(421)/6) < x))\n"
     ]
    }
   ],
   "source": [
    "plot(f)\n",
    "print(f'Нули функции {solve(f)}')\n",
    "print(f'Фунция меньше нуля на промежутках {solve_univariate_inequality(f<0, x)}')\n",
    "print(f'Фунция больше нуля на промежутках {solve_univariate_inequality(f>0, x)}')\n"
   ]
  },
  {
   "cell_type": "code",
   "execution_count": 168,
   "metadata": {
    "id": "nYa8qN29VpGb"
   },
   "outputs": [],
   "source": [
    "eq1_lp = a5*(-4)**5 + a4*(-4)**4 + a3*(-4)**3 + a2*(-4)**2 + a1*(-4) + a0 + 16729\n",
    "eq2_lp = a5*(-3)**5 + a4*(-3)**4 + a3*(-3)**3 + a2*(-3)**2 + a1*(-3) + a0 + 3999\n",
    "eq3_lp = a5*(-1)**5 + a4*(-1)**4 + a3*(-1)**3 + a2*(-1)**2 + a1*(-1) + a0 - 5\n",
    "eq4_lp = a5*(1)**5 + a4*(1)**4 + a3*(1)**3 + a2*(1)**2 + a1*(1) + a0 - 1\n",
    "eq5_lp = a5*(3)**5 + a4*(3)**4 + a3*(3)**3 + a2*(3)**2 + a1*(3) + a0 - 4005\n",
    "eq6_lp = a5*(4)**5 + a4*(4)**4 + a3*(4)**3 + a2*(4)**2 + a1*(4) + a0 - 16735"
   ]
  },
  {
   "cell_type": "code",
   "execution_count": 169,
   "metadata": {
    "colab": {
     "base_uri": "https://localhost:8080/",
     "height": 37
    },
    "id": "RXQ5kN7tV7Fl",
    "outputId": "a5793d20-5700-49b4-b544-76cca1452f4f"
   },
   "outputs": [
    {
     "data": {
      "image/png": "[encoded data removed]",
      "text/latex": [
       "$\\displaystyle \\left\\{\\left( 16, \\  0, \\  7, \\  0, \\  -25, \\  3\\right)\\right\\}$"
      ],
      "text/plain": [
       "{(16, 0, 7, 0, -25, 3)}"
      ]
     },
     "execution_count": 169,
     "metadata": {},
     "output_type": "execute_result"
    }
   ],
   "source": [
    "nonlinsolve([eq1_lp, eq2_lp, eq3_lp, eq4_lp, eq5_lp, eq6_lp], [a5, a4, a3, a2, a1, a0])"
   ]
  },
  {
   "cell_type": "code",
   "execution_count": 173,
   "metadata": {
    "colab": {
     "base_uri": "https://localhost:8080/",
     "height": 38
    },
    "id": "rPCJ8En2V_QL",
    "outputId": "aa18cdc1-d663-4804-ae19-0e9d995ee13f"
   },
   "outputs": [
    {
     "data": {
      "image/png": "[encoded data removed]",
      "text/latex": [
       "$\\displaystyle 16 x^{5} + 7 x^{3} - 25 x + 3$"
      ],
      "text/plain": [
       "    5      3           \n",
       "16*x  + 7*x  - 25*x + 3"
      ]
     },
     "execution_count": 173,
     "metadata": {},
     "output_type": "execute_result"
    }
   ],
   "source": [
    "x = Symbol('x')\n",
    "f2 = 16*x**5 + 7*x**3 - 25*x + 3\n",
    "f2"
   ]
  },
  {
   "cell_type": "code",
   "execution_count": 38,
   "metadata": {
    "colab": {
     "base_uri": "https://localhost:8080/",
     "height": 38
    },
    "id": "gRcNMY-RWOa1",
    "outputId": "270ba44f-7a8c-4910-cbef-4122ce97170d"
   },
   "outputs": [
    {
     "data": {
      "text/latex": [
       "$\\displaystyle - 16 x^{5} - 7 x^{3} + 25 x + 3$"
      ],
      "text/plain": [
       "-16*x**5 - 7*x**3 + 25*x + 3"
      ]
     },
     "execution_count": 38,
     "metadata": {},
     "output_type": "execute_result"
    }
   ],
   "source": [
    "f2.subs(x,-x)"
   ]
  },
  {
   "cell_type": "code",
   "execution_count": 172,
   "metadata": {
    "colab": {
     "base_uri": "https://localhost:8080/",
     "height": 89
    },
    "id": "tclLAP5ZdD0M",
    "outputId": "3ee12295-b8bf-4c63-a93e-224b250ef814"
   },
   "outputs": [
    {
     "data": {
      "image/png": "[encoded data removed]",
      "text/latex": [
       "$\\displaystyle \\left[ - \\frac{5}{2} - \\frac{1}{4 \\left(- \\frac{1}{2} - \\frac{\\sqrt{3} i}{2}\\right) \\sqrt[3]{\\frac{3 \\sqrt{321}}{8} + \\frac{27}{4}}} - \\frac{\\left(- \\frac{1}{2} - \\frac{\\sqrt{3} i}{2}\\right) \\sqrt[3]{\\frac{3 \\sqrt{321}}{8} + \\frac{27}{4}}}{3}, \\  - \\frac{5}{2} - \\frac{\\left(- \\frac{1}{2} + \\frac{\\sqrt{3} i}{2}\\right) \\sqrt[3]{\\frac{3 \\sqrt{321}}{8} + \\frac{27}{4}}}{3} - \\frac{1}{4 \\left(- \\frac{1}{2} + \\frac{\\sqrt{3} i}{2}\\right) \\sqrt[3]{\\frac{3 \\sqrt{321}}{8} + \\frac{27}{4}}}, \\  - \\frac{5}{2} - \\frac{\\sqrt[3]{\\frac{3 \\sqrt{321}}{8} + \\frac{27}{4}}}{3} - \\frac{1}{4 \\sqrt[3]{\\frac{3 \\sqrt{321}}{8} + \\frac{27}{4}}}\\right]$"
      ],
      "text/plain": [
       "                                                                      ________________                             ________________                                                       ________________                           \n",
       "                                                 /        ___  \\     /     _____              /        ___  \\     /     _____                                                            /     _____                                 \n",
       "                                                 |  1   \\/ 3 *I|    /  3*\\/ 321    27         |  1   \\/ 3 *I|    /  3*\\/ 321    27                                                      /  3*\\/ 321    27                            \n",
       "                                                 |- - - -------|*3 /   --------- + --         |- - + -------|*3 /   --------- + --                                                   3 /   --------- + --                            \n",
       "   5                      1                      \\  2      2   / \\/        8       4      5   \\  2      2   / \\/        8       4                        1                       5   \\/        8       4                1            \n",
       "[- - - --------------------------------------- - -------------------------------------, - - - ------------------------------------- - ---------------------------------------, - - - --------------------- - -----------------------]\n",
       "   2                          ________________                     3                      2                     3                                            ________________    2             3                    ________________ \n",
       "         /        ___  \\     /     _____                                                                                                /        ___  \\     /     _____                                            /     _____       \n",
       "         |  1   \\/ 3 *I|    /  3*\\/ 321    27                                                                                           |  1   \\/ 3 *I|    /  3*\\/ 321    27                                      /  3*\\/ 321    27  \n",
       "       4*|- - - -------|*3 /   --------- + --                                                                                         4*|- - + -------|*3 /   --------- + --                                 4*3 /   --------- + --  \n",
       "         \\  2      2   / \\/        8       4                                                                                            \\  2      2   / \\/        8       4                                    \\/        8       4   "
      ]
     },
     "execution_count": 172,
     "metadata": {},
     "output_type": "execute_result"
    }
   ],
   "source": [
    "solve(f2)"
   ]
  },
  {
   "cell_type": "markdown",
   "metadata": {
    "id": "btsQ-y5fWQnv"
   },
   "source": [
    "Функция не является четной и нечетной"
   ]
  },
  {
   "cell_type": "code",
   "execution_count": 171,
   "metadata": {
    "colab": {
     "base_uri": "https://localhost:8080/",
     "height": 372
    },
    "id": "oj9y_SPDWcmp",
    "outputId": "f2e8afaf-64e4-4642-e1d2-d3fef1bd027e"
   },
   "outputs": [
    {
     "data": {
      "image/png": "[encoded data removed]",
      "text/plain": [
       "<Figure size 432x288 with 1 Axes>"
      ]
     },
     "metadata": {
      "needs_background": "light"
     },
     "output_type": "display_data"
    },
    {
     "name": "stdout",
     "output_type": "stream",
     "text": [
      "Нули функции [-5/2 - 1/(4*(-1/2 - sqrt(3)*I/2)*(3*sqrt(321)/8 + 27/4)**(1/3)) - (-1/2 - sqrt(3)*I/2)*(3*sqrt(321)/8 + 27/4)**(1/3)/3, -5/2 - (-1/2 + sqrt(3)*I/2)*(3*sqrt(321)/8 + 27/4)**(1/3)/3 - 1/(4*(-1/2 + sqrt(3)*I/2)*(3*sqrt(321)/8 + 27/4)**(1/3)), -5/2 - (3*sqrt(321)/8 + 27/4)**(1/3)/3 - 1/(4*(3*sqrt(321)/8 + 27/4)**(1/3))]\n",
      "Фунция меньше нуля на промежутках (-oo < x) & (x < -5/2 - (3*sqrt(321)/8 + 27/4)**(1/3)/3 - 1/(4*(3*sqrt(321)/8 + 27/4)**(1/3)))\n",
      "Фунция больше нуля на промежутках (x < oo) & (-5/2 - (3*sqrt(321)/8 + 27/4)**(1/3)/3 - 1/(4*(3*sqrt(321)/8 + 27/4)**(1/3)) < x)\n"
     ]
    }
   ],
   "source": [
    "plot(f2)\n",
    "print(f'Нули функции {solve(f2)}')\n",
    "print(f'Фунция меньше нуля на промежутках {solve_univariate_inequality(f2<0, x)}')\n",
    "print(f'Фунция больше нуля на промежутках {solve_univariate_inequality(f2>0, x)}')"
   ]
  },
  {
   "cell_type": "code",
   "execution_count": 27,
   "metadata": {
    "colab": {
     "base_uri": "https://localhost:8080/",
     "height": 37
    },
    "id": "DCH8ZIrNbmJy",
    "outputId": "e9e65752-fe1f-4761-c828-7cd89a1ae79d"
   },
   "outputs": [
    {
     "data": {
      "text/latex": [
       "$\\displaystyle -0.503038190843597$"
      ],
      "text/plain": [
       "-0.503038190843597"
      ]
     },
     "execution_count": 27,
     "metadata": {},
     "output_type": "execute_result"
    }
   ],
   "source": [
    "-sqrt(-19/6 + sqrt(421)/6).evalf()"
   ]
  },
  {
   "cell_type": "markdown",
   "metadata": {
    "id": "4jCUKC9CuyKO"
   },
   "source": [
    "# Блок 2."
   ]
  },
  {
   "cell_type": "code",
   "execution_count": 41,
   "metadata": {
    "id": "5ElcKCqet0wk"
   },
   "outputs": [],
   "source": [
    "from sympy import *\n",
    "from sympy.plotting import plot\n",
    "init_printing(use_unicode=False, wrap_line=False, no_global=True)"
   ]
  },
  {
   "cell_type": "code",
   "execution_count": 42,
   "metadata": {
    "id": "QwTY4Sq8t0w2"
   },
   "outputs": [],
   "source": [
    "import matplotlib.pyplot as plt\n",
    "import numpy as np"
   ]
  },
  {
   "cell_type": "code",
   "execution_count": 43,
   "metadata": {
    "id": "Y0t8k28Jt0xG"
   },
   "outputs": [],
   "source": [
    "x = Symbol('x')"
   ]
  },
  {
   "cell_type": "markdown",
   "metadata": {
    "id": "wLhMVWF9t0xQ"
   },
   "source": [
    "## 1.\n",
    "### Получите значение MSE меньшее 5."
   ]
  },
  {
   "cell_type": "code",
   "execution_count": 56,
   "metadata": {
    "id": "LX3-aD49t0xU"
   },
   "outputs": [],
   "source": [
    "def print_points_ands_function1(sympy_function):\n",
    "    def function(x_): return float(sympy_function.subs(x, x_))\n",
    "    \n",
    "    points_X = np.array([-2, -1, 0, 1, 2, 3, 3.5, 4, 4.5, 5])\n",
    "    points_Y = np.array([2, -4, 1, 8, 21, 40, 47, 65, 75, 92])\n",
    "    plt.xlim(-6, 10)\n",
    "    plt.ylim(-1, 100)\n",
    "    \n",
    "    plt.scatter(points_X, points_Y, c='r')\n",
    "    x_range = np.linspace(plt.xlim()[0], plt.xlim()[1], num=100)\n",
    "    function_Y = [function(x_) for x_ in x_range]\n",
    "    plt.plot(x_range, function_Y, 'b')\n",
    "    plt.show()\n",
    "    \n",
    "    MSE = sum([(points_Y[i] - function(points_X[i]))**2 for i in range(len(points_Y))]) / len(points_Y)\n",
    "    print(f'MSE = {MSE}')"
   ]
  },
  {
   "cell_type": "code",
   "execution_count": 57,
   "metadata": {
    "colab": {
     "base_uri": "https://localhost:8080/",
     "height": 38
    },
    "id": "tCcjAV0qt0xb",
    "outputId": "b389b188-d559-4cf2-8cdc-89a383d9bbf5"
   },
   "outputs": [
    {
     "data": {
      "image/png": "[encoded data removed]",
      "text/latex": [
       "$\\displaystyle 48 x^{2} - 128 x + 83$"
      ],
      "text/plain": [
       "    2             \n",
       "48*x  - 128*x + 83"
      ]
     },
     "execution_count": 57,
     "metadata": {},
     "output_type": "execute_result"
    }
   ],
   "source": [
    "f1 = 48 * x**2 - 128 * x + 83\n",
    "f1"
   ]
  },
  {
   "cell_type": "code",
   "execution_count": 100,
   "metadata": {
    "colab": {
     "base_uri": "https://localhost:8080/",
     "height": 38
    },
    "id": "RHGcJoL_ftMW",
    "outputId": "d5085dab-991d-463a-a1e8-99162b16e4ae"
   },
   "outputs": [
    {
     "data": {
      "image/png": "[encoded data removed]",
      "text/latex": [
       "$\\displaystyle 2.52631578947368 x^{2} + 5.38947368421053 x + 1.75157894736842$"
      ],
      "text/plain": [
       "                  2                                        \n",
       "2.52631578947368*x  + 5.38947368421053*x + 1.75157894736842"
      ]
     },
     "execution_count": 100,
     "metadata": {},
     "output_type": "execute_result"
    }
   ],
   "source": [
    "f1_new = f1/19 - 1\n",
    "f1_new = expand(f1_new.subs(x,x+2.4))\n",
    "f1_new"
   ]
  },
  {
   "cell_type": "code",
   "execution_count": 101,
   "metadata": {
    "colab": {
     "base_uri": "https://localhost:8080/",
     "height": 287
    },
    "id": "VQwDN4XLt0xl",
    "outputId": "46e93acb-04ab-4909-a5b2-a98229b5a1bc"
   },
   "outputs": [
    {
     "data": {
      "image/png": "[encoded data removed]",
      "text/plain": [
       "<Figure size 432x288 with 1 Axes>"
      ]
     },
     "metadata": {
      "needs_background": "light"
     },
     "output_type": "display_data"
    },
    {
     "name": "stdout",
     "output_type": "stream",
     "text": [
      "MSE = 4.276505263157886\n"
     ]
    }
   ],
   "source": [
    "print_points_ands_function1(f1_new)"
   ]
  },
  {
   "cell_type": "markdown",
   "metadata": {
    "id": "HRrtO4Lyt0xt"
   },
   "source": [
    "## 2.\n",
    "### Получите значение MSE меньшее 35."
   ]
  },
  {
   "cell_type": "code",
   "execution_count": 93,
   "metadata": {
    "id": "dm_YVXYgt0xw"
   },
   "outputs": [],
   "source": [
    "def print_points_ands_function2(sympy_function):\n",
    "    def function(x_): return float(sympy_function.subs(x, x_))\n",
    "    \n",
    "    points_X = np.array([-2, -1, 0, 1, 2, 3, 3.5, 4, 4.5, 5])\n",
    "    points_Y = np.array([-31, -9, 4, -1, 9, 24, 47, 92, 120, 170])\n",
    "    plt.xlim(-3, 6)\n",
    "    plt.ylim(-35, 200)\n",
    "    \n",
    "    plt.scatter(points_X, points_Y, c='r')\n",
    "    x_range = np.linspace(plt.xlim()[0], plt.xlim()[1], num=100)\n",
    "    function_Y = [function(x_) for x_ in x_range]\n",
    "    plt.plot(x_range, function_Y, 'b')\n",
    "    plt.show()\n",
    "    \n",
    "    MSE = sum([(points_Y[i] - function(points_X[i]))**2 for i in range(len(points_Y))]) / len(points_Y)\n",
    "    print(f'MSE = {MSE}')"
   ]
  },
  {
   "cell_type": "code",
   "execution_count": 94,
   "metadata": {
    "colab": {
     "base_uri": "https://localhost:8080/",
     "height": 38
    },
    "id": "7LMQiJDKt0x1",
    "outputId": "e951c259-405b-47d0-dd03-eda67fd9bf0a"
   },
   "outputs": [
    {
     "data": {
      "image/png": "[encoded data removed]",
      "text/latex": [
       "$\\displaystyle 4 x^{3} + 30 x^{2} + 74 x + 62$"
      ],
      "text/plain": [
       "   3       2            \n",
       "4*x  + 30*x  + 74*x + 62"
      ]
     },
     "execution_count": 94,
     "metadata": {},
     "output_type": "execute_result"
    }
   ],
   "source": [
    "f2 = 4 * x**3 + 30 * x**2 + 74 * x + 62\n",
    "f2"
   ]
  },
  {
   "cell_type": "code",
   "execution_count": 108,
   "metadata": {
    "colab": {
     "base_uri": "https://localhost:8080/",
     "height": 38
    },
    "id": "8cG3jRJzhFvW",
    "outputId": "d52f5b18-d3a0-43b2-fd5d-7740dff39f0b"
   },
   "outputs": [
    {
     "data": {
      "image/png": "[encoded data removed]",
      "text/latex": [
       "$\\displaystyle 2 x^{3} - 3 x^{2} + x + 1$"
      ],
      "text/plain": [
       "   3      2        \n",
       "2*x  - 3*x  + x + 1"
      ]
     },
     "execution_count": 108,
     "metadata": {},
     "output_type": "execute_result"
    }
   ],
   "source": [
    "f2_new = f2/2\n",
    "f2_new = expand(f2_new.subs(x,x-3))\n",
    "f2_new"
   ]
  },
  {
   "cell_type": "code",
   "execution_count": 109,
   "metadata": {
    "colab": {
     "base_uri": "https://localhost:8080/",
     "height": 287
    },
    "id": "SjwUXoCXt0x6",
    "outputId": "42e7c784-c6f6-4046-adbb-f6d149362fdc"
   },
   "outputs": [
    {
     "data": {
      "image/png": "[encoded data removed]",
      "text/plain": [
       "<Figure size 432x288 with 1 Axes>"
      ]
     },
     "metadata": {
      "needs_background": "light"
     },
     "output_type": "display_data"
    },
    {
     "name": "stdout",
     "output_type": "stream",
     "text": [
      "MSE = 34.725\n"
     ]
    }
   ],
   "source": [
    "\n",
    "print_points_ands_function2(f2_new)"
   ]
  },
  {
   "cell_type": "markdown",
   "metadata": {
    "id": "xYJNX-nUt0x_"
   },
   "source": [
    "## 3.\n",
    "### Получите значение MSE меньшее 3300."
   ]
  },
  {
   "cell_type": "code",
   "execution_count": 110,
   "metadata": {
    "id": "UNLnKjvit0yB"
   },
   "outputs": [],
   "source": [
    "def print_points_ands_function3(sympy_function):\n",
    "    def function(x_): return float(sympy_function.subs(x, x_))\n",
    "    \n",
    "    points_X = np.array([-2, -1, 0, 1, 2, 3, 3.5, 4, 4.5, 5])\n",
    "    points_Y = np.array([60, 25, 4, -0, -57, -195, -295, -540, -700, -760])\n",
    "    plt.xlim(-10, 6)\n",
    "    plt.ylim(-850, 100)\n",
    "    \n",
    "    plt.scatter(points_X, points_Y, c='r')\n",
    "    x_range = np.linspace(plt.xlim()[0], plt.xlim()[1], num=100)\n",
    "    function_Y = [function(x_) for x_ in x_range]\n",
    "    plt.plot(x_range, function_Y, 'b')\n",
    "    plt.show()\n",
    "    \n",
    "    MSE = sum([(points_Y[i] - function(points_X[i]))**2 for i in range(len(points_Y))]) / len(points_Y)\n",
    "    print(f'MSE = {MSE}')"
   ]
  },
  {
   "cell_type": "code",
   "execution_count": 111,
   "metadata": {
    "colab": {
     "base_uri": "https://localhost:8080/",
     "height": 38
    },
    "id": "osbCVOuIt0yH",
    "outputId": "19505d98-63f1-4b18-8804-db7cd80dc163"
   },
   "outputs": [
    {
     "data": {
      "image/png": "[encoded data removed]",
      "text/latex": [
       "$\\displaystyle - 36 x^{3} - 756 x^{2} - 5334 x - 12636$"
      ],
      "text/plain": [
       "      3        2                 \n",
       "- 36*x  - 756*x  - 5334*x - 12636"
      ]
     },
     "execution_count": 111,
     "metadata": {},
     "output_type": "execute_result"
    }
   ],
   "source": [
    "f3 = -36 * x**3 - 756 * x**2 - 5334 * x - 12636\n",
    "f3"
   ]
  },
  {
   "cell_type": "code",
   "execution_count": 145,
   "metadata": {
    "colab": {
     "base_uri": "https://localhost:8080/",
     "height": 38
    },
    "id": "ObpstZgdhOCM",
    "outputId": "6f069173-f6df-4484-cbf7-9f41ba111982"
   },
   "outputs": [
    {
     "data": {
      "image/png": "[encoded data removed]",
      "text/latex": [
       "$\\displaystyle - 7.05882352941177 x^{3} - 8.23529411764707 x + 6.17647058823559$"
      ],
      "text/plain": [
       "                    3                                        \n",
       "- 7.05882352941177*x  - 8.23529411764707*x + 6.17647058823559"
      ]
     },
     "execution_count": 145,
     "metadata": {},
     "output_type": "execute_result"
    }
   ],
   "source": [
    "f3_new = f3/5.1 +5\n",
    "f3_new = expand(f3_new.subs(x,x-7))\n",
    "f3_new"
   ]
  },
  {
   "cell_type": "code",
   "execution_count": 146,
   "metadata": {
    "colab": {
     "base_uri": "https://localhost:8080/",
     "height": 283
    },
    "id": "1T4lJVQPt0yR",
    "outputId": "ba603ff6-5d3c-49bc-dd31-d518ac938809"
   },
   "outputs": [
    {
     "data": {
      "image/png": "[encoded data removed]",
      "text/plain": [
       "<Figure size 432x288 with 1 Axes>"
      ]
     },
     "metadata": {
      "needs_background": "light"
     },
     "output_type": "display_data"
    },
    {
     "name": "stdout",
     "output_type": "stream",
     "text": [
      "MSE = 3088.6678200692027\n"
     ]
    }
   ],
   "source": [
    "print_points_ands_function3(f3_new)"
   ]
  },
  {
   "cell_type": "markdown",
   "metadata": {
    "id": "3jcBH1M3t0yZ"
   },
   "source": [
    "## 4.\n",
    "### Получите значение MSE меньшее 25."
   ]
  },
  {
   "cell_type": "code",
   "execution_count": 147,
   "metadata": {
    "id": "R4nnsc8zt0yb"
   },
   "outputs": [],
   "source": [
    "def print_points_ands_function4(sympy_function):\n",
    "    def function(x_): return float(sympy_function.subs(x, x_))\n",
    "    \n",
    "    points_X = np.array([-2, -1, 0, 1, 2, 3, 3.5, 4, 4.5, 5])\n",
    "    points_Y = np.array([-42, -37, -23, -36, -45, -80, -83, -110, -131, -155])\n",
    "    plt.xlim(-4, 20)\n",
    "    plt.ylim(-160, -10)\n",
    "    \n",
    "    plt.scatter(points_X, points_Y, c='r')\n",
    "    x_range = np.linspace(plt.xlim()[0], plt.xlim()[1], num=100)\n",
    "    function_Y = [function(x_) for x_ in x_range]\n",
    "    plt.plot(x_range, function_Y, 'b')\n",
    "    plt.show()\n",
    "    \n",
    "    MSE = sum([(points_Y[i] - function(points_X[i]))**2 for i in range(len(points_Y))]) / len(points_Y)\n",
    "    print(f'MSE = {MSE}')"
   ]
  },
  {
   "cell_type": "code",
   "execution_count": 152,
   "metadata": {
    "colab": {
     "base_uri": "https://localhost:8080/",
     "height": 38
    },
    "id": "Uq__GcfPt0yj",
    "outputId": "d095453f-c7cd-445a-f2b0-a97523c1e417"
   },
   "outputs": [
    {
     "data": {
      "image/png": "[encoded data removed]",
      "text/latex": [
       "$\\displaystyle - 1.25 x^{2} + 25 x - 152$"
      ],
      "text/plain": [
       "        2             \n",
       "- 1.25*x  + 25*x - 152"
      ]
     },
     "execution_count": 152,
     "metadata": {},
     "output_type": "execute_result"
    }
   ],
   "source": [
    "f4 = - 5 / 4 * x**2 + 25 * x - 152\n",
    "f4"
   ]
  },
  {
   "cell_type": "code",
   "execution_count": 150,
   "metadata": {
    "colab": {
     "base_uri": "https://localhost:8080/",
     "height": 38
    },
    "id": "F-tANt0wjBlp",
    "outputId": "2858a732-b10b-4244-9f21-8d5f677d5d83"
   },
   "outputs": [
    {
     "data": {
      "image/png": "[encoded data removed]",
      "text/latex": [
       "$\\displaystyle - 1.25 x^{2} - 27.0$"
      ],
      "text/plain": [
       "        2       \n",
       "- 1.25*x  - 27.0"
      ]
     },
     "execution_count": 150,
     "metadata": {},
     "output_type": "execute_result"
    }
   ],
   "source": [
    "f4_new = f4\n",
    "f4_new = expand(f4_new.subs(x,x + 10))\n",
    "f4_new"
   ]
  },
  {
   "cell_type": "code",
   "execution_count": 167,
   "metadata": {
    "colab": {
     "base_uri": "https://localhost:8080/",
     "height": 283
    },
    "id": "Muwpsp8tt0yp",
    "outputId": "64f120a5-141d-404f-882f-dcfd13e0b32f"
   },
   "outputs": [
    {
     "data": {
      "image/png": "[encoded data removed]",
      "text/plain": [
       "<Figure size 432x288 with 1 Axes>"
      ]
     },
     "metadata": {
      "needs_background": "light"
     },
     "output_type": "display_data"
    },
    {
     "name": "stdout",
     "output_type": "stream",
     "text": [
      "MSE = 19.4125\n"
     ]
    }
   ],
   "source": [
    "f4_new = f4 * 4 + 80\n",
    "f4_new = expand(f4_new.subs(x,x + 10))\n",
    "print_points_ands_function4(f4_new)"
   ]
  },
  {
   "cell_type": "code",
   "execution_count": null,
   "metadata": {
    "id": "oTNLmWfDt0yt"
   },
   "outputs": [],
   "source": []
  }
 ],
 "metadata": {
  "colab": {
   "collapsed_sections": [],
   "provenance": []
  },
  "kernelspec": {
   "display_name": "Python 3 (ipykernel)",
   "language": "python",
   "name": "python3"
  },
  "language_info": {
   "codemirror_mode": {
    "name": "ipython",
    "version": 3
   },
   "file_extension": ".py",
   "mimetype": "text/x-python",
   "name": "python",
   "nbconvert_exporter": "python",
   "pygments_lexer": "ipython3",
   "version": "3.9.7"
  }
 },
 "nbformat": 4,
 "nbformat_minor": 1
}
