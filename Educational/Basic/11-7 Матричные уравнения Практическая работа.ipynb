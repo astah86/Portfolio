{
 "cells": [
  {
   "cell_type": "code",
   "execution_count": 1,
   "id": "aa135a7c",
   "metadata": {},
   "outputs": [],
   "source": [
    "from sympy import *\n",
    "import numpy as np"
   ]
  },
  {
   "cell_type": "markdown",
   "id": "256d8835",
   "metadata": {},
   "source": [
    "# Задание 1"
   ]
  },
  {
   "cell_type": "code",
   "execution_count": 6,
   "id": "73f1cbb7",
   "metadata": {},
   "outputs": [
    {
     "name": "stdout",
     "output_type": "stream",
     "text": [
      "Матрица объектов:\n"
     ]
    },
    {
     "data": {
      "text/latex": [
       "$\\displaystyle \\left[\\begin{matrix}2 & 3\\\\0 & 1\\end{matrix}\\right]$"
      ],
      "text/plain": [
       "Matrix([\n",
       "[2, 3],\n",
       "[0, 1]])"
      ]
     },
     "metadata": {},
     "output_type": "display_data"
    },
    {
     "name": "stdout",
     "output_type": "stream",
     "text": [
      "Вектор ответов:\n"
     ]
    },
    {
     "data": {
      "text/latex": [
       "$\\displaystyle \\left[\\begin{matrix}2\\\\4\\end{matrix}\\right]$"
      ],
      "text/plain": [
       "Matrix([\n",
       "[2],\n",
       "[4]])"
      ]
     },
     "metadata": {},
     "output_type": "display_data"
    },
    {
     "name": "stdout",
     "output_type": "stream",
     "text": [
      "Вектор весов:\n"
     ]
    },
    {
     "data": {
      "text/latex": [
       "$\\displaystyle \\left[\\begin{matrix}-5\\\\4\\end{matrix}\\right]$"
      ],
      "text/plain": [
       "Matrix([\n",
       "[-5],\n",
       "[ 4]])"
      ]
     },
     "metadata": {},
     "output_type": "display_data"
    }
   ],
   "source": [
    "# а-1\n",
    "X = Matrix([[2,3], \n",
    "            [0,1]])\n",
    "b = Matrix([[2],\n",
    "            [4]])\n",
    "print(f'Матрица объектов:')\n",
    "display(X)\n",
    "print(f'Вектор ответов:')\n",
    "display(b)\n",
    "a = X ** (-1) * b\n",
    "print(f'Вектор весов:')\n",
    "display(a)"
   ]
  },
  {
   "cell_type": "code",
   "execution_count": 7,
   "id": "0366f985",
   "metadata": {},
   "outputs": [
    {
     "name": "stdout",
     "output_type": "stream",
     "text": [
      "Матрица объектов:\n"
     ]
    },
    {
     "data": {
      "text/latex": [
       "$\\displaystyle \\left[\\begin{matrix}1 & 5\\\\0 & 3\\end{matrix}\\right]$"
      ],
      "text/plain": [
       "Matrix([\n",
       "[1, 5],\n",
       "[0, 3]])"
      ]
     },
     "metadata": {},
     "output_type": "display_data"
    },
    {
     "name": "stdout",
     "output_type": "stream",
     "text": [
      "Вектор ответов:\n"
     ]
    },
    {
     "data": {
      "text/latex": [
       "$\\displaystyle \\left[\\begin{matrix}3\\\\9\\end{matrix}\\right]$"
      ],
      "text/plain": [
       "Matrix([\n",
       "[3],\n",
       "[9]])"
      ]
     },
     "metadata": {},
     "output_type": "display_data"
    },
    {
     "name": "stdout",
     "output_type": "stream",
     "text": [
      "Вектор весов:\n"
     ]
    },
    {
     "data": {
      "text/latex": [
       "$\\displaystyle \\left[\\begin{matrix}-12\\\\3\\end{matrix}\\right]$"
      ],
      "text/plain": [
       "Matrix([\n",
       "[-12],\n",
       "[  3]])"
      ]
     },
     "metadata": {},
     "output_type": "display_data"
    }
   ],
   "source": [
    "# а-2\n",
    "X = Matrix([[1,5], [0,3]])\n",
    "b = Matrix([[3],[9]])\n",
    "print(f'Матрица объектов:')\n",
    "display(X)\n",
    "print(f'Вектор ответов:')\n",
    "display(b)\n",
    "a = X ** (-1) * b\n",
    "print(f'Вектор весов:')\n",
    "display(a)"
   ]
  },
  {
   "cell_type": "code",
   "execution_count": 8,
   "id": "31b838db",
   "metadata": {},
   "outputs": [
    {
     "name": "stdout",
     "output_type": "stream",
     "text": [
      "Матрица объектов:\n"
     ]
    },
    {
     "data": {
      "text/latex": [
       "$\\displaystyle \\left[\\begin{matrix}2 & 3 & -1\\\\0 & 1 & 1\\\\1 & -1 & 2\\end{matrix}\\right]$"
      ],
      "text/plain": [
       "Matrix([\n",
       "[2,  3, -1],\n",
       "[0,  1,  1],\n",
       "[1, -1,  2]])"
      ]
     },
     "metadata": {},
     "output_type": "display_data"
    },
    {
     "name": "stdout",
     "output_type": "stream",
     "text": [
      "Вектор ответов:\n"
     ]
    },
    {
     "data": {
      "text/latex": [
       "$\\displaystyle \\left[\\begin{matrix}2\\\\4\\\\6\\end{matrix}\\right]$"
      ],
      "text/plain": [
       "Matrix([\n",
       "[2],\n",
       "[4],\n",
       "[6]])"
      ]
     },
     "metadata": {},
     "output_type": "display_data"
    },
    {
     "name": "stdout",
     "output_type": "stream",
     "text": [
      "Вектор весов:\n"
     ]
    },
    {
     "data": {
      "text/latex": [
       "$\\displaystyle \\left[\\begin{matrix}1\\\\1\\\\3\\end{matrix}\\right]$"
      ],
      "text/plain": [
       "Matrix([\n",
       "[1],\n",
       "[1],\n",
       "[3]])"
      ]
     },
     "metadata": {},
     "output_type": "display_data"
    }
   ],
   "source": [
    "# б-1\n",
    "X = Matrix([[2,3,-1], \n",
    "            [0,1,1], \n",
    "            [1,-1,2]])\n",
    "b = Matrix([[2],\n",
    "            [4],\n",
    "            [6]])\n",
    "print(f'Матрица объектов:')\n",
    "display(X)\n",
    "print(f'Вектор ответов:')\n",
    "display(b)\n",
    "a = X ** (-1) * b\n",
    "print(f'Вектор весов:')\n",
    "display(a)"
   ]
  },
  {
   "cell_type": "code",
   "execution_count": 9,
   "id": "0e4bfeca",
   "metadata": {},
   "outputs": [
    {
     "name": "stdout",
     "output_type": "stream",
     "text": [
      "Матрица объектов:\n"
     ]
    },
    {
     "data": {
      "text/latex": [
       "$\\displaystyle \\left[\\begin{matrix}1 & 5 & -2\\\\0 & 3 & 1\\\\-4 & -6 & 2\\end{matrix}\\right]$"
      ],
      "text/plain": [
       "Matrix([\n",
       "[ 1,  5, -2],\n",
       "[ 0,  3,  1],\n",
       "[-4, -6,  2]])"
      ]
     },
     "metadata": {},
     "output_type": "display_data"
    },
    {
     "name": "stdout",
     "output_type": "stream",
     "text": [
      "Вектор ответов:\n"
     ]
    },
    {
     "data": {
      "text/latex": [
       "$\\displaystyle \\left[\\begin{matrix}8\\\\16\\\\32\\end{matrix}\\right]$"
      ],
      "text/plain": [
       "Matrix([\n",
       "[ 8],\n",
       "[16],\n",
       "[32]])"
      ]
     },
     "metadata": {},
     "output_type": "display_data"
    },
    {
     "name": "stdout",
     "output_type": "stream",
     "text": [
      "Вектор весов:\n"
     ]
    },
    {
     "data": {
      "text/latex": [
       "$\\displaystyle \\left[\\begin{matrix}-15\\\\5\\\\1\\end{matrix}\\right]$"
      ],
      "text/plain": [
       "Matrix([\n",
       "[-15],\n",
       "[  5],\n",
       "[  1]])"
      ]
     },
     "metadata": {},
     "output_type": "display_data"
    }
   ],
   "source": [
    "# б-2\n",
    "X = Matrix([[1,5,-2], \n",
    "            [0,3,1], \n",
    "            [-4,-6,2]])\n",
    "b = Matrix([[8],\n",
    "            [16],\n",
    "            [32]])\n",
    "print(f'Матрица объектов:')\n",
    "display(X)\n",
    "print(f'Вектор ответов:')\n",
    "display(b)\n",
    "a = X ** (-1) * b\n",
    "print(f'Вектор весов:')\n",
    "display(a)"
   ]
  },
  {
   "cell_type": "code",
   "execution_count": 13,
   "id": "c6867437",
   "metadata": {},
   "outputs": [
    {
     "name": "stdout",
     "output_type": "stream",
     "text": [
      "Матрица объектов:\n"
     ]
    },
    {
     "data": {
      "text/latex": [
       "$\\displaystyle \\left[\\begin{matrix}1 & 2\\\\5 & 3\\\\2 & 4\\\\3 & 7\\end{matrix}\\right]$"
      ],
      "text/plain": [
       "Matrix([\n",
       "[1, 2],\n",
       "[5, 3],\n",
       "[2, 4],\n",
       "[3, 7]])"
      ]
     },
     "metadata": {},
     "output_type": "display_data"
    },
    {
     "name": "stdout",
     "output_type": "stream",
     "text": [
      "Вектор ответов:\n"
     ]
    },
    {
     "data": {
      "text/latex": [
       "$\\displaystyle \\left[\\begin{matrix}5\\\\6\\\\10\\\\8\\end{matrix}\\right]$"
      ],
      "text/plain": [
       "Matrix([\n",
       "[ 5],\n",
       "[ 6],\n",
       "[10],\n",
       "[ 8]])"
      ]
     },
     "metadata": {},
     "output_type": "display_data"
    },
    {
     "name": "stdout",
     "output_type": "stream",
     "text": [
      "псевдообратная матрица:\n"
     ]
    },
    {
     "data": {
      "text/latex": [
       "$\\displaystyle \\left[\\begin{matrix}-0.0151187904967603 & 0.272138228941685 & -0.0302375809935205 & -0.0950323974082073\\\\0.0345572354211663 & -0.122030237580994 & 0.0691144708423326 & 0.145788336933045\\end{matrix}\\right]$"
      ],
      "text/plain": [
       "Matrix([\n",
       "[-0.0151187904967603,  0.272138228941685, -0.0302375809935205, -0.0950323974082073],\n",
       "[ 0.0345572354211663, -0.122030237580994,  0.0691144708423326,   0.145788336933045]])"
      ]
     },
     "metadata": {},
     "output_type": "display_data"
    },
    {
     "name": "stdout",
     "output_type": "stream",
     "text": [
      "Вектор весов:\n"
     ]
    },
    {
     "data": {
      "text/latex": [
       "$\\displaystyle \\left[\\begin{matrix}0.494600431965443\\\\1.29805615550756\\end{matrix}\\right]$"
      ],
      "text/plain": [
       "Matrix([\n",
       "[0.494600431965443],\n",
       "[ 1.29805615550756]])"
      ]
     },
     "metadata": {},
     "output_type": "display_data"
    }
   ],
   "source": [
    "X = Matrix([[1,2], \n",
    "            [5,3], \n",
    "            [2,4],\n",
    "            [3,7]])\n",
    "b = Matrix([[5],\n",
    "            [6],\n",
    "            [10],\n",
    "            [8]])\n",
    "print(f'Матрица объектов:')\n",
    "display(X)\n",
    "print(f'Вектор ответов:')\n",
    "display(b)\n",
    "Xpsinv = (X.T * X) ** (-1) * X.T\n",
    "print(f'псевдообратная матрица:')\n",
    "display(Xpsinv.evalf())\n",
    "a = Xpsinv * b\n",
    "print(f'Вектор весов:')\n",
    "display(a.evalf())"
   ]
  },
  {
   "cell_type": "code",
   "execution_count": 14,
   "id": "5a1c0af3",
   "metadata": {},
   "outputs": [
    {
     "data": {
      "text/latex": [
       "$\\displaystyle 6.241900647952$"
      ],
      "text/plain": [
       "6.24190064795200"
      ]
     },
     "execution_count": 14,
     "metadata": {},
     "output_type": "execute_result"
    }
   ],
   "source": [
    "a1, a2 = symbols('a1, a2')\n",
    "MSE = (1/4) * ((1*a1 + 2*a2 - 5)**2 + (5*a1 + 3*a2 - 6)**2 + (2*a1 + 4*a2 - 10)**2 + (3*a1 + 7*a2 - 8)**2)\n",
    "MSE.subs({a1 : 0.4946, a2 : 1.298056})"
   ]
  },
  {
   "cell_type": "markdown",
   "id": "9a79712f",
   "metadata": {},
   "source": [
    "Значение получилось более точным и за один проход."
   ]
  },
  {
   "cell_type": "code",
   "execution_count": null,
   "id": "489463a9",
   "metadata": {},
   "outputs": [],
   "source": []
  }
 ],
 "metadata": {
  "kernelspec": {
   "display_name": "Python 3 (ipykernel)",
   "language": "python",
   "name": "python3"
  },
  "language_info": {
   "codemirror_mode": {
    "name": "ipython",
    "version": 3
   },
   "file_extension": ".py",
   "mimetype": "text/x-python",
   "name": "python",
   "nbconvert_exporter": "python",
   "pygments_lexer": "ipython3",
   "version": "3.9.7"
  }
 },
 "nbformat": 4,
 "nbformat_minor": 5
}
