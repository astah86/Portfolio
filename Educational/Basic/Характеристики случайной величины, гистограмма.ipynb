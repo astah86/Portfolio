{
 "cells": [
  {
   "cell_type": "code",
   "execution_count": 1,
   "id": "95d0ae9b",
   "metadata": {},
   "outputs": [],
   "source": [
    "from sympy import *\n"
   ]
  },
  {
   "cell_type": "code",
   "execution_count": 16,
   "id": "b5430709",
   "metadata": {},
   "outputs": [],
   "source": [
    "init_printing(use_unicode=False, wrap_line=False, no_global = True)\n"
   ]
  },
  {
   "cell_type": "code",
   "execution_count": 2,
   "id": "252a9ccf",
   "metadata": {},
   "outputs": [],
   "source": [
    "x = Symbol('x')"
   ]
  },
  {
   "cell_type": "code",
   "execution_count": 40,
   "id": "4478b299",
   "metadata": {},
   "outputs": [
    {
     "data": {
      "image/png": "[encoded data removed]",
      "text/latex": [
       "$\\displaystyle 1$"
      ],
      "text/plain": [
       "1"
      ]
     },
     "execution_count": 40,
     "metadata": {},
     "output_type": "execute_result"
    }
   ],
   "source": [
    "f = 5*(x-2)**4/32\n",
    "integrate(f,(x,2,4))"
   ]
  },
  {
   "cell_type": "code",
   "execution_count": 41,
   "id": "57ee149b",
   "metadata": {},
   "outputs": [
    {
     "data": {
      "image/png": "[encoded data removed]",
      "text/latex": [
       "$\\displaystyle \\frac{11}{3}$"
      ],
      "text/plain": [
       "11/3"
      ]
     },
     "execution_count": 41,
     "metadata": {},
     "output_type": "execute_result"
    }
   ],
   "source": [
    "M = integrate(f*x,(x,2,4))\n",
    "M"
   ]
  },
  {
   "cell_type": "code",
   "execution_count": 42,
   "id": "bcd49cf3",
   "metadata": {},
   "outputs": [
    {
     "data": {
      "image/png": "[encoded data removed]",
      "text/latex": [
       "$\\displaystyle \\frac{5}{63}$"
      ],
      "text/plain": [
       "5/63"
      ]
     },
     "execution_count": 42,
     "metadata": {},
     "output_type": "execute_result"
    }
   ],
   "source": [
    "D = integrate(f*(x-M)**2,(x,2,4))\n",
    "D"
   ]
  },
  {
   "cell_type": "code",
   "execution_count": 43,
   "id": "67a8025d",
   "metadata": {},
   "outputs": [
    {
     "data": {
      "image/png": "[encoded data removed]",
      "text/latex": [
       "$\\displaystyle \\frac{\\sqrt{35}}{21}$"
      ],
      "text/plain": [
       "  ____\n",
       "\\/ 35 \n",
       "------\n",
       "  21  "
      ]
     },
     "execution_count": 43,
     "metadata": {},
     "output_type": "execute_result"
    }
   ],
   "source": [
    "sigma = sqrt(D)\n",
    "sigma"
   ]
  },
  {
   "cell_type": "code",
   "execution_count": 51,
   "id": "a0d6c972",
   "metadata": {},
   "outputs": [
    {
     "data": {
      "image/png": "[encoded data removed]",
      "text/latex": [
       "$\\displaystyle 0.438775510204082$"
      ],
      "text/plain": [
       "0.438775510204082"
      ]
     },
     "execution_count": 51,
     "metadata": {},
     "output_type": "execute_result"
    }
   ],
   "source": [
    "f1 = (1/196)*(6*x**2 + 8*x + 1)\n",
    "integrate(f1,(x,1,3))"
   ]
  },
  {
   "cell_type": "code",
   "execution_count": 49,
   "id": "c982091e",
   "metadata": {},
   "outputs": [
    {
     "data": {
      "image/png": "[encoded data removed]",
      "text/latex": [
       "$\\displaystyle 2.87074829931973$"
      ],
      "text/plain": [
       "2.87074829931973"
      ]
     },
     "execution_count": 49,
     "metadata": {},
     "output_type": "execute_result"
    }
   ],
   "source": [
    "M = integrate(f1*x,(x,0,4))\n",
    "M"
   ]
  },
  {
   "cell_type": "code",
   "execution_count": 50,
   "id": "bb68ace8",
   "metadata": {},
   "outputs": [
    {
     "data": {
      "image/png": "[encoded data removed]",
      "text/latex": [
       "$\\displaystyle 0.74928039242908$"
      ],
      "text/plain": [
       "0.749280392429080"
      ]
     },
     "execution_count": 50,
     "metadata": {},
     "output_type": "execute_result"
    }
   ],
   "source": [
    "D = integrate(f1*(x-M)**2,(x,0,4))\n",
    "D"
   ]
  },
  {
   "cell_type": "code",
   "execution_count": 47,
   "id": "fcfaff13",
   "metadata": {},
   "outputs": [
    {
     "data": {
      "image/png": "[encoded data removed]",
      "text/latex": [
       "$\\displaystyle 0.711009738999945$"
      ],
      "text/plain": [
       "0.711009738999945"
      ]
     },
     "execution_count": 47,
     "metadata": {},
     "output_type": "execute_result"
    }
   ],
   "source": [
    "sigma = sqrt(D)\n",
    "sigma"
   ]
  },
  {
   "cell_type": "code",
   "execution_count": 52,
   "id": "5ad033c2",
   "metadata": {},
   "outputs": [],
   "source": [
    "a = Symbol('a')"
   ]
  },
  {
   "cell_type": "code",
   "execution_count": 55,
   "id": "a652f569",
   "metadata": {},
   "outputs": [
    {
     "data": {
      "image/png": "[encoded data removed]",
      "text/latex": [
       "$\\displaystyle 1.0$"
      ],
      "text/plain": [
       "1.00000000000000"
      ]
     },
     "execution_count": 55,
     "metadata": {},
     "output_type": "execute_result"
    }
   ],
   "source": [
    "f2 = (3/92) * (x**2 + 2*x)\n",
    "integrate(f2,(x,2,4))"
   ]
  },
  {
   "cell_type": "code",
   "execution_count": 60,
   "id": "c06a799d",
   "metadata": {},
   "outputs": [
    {
     "data": {
      "image/png": "[encoded data removed]",
      "text/latex": [
       "$\\displaystyle 3.17391304347826$"
      ],
      "text/plain": [
       "3.17391304347826"
      ]
     },
     "execution_count": 60,
     "metadata": {},
     "output_type": "execute_result"
    }
   ],
   "source": [
    "M = integrate(f2*x,(x,2,4))\n",
    "M"
   ]
  },
  {
   "cell_type": "code",
   "execution_count": 61,
   "id": "806dc543",
   "metadata": {},
   "outputs": [
    {
     "data": {
      "image/png": "[encoded data removed]",
      "text/latex": [
       "$\\displaystyle 0.308884688090738$"
      ],
      "text/plain": [
       "0.308884688090738"
      ]
     },
     "execution_count": 61,
     "metadata": {},
     "output_type": "execute_result"
    }
   ],
   "source": [
    "D = integrate(f2*(x-M)**2,(x,2,4))\n",
    "D"
   ]
  },
  {
   "cell_type": "code",
   "execution_count": 93,
   "id": "76f6c81a",
   "metadata": {},
   "outputs": [],
   "source": [
    "import random\n",
    "import numpy as np\n",
    "import pandas as pd\n",
    "import matplotlib.pyplot as plt\n",
    "import seaborn as sns\n",
    "a = [ ]\n",
    "for i in range(10000):\n",
    "    a.append(random.randint(1,1000))\n"
   ]
  },
  {
   "cell_type": "code",
   "execution_count": 74,
   "id": "0f7bb318",
   "metadata": {},
   "outputs": [
    {
     "name": "stderr",
     "output_type": "stream",
     "text": [
      "C:\\Users\\Msi-1\\anaconda3\\lib\\site-packages\\IPython\\lib\\latextools.py:126: MatplotlibDeprecationWarning: \n",
      "The to_png function was deprecated in Matplotlib 3.4 and will be removed two minor releases later. Use mathtext.math_to_image instead.\n",
      "  mt.to_png(f, s, fontsize=12, dpi=dpi, color=color)\n",
      "C:\\Users\\Msi-1\\anaconda3\\lib\\site-packages\\IPython\\lib\\latextools.py:126: MatplotlibDeprecationWarning: \n",
      "The to_rgba function was deprecated in Matplotlib 3.4 and will be removed two minor releases later. Use mathtext.math_to_image instead.\n",
      "  mt.to_png(f, s, fontsize=12, dpi=dpi, color=color)\n",
      "C:\\Users\\Msi-1\\anaconda3\\lib\\site-packages\\IPython\\lib\\latextools.py:126: MatplotlibDeprecationWarning: \n",
      "The to_mask function was deprecated in Matplotlib 3.4 and will be removed two minor releases later. Use mathtext.math_to_image instead.\n",
      "  mt.to_png(f, s, fontsize=12, dpi=dpi, color=color)\n",
      "C:\\Users\\Msi-1\\anaconda3\\lib\\site-packages\\IPython\\lib\\latextools.py:126: MatplotlibDeprecationWarning: \n",
      "The MathtextBackendBitmap class was deprecated in Matplotlib 3.4 and will be removed two minor releases later. Use mathtext.math_to_image instead.\n",
      "  mt.to_png(f, s, fontsize=12, dpi=dpi, color=color)\n"
     ]
    },
    {
     "data": {
      "image/png": "[encoded data removed]",
      "text/latex": [
       "$\\displaystyle \\left[ 77, \\  88, \\  525, \\  801, \\  528, \\  959, \\  898, \\  412, \\  67, \\  946, \\  35, \\  786, \\  331, \\  470, \\  484, \\  148, \\  877, \\  818, \\  413, \\  434, \\  202, \\  809, \\  132, \\  932, \\  831, \\  24, \\  990, \\  682, \\  244, \\  337, \\  203, \\  351, \\  454, \\  386, \\  78, \\  716, \\  515, \\  685, \\  420, \\  768, \\  609, \\  920, \\  432, \\  988, \\  366, \\  998, \\  558, \\  305, \\  354, \\  937, \\  825, \\  567, \\  779, \\  448, \\  453, \\  895, \\  934, \\  822, \\  476, \\  29, \\  938, \\  9, \\  698, \\  588, \\  201, \\  967, \\  966, \\  186, \\  336, \\  813, \\  148, \\  520, \\  250, \\  831, \\  228, \\  31, \\  989, \\  216, \\  577, \\  381, \\  458, \\  413, \\  413, \\  941, \\  525, \\  877, \\  836, \\  887, \\  362, \\  231, \\  332, \\  873, \\  692, \\  934, \\  262, \\  858, \\  965, \\  655, \\  435, \\  964\\right]$"
      ],
      "text/plain": [
       "[77, 88, 525, 801, 528, 959, 898, 412, 67, 946, 35, 786, 331, 470, 484, 148, 877, 818, 413, 434, 202, 809, 132, 932, 831, 24, 990, 682, 244, 337, 203, 351, 454, 386, 78, 716, 515, 685, 420, 768, 609, 920, 432, 988, 366, 998, 558, 305, 354, 937, 825, 567, 779, 448, 453, 895, 934, 822, 476, 29, 938, 9, 698, 588, 201, 967, 966, 186, 336, 813, 148, 520, 250, 831, 228, 31, 989, 216, 577, 381, 458, 413, 413, 941, 525, 877, 836, 887, 362, 231, 332, 873, 692, 934, 262, 858, 965, 655, 435, 964]"
      ]
     },
     "execution_count": 74,
     "metadata": {},
     "output_type": "execute_result"
    }
   ],
   "source": [
    "a"
   ]
  },
  {
   "cell_type": "code",
   "execution_count": 78,
   "id": "9d6eee54",
   "metadata": {},
   "outputs": [
    {
     "data": {
      "image/png": "[encoded data removed]",
      "text/latex": [
       "$\\displaystyle \\left[ 9, \\  24, \\  29, \\  31, \\  35, \\  67, \\  77, \\  78, \\  88, \\  132, \\  148, \\  148, \\  186, \\  201, \\  202, \\  203, \\  216, \\  228, \\  231, \\  244, \\  250, \\  262, \\  305, \\  331, \\  332, \\  336, \\  337, \\  351, \\  354, \\  362, \\  366, \\  381, \\  386, \\  412, \\  413, \\  413, \\  413, \\  420, \\  432, \\  434, \\  435, \\  448, \\  453, \\  454, \\  458, \\  470, \\  476, \\  484, \\  515, \\  520, \\  525, \\  525, \\  528, \\  558, \\  567, \\  577, \\  588, \\  609, \\  655, \\  682, \\  685, \\  692, \\  698, \\  716, \\  768, \\  779, \\  786, \\  801, \\  809, \\  813, \\  818, \\  822, \\  825, \\  831, \\  831, \\  836, \\  858, \\  873, \\  877, \\  877, \\  887, \\  895, \\  898, \\  920, \\  932, \\  934, \\  934, \\  937, \\  938, \\  941, \\  946, \\  959, \\  964, \\  965, \\  966, \\  967, \\  988, \\  989, \\  990, \\  998\\right]$"
      ],
      "text/plain": [
       "[9, 24, 29, 31, 35, 67, 77, 78, 88, 132, 148, 148, 186, 201, 202, 203, 216, 228, 231, 244, 250, 262, 305, 331, 332, 336, 337, 351, 354, 362, 366, 381, 386, 412, 413, 413, 413, 420, 432, 434, 435, 448, 453, 454, 458, 470, 476, 484, 515, 520, 525, 525, 528, 558, 567, 577, 588, 609, 655, 682, 685, 692, 698, 716, 768, 779, 786, 801, 809, 813, 818, 822, 825, 831, 831, 836, 858, 873, 877, 877, 887, 895, 898, 920, 932, 934, 934, 937, 938, 941, 946, 959, 964, 965, 966, 967, 988, 989, 990, 998]"
      ]
     },
     "execution_count": 78,
     "metadata": {},
     "output_type": "execute_result"
    }
   ],
   "source": [
    "b = sorted(a)\n",
    "b"
   ]
  },
  {
   "cell_type": "code",
   "execution_count": 94,
   "id": "8ff5ab0e",
   "metadata": {},
   "outputs": [
    {
     "data": {
      "text/plain": [
       "(array([804., 731., 802., 740., 795., 734., 773., 774., 781., 739., 762.,\n",
       "        775., 790.]),\n",
       " array([   1.        ,   77.84615385,  154.69230769,  231.53846154,\n",
       "         308.38461538,  385.23076923,  462.07692308,  538.92307692,\n",
       "         615.76923077,  692.61538462,  769.46153846,  846.30769231,\n",
       "         923.15384615, 1000.        ]),\n",
       " <BarContainer object of 13 artists>)"
      ]
     },
     "execution_count": 94,
     "metadata": {},
     "output_type": "execute_result"
    },
    {
     "data": {
      "image/png": "[encoded data removed]",
      "text/plain": [
       "<Figure size 432x288 with 1 Axes>"
      ]
     },
     "metadata": {
      "needs_background": "light"
     },
     "output_type": "display_data"
    }
   ],
   "source": [
    "plt.hist(a, bins = 13, stacked=True, color = 'blue')"
   ]
  },
  {
   "cell_type": "code",
   "execution_count": 95,
   "id": "d5d11084",
   "metadata": {},
   "outputs": [
    {
     "data": {
      "text/plain": [
       "(array([0.00102803, 0.00101602, 0.00094995, 0.00103003, 0.00097097,\n",
       "        0.00100501, 0.00101201, 0.00096597, 0.00100501, 0.00102703]),\n",
       " array([   1. ,  100.9,  200.8,  300.7,  400.6,  500.5,  600.4,  700.3,\n",
       "         800.2,  900.1, 1000. ]),\n",
       " <BarContainer object of 10 artists>)"
      ]
     },
     "execution_count": 95,
     "metadata": {},
     "output_type": "execute_result"
    },
    {
     "data": {
      "image/png": "[encoded data removed]",
      "text/plain": [
       "<Figure size 432x288 with 1 Axes>"
      ]
     },
     "metadata": {
      "needs_background": "light"
     },
     "output_type": "display_data"
    }
   ],
   "source": [
    "plt.hist(a, density = True, color = \"green\", label = \"Numbers\")"
   ]
  },
  {
   "cell_type": "code",
   "execution_count": null,
   "id": "b4b25d98",
   "metadata": {},
   "outputs": [],
   "source": []
  }
 ],
 "metadata": {
  "kernelspec": {
   "display_name": "Python 3 (ipykernel)",
   "language": "python",
   "name": "python3"
  },
  "language_info": {
   "codemirror_mode": {
    "name": "ipython",
    "version": 3
   },
   "file_extension": ".py",
   "mimetype": "text/x-python",
   "name": "python",
   "nbconvert_exporter": "python",
   "pygments_lexer": "ipython3",
   "version": "3.9.7"
  }
 },
 "nbformat": 4,
 "nbformat_minor": 5
}
