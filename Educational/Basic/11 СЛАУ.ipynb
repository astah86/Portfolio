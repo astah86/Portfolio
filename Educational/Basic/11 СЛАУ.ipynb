{
 "cells": [
  {
   "cell_type": "code",
   "execution_count": 2,
   "id": "7e9a1d57",
   "metadata": {},
   "outputs": [],
   "source": [
    "from sympy import *\n",
    "import numpy as np"
   ]
  },
  {
   "cell_type": "code",
   "execution_count": 3,
   "id": "08b4b11c",
   "metadata": {},
   "outputs": [],
   "source": [
    "x, y, z = symbols('x,y,z')"
   ]
  },
  {
   "cell_type": "code",
   "execution_count": 5,
   "id": "c1dfa278",
   "metadata": {},
   "outputs": [
    {
     "data": {
      "text/latex": [
       "$\\displaystyle \\left[\\begin{matrix}-1 & 7 & -34\\\\8 & 8 & -48\\end{matrix}\\right]$"
      ],
      "text/plain": [
       "Matrix([\n",
       "[-1, 7, -34],\n",
       "[ 8, 8, -48]])"
      ]
     },
     "execution_count": 5,
     "metadata": {},
     "output_type": "execute_result"
    }
   ],
   "source": [
    "A = Matrix([[-1, 7, -34], [8, 8, -48]])\n",
    "A"
   ]
  },
  {
   "cell_type": "code",
   "execution_count": 8,
   "id": "62a40bd9",
   "metadata": {},
   "outputs": [
    {
     "data": {
      "text/latex": [
       "$\\displaystyle \\left\\{\\left( -1, \\  -5\\right)\\right\\}$"
      ],
      "text/plain": [
       "{(-1, -5)}"
      ]
     },
     "execution_count": 8,
     "metadata": {},
     "output_type": "execute_result"
    }
   ],
   "source": [
    "linsolve(A, [x,y])"
   ]
  },
  {
   "cell_type": "code",
   "execution_count": 9,
   "id": "8942e45e",
   "metadata": {},
   "outputs": [
    {
     "data": {
      "text/latex": [
       "$\\displaystyle \\left\\{\\left( -1, \\  0\\right)\\right\\}$"
      ],
      "text/plain": [
       "{(-1, 0)}"
      ]
     },
     "execution_count": 9,
     "metadata": {},
     "output_type": "execute_result"
    }
   ],
   "source": [
    "A = Matrix([[4, -7, -4], [3, -4, -3]])\n",
    "linsolve(A, [x,y])"
   ]
  },
  {
   "cell_type": "code",
   "execution_count": 10,
   "id": "2f78735c",
   "metadata": {},
   "outputs": [
    {
     "data": {
      "text/latex": [
       "$\\displaystyle \\left\\{\\left( 9, \\  2\\right)\\right\\}$"
      ],
      "text/plain": [
       "{(9, 2)}"
      ]
     },
     "execution_count": 10,
     "metadata": {},
     "output_type": "execute_result"
    }
   ],
   "source": [
    "A = Matrix([[8, -4, 64], [-3, 3, -21]])\n",
    "linsolve(A, [x,y])"
   ]
  },
  {
   "cell_type": "code",
   "execution_count": 12,
   "id": "f2ce9ea4",
   "metadata": {},
   "outputs": [
    {
     "data": {
      "text/latex": [
       "$\\displaystyle \\left\\{\\left( -2, \\  -6, \\  -1\\right)\\right\\}$"
      ],
      "text/plain": [
       "{(-2, -6, -1)}"
      ]
     },
     "execution_count": 12,
     "metadata": {},
     "output_type": "execute_result"
    }
   ],
   "source": [
    "A = Matrix([[5, 7, -5, -47], [0, -2, 2, 10], [-4, -8, -7, 63]])\n",
    "linsolve(A, [x,y,z])"
   ]
  },
  {
   "cell_type": "code",
   "execution_count": 15,
   "id": "886aec24",
   "metadata": {},
   "outputs": [
    {
     "data": {
      "text/latex": [
       "$\\displaystyle \\left[\\begin{matrix}-1\\\\-5\\end{matrix}\\right]$"
      ],
      "text/plain": [
       "Matrix([\n",
       "[-1],\n",
       "[-5]])"
      ]
     },
     "execution_count": 15,
     "metadata": {},
     "output_type": "execute_result"
    }
   ],
   "source": [
    "A = Matrix([[-1, 7], [8, 8]])\n",
    "B = Matrix([-1, -5])\n",
    "B"
   ]
  },
  {
   "cell_type": "code",
   "execution_count": 16,
   "id": "6af12f43",
   "metadata": {},
   "outputs": [
    {
     "data": {
      "text/latex": [
       "$\\displaystyle \\left[\\begin{matrix}-34\\\\-48\\end{matrix}\\right]$"
      ],
      "text/plain": [
       "Matrix([\n",
       "[-34],\n",
       "[-48]])"
      ]
     },
     "execution_count": 16,
     "metadata": {},
     "output_type": "execute_result"
    }
   ],
   "source": [
    "A * B"
   ]
  },
  {
   "cell_type": "code",
   "execution_count": 18,
   "id": "ffccb878",
   "metadata": {},
   "outputs": [
    {
     "data": {
      "text/latex": [
       "$\\displaystyle \\left[\\begin{matrix}-4\\\\-3\\end{matrix}\\right]$"
      ],
      "text/plain": [
       "Matrix([\n",
       "[-4],\n",
       "[-3]])"
      ]
     },
     "execution_count": 18,
     "metadata": {},
     "output_type": "execute_result"
    }
   ],
   "source": [
    "A = Matrix([[4, -7], [3, -4]])\n",
    "B = Matrix([-1, 0])\n",
    "A*B"
   ]
  },
  {
   "cell_type": "code",
   "execution_count": 19,
   "id": "eb46c73f",
   "metadata": {},
   "outputs": [
    {
     "data": {
      "text/latex": [
       "$\\displaystyle \\left[\\begin{matrix}64\\\\-21\\end{matrix}\\right]$"
      ],
      "text/plain": [
       "Matrix([\n",
       "[ 64],\n",
       "[-21]])"
      ]
     },
     "execution_count": 19,
     "metadata": {},
     "output_type": "execute_result"
    }
   ],
   "source": [
    "A = Matrix([[8, -4], [-3, 3]])\n",
    "B = Matrix([9, 2])\n",
    "A*B"
   ]
  },
  {
   "cell_type": "code",
   "execution_count": 20,
   "id": "dd606094",
   "metadata": {},
   "outputs": [
    {
     "data": {
      "text/latex": [
       "$\\displaystyle \\left[\\begin{matrix}-47\\\\10\\\\63\\end{matrix}\\right]$"
      ],
      "text/plain": [
       "Matrix([\n",
       "[-47],\n",
       "[ 10],\n",
       "[ 63]])"
      ]
     },
     "execution_count": 20,
     "metadata": {},
     "output_type": "execute_result"
    }
   ],
   "source": [
    "A = Matrix([[5, 7, -5], [0, -2, 2], [-4, -8, -7]])\n",
    "B = Matrix([-2, -6, -1])\n",
    "A*B"
   ]
  },
  {
   "cell_type": "code",
   "execution_count": 4,
   "id": "f5821baa",
   "metadata": {},
   "outputs": [
    {
     "data": {
      "text/latex": [
       "$\\displaystyle 0.166666666666667 \\left(- 2 y + 2 z - 10\\right)^{2} + 0.166666666666667 \\left(- 4 x - 8 y - 7 z - 63\\right)^{2} + 0.166666666666667 \\left(x + y + 2 z + 1\\right)^{2} + 0.166666666666667 \\left(2 x - y + 2 z + 4\\right)^{2} + 0.166666666666667 \\left(4 x + y + 4 z + 2\\right)^{2} + 0.166666666666667 \\left(5 x + 7 y - 5 z + 47\\right)^{2}$"
      ],
      "text/plain": [
       "0.166666666666667*(-2*y + 2*z - 10)**2 + 0.166666666666667*(-4*x - 8*y - 7*z - 63)**2 + 0.166666666666667*(x + y + 2*z + 1)**2 + 0.166666666666667*(2*x - y + 2*z + 4)**2 + 0.166666666666667*(4*x + y + 4*z + 2)**2 + 0.166666666666667*(5*x + 7*y - 5*z + 47)**2"
      ]
     },
     "execution_count": 4,
     "metadata": {},
     "output_type": "execute_result"
    }
   ],
   "source": [
    "MSE = (1/6) * ((5 * x  + 7 * y - 5 * z + 47)**2 + \n",
    "              (0 * x  - 2 * y + 2 * z - 10)**2 + \n",
    "              (-4 * x  - 8 * y - 7 * z - 63)**2 + \n",
    "              (1 * x  + 1 * y + 2 * z + 1)**2 + \n",
    "              (2 * x  - 1 * y + 2 * z + 4)**2 + \n",
    "              (4 * x  + 1 * y + 4 * z + 2)**2 )\n",
    "MSE"
   ]
  },
  {
   "cell_type": "code",
   "execution_count": 25,
   "id": "37fd0fa7",
   "metadata": {},
   "outputs": [
    {
     "data": {
      "text/latex": [
       "$\\displaystyle 1049.83333333333$"
      ],
      "text/plain": [
       "1049.83333333333"
      ]
     },
     "execution_count": 25,
     "metadata": {},
     "output_type": "execute_result"
    }
   ],
   "source": [
    "MSE.subs({x : 0, y : 0, z : 0})"
   ]
  },
  {
   "cell_type": "code",
   "execution_count": 27,
   "id": "59b3891d",
   "metadata": {},
   "outputs": [
    {
     "data": {
      "text/latex": [
       "$\\displaystyle 20.6666666666667 x + 23.3333333333333 y + 8.33333333333333 z + 168.0$"
      ],
      "text/plain": [
       "20.6666666666667*x + 23.3333333333333*y + 8.33333333333333*z + 168.0"
      ]
     },
     "metadata": {},
     "output_type": "display_data"
    },
    {
     "data": {
      "text/latex": [
       "$\\displaystyle 23.3333333333333 x + 40.0 y + 6.99999999999999 z + 284.0$"
      ],
      "text/plain": [
       "23.3333333333333*x + 40.0*y + 6.99999999999999*z + 284.0"
      ]
     },
     "metadata": {},
     "output_type": "display_data"
    },
    {
     "data": {
      "text/latex": [
       "$\\displaystyle 8.33333333333333 x + 6.99999999999999 y + 34.0 z + 68.0$"
      ],
      "text/plain": [
       "8.33333333333333*x + 6.99999999999999*y + 34.0*z + 68.0"
      ]
     },
     "metadata": {},
     "output_type": "display_data"
    }
   ],
   "source": [
    "MSEx = diff(MSE,x)\n",
    "MSEy = diff(MSE,y)\n",
    "MSEz = diff(MSE,z)\n",
    "display(MSEx)\n",
    "display(MSEy)\n",
    "display(MSEz)"
   ]
  },
  {
   "cell_type": "code",
   "execution_count": 47,
   "id": "fefcebcb",
   "metadata": {},
   "outputs": [],
   "source": [
    "def MSE_level(equation, step, level):\n",
    "    X = 0\n",
    "    Y = 0\n",
    "    Z = 0\n",
    "    n = 0\n",
    "    \n",
    "    equation_x = diff(MSE,x)\n",
    "    equation_y = diff(MSE,y)\n",
    "    equation_z = diff(MSE,z)\n",
    "    while equation.subs({'x': X, 'y': Y, 'z' : Z}) > level:\n",
    "        n += 1\n",
    "        \n",
    "        x1, y1, z1 = X, Y, Z\n",
    "        X += -equation_x.subs({'x': x1, 'y': y1, 'z': z1}) * step\n",
    "        Y += -equation_y.subs({'x': x1, 'y': y1, 'z': z1}) * step\n",
    "        Z += -equation_z.subs({'x': x1, 'y': y1, 'z': z1}) * step\n",
    "    print(f'Всего итераций: {n}')\n",
    "    print(f\"Значение MSE: {equation.subs({'x': X, 'y': Y, 'z' : Z})} в точке ({X}, {Y}, {Z})\")"
   ]
  },
  {
   "cell_type": "code",
   "execution_count": 49,
   "id": "7ffcd139",
   "metadata": {},
   "outputs": [
    {
     "name": "stdout",
     "output_type": "stream",
     "text": [
      "1049.83333333333\n",
      "247.497333333333\n",
      "104.486005072593\n",
      "73.7744351503798\n",
      "64.1857120851198\n",
      "59.5591801838142\n",
      "56.5686545495930\n",
      "Всего итераций: 7\n",
      "Значение MSE: 54.3188045027199 в точке (-2.23893438867603, -5.49162915212318, -0.412953715575168)\n"
     ]
    }
   ],
   "source": [
    "MSE_level(MSE, 0.01, 55)"
   ]
  },
  {
   "cell_type": "code",
   "execution_count": 7,
   "id": "cee81f5e",
   "metadata": {},
   "outputs": [],
   "source": [
    "def MSE_min(equation, step, precision):\n",
    "    X = 0\n",
    "    Y = 0\n",
    "    Z = 0\n",
    "    n = 0\n",
    "    \n",
    "    equation_x = diff(MSE,x)\n",
    "    equation_y = diff(MSE,y)\n",
    "    equation_z = diff(MSE,z)\n",
    "    while equation.subs({'x': X, 'y': Y, 'z' : Z}) > 0:\n",
    "        n += 1\n",
    "        value_old = equation.subs({'x': X, 'y': Y, 'z' : Z})\n",
    "        x1, y1, z1 = X, Y, Z\n",
    "        X += -equation_x.subs({'x': x1, 'y': y1, 'z': z1}) * step\n",
    "        Y += -equation_y.subs({'x': x1, 'y': y1, 'z': z1}) * step\n",
    "        Z += -equation_z.subs({'x': x1, 'y': y1, 'z': z1}) * step\n",
    "        value_new = equation.subs({'x': X, 'y': Y, 'z' : Z})\n",
    "        ratio = value_old / value_new\n",
    "        if (ratio <= precision + 1):\n",
    "            break\n",
    "    print(f'Всего итераций: {n}')\n",
    "    print(f\"Значение MSE: {round(equation.subs({'x': X, 'y': Y, 'z' : Z}), 3)} в точке ({round(X,3)}, {round(Y, 3)}, {round(Z, 3)})\")"
   ]
  },
  {
   "cell_type": "code",
   "execution_count": 12,
   "id": "ea9cc800",
   "metadata": {},
   "outputs": [
    {
     "name": "stdout",
     "output_type": "stream",
     "text": [
      "Всего итераций: 142\n",
      "Значение MSE: 36.524 в точке (0.003, -7.004, -0.559)\n"
     ]
    }
   ],
   "source": [
    "MSE_min(MSE, 0.01, 0.0000001)"
   ]
  },
  {
   "cell_type": "code",
   "execution_count": 5,
   "id": "82be020a",
   "metadata": {},
   "outputs": [
    {
     "data": {
      "text/latex": [
       "$\\displaystyle 36.5242879112333$"
      ],
      "text/plain": [
       "36.5242879112333"
      ]
     },
     "execution_count": 5,
     "metadata": {},
     "output_type": "execute_result"
    }
   ],
   "source": [
    "MSE.subs({'x': 0.00609, 'y': -7.0057, 'z' : -0.55914})"
   ]
  },
  {
   "cell_type": "code",
   "execution_count": null,
   "id": "2406a165",
   "metadata": {},
   "outputs": [],
   "source": []
  }
 ],
 "metadata": {
  "kernelspec": {
   "display_name": "Python 3 (ipykernel)",
   "language": "python",
   "name": "python3"
  },
  "language_info": {
   "codemirror_mode": {
    "name": "ipython",
    "version": 3
   },
   "file_extension": ".py",
   "mimetype": "text/x-python",
   "name": "python",
   "nbconvert_exporter": "python",
   "pygments_lexer": "ipython3",
   "version": "3.9.7"
  }
 },
 "nbformat": 4,
 "nbformat_minor": 5
}
