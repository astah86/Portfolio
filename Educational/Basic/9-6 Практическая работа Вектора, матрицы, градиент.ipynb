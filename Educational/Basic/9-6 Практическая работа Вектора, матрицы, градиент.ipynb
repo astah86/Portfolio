{
 "cells": [
  {
   "cell_type": "markdown",
   "id": "ce8d7947",
   "metadata": {},
   "source": [
    "# Задание 1"
   ]
  },
  {
   "cell_type": "code",
   "execution_count": 15,
   "id": "412db7a1",
   "metadata": {},
   "outputs": [],
   "source": [
    "def scal (x,y):\n",
    "    if len(x) == len(y):\n",
    "        n = len(x)\n",
    "        summ = 0\n",
    "        for i in range(n):\n",
    "            summ += x[i] * y[i]\n",
    "    else: summ = 'Вектора имеют разную длину'\n",
    "    return summ        \n",
    "\n",
    "def konst (x,y):\n",
    "    n = len(x)\n",
    "    X = []\n",
    "    for i in range(n):\n",
    "        X.append(x[i] * y) \n",
    "    return X\n",
    "\n",
    "        "
   ]
  },
  {
   "cell_type": "code",
   "execution_count": 17,
   "id": "7a4fc7ed",
   "metadata": {},
   "outputs": [
    {
     "data": {
      "text/plain": [
       "1632"
      ]
     },
     "execution_count": 17,
     "metadata": {},
     "output_type": "execute_result"
    }
   ],
   "source": [
    "# 1. \n",
    "a1 = [2, 5, 0, 6, 8, 10, 6, 7, 5, 7]\n",
    "b1 = [8, 6, 7, 9, 6 ,6 , 2, 3, 2 , 3]\n",
    "f1 = scal(konst(a1,3),konst(b1,2))\n",
    "f1"
   ]
  },
  {
   "cell_type": "code",
   "execution_count": 18,
   "id": "48ee4039",
   "metadata": {},
   "outputs": [
    {
     "data": {
      "text/plain": [
       "4950"
      ]
     },
     "execution_count": 18,
     "metadata": {},
     "output_type": "execute_result"
    }
   ],
   "source": [
    "# 2. \n",
    "a2 = [9, 6, 7, 7 ,0 , 1, 6, 8, 1, 2]\n",
    "b2 = [0, 2, 2, 6, 7, 8, 8, 3, 1, 8]\n",
    "f2 = scal(konst(a2,6),konst(b2,5))\n",
    "f2"
   ]
  },
  {
   "cell_type": "code",
   "execution_count": 19,
   "id": "d1368e0d",
   "metadata": {},
   "outputs": [
    {
     "data": {
      "text/plain": [
       "272"
      ]
     },
     "execution_count": 19,
     "metadata": {},
     "output_type": "execute_result"
    }
   ],
   "source": [
    "# 3. \n",
    "a3 = [2, 5, 0, 6, 8, 10, 6, 7, 5, 7]\n",
    "b3 = [8, 6, 7, 9, 6, 6, 2, 3, 2, 3]\n",
    "f3 = scal(konst(a3,1),konst(b3,1))\n",
    "f3"
   ]
  },
  {
   "cell_type": "code",
   "execution_count": 20,
   "id": "3230154e",
   "metadata": {},
   "outputs": [
    {
     "data": {
      "text/plain": [
       "165"
      ]
     },
     "execution_count": 20,
     "metadata": {},
     "output_type": "execute_result"
    }
   ],
   "source": [
    "# 4. \n",
    "a4 = [9, 6, 7, 7, 0, 1, 6, 8, 1, 2]\n",
    "b4 = [0, 2, 2, 6, 7, 8, 8, 3, 1, 8]\n",
    "f4 = scal(konst(a4,1),konst(b4,1))\n",
    "f4"
   ]
  },
  {
   "cell_type": "markdown",
   "id": "d56967fe",
   "metadata": {},
   "source": [
    "# Задание 2"
   ]
  },
  {
   "cell_type": "code",
   "execution_count": 1,
   "id": "650e9741",
   "metadata": {},
   "outputs": [],
   "source": [
    "import numpy as np"
   ]
  },
  {
   "cell_type": "code",
   "execution_count": 6,
   "id": "07fc242f",
   "metadata": {},
   "outputs": [],
   "source": [
    "def trans (X):\n",
    "\n",
    "    n1 = X.shape[0]\n",
    "    n2 = X.shape[1]\n",
    "    arr = np.empty((n2,n1), dtype=\"int\")\n",
    "    for i in range(n2):\n",
    "        for j in range(n1):\n",
    "            arr[i][j] = X[j][i]\n",
    "\n",
    "    return arr"
   ]
  },
  {
   "cell_type": "code",
   "execution_count": 2,
   "id": "681eabed",
   "metadata": {},
   "outputs": [
    {
     "data": {
      "text/plain": [
       "array([[ 2,  1,  7,  4],\n",
       "       [ 5,  6,  7,  3],\n",
       "       [ 9,  8,  2, 12],\n",
       "       [11, 14, 15, 15]])"
      ]
     },
     "execution_count": 2,
     "metadata": {},
     "output_type": "execute_result"
    }
   ],
   "source": [
    "A = np.array([[2,1,7,4],\n",
    "             [5,6,7,3],\n",
    "             [9,8,2,12],\n",
    "             [11,14,15,15]])\n",
    "A"
   ]
  },
  {
   "cell_type": "code",
   "execution_count": 128,
   "id": "45ff9f6f",
   "metadata": {},
   "outputs": [
    {
     "data": {
      "text/plain": [
       "array([[ 2,  5,  9, 11],\n",
       "       [ 1,  6,  8, 14],\n",
       "       [ 7,  7,  2, 15],\n",
       "       [ 4,  3, 12, 15]])"
      ]
     },
     "execution_count": 128,
     "metadata": {},
     "output_type": "execute_result"
    }
   ],
   "source": [
    "trans(A)"
   ]
  },
  {
   "cell_type": "code",
   "execution_count": 3,
   "id": "2e68da44",
   "metadata": {},
   "outputs": [
    {
     "data": {
      "text/plain": [
       "array([[ 3,  7,  8,  3,  6],\n",
       "       [ 2,  5,  9,  4, 13]])"
      ]
     },
     "execution_count": 3,
     "metadata": {},
     "output_type": "execute_result"
    }
   ],
   "source": [
    "B = np.array([[3,7,8,3,6],\n",
    "              [2,5,9,4,13]])\n",
    "B"
   ]
  },
  {
   "cell_type": "code",
   "execution_count": 9,
   "id": "c2f7863b",
   "metadata": {},
   "outputs": [
    {
     "data": {
      "text/plain": [
       "array([[ 3,  2],\n",
       "       [ 7,  5],\n",
       "       [ 8,  9],\n",
       "       [ 3,  4],\n",
       "       [ 6, 13]])"
      ]
     },
     "execution_count": 9,
     "metadata": {},
     "output_type": "execute_result"
    }
   ],
   "source": [
    "trans(B)"
   ]
  },
  {
   "cell_type": "code",
   "execution_count": 17,
   "id": "63cc6e5b",
   "metadata": {},
   "outputs": [
    {
     "data": {
      "text/plain": [
       "array([[-2,  4],\n",
       "       [ 3,  7]])"
      ]
     },
     "metadata": {},
     "output_type": "display_data"
    },
    {
     "data": {
      "text/plain": [
       "array([[-0.26923077,  0.15384615],\n",
       "       [ 0.11538462,  0.07692308]])"
      ]
     },
     "execution_count": 17,
     "metadata": {},
     "output_type": "execute_result"
    }
   ],
   "source": [
    "C = np.array([[-2,4], [3,7]])\n",
    "display(C)\n",
    "np.linalg.inv(C)\n"
   ]
  },
  {
   "cell_type": "code",
   "execution_count": 18,
   "id": "6f23b49b",
   "metadata": {},
   "outputs": [
    {
     "data": {
      "text/plain": [
       "array([[8, 1],\n",
       "       [5, 3]])"
      ]
     },
     "metadata": {},
     "output_type": "display_data"
    },
    {
     "data": {
      "text/plain": [
       "array([[ 0.15789474, -0.05263158],\n",
       "       [-0.26315789,  0.42105263]])"
      ]
     },
     "execution_count": 18,
     "metadata": {},
     "output_type": "execute_result"
    }
   ],
   "source": [
    "C = np.array([[8,1], [5,3]])\n",
    "display(C)\n",
    "np.linalg.inv(C)"
   ]
  },
  {
   "cell_type": "code",
   "execution_count": 21,
   "id": "bc4b0ae9",
   "metadata": {},
   "outputs": [
    {
     "data": {
      "text/plain": [
       "array([[ 2,  5],\n",
       "       [ 7, -3]])"
      ]
     },
     "metadata": {},
     "output_type": "display_data"
    },
    {
     "data": {
      "text/plain": [
       "array([[ 11],\n",
       "       [-23]])"
      ]
     },
     "metadata": {},
     "output_type": "display_data"
    },
    {
     "data": {
      "text/plain": [
       "array([[-2.],\n",
       "       [ 3.]])"
      ]
     },
     "execution_count": 21,
     "metadata": {},
     "output_type": "execute_result"
    }
   ],
   "source": [
    "D = np.array([[2,5], [7,-3]])\n",
    "E = np.array([[11],[-23]])\n",
    "display(D)\n",
    "display(E)\n",
    "Dinv = np.linalg.inv(D)\n",
    "X = Dinv.dot(E)\n",
    "X"
   ]
  },
  {
   "cell_type": "code",
   "execution_count": 23,
   "id": "a83716bf",
   "metadata": {},
   "outputs": [
    {
     "data": {
      "text/plain": [
       "array([[-3,  1],\n",
       "       [ 3,  5]])"
      ]
     },
     "metadata": {},
     "output_type": "display_data"
    },
    {
     "data": {
      "text/plain": [
       "array([[-2],\n",
       "       [ 8]])"
      ]
     },
     "metadata": {},
     "output_type": "display_data"
    },
    {
     "data": {
      "text/plain": [
       "array([[1.],\n",
       "       [1.]])"
      ]
     },
     "execution_count": 23,
     "metadata": {},
     "output_type": "execute_result"
    }
   ],
   "source": [
    "D = np.array([[-3,1], [3,5]])\n",
    "E = np.array([[-2],[8]])\n",
    "display(D)\n",
    "display(E)\n",
    "Dinv = np.linalg.inv(D)\n",
    "X = Dinv.dot(E)\n",
    "X"
   ]
  },
  {
   "cell_type": "code",
   "execution_count": 24,
   "id": "8d4ac885",
   "metadata": {},
   "outputs": [
    {
     "data": {
      "text/plain": [
       "array([[ 2,  3],\n",
       "       [ 3, -1]])"
      ]
     },
     "metadata": {},
     "output_type": "display_data"
    },
    {
     "data": {
      "text/plain": [
       "array([[12],\n",
       "       [ 7]])"
      ]
     },
     "metadata": {},
     "output_type": "display_data"
    },
    {
     "data": {
      "text/plain": [
       "array([[3.],\n",
       "       [2.]])"
      ]
     },
     "execution_count": 24,
     "metadata": {},
     "output_type": "execute_result"
    }
   ],
   "source": [
    "D = np.array([[2,3], [3,-1]])\n",
    "E = np.array([[12],[7]])\n",
    "display(D)\n",
    "display(E)\n",
    "Dinv = np.linalg.inv(D)\n",
    "X = Dinv.dot(E)\n",
    "X"
   ]
  },
  {
   "cell_type": "markdown",
   "id": "29285538",
   "metadata": {},
   "source": [
    "# Задача 3"
   ]
  },
  {
   "cell_type": "code",
   "execution_count": 131,
   "id": "327296f7",
   "metadata": {},
   "outputs": [],
   "source": [
    "from sympy import *"
   ]
  },
  {
   "cell_type": "code",
   "execution_count": 132,
   "id": "36b0a9f6",
   "metadata": {},
   "outputs": [
    {
     "data": {
      "text/latex": [
       "$\\displaystyle 0.25 \\left(a_{1} + 2 a_{2} - 5\\right)^{2} + 0.25 \\left(2 a_{1} + 4 a_{2} - 10\\right)^{2} + 0.25 \\left(3 a_{1} + 7 a_{2} - 8\\right)^{2} + 0.25 \\left(5 a_{1} + 3 a_{2} - 6\\right)^{2}$"
      ],
      "text/plain": [
       "0.25*(a1 + 2*a2 - 5)**2 + 0.25*(2*a1 + 4*a2 - 10)**2 + 0.25*(3*a1 + 7*a2 - 8)**2 + 0.25*(5*a1 + 3*a2 - 6)**2"
      ]
     },
     "execution_count": 132,
     "metadata": {},
     "output_type": "execute_result"
    }
   ],
   "source": [
    "a1, a2 = symbols('a1, a2')\n",
    "MSE = (1/4) * ((1*a1 + 2*a2 - 5)**2 + (5*a1 + 3*a2 - 6)**2 + (2*a1 + 4*a2 - 10)**2 + (3*a1 + 7*a2 - 8)**2)\n",
    "MSE"
   ]
  },
  {
   "cell_type": "code",
   "execution_count": 133,
   "id": "00d00d33",
   "metadata": {},
   "outputs": [
    {
     "data": {
      "text/latex": [
       "$\\displaystyle 23.0 a_{1} + 39.0 a_{2} - 62.0$"
      ],
      "text/plain": [
       "23.0*a1 + 39.0*a2 - 62.0"
      ]
     },
     "metadata": {},
     "output_type": "display_data"
    },
    {
     "data": {
      "text/latex": [
       "$\\displaystyle 19.5 a_{1} + 23.0 a_{2} - 39.5$"
      ],
      "text/plain": [
       "19.5*a1 + 23.0*a2 - 39.5"
      ]
     },
     "metadata": {},
     "output_type": "display_data"
    }
   ],
   "source": [
    "MSEa2 = diff(MSE,a2)\n",
    "MSEa1 = diff(MSE,a1)\n",
    "display(MSEa2)\n",
    "display(MSEa1)"
   ]
  },
  {
   "cell_type": "code",
   "execution_count": 134,
   "id": "e59c5a1e",
   "metadata": {},
   "outputs": [
    {
     "data": {
      "text/latex": [
       "$\\displaystyle \\left\\{\\left( 1.29805615550756, \\  0.494600431965443\\right)\\right\\}$"
      ],
      "text/plain": [
       "{(1.29805615550756, 0.494600431965443)}"
      ]
     },
     "execution_count": 134,
     "metadata": {},
     "output_type": "execute_result"
    }
   ],
   "source": [
    "eq = linsolve([MSEa2, MSEa1], (a2, a1))\n",
    "eq"
   ]
  },
  {
   "cell_type": "code",
   "execution_count": 135,
   "id": "3a96a982",
   "metadata": {},
   "outputs": [
    {
     "data": {
      "text/latex": [
       "$\\displaystyle 6.24190064794816$"
      ],
      "text/plain": [
       "6.24190064794816"
      ]
     },
     "execution_count": 135,
     "metadata": {},
     "output_type": "execute_result"
    }
   ],
   "source": [
    "MSE.subs({'a2': eq.args[0][0], 'a1': eq.args[0][1]})"
   ]
  },
  {
   "cell_type": "code",
   "execution_count": 136,
   "id": "7c2ab156",
   "metadata": {},
   "outputs": [
    {
     "data": {
      "text/latex": [
       "$\\displaystyle 56.25$"
      ],
      "text/plain": [
       "56.2500000000000"
      ]
     },
     "execution_count": 136,
     "metadata": {},
     "output_type": "execute_result"
    }
   ],
   "source": [
    "MSE.subs({'a2': 0, 'a1': 0})"
   ]
  },
  {
   "cell_type": "code",
   "execution_count": 140,
   "id": "05989e9a",
   "metadata": {},
   "outputs": [
    {
     "data": {
      "text/plain": [
       "array([19.5*a1 + 23.0*a2 - 39.5, 23.0*a1 + 39.0*a2 - 62.0], dtype=object)"
      ]
     },
     "execution_count": 140,
     "metadata": {},
     "output_type": "execute_result"
    }
   ],
   "source": [
    "GrMSE = np.array([MSEa1,MSEa2])\n",
    "GrMSE"
   ]
  },
  {
   "cell_type": "code",
   "execution_count": 166,
   "id": "e4901404",
   "metadata": {},
   "outputs": [
    {
     "name": "stdout",
     "output_type": "stream",
     "text": [
      "Всего итераций: 7\n",
      "Значение MSE: 6.35010849011797 в точке (0.678414954289931, 1.16948998651869)\n"
     ]
    }
   ],
   "source": [
    "A_1 = 0\n",
    "A_2 = 0\n",
    "n = 0\n",
    "while MSE.subs({'a2': A_2, 'a1': A_1}) > 6.36:\n",
    "    n += 1\n",
    "    a_1, a_2 = A_1, A_2\n",
    "    A_1 += -MSEa1.subs({'a2': a_2, 'a1': a_1}) * 0.01\n",
    "    A_2 += -MSEa2.subs({'a2': a_2, 'a1': a_1}) * 0.01\n",
    "print(f'Всего итераций: {n}')\n",
    "print(f\"Значение MSE: {MSE.subs({'a2': A_2, 'a1': A_1})} в точке ({A_1}, {A_2})\")\n",
    "    "
   ]
  },
  {
   "cell_type": "code",
   "execution_count": null,
   "id": "17ba0d41",
   "metadata": {},
   "outputs": [],
   "source": []
  }
 ],
 "metadata": {
  "kernelspec": {
   "display_name": "Python 3 (ipykernel)",
   "language": "python",
   "name": "python3"
  },
  "language_info": {
   "codemirror_mode": {
    "name": "ipython",
    "version": 3
   },
   "file_extension": ".py",
   "mimetype": "text/x-python",
   "name": "python",
   "nbconvert_exporter": "python",
   "pygments_lexer": "ipython3",
   "version": "3.9.7"
  }
 },
 "nbformat": 4,
 "nbformat_minor": 5
}
