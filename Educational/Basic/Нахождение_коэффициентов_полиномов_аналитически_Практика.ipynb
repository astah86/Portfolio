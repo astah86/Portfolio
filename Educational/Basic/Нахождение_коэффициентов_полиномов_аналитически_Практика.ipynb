{
 "cells": [
  {
   "cell_type": "markdown",
   "metadata": {
    "id": "mEFNuokq2MMZ"
   },
   "source": [
    "## Нахождение коэффициентов полиномов аналитически. Практика\n",
    "\n",
    "Для закрепления пройденного материала найдите коэффициенты функции для данного набора точек, и затем проверьте с помощью подстановки, правильный ли у вас получился результат. Степень полинома для составления системы выберите сами, исходя из пройденного в первом уроке правила.\n",
    "\n",
    "1. $(-2.5, 15.0), (-2, 10), (-1.5, 7.0)$\n",
    "2. $(-0.5, -15.0), (-1, -31), (0, -7), (0.5, -4.0)$\n"
   ]
  },
  {
   "cell_type": "code",
   "execution_count": 1,
   "metadata": {
    "id": "67VSSj5P12-l"
   },
   "outputs": [],
   "source": [
    "### YOUR CODE HERE ###\n",
    "from sympy import *\n",
    "from sympy.plotting import plot\n",
    "init_printing(use_unicode = False, wrap_line= False, no_global=True)"
   ]
  },
  {
   "cell_type": "code",
   "execution_count": 2,
   "metadata": {
    "id": "A_514gR0kEug"
   },
   "outputs": [],
   "source": []
  },
  {
   "cell_type": "code",
   "execution_count": 3,
   "metadata": {
    "id": "f8UZ3y6tkfs6"
   },
   "outputs": [],
   "source": [
    "a2, a1, a0 = symbols('a2, a1, ao')"
   ]
  },
  {
   "cell_type": "code",
   "execution_count": 9,
   "metadata": {
    "id": "6WXUv2rPkmuG"
   },
   "outputs": [],
   "source": [
    "eq1_lp = a2*(-2.5)**2 + a1*(-2.5) - 15 + a0\n",
    "eq2_lp = a2*(-2)**2 + a1*(-2) - 10 + a0\n",
    "eq3_lp = a2*(-1.5)**2 + a1*(-1.5) - 7 + a0\n"
   ]
  },
  {
   "cell_type": "code",
   "execution_count": 10,
   "metadata": {
    "colab": {
     "base_uri": "https://localhost:8080/",
     "height": 37
    },
    "id": "KWk3f85elO1H",
    "outputId": "5da97229-97b7-4c1a-b9ba-1f2a2ebfbddd"
   },
   "outputs": [
    {
     "data": {
      "image/png": "[encoded data removed]",
      "text/latex": [
       "$\\displaystyle \\left\\{\\left( 4.0, \\  8.00000000000002, \\  10.0\\right)\\right\\}$"
      ],
      "text/plain": [
       "{(4.0, 8.00000000000002, 10.0)}"
      ]
     },
     "execution_count": 10,
     "metadata": {},
     "output_type": "execute_result"
    }
   ],
   "source": [
    "nonlinsolve([eq1_lp, eq2_lp, eq3_lp], [a2, a1, a0])"
   ]
  },
  {
   "cell_type": "code",
   "execution_count": 13,
   "metadata": {
    "colab": {
     "base_uri": "https://localhost:8080/",
     "height": 37
    },
    "id": "2zWv_rGylgN6",
    "outputId": "9bba7108-81d0-4efe-c774-f34e4b1f7e3e"
   },
   "outputs": [
    {
     "data": {
      "image/png": "[encoded data removed]",
      "text/latex": [
       "$\\displaystyle 10$"
      ],
      "text/plain": [
       "10"
      ]
     },
     "execution_count": 13,
     "metadata": {},
     "output_type": "execute_result"
    }
   ],
   "source": [
    "x = Symbol('x')\n",
    "f = 4*x**2 + 8*x + 10\n",
    "f.subs(x, -2)"
   ]
  },
  {
   "cell_type": "code",
   "execution_count": 14,
   "metadata": {
    "id": "WIH8ahzam129"
   },
   "outputs": [],
   "source": [
    "a3, a2, a1, a0 = symbols('a3, a2, a1, ao')"
   ]
  },
  {
   "cell_type": "code",
   "execution_count": 15,
   "metadata": {
    "id": "Vl4cxpgiqzLq"
   },
   "outputs": [],
   "source": [
    "eq1_lp = a3*(-0.5)**3 + a2*(-0.5)**2 + a1*(-0.5) + 15 + a0\n",
    "eq2_lp = a3*(-1)**3 + a2*(-1)**2 + a1*(-1) + 31 + a0\n",
    "eq3_lp = a3*(0)**3 + a2*(0)**2 + a1*(0) + 7 + a0\n",
    "eq4_lp = a3*(0.5)**3 + a2*(0.5)**2 + a1*(0.5) + 4 + a0"
   ]
  },
  {
   "cell_type": "code",
   "execution_count": 17,
   "metadata": {
    "colab": {
     "base_uri": "https://localhost:8080/",
     "height": 37
    },
    "id": "COo3dLySrndz",
    "outputId": "d82c9a89-b026-4f15-85b2-1967d175062b"
   },
   "outputs": [
    {
     "data": {
      "image/png": "[encoded data removed]",
      "text/latex": [
       "$\\displaystyle \\left\\{\\left( 4.0, \\  -10.0, \\  10.0, \\  -7.0\\right)\\right\\}$"
      ],
      "text/plain": [
       "{(4.0, -10.0, 10.0, -7.0)}"
      ]
     },
     "execution_count": 17,
     "metadata": {},
     "output_type": "execute_result"
    }
   ],
   "source": [
    "nonlinsolve([eq1_lp, eq2_lp, eq3_lp, eq4_lp], [a3, a2, a1, a0])\n"
   ]
  },
  {
   "cell_type": "code",
   "execution_count": 19,
   "metadata": {
    "id": "mPjMIauDzS1X"
   },
   "outputs": [],
   "source": [
    ")"
   ]
  },
  {
   "cell_type": "code",
   "execution_count": 20,
   "metadata": {
    "id": "ZCJtIzo3sOXy"
   },
   "outputs": [],
   "source": [
    "eq1_lp = a5*(-3)**5 + a4*(-3)**4 + a3*(-3)**3 + a2*(-3)**2 + a1*(-3) + a0 - 33\n",
    "eq2_lp = a5*(-2)**5 + a4*(-2)**4 + a3*(-2)**3 + a2*(-2)**2 + a1*(-2) + a0 - 31\n",
    "eq3_lp = a5*(-1)**5 + a4*(-1)**4 + a3*(-1)**3 + a2*(-1)**2 + a1*(-1) + a0 - 18\n",
    "eq4_lp = a5*(1)**5 + a4*(1)**4 + a3*(1)**3 + a2*(1)**2 + a1*(1) + a0 + 18\n",
    "eq5_lp = a5*(2)**5 + a4*(2)**4 + a3*(2)**3 + a2*(2)**2 + a1*(2) + a0 + 31\n",
    "eq6_lp = a5*(3)**5 + a4*(3)**4 + a3*(3)**3 + a2*(3)**2 + a1*(3) + a0 + 33\n"
   ]
  },
  {
   "cell_type": "code",
   "execution_count": 21,
   "metadata": {
    "colab": {
     "base_uri": "https://localhost:8080/",
     "height": 58
    },
    "id": "hmEjRZT20eMt",
    "outputId": "009c3627-8ec5-4098-b3b5-4ac928cc449f"
   },
   "outputs": [
    {
     "data": {
      "image/png": "[encoded data removed]",
      "text/latex": [
       "$\\displaystyle \\left\\{\\left( \\frac{1}{120}, \\  0, \\  \\frac{19}{24}, \\  0, \\  - \\frac{94}{5}, \\  0\\right)\\right\\}$"
      ],
      "text/plain": [
       "            19               \n",
       "{(1/120, 0, --, 0, -94/5, 0)}\n",
       "            24               "
      ]
     },
     "execution_count": 21,
     "metadata": {},
     "output_type": "execute_result"
    }
   ],
   "source": [
    "nonlinsolve([eq1_lp, eq2_lp, eq3_lp, eq4_lp, eq5_lp, eq6_lp], [a5, a4, a3, a2, a1, a0])"
   ]
  },
  {
   "cell_type": "code",
   "execution_count": 3,
   "metadata": {
    "id": "G283r1cy1Eg7"
   },
   "outputs": [],
   "source": [
    "x = Symbol('x')\n",
    "f = 3*x + 5"
   ]
  },
  {
   "cell_type": "code",
   "execution_count": 7,
   "metadata": {},
   "outputs": [
    {
     "data": {
      "image/png": "[encoded data removed]",
      "text/latex": [
       "$\\displaystyle 0.994143685121354$"
      ],
      "text/plain": [
       "0.994143685121354"
      ]
     },
     "execution_count": 7,
     "metadata": {},
     "output_type": "execute_result"
    }
   ],
   "source": [
    "sqrt(((f.subs(x, 2) - 12.258)**2 + (f.subs(x, 4) - 17.24)**2 + (f.subs(x, 8) - 30.151)**2)/3)\n"
   ]
  },
  {
   "cell_type": "code",
   "execution_count": null,
   "metadata": {},
   "outputs": [],
   "source": []
  }
 ],
 "metadata": {
  "colab": {
   "collapsed_sections": [],
   "provenance": []
  },
  "kernelspec": {
   "display_name": "Python 3 (ipykernel)",
   "language": "python",
   "name": "python3"
  },
  "language_info": {
   "codemirror_mode": {
    "name": "ipython",
    "version": 3
   },
   "file_extension": ".py",
   "mimetype": "text/x-python",
   "name": "python",
   "nbconvert_exporter": "python",
   "pygments_lexer": "ipython3",
   "version": "3.9.7"
  }
 },
 "nbformat": 4,
 "nbformat_minor": 1
}
