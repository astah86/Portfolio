{
 "cells": [
  {
   "cell_type": "markdown",
   "id": "883f8e51",
   "metadata": {
    "id": "883f8e51"
   },
   "source": [
    "## Цель практического задания:\n",
    "* Освоиться в среде Python Notebook.\n",
    "* Запомнить основные «горячие клавиши».\n",
    "* Освоить запуск арифметических операций в Python."
   ]
  },
  {
   "cell_type": "markdown",
   "id": "b377a2f4",
   "metadata": {
    "id": "b377a2f4"
   },
   "source": [
    "1. Запустите ячейку под этим текстом и посмотрите, как текст станет форматированным заголовком:"
   ]
  },
  {
   "cell_type": "markdown",
   "id": "1dbfca90",
   "metadata": {
    "id": "1dbfca90"
   },
   "source": [
    "# Практика в ноутбуках"
   ]
  },
  {
   "cell_type": "markdown",
   "id": "f91ec3a4",
   "metadata": {
    "id": "f91ec3a4"
   },
   "source": [
    "2. Теперь в следующей ячейке напишите свой заголовок и подзаголовок, используя значки # и ##."
   ]
  },
  {
   "cell_type": "markdown",
   "id": "429911a3",
   "metadata": {
    "id": "429911a3"
   },
   "source": [
    "# Заголовок\n",
    "## Pf\n"
   ]
  },
  {
   "cell_type": "markdown",
   "id": "9e36c171",
   "metadata": {
    "id": "9e36c171"
   },
   "source": [
    "3. Под этой ячейкой создайте свою новую ячейку типа Markdown (тип ячейки можно выбрать в выпадающем меню выше) и напишите там не заголовок, а обычный текст."
   ]
  },
  {
   "cell_type": "markdown",
   "id": "19fbd006",
   "metadata": {},
   "source": [
    "ssdsd"
   ]
  },
  {
   "cell_type": "markdown",
   "id": "599f0764",
   "metadata": {
    "id": "599f0764"
   },
   "source": [
    "4. Кнопкой ESC переведите Jupyter Notebook в командный режим и создайте ниже несколько пустых ячеек, нажав клавишу B (below). Вернитесь в режим редактирования, нажав Enter."
   ]
  },
  {
   "cell_type": "code",
   "execution_count": null,
   "id": "1a7b72d1",
   "metadata": {},
   "outputs": [],
   "source": []
  },
  {
   "cell_type": "code",
   "execution_count": null,
   "id": "9db2cc97",
   "metadata": {},
   "outputs": [],
   "source": []
  },
  {
   "cell_type": "code",
   "execution_count": null,
   "id": "c8b9b469",
   "metadata": {},
   "outputs": [],
   "source": []
  },
  {
   "cell_type": "markdown",
   "id": "5a1cac26",
   "metadata": {
    "id": "5a1cac26"
   },
   "source": [
    "5. Снова войдите в командный режим (синяя рамочка вокруг активной ячейки подскажет вам, что вы в командном режиме) и создайте несколько пустых ячеек над текущей, нажав клавишу A (above). Вернитесь в режим редактирования, нажав Enter."
   ]
  },
  {
   "cell_type": "markdown",
   "id": "2264d065",
   "metadata": {
    "id": "2264d065"
   },
   "source": [
    "6. Войдите в командный режим и удалите ячейки, которые вам кажутся лишними, нажимая дважды клавишу D. После этого возвращайтесь в режим редактирования."
   ]
  },
  {
   "cell_type": "markdown",
   "id": "1827e6ae",
   "metadata": {
    "id": "1827e6ae"
   },
   "source": [
    "7. С помощью сочетания клавиш Shift + Enter запустите ячейку ниже:\n"
   ]
  },
  {
   "cell_type": "code",
   "execution_count": 1,
   "id": "f8c8184e",
   "metadata": {
    "id": "f8c8184e"
   },
   "outputs": [
    {
     "data": {
      "text/plain": [
       "55"
      ]
     },
     "execution_count": 1,
     "metadata": {},
     "output_type": "execute_result"
    }
   ],
   "source": [
    "42 + 13"
   ]
  },
  {
   "cell_type": "markdown",
   "id": "4108748e",
   "metadata": {
    "id": "4108748e"
   },
   "source": [
    "8. Напишите в новых отдельных ячейках с кодом свои выражения с вычитанием, умножением и делением."
   ]
  },
  {
   "cell_type": "code",
   "execution_count": null,
   "id": "7fa943c9",
   "metadata": {},
   "outputs": [],
   "source": []
  },
  {
   "cell_type": "markdown",
   "id": "d56bc380",
   "metadata": {
    "id": "d56bc380"
   },
   "source": [
    "9. Дополните выражение ниже скобками, чтобы на выходе получилось 50:\n",
    "\n"
   ]
  },
  {
   "cell_type": "code",
   "execution_count": 2,
   "id": "d0e932b7",
   "metadata": {
    "id": "d0e932b7",
    "outputId": "7016d15a-c20f-4725-fb64-08538dca0d98"
   },
   "outputs": [
    {
     "data": {
      "text/plain": [
       "50"
      ]
     },
     "execution_count": 2,
     "metadata": {},
     "output_type": "execute_result"
    }
   ],
   "source": [
    "(3 + 2) * (7 + 3)"
   ]
  },
  {
   "cell_type": "markdown",
   "id": "ae849640",
   "metadata": {
    "id": "ae849640"
   },
   "source": [
    "10. Какой знак надо поставить между числами 11 и 5, чтобы в выводе получилось 2?\n"
   ]
  },
  {
   "cell_type": "code",
   "execution_count": 3,
   "id": "f9b995cb",
   "metadata": {
    "id": "f9b995cb",
    "outputId": "ff54795a-849b-4808-c16f-2d05edcff23d"
   },
   "outputs": [
    {
     "data": {
      "text/plain": [
       "2"
      ]
     },
     "execution_count": 3,
     "metadata": {},
     "output_type": "execute_result"
    }
   ],
   "source": [
    "11 // 5 "
   ]
  },
  {
   "cell_type": "markdown",
   "id": "b775296e",
   "metadata": {
    "id": "b775296e"
   },
   "source": [
    "11. Что больше: «110 / 50» или «110 % 100»? Можете выполнить оба действия в ячейках и проверить свой ответ."
   ]
  },
  {
   "cell_type": "code",
   "execution_count": 4,
   "id": "0d20ace2",
   "metadata": {},
   "outputs": [
    {
     "data": {
      "text/plain": [
       "2.2"
      ]
     },
     "execution_count": 4,
     "metadata": {},
     "output_type": "execute_result"
    }
   ],
   "source": [
    "110/50"
   ]
  },
  {
   "cell_type": "code",
   "execution_count": 5,
   "id": "15cf9313",
   "metadata": {},
   "outputs": [
    {
     "data": {
      "text/plain": [
       "10"
      ]
     },
     "execution_count": 5,
     "metadata": {},
     "output_type": "execute_result"
    }
   ],
   "source": [
    "110 % 100"
   ]
  },
  {
   "cell_type": "markdown",
   "id": "69e42cd2",
   "metadata": {
    "id": "69e42cd2"
   },
   "source": [
    "12. Средний радиус планеты Венеры составляет 6051.8 км. Посчитайте в новой ячейке площадь её поверхности. Формула для площади поверхности шара: $ S = 4πR^2$"
   ]
  },
  {
   "cell_type": "code",
   "execution_count": 6,
   "id": "bec5bbb2",
   "metadata": {},
   "outputs": [
    {
     "data": {
      "text/plain": [
       "460000997.4944"
      ]
     },
     "execution_count": 6,
     "metadata": {},
     "output_type": "execute_result"
    }
   ],
   "source": [
    "4 * 3.14 * 6051.8**2"
   ]
  },
  {
   "cell_type": "code",
   "execution_count": null,
   "id": "9b6f15ab",
   "metadata": {},
   "outputs": [],
   "source": []
  }
 ],
 "metadata": {
  "colab": {
   "collapsed_sections": [],
   "name": "Практическое задание.ipynb",
   "provenance": []
  },
  "kernelspec": {
   "display_name": "Python 3 (ipykernel)",
   "language": "python",
   "name": "python3"
  },
  "language_info": {
   "codemirror_mode": {
    "name": "ipython",
    "version": 3
   },
   "file_extension": ".py",
   "mimetype": "text/x-python",
   "name": "python",
   "nbconvert_exporter": "python",
   "pygments_lexer": "ipython3",
   "version": "3.9.7"
  }
 },
 "nbformat": 4,
 "nbformat_minor": 5
}
