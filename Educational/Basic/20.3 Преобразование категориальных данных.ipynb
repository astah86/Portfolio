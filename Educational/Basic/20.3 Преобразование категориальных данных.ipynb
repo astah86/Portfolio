{
 "cells": [
  {
   "cell_type": "markdown",
   "id": "ba119592",
   "metadata": {},
   "source": [
    "# Преобразование категориальных данных"
   ]
  },
  {
   "cell_type": "code",
   "execution_count": 1,
   "id": "7b373dc8",
   "metadata": {},
   "outputs": [],
   "source": [
    "import pandas as pd\n",
    "from sklearn.preprocessing import OneHotEncoder"
   ]
  },
  {
   "cell_type": "code",
   "execution_count": 2,
   "id": "61fe260c",
   "metadata": {},
   "outputs": [
    {
     "data": {
      "text/html": [
       "<div>\n",
       "<style scoped>\n",
       "    .dataframe tbody tr th:only-of-type {\n",
       "        vertical-align: middle;\n",
       "    }\n",
       "\n",
       "    .dataframe tbody tr th {\n",
       "        vertical-align: top;\n",
       "    }\n",
       "\n",
       "    .dataframe thead th {\n",
       "        text-align: right;\n",
       "    }\n",
       "</style>\n",
       "<table border=\"1\" class=\"dataframe\">\n",
       "  <thead>\n",
       "    <tr style=\"text-align: right;\">\n",
       "      <th></th>\n",
       "      <th>id</th>\n",
       "      <th>url</th>\n",
       "      <th>region</th>\n",
       "      <th>region_url</th>\n",
       "      <th>price</th>\n",
       "      <th>year</th>\n",
       "      <th>manufacturer</th>\n",
       "      <th>model</th>\n",
       "      <th>fuel</th>\n",
       "      <th>odometer</th>\n",
       "      <th>...</th>\n",
       "      <th>posting_date</th>\n",
       "      <th>price_category</th>\n",
       "      <th>date</th>\n",
       "      <th>odometer_km</th>\n",
       "      <th>odometer/price</th>\n",
       "      <th>region_new</th>\n",
       "      <th>region_corrected</th>\n",
       "      <th>manufacturer_model</th>\n",
       "      <th>desc_len</th>\n",
       "      <th>model_in_desc</th>\n",
       "    </tr>\n",
       "  </thead>\n",
       "  <tbody>\n",
       "    <tr>\n",
       "      <th>0</th>\n",
       "      <td>7308295377</td>\n",
       "      <td>https://chattanooga.craigslist.org/ctd/d/chatt...</td>\n",
       "      <td>chattanooga</td>\n",
       "      <td>https://chattanooga.craigslist.org</td>\n",
       "      <td>54990</td>\n",
       "      <td>2020</td>\n",
       "      <td>ram</td>\n",
       "      <td>2500 crew cab big horn</td>\n",
       "      <td>diesel</td>\n",
       "      <td>27442</td>\n",
       "      <td>...</td>\n",
       "      <td>2021-04-17T12:30:50-0400</td>\n",
       "      <td>high</td>\n",
       "      <td>2021-04-17 16:30:50+00:00</td>\n",
       "      <td>44163.618048</td>\n",
       "      <td>0.499036</td>\n",
       "      <td>chattanooga</td>\n",
       "      <td>chattanooga</td>\n",
       "      <td>ram: 2500 crew cab big horn</td>\n",
       "      <td>4482</td>\n",
       "      <td>0</td>\n",
       "    </tr>\n",
       "    <tr>\n",
       "      <th>1</th>\n",
       "      <td>7316380095</td>\n",
       "      <td>https://newjersey.craigslist.org/ctd/d/carlsta...</td>\n",
       "      <td>north jersey</td>\n",
       "      <td>https://newjersey.craigslist.org</td>\n",
       "      <td>16942</td>\n",
       "      <td>2016</td>\n",
       "      <td>ford</td>\n",
       "      <td>explorer 4wd 4dr xlt</td>\n",
       "      <td>other</td>\n",
       "      <td>60023</td>\n",
       "      <td>...</td>\n",
       "      <td>2021-05-03T15:40:21-0400</td>\n",
       "      <td>medium</td>\n",
       "      <td>2021-05-03 19:40:21+00:00</td>\n",
       "      <td>96597.654912</td>\n",
       "      <td>3.542852</td>\n",
       "      <td>newjersey</td>\n",
       "      <td>northjersey</td>\n",
       "      <td>ford: explorer 4wd 4dr xlt</td>\n",
       "      <td>968</td>\n",
       "      <td>0</td>\n",
       "    </tr>\n",
       "    <tr>\n",
       "      <th>2</th>\n",
       "      <td>7313733749</td>\n",
       "      <td>https://reno.craigslist.org/ctd/d/atlanta-2017...</td>\n",
       "      <td>reno / tahoe</td>\n",
       "      <td>https://reno.craigslist.org</td>\n",
       "      <td>35590</td>\n",
       "      <td>2017</td>\n",
       "      <td>volkswagen</td>\n",
       "      <td>golf r hatchback</td>\n",
       "      <td>gas</td>\n",
       "      <td>14048</td>\n",
       "      <td>...</td>\n",
       "      <td>2021-04-28T03:52:20-0700</td>\n",
       "      <td>high</td>\n",
       "      <td>2021-04-28 10:52:20+00:00</td>\n",
       "      <td>22608.064512</td>\n",
       "      <td>0.394718</td>\n",
       "      <td>reno</td>\n",
       "      <td>reno</td>\n",
       "      <td>volkswagen: golf r hatchback</td>\n",
       "      <td>4286</td>\n",
       "      <td>0</td>\n",
       "    </tr>\n",
       "    <tr>\n",
       "      <th>3</th>\n",
       "      <td>7308210929</td>\n",
       "      <td>https://fayetteville.craigslist.org/ctd/d/rale...</td>\n",
       "      <td>fayetteville</td>\n",
       "      <td>https://fayetteville.craigslist.org</td>\n",
       "      <td>14500</td>\n",
       "      <td>2013</td>\n",
       "      <td>toyota</td>\n",
       "      <td>rav4</td>\n",
       "      <td>gas</td>\n",
       "      <td>117291</td>\n",
       "      <td>...</td>\n",
       "      <td>2021-04-17T10:08:57-0400</td>\n",
       "      <td>medium</td>\n",
       "      <td>2021-04-17 14:08:57+00:00</td>\n",
       "      <td>188761.567104</td>\n",
       "      <td>8.089034</td>\n",
       "      <td>fayetteville</td>\n",
       "      <td>fayetteville</td>\n",
       "      <td>toyota: rav4</td>\n",
       "      <td>3241</td>\n",
       "      <td>0</td>\n",
       "    </tr>\n",
       "    <tr>\n",
       "      <th>4</th>\n",
       "      <td>7303797340</td>\n",
       "      <td>https://knoxville.craigslist.org/ctd/d/knoxvil...</td>\n",
       "      <td>knoxville</td>\n",
       "      <td>https://knoxville.craigslist.org</td>\n",
       "      <td>14590</td>\n",
       "      <td>2012</td>\n",
       "      <td>bmw</td>\n",
       "      <td>1 series 128i coupe 2d</td>\n",
       "      <td>other</td>\n",
       "      <td>80465</td>\n",
       "      <td>...</td>\n",
       "      <td>2021-04-08T15:10:56-0400</td>\n",
       "      <td>medium</td>\n",
       "      <td>2021-04-08 19:10:56+00:00</td>\n",
       "      <td>129495.864960</td>\n",
       "      <td>5.515079</td>\n",
       "      <td>knoxville</td>\n",
       "      <td>knoxville</td>\n",
       "      <td>bmw: 1 series 128i coupe 2d</td>\n",
       "      <td>4851</td>\n",
       "      <td>0</td>\n",
       "    </tr>\n",
       "  </tbody>\n",
       "</table>\n",
       "<p>5 rows × 27 columns</p>\n",
       "</div>"
      ],
      "text/plain": [
       "           id                                                url  \\\n",
       "0  7308295377  https://chattanooga.craigslist.org/ctd/d/chatt...   \n",
       "1  7316380095  https://newjersey.craigslist.org/ctd/d/carlsta...   \n",
       "2  7313733749  https://reno.craigslist.org/ctd/d/atlanta-2017...   \n",
       "3  7308210929  https://fayetteville.craigslist.org/ctd/d/rale...   \n",
       "4  7303797340  https://knoxville.craigslist.org/ctd/d/knoxvil...   \n",
       "\n",
       "         region                           region_url  price  year  \\\n",
       "0   chattanooga   https://chattanooga.craigslist.org  54990  2020   \n",
       "1  north jersey     https://newjersey.craigslist.org  16942  2016   \n",
       "2  reno / tahoe          https://reno.craigslist.org  35590  2017   \n",
       "3  fayetteville  https://fayetteville.craigslist.org  14500  2013   \n",
       "4     knoxville     https://knoxville.craigslist.org  14590  2012   \n",
       "\n",
       "  manufacturer                   model    fuel  odometer  ...  \\\n",
       "0          ram  2500 crew cab big horn  diesel     27442  ...   \n",
       "1         ford    explorer 4wd 4dr xlt   other     60023  ...   \n",
       "2   volkswagen        golf r hatchback     gas     14048  ...   \n",
       "3       toyota                    rav4     gas    117291  ...   \n",
       "4          bmw  1 series 128i coupe 2d   other     80465  ...   \n",
       "\n",
       "               posting_date price_category                       date  \\\n",
       "0  2021-04-17T12:30:50-0400           high  2021-04-17 16:30:50+00:00   \n",
       "1  2021-05-03T15:40:21-0400         medium  2021-05-03 19:40:21+00:00   \n",
       "2  2021-04-28T03:52:20-0700           high  2021-04-28 10:52:20+00:00   \n",
       "3  2021-04-17T10:08:57-0400         medium  2021-04-17 14:08:57+00:00   \n",
       "4  2021-04-08T15:10:56-0400         medium  2021-04-08 19:10:56+00:00   \n",
       "\n",
       "     odometer_km odometer/price    region_new  region_corrected  \\\n",
       "0   44163.618048       0.499036   chattanooga       chattanooga   \n",
       "1   96597.654912       3.542852     newjersey       northjersey   \n",
       "2   22608.064512       0.394718          reno              reno   \n",
       "3  188761.567104       8.089034  fayetteville      fayetteville   \n",
       "4  129495.864960       5.515079     knoxville         knoxville   \n",
       "\n",
       "             manufacturer_model desc_len model_in_desc  \n",
       "0   ram: 2500 crew cab big horn     4482             0  \n",
       "1    ford: explorer 4wd 4dr xlt      968             0  \n",
       "2  volkswagen: golf r hatchback     4286             0  \n",
       "3                  toyota: rav4     3241             0  \n",
       "4   bmw: 1 series 128i coupe 2d     4851             0  \n",
       "\n",
       "[5 rows x 27 columns]"
      ]
     },
     "execution_count": 2,
     "metadata": {},
     "output_type": "execute_result"
    }
   ],
   "source": [
    "df = pd.read_csv('data/vehicles_dataset_upd4.csv')\n",
    "df.head()"
   ]
  },
  {
   "cell_type": "code",
   "execution_count": 3,
   "id": "b39ce1ff",
   "metadata": {},
   "outputs": [
    {
     "data": {
      "text/plain": [
       "OneHotEncoder(sparse=False)"
      ]
     },
     "execution_count": 3,
     "metadata": {},
     "output_type": "execute_result"
    }
   ],
   "source": [
    "ohe = OneHotEncoder(sparse=False)\n",
    "ohe"
   ]
  },
  {
   "cell_type": "code",
   "execution_count": 4,
   "id": "c9a4efb5",
   "metadata": {},
   "outputs": [
    {
     "data": {
      "text/plain": [
       "array(['diesel', 'other', 'gas', 'electric', 'hybrid'], dtype=object)"
      ]
     },
     "execution_count": 4,
     "metadata": {},
     "output_type": "execute_result"
    }
   ],
   "source": [
    "df.fuel.unique()"
   ]
  },
  {
   "cell_type": "code",
   "execution_count": 5,
   "id": "c2f29a74",
   "metadata": {},
   "outputs": [
    {
     "data": {
      "text/plain": [
       "OneHotEncoder(sparse=False)"
      ]
     },
     "execution_count": 5,
     "metadata": {},
     "output_type": "execute_result"
    }
   ],
   "source": [
    "ohe.fit(df[['fuel']])"
   ]
  },
  {
   "cell_type": "code",
   "execution_count": 6,
   "id": "4fbeb507",
   "metadata": {},
   "outputs": [
    {
     "data": {
      "text/plain": [
       "array([[1., 0., 0., 0., 0.],\n",
       "       [0., 0., 0., 0., 1.],\n",
       "       [0., 0., 1., 0., 0.],\n",
       "       ...,\n",
       "       [0., 0., 1., 0., 0.],\n",
       "       [0., 0., 0., 1., 0.],\n",
       "       [0., 0., 1., 0., 0.]])"
      ]
     },
     "execution_count": 6,
     "metadata": {},
     "output_type": "execute_result"
    }
   ],
   "source": [
    "ohe_fuel = ohe.transform(df[['fuel']])\n",
    "ohe_fuel"
   ]
  },
  {
   "cell_type": "code",
   "execution_count": 7,
   "id": "7e2f85be",
   "metadata": {},
   "outputs": [
    {
     "data": {
      "text/plain": [
       "(9619, 5)"
      ]
     },
     "execution_count": 7,
     "metadata": {},
     "output_type": "execute_result"
    }
   ],
   "source": [
    "ohe_fuel.shape"
   ]
  },
  {
   "cell_type": "code",
   "execution_count": 8,
   "id": "d201ba1e",
   "metadata": {
    "collapsed": true
   },
   "outputs": [
    {
     "data": {
      "text/plain": [
       "[array(['diesel', 'electric', 'gas', 'hybrid', 'other'], dtype=object)]"
      ]
     },
     "execution_count": 8,
     "metadata": {},
     "output_type": "execute_result"
    }
   ],
   "source": [
    "ohe.categories_"
   ]
  },
  {
   "cell_type": "code",
   "execution_count": 9,
   "id": "90cac2f1",
   "metadata": {},
   "outputs": [
    {
     "data": {
      "text/plain": [
       "array([['diesel'],\n",
       "       ['other'],\n",
       "       ['gas'],\n",
       "       ...,\n",
       "       ['gas'],\n",
       "       ['hybrid'],\n",
       "       ['gas']], dtype=object)"
      ]
     },
     "execution_count": 9,
     "metadata": {},
     "output_type": "execute_result"
    }
   ],
   "source": [
    "ohe.inverse_transform(ohe_fuel)"
   ]
  },
  {
   "cell_type": "code",
   "execution_count": 10,
   "id": "969ae16f",
   "metadata": {},
   "outputs": [
    {
     "data": {
      "text/plain": [
       "array(['x0_diesel', 'x0_electric', 'x0_gas', 'x0_hybrid', 'x0_other'],\n",
       "      dtype=object)"
      ]
     },
     "execution_count": 10,
     "metadata": {},
     "output_type": "execute_result"
    }
   ],
   "source": [
    "ohe.get_feature_names()"
   ]
  },
  {
   "cell_type": "code",
   "execution_count": 11,
   "id": "07e78623",
   "metadata": {},
   "outputs": [],
   "source": [
    "df[ohe.get_feature_names()] = ohe_fuel"
   ]
  },
  {
   "cell_type": "code",
   "execution_count": 12,
   "id": "2c723270",
   "metadata": {},
   "outputs": [
    {
     "data": {
      "text/html": [
       "<div>\n",
       "<style scoped>\n",
       "    .dataframe tbody tr th:only-of-type {\n",
       "        vertical-align: middle;\n",
       "    }\n",
       "\n",
       "    .dataframe tbody tr th {\n",
       "        vertical-align: top;\n",
       "    }\n",
       "\n",
       "    .dataframe thead th {\n",
       "        text-align: right;\n",
       "    }\n",
       "</style>\n",
       "<table border=\"1\" class=\"dataframe\">\n",
       "  <thead>\n",
       "    <tr style=\"text-align: right;\">\n",
       "      <th></th>\n",
       "      <th>id</th>\n",
       "      <th>url</th>\n",
       "      <th>region</th>\n",
       "      <th>region_url</th>\n",
       "      <th>price</th>\n",
       "      <th>year</th>\n",
       "      <th>manufacturer</th>\n",
       "      <th>model</th>\n",
       "      <th>fuel</th>\n",
       "      <th>odometer</th>\n",
       "      <th>...</th>\n",
       "      <th>region_new</th>\n",
       "      <th>region_corrected</th>\n",
       "      <th>manufacturer_model</th>\n",
       "      <th>desc_len</th>\n",
       "      <th>model_in_desc</th>\n",
       "      <th>x0_diesel</th>\n",
       "      <th>x0_electric</th>\n",
       "      <th>x0_gas</th>\n",
       "      <th>x0_hybrid</th>\n",
       "      <th>x0_other</th>\n",
       "    </tr>\n",
       "  </thead>\n",
       "  <tbody>\n",
       "    <tr>\n",
       "      <th>0</th>\n",
       "      <td>7308295377</td>\n",
       "      <td>https://chattanooga.craigslist.org/ctd/d/chatt...</td>\n",
       "      <td>chattanooga</td>\n",
       "      <td>https://chattanooga.craigslist.org</td>\n",
       "      <td>54990</td>\n",
       "      <td>2020</td>\n",
       "      <td>ram</td>\n",
       "      <td>2500 crew cab big horn</td>\n",
       "      <td>diesel</td>\n",
       "      <td>27442</td>\n",
       "      <td>...</td>\n",
       "      <td>chattanooga</td>\n",
       "      <td>chattanooga</td>\n",
       "      <td>ram: 2500 crew cab big horn</td>\n",
       "      <td>4482</td>\n",
       "      <td>0</td>\n",
       "      <td>1.0</td>\n",
       "      <td>0.0</td>\n",
       "      <td>0.0</td>\n",
       "      <td>0.0</td>\n",
       "      <td>0.0</td>\n",
       "    </tr>\n",
       "    <tr>\n",
       "      <th>1</th>\n",
       "      <td>7316380095</td>\n",
       "      <td>https://newjersey.craigslist.org/ctd/d/carlsta...</td>\n",
       "      <td>north jersey</td>\n",
       "      <td>https://newjersey.craigslist.org</td>\n",
       "      <td>16942</td>\n",
       "      <td>2016</td>\n",
       "      <td>ford</td>\n",
       "      <td>explorer 4wd 4dr xlt</td>\n",
       "      <td>other</td>\n",
       "      <td>60023</td>\n",
       "      <td>...</td>\n",
       "      <td>newjersey</td>\n",
       "      <td>northjersey</td>\n",
       "      <td>ford: explorer 4wd 4dr xlt</td>\n",
       "      <td>968</td>\n",
       "      <td>0</td>\n",
       "      <td>0.0</td>\n",
       "      <td>0.0</td>\n",
       "      <td>0.0</td>\n",
       "      <td>0.0</td>\n",
       "      <td>1.0</td>\n",
       "    </tr>\n",
       "    <tr>\n",
       "      <th>2</th>\n",
       "      <td>7313733749</td>\n",
       "      <td>https://reno.craigslist.org/ctd/d/atlanta-2017...</td>\n",
       "      <td>reno / tahoe</td>\n",
       "      <td>https://reno.craigslist.org</td>\n",
       "      <td>35590</td>\n",
       "      <td>2017</td>\n",
       "      <td>volkswagen</td>\n",
       "      <td>golf r hatchback</td>\n",
       "      <td>gas</td>\n",
       "      <td>14048</td>\n",
       "      <td>...</td>\n",
       "      <td>reno</td>\n",
       "      <td>reno</td>\n",
       "      <td>volkswagen: golf r hatchback</td>\n",
       "      <td>4286</td>\n",
       "      <td>0</td>\n",
       "      <td>0.0</td>\n",
       "      <td>0.0</td>\n",
       "      <td>1.0</td>\n",
       "      <td>0.0</td>\n",
       "      <td>0.0</td>\n",
       "    </tr>\n",
       "    <tr>\n",
       "      <th>3</th>\n",
       "      <td>7308210929</td>\n",
       "      <td>https://fayetteville.craigslist.org/ctd/d/rale...</td>\n",
       "      <td>fayetteville</td>\n",
       "      <td>https://fayetteville.craigslist.org</td>\n",
       "      <td>14500</td>\n",
       "      <td>2013</td>\n",
       "      <td>toyota</td>\n",
       "      <td>rav4</td>\n",
       "      <td>gas</td>\n",
       "      <td>117291</td>\n",
       "      <td>...</td>\n",
       "      <td>fayetteville</td>\n",
       "      <td>fayetteville</td>\n",
       "      <td>toyota: rav4</td>\n",
       "      <td>3241</td>\n",
       "      <td>0</td>\n",
       "      <td>0.0</td>\n",
       "      <td>0.0</td>\n",
       "      <td>1.0</td>\n",
       "      <td>0.0</td>\n",
       "      <td>0.0</td>\n",
       "    </tr>\n",
       "    <tr>\n",
       "      <th>4</th>\n",
       "      <td>7303797340</td>\n",
       "      <td>https://knoxville.craigslist.org/ctd/d/knoxvil...</td>\n",
       "      <td>knoxville</td>\n",
       "      <td>https://knoxville.craigslist.org</td>\n",
       "      <td>14590</td>\n",
       "      <td>2012</td>\n",
       "      <td>bmw</td>\n",
       "      <td>1 series 128i coupe 2d</td>\n",
       "      <td>other</td>\n",
       "      <td>80465</td>\n",
       "      <td>...</td>\n",
       "      <td>knoxville</td>\n",
       "      <td>knoxville</td>\n",
       "      <td>bmw: 1 series 128i coupe 2d</td>\n",
       "      <td>4851</td>\n",
       "      <td>0</td>\n",
       "      <td>0.0</td>\n",
       "      <td>0.0</td>\n",
       "      <td>0.0</td>\n",
       "      <td>0.0</td>\n",
       "      <td>1.0</td>\n",
       "    </tr>\n",
       "  </tbody>\n",
       "</table>\n",
       "<p>5 rows × 32 columns</p>\n",
       "</div>"
      ],
      "text/plain": [
       "           id                                                url  \\\n",
       "0  7308295377  https://chattanooga.craigslist.org/ctd/d/chatt...   \n",
       "1  7316380095  https://newjersey.craigslist.org/ctd/d/carlsta...   \n",
       "2  7313733749  https://reno.craigslist.org/ctd/d/atlanta-2017...   \n",
       "3  7308210929  https://fayetteville.craigslist.org/ctd/d/rale...   \n",
       "4  7303797340  https://knoxville.craigslist.org/ctd/d/knoxvil...   \n",
       "\n",
       "         region                           region_url  price  year  \\\n",
       "0   chattanooga   https://chattanooga.craigslist.org  54990  2020   \n",
       "1  north jersey     https://newjersey.craigslist.org  16942  2016   \n",
       "2  reno / tahoe          https://reno.craigslist.org  35590  2017   \n",
       "3  fayetteville  https://fayetteville.craigslist.org  14500  2013   \n",
       "4     knoxville     https://knoxville.craigslist.org  14590  2012   \n",
       "\n",
       "  manufacturer                   model    fuel  odometer  ...    region_new  \\\n",
       "0          ram  2500 crew cab big horn  diesel     27442  ...   chattanooga   \n",
       "1         ford    explorer 4wd 4dr xlt   other     60023  ...     newjersey   \n",
       "2   volkswagen        golf r hatchback     gas     14048  ...          reno   \n",
       "3       toyota                    rav4     gas    117291  ...  fayetteville   \n",
       "4          bmw  1 series 128i coupe 2d   other     80465  ...     knoxville   \n",
       "\n",
       "  region_corrected            manufacturer_model desc_len model_in_desc  \\\n",
       "0      chattanooga   ram: 2500 crew cab big horn     4482             0   \n",
       "1      northjersey    ford: explorer 4wd 4dr xlt      968             0   \n",
       "2             reno  volkswagen: golf r hatchback     4286             0   \n",
       "3     fayetteville                  toyota: rav4     3241             0   \n",
       "4        knoxville   bmw: 1 series 128i coupe 2d     4851             0   \n",
       "\n",
       "   x0_diesel  x0_electric x0_gas x0_hybrid x0_other  \n",
       "0        1.0          0.0    0.0       0.0      0.0  \n",
       "1        0.0          0.0    0.0       0.0      1.0  \n",
       "2        0.0          0.0    1.0       0.0      0.0  \n",
       "3        0.0          0.0    1.0       0.0      0.0  \n",
       "4        0.0          0.0    0.0       0.0      1.0  \n",
       "\n",
       "[5 rows x 32 columns]"
      ]
     },
     "execution_count": 12,
     "metadata": {},
     "output_type": "execute_result"
    }
   ],
   "source": [
    "df.head()"
   ]
  },
  {
   "cell_type": "code",
   "execution_count": 13,
   "id": "cdfe456c",
   "metadata": {},
   "outputs": [],
   "source": [
    "df.to_csv('data/vehicles_dataset_upd5.csv', index=False)"
   ]
  },
  {
   "cell_type": "code",
   "execution_count": null,
   "id": "f6b98c50",
   "metadata": {},
   "outputs": [],
   "source": []
  }
 ],
 "metadata": {
  "kernelspec": {
   "display_name": "Python 3 (ipykernel)",
   "language": "python",
   "name": "python3"
  },
  "language_info": {
   "codemirror_mode": {
    "name": "ipython",
    "version": 3
   },
   "file_extension": ".py",
   "mimetype": "text/x-python",
   "name": "python",
   "nbconvert_exporter": "python",
   "pygments_lexer": "ipython3",
   "version": "3.9.7"
  }
 },
 "nbformat": 4,
 "nbformat_minor": 5
}
