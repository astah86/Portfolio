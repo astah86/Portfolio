{
 "cells": [
  {
   "cell_type": "markdown",
   "id": "a7881756",
   "metadata": {
    "id": "a7881756"
   },
   "source": [
    "# Практическая работа\n",
    "\n",
    "**Цели работы**\n",
    "\n",
    "Научиться применять метод максимального правдоподобия.\n",
    "\n",
    "**Что нужно сделать**\n",
    "\n",
    "Плотность некоторого распределения имеет вид: \n",
    "\n",
    "$$f(x)=\\frac{2x^3}{\\sqrt{2\\pi}} \\cdot e^{-\\frac{(x^4-\\theta)^2}{2}}$$\n",
    "\n",
    "Необходимо оценить параметр $\\theta$ методом максимального правдоподобия.\n",
    "\n",
    "В рамках данной практической работы необходимо выполнить следующие шаги:\n",
    "0. Написать функцию правдоподобия.\n",
    "1. Упростить функцию правдоподобия.\n",
    "2. Прологарифмировать функцию правдоподобия.\n",
    "3. Найти частную производную функции правдоподобия относительно неизвестного параметра.\n",
    "4. Приравнять частную производную к нулю.\n",
    "\n",
    "Результатом будет нахождение оценки неизвестного параметра.\n",
    "\n",
    "**Рекомендации по выполнению**\n",
    "\n",
    "- Выполняйте задания в приведённой последовательности.\n",
    "- Пользуйтесь материалами, о которых говорилось в видео.\n",
    "- Используйте подсказки: \n",
    "\n",
    "**Подсказка 1** — функция правдоподобия (шаг 0):\n",
    "\n",
    "$$L(X_1,...,X_n, \\theta)=\\prod_{i=1}^n p(x_i, \\theta) = \n",
    "\\prod_{i=1}^n \\left(\\frac{2x_i^3}{\\sqrt{2\\pi}} \\cdot e^{-\\frac{(x_i^4-\\theta)^2}{2}}\\right)$$\n",
    "\n",
    "**Подсказка 2** — свойство степени:\n",
    "\n",
    "$$a^n \\cdot a^m = a^{n+m}$$\n",
    "\n",
    "**Подсказка 3** — cвойства логарифма:\n",
    "\n",
    "$$log_a(x_1\\cdot x_2) = log_a x_1 + log_a x_2$$\n",
    "\n",
    "$$log_a \\frac{x_1}{x_2} = log_a x_1 - log_a x2$$\n",
    "\n",
    "$$ln(e^x) = x$$\n",
    "\n",
    "**Что оценивается**\n",
    "\n",
    "- Выполнены все оставшиеся 4 шага задания (1-4).\n",
    "- Для всех шагов получены правильные математические выкладки.\n",
    "- Получен верный финальный ответ.\n",
    "\n",
    "\n",
    "\n",
    "**Как отправить работу на проверку**\n",
    "\n",
    "Отправьте решение на проверку в конце модуля. К решению прикрепите:\n",
    "- расчёты на бумаге / в документе;\n",
    "- (необязательно) если пишете на latex, jupyter notebook с решением."
   ]
  },
  {
   "cell_type": "markdown",
   "id": "2541bede",
   "metadata": {
    "id": "2541bede"
   },
   "source": [
    "# Решение"
   ]
  },
  {
   "cell_type": "markdown",
   "id": "2550f38c",
   "metadata": {
    "id": "2550f38c"
   },
   "source": [
    "## 0. Функция правдоподобия"
   ]
  },
  {
   "cell_type": "markdown",
   "id": "baa74278",
   "metadata": {
    "id": "baa74278"
   },
   "source": [
    "$$L(X_1,...,X_n, \\theta)=\\prod_{i=1}^n p(x_i, \\theta) = \n",
    "\\prod_{i=1}^n \\left(\\frac{2x_i^3}{\\sqrt{2\\pi}} \\cdot e^{-\\frac{(x_i^4-\\theta)^2}{2}}\\right)$$"
   ]
  },
  {
   "cell_type": "markdown",
   "id": "f8808b18",
   "metadata": {
    "id": "f8808b18"
   },
   "source": [
    "## 1. Упрощение функции правдоподобия\n",
    "\n",
    "Примечание: свойство степени\n",
    "\n",
    "$$a^n \\cdot a^m = a^{n+m}$$"
   ]
  },
  {
   "cell_type": "markdown",
   "id": "a18b8ec3",
   "metadata": {
    "id": "a18b8ec3"
   },
   "source": [
    "$$L(X_1,...,X_n, \\theta)=\\prod_{i=1}^n p(x_i, \\theta) = \n",
    "\\prod_{i=1}^n \\left(\\frac{2x_i^3}{\\sqrt{2\\pi}} \\cdot e^{-\\frac{(x_i^4-\\theta)^2}{2}}\\right)=\\\\=\n",
    "\\left(\\frac{2}{\\sqrt{2\\pi}}\\right)^n \\cdot \\left(\\prod_{i=1}^n x_i^3\\right) \\cdot e^{- \\sum_{i=1}^{n}\\frac{(x_i^4-\\theta)^2}{2}}$$"
   ]
  },
  {
   "cell_type": "markdown",
   "id": "6d29fd1f",
   "metadata": {
    "id": "6d29fd1f"
   },
   "source": [
    "## 2. Логарифмируем\n",
    "\n",
    "Примечание: cвойства логарифма\n",
    "\n",
    "$$log_a(x_1\\cdot x_2) = log_a x_1 + log_a x_2$$\n",
    "\n",
    "$$log_a \\frac{x_1}{x_2} = log_a x_1 - log_a x2$$\n",
    "\n",
    "$$ln(e^x) = x$$"
   ]
  },
  {
   "cell_type": "markdown",
   "id": "d9c1386e",
   "metadata": {
    "id": "d9c1386e"
   },
   "source": [
    "$$\\ln L(X_1,...,X_n, \\theta)=\\ln 2^n - \\ln (\\sqrt{2\\pi})^n + \\ln \\left(\\prod_{i=1}^n x_i^3\\right) + \\ln e^{- \\sum_{i=1}^{n}\\frac{(x_i^4-\\theta)^2}{2}}$$"
   ]
  },
  {
   "cell_type": "markdown",
   "id": "a958cff8",
   "metadata": {
    "id": "a958cff8"
   },
   "source": [
    "$$\\ln L(X_1,...,X_n, \\theta)=\\ln 2^n - \\ln (\\sqrt{2\\pi})^n + \\sum_{x=1}^{n} \\ln x_i^3 + - \\sum_{i=1}^{n}\\frac{(x_i^4-\\theta)^2}{2}$$"
   ]
  },
  {
   "cell_type": "markdown",
   "id": "6a996f2a",
   "metadata": {
    "id": "6a996f2a"
   },
   "source": [
    "## 3. Находим частную производную"
   ]
  },
  {
   "cell_type": "markdown",
   "id": "13f82028",
   "metadata": {
    "id": "13f82028"
   },
   "source": [
    "$$\\frac{\\partial ln L}{\\partial \\theta} = \\frac{\\partial}{\\partial \\theta} \\left( \\ln 2^n - \\ln (\\sqrt{2\\pi})^n + \\sum_{x=1}^{n} \\ln x_i^3 + - \\sum_{i=1}^{n}\\frac{(x_i^4-\\theta)^2}{2} \\right)$$"
   ]
  },
  {
   "cell_type": "markdown",
   "id": "2fc2d95d",
   "metadata": {
    "id": "2fc2d95d"
   },
   "source": [
    "$$\\frac{\\partial ln L}{\\partial \\theta} = -\\frac{\\partial}{\\partial \\theta} \\left( \\sum_{i=1}^{n}\\frac{(x_i^4-\\theta)^2}{2} \\right) = -\\sum_{i=1}^{n}\\frac{2(x_i^4-\\theta)}{2} = -\\sum_{i=1}^{n} (x_i^4-\\theta)$$"
   ]
  },
  {
   "cell_type": "markdown",
   "id": "cfb340d0",
   "metadata": {
    "id": "cfb340d0"
   },
   "source": [
    "## 4. Приравниваем производную к нулю"
   ]
  },
  {
   "cell_type": "markdown",
   "id": "a2eefdcc",
   "metadata": {
    "id": "a2eefdcc"
   },
   "source": [
    "$$-\\sum_{i=1}^{n} (x_i^4-\\theta)=0$$\n",
    "\n",
    "$$\\sum_{i=1}^{n} x_i^4 = n\\cdot \\theta$$\n",
    "\n",
    "$$\\theta = \\frac{\\sum_{i=1}^{n} x_i^4}{n}$$"
   ]
  }
 ],
 "metadata": {
  "colab": {
   "collapsed_sections": [],
   "provenance": []
  },
  "kernelspec": {
   "display_name": "Python 3 (ipykernel)",
   "language": "python",
   "name": "python3"
  },
  "language_info": {
   "codemirror_mode": {
    "name": "ipython",
    "version": 3
   },
   "file_extension": ".py",
   "mimetype": "text/x-python",
   "name": "python",
   "nbconvert_exporter": "python",
   "pygments_lexer": "ipython3",
   "version": "3.9.7"
  }
 },
 "nbformat": 4,
 "nbformat_minor": 5
}
