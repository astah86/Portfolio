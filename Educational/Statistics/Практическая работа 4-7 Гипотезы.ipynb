{
 "cells": [
  {
   "cell_type": "code",
   "execution_count": 9,
   "id": "6db9c306",
   "metadata": {},
   "outputs": [],
   "source": [
    "import pandas as pd\n",
    "from scipy import stats"
   ]
  },
  {
   "cell_type": "markdown",
   "id": "f21be656",
   "metadata": {},
   "source": [
    "# Задача 1"
   ]
  },
  {
   "cell_type": "code",
   "execution_count": 2,
   "id": "5b0a52a0",
   "metadata": {},
   "outputs": [],
   "source": [
    "sample = [12.9, 11.6, 13.5, 13.9, 12.1, 11.9, 13.0]\n",
    "mu0 = 12"
   ]
  },
  {
   "cell_type": "code",
   "execution_count": 7,
   "id": "1aa7b468",
   "metadata": {},
   "outputs": [
    {
     "name": "stdout",
     "output_type": "stream",
     "text": [
      "Можно ли считать среднее напряжение статистически равным 12 В при уровне значимости 0.05? Ответ: True\n"
     ]
    }
   ],
   "source": [
    "sample_test = stats.ttest_1samp(sample, mu0)\n",
    "print(f'Можно ли считать среднее напряжение статистически равным 12 В при уровне значимости 0.05? Ответ: {sample_test[1] > 0.05}')"
   ]
  },
  {
   "cell_type": "markdown",
   "id": "c800a4d5",
   "metadata": {},
   "source": [
    "# Задача 2"
   ]
  },
  {
   "cell_type": "code",
   "execution_count": 8,
   "id": "98f87984",
   "metadata": {},
   "outputs": [],
   "source": [
    "x = [23.1, 23.2, 26.5, 26.6, 27.1, 48.3, 40.5, 25.0, 38.4, 23.5]\n",
    "y = [22.7, 23.6, 27.1, 27.4, 27.4, 46.8, 40.4, 24.9, 38.1, 23.8]"
   ]
  },
  {
   "cell_type": "code",
   "execution_count": 9,
   "id": "ad798f28",
   "metadata": {},
   "outputs": [
    {
     "name": "stdout",
     "output_type": "stream",
     "text": [
      "Результаты по методу I нормальны распределены False\n",
      "Результаты по методу II нормальны распределены False\n"
     ]
    }
   ],
   "source": [
    "x_shapiro = stats.shapiro(x)\n",
    "print(f'Результаты по методу I нормальны распределены {x_shapiro[1] > 0.05}')\n",
    "y_shapiro = stats.shapiro(y)\n",
    "print(f'Результаты по методу II нормальны распределены {y_shapiro[1] > 0.05}')"
   ]
  },
  {
   "cell_type": "code",
   "execution_count": 10,
   "id": "df9867f8",
   "metadata": {},
   "outputs": [
    {
     "name": "stdout",
     "output_type": "stream",
     "text": [
      "Методы дают статистически одинаковые результаты при уровне значимости 0,05\n"
     ]
    }
   ],
   "source": [
    "xy_wilcoxon = stats.wilcoxon(x, y)\n",
    "\n",
    "if xy_wilcoxon[1] > 0.05:\n",
    "    print('Методы дают статистически одинаковые результаты при уровне значимости 0,05')\n",
    "else:\n",
    "    print('Статистически можно утоверждать, что один из методов дает более высокие результаты при уровне значимости 0.05')"
   ]
  },
  {
   "cell_type": "markdown",
   "id": "7e59bfc1",
   "metadata": {},
   "source": [
    "# Задача 3"
   ]
  },
  {
   "cell_type": "code",
   "execution_count": 11,
   "id": "6256fb90",
   "metadata": {},
   "outputs": [],
   "source": [
    "x1 = [132, 111, 119, 138, 200, 131, 138, 170, 159, 140]\n",
    "y1 = [115, 190, 127, 155, 148, 121, 116, 121, 197]"
   ]
  },
  {
   "cell_type": "code",
   "execution_count": 12,
   "id": "14d26187",
   "metadata": {},
   "outputs": [
    {
     "name": "stdout",
     "output_type": "stream",
     "text": [
      "Результаты по методу I нормальны распределены False\n",
      "Результаты по методу II нормальны распределены False\n"
     ]
    }
   ],
   "source": [
    "x1_shapiro = stats.shapiro(x)\n",
    "print(f'Результаты по методу I нормальны распределены {x_shapiro[1] > 0.05}')\n",
    "y1_shapiro = stats.shapiro(y)\n",
    "print(f'Результаты по методу II нормальны распределены {y_shapiro[1] > 0.05}')"
   ]
  },
  {
   "cell_type": "code",
   "execution_count": 18,
   "id": "a44b3644",
   "metadata": {},
   "outputs": [
    {
     "name": "stdout",
     "output_type": "stream",
     "text": [
      "Жители городов статистически не имеют в среднем более высокое давление, чем жители сельской местности\n"
     ]
    }
   ],
   "source": [
    "x1y1_mann_whitney = stats.mannwhitneyu(x1, y1, alternative = 'greater')\n",
    "if x1y1_mann_whitney[1] > 0.05:\n",
    "    print('Жители городов статистически не имеют в среднем более высокое давление, чем жители сельской местности')\n",
    "else:\n",
    "    print('Жители городов статистически имеют в среднем более высокое давление, чем жители сельской местности')"
   ]
  },
  {
   "cell_type": "markdown",
   "id": "fae6eddc",
   "metadata": {},
   "source": [
    "# Задача 4"
   ]
  },
  {
   "cell_type": "code",
   "execution_count": 29,
   "id": "09ff83bd",
   "metadata": {},
   "outputs": [],
   "source": [
    "p0 = 0.52\n",
    "n = 5000\n",
    "m = 2500"
   ]
  },
  {
   "cell_type": "code",
   "execution_count": 31,
   "id": "ac507cab",
   "metadata": {},
   "outputs": [
    {
     "name": "stdout",
     "output_type": "stream",
     "text": [
      "На основании данной выборки можно считать, что смертность среди мужчин и женщин статистически различна\n"
     ]
    }
   ],
   "source": [
    "if stats.binom_test(m,n,p0) > 0.05:\n",
    "    print('На основании данной выборки можно считать, что смертность среди мужчин и женщин статистически одинакова')\n",
    "else:\n",
    "    print('На основании данной выборки можно считать, что смертность среди мужчин и женщин статистически различна')"
   ]
  },
  {
   "cell_type": "markdown",
   "id": "30852535",
   "metadata": {},
   "source": [
    "# Задача 5"
   ]
  },
  {
   "cell_type": "code",
   "execution_count": 1,
   "id": "88e2ce0c",
   "metadata": {},
   "outputs": [],
   "source": [
    "m1 = 172\n",
    "n1 = 3 + 172\n",
    "m2 = 168\n",
    "n2 = 168 + 32"
   ]
  },
  {
   "cell_type": "code",
   "execution_count": 10,
   "id": "5c8b19fe",
   "metadata": {},
   "outputs": [
    {
     "name": "stdout",
     "output_type": "stream",
     "text": [
      "Результаты подтвердили эффективность лекарства на уровне значимости 0.05\n"
     ]
    }
   ],
   "source": [
    "T = (m1/n1 - m2/n2)/((m1 + m2)/(n1 + n2) * (1 - (m1 + m2)/(n1 + n2)) * (1/n1 + 1/n2))**0.5\n",
    "P = 1 - stats.norm.cdf(T)\n",
    "if P > 0.05:\n",
    "    print('Лекарство не подтвердило свою эффективность')\n",
    "else:\n",
    "    print('Результаты подтвердили эффективность лекарства на уровне значимости 0.05')"
   ]
  },
  {
   "cell_type": "code",
   "execution_count": 11,
   "id": "c4b8dfaa",
   "metadata": {},
   "outputs": [
    {
     "data": {
      "text/plain": [
       "1.0458046975081459e-06"
      ]
     },
     "execution_count": 11,
     "metadata": {},
     "output_type": "execute_result"
    }
   ],
   "source": [
    "P"
   ]
  },
  {
   "cell_type": "code",
   "execution_count": null,
   "id": "1d1ac3be",
   "metadata": {},
   "outputs": [],
   "source": []
  }
 ],
 "metadata": {
  "kernelspec": {
   "display_name": "Python 3 (ipykernel)",
   "language": "python",
   "name": "python3"
  },
  "language_info": {
   "codemirror_mode": {
    "name": "ipython",
    "version": 3
   },
   "file_extension": ".py",
   "mimetype": "text/x-python",
   "name": "python",
   "nbconvert_exporter": "python",
   "pygments_lexer": "ipython3",
   "version": "3.9.7"
  }
 },
 "nbformat": 4,
 "nbformat_minor": 5
}
