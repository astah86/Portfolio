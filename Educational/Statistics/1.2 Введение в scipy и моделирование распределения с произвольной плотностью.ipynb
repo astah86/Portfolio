{
 "cells": [
  {
   "cell_type": "markdown",
   "metadata": {
    "id": "4jI2qZR5OL9Z"
   },
   "source": [
    "# 1.1 Введение в scipy и моделирование распределения с произвольной плотностью"
   ]
  },
  {
   "cell_type": "markdown",
   "metadata": {
    "id": "K3_yCsPTOL9e"
   },
   "source": [
    "## Библиотека `scipy` (модуль `scipy.stats`)\n",
    "\n",
    "В этом занятии рассмотрим только модуль `scipy.stats`.\n",
    "Почитайте <a  target=\"_blank\" href=\"http://docs.scipy.org/doc/scipy/reference/stats.html\">его описание</a>. И обратите внимание на документацию по работе со следующими распределениями:\n",
    "\n",
    "- непрерывными (**Continuous**),\n",
    "- дискретными (**Discrete**),\n",
    "- многомерными (**Multivariate**). \n",
    "\n",
    "Пакет также предоставляет некоторое количество статистических методов, которые рассматриваются в курсах статистики."
   ]
  },
  {
   "cell_type": "code",
   "execution_count": 1,
   "metadata": {
    "ExecuteTime": {
     "end_time": "2020-03-14T07:58:32.697668Z",
     "start_time": "2020-03-14T07:58:31.510357Z"
    },
    "id": "RiDJwiqBeBrN"
   },
   "outputs": [],
   "source": [
    "# импортируем необходимые библиотеки\n",
    "\n",
    "import scipy.stats as sps\n",
    "import numpy as np\n",
    "import ipywidgets as widgets\n",
    "import matplotlib.pyplot as plt\n",
    "%matplotlib inline"
   ]
  },
  {
   "cell_type": "markdown",
   "metadata": {
    "id": "HV9ZblbpOL9h"
   },
   "source": [
    "Замечание: если нет какого-то пакета, то его можно установить прямо здесь, в ноутбуке. Нужно просто в ячейку ввести команду: \n",
    "        \n",
    "```python\n",
    "!pip install scipy\n",
    "```\n",
    "\n",
    "или \n",
    "\n",
    "```python\n",
    "!pip install numpy\n",
    "```\n",
    "\n",
    "и т.д."
   ]
  },
  {
   "cell_type": "markdown",
   "metadata": {
    "id": "9_Y1svGjOL9h"
   },
   "source": [
    "## 1. PMF, PDF, CDF\n",
    "\n",
    "Перед тем как переходить к библиотеке, рассмотрим несколько понятий. На русском языке они уже вам **знакомы из базового курса**. Но для использования библиотеки scipy необходимо понимать их на английском.\n",
    "\n",
    "- **PMF (probability mass function)** — функция вероятности, простой способ определения вероятностей каждого дискретного результата.\n",
    "- **PDF (probability density function)** — функция плотности вероятности для непрерывных случайных величин.\n",
    "- **CDF (cumulative distribution function)** — функция распределения.\n",
    "\n",
    "Ещё раз отметим: \n",
    "\n",
    "- **PMF** — способ задания дискретных случайных величин.\n",
    "- **PDF** — способ задания непрерывных случайных величин.\n",
    "- **CDF** — данным способом могут быть заданы как дискретные, так и непрерывные случайные величины."
   ]
  },
  {
   "cell_type": "markdown",
   "metadata": {
    "id": "eU3s47R-OL9i"
   },
   "source": [
    "### 1.1 PMF and CDF \n",
    "\n",
    "Очень просто проследить разницу для дискретных случайных величин.\n",
    "Представьте, что вы бросаете идеальный кубик. Вероятность выпадения каждой грани 1/6.  \n",
    "\n",
    "![image-3.png](attachment:image-3.png)\n",
    "\n",
    "На графике PMF указаны просто вероятности каждого исхода. А вот на графике CDF — кумулятивная сумма. То есть:\n",
    "\n",
    "$P(X\\leq 4) = P(X=1) + P(X=2) + P(X=3) + P(X=4)$"
   ]
  },
  {
   "cell_type": "markdown",
   "metadata": {
    "id": "9qm-E-ltOL9j"
   },
   "source": [
    "### 1.2 PDF and CDF\n",
    "\n",
    "Примерно то же самое происходит и для непрерывной случайной величины.\n",
    "\n",
    "![image.png](attachment:image.png)\n",
    "\n",
    "Просто важно помнить, что для непрерывной случайной величины существует сколь угодно много значений. Поэтому по PDF нельзя вычислить вероятность конкретного значения, как по PMF, а вот вероятность интервала — можно. "
   ]
  },
  {
   "cell_type": "markdown",
   "metadata": {
    "id": "2hdSg-a_OL9k"
   },
   "source": [
    "### 1.3 PPF — Percent Point Function\n",
    "\n",
    "Есть ещё одно понятие, которое может вводить в заблуждение — PPF. Да, сокращений много, но нужно в них разбираться. \n",
    "Данный метод, как и все предыдущие, также реализован в scipy. Здесь всё просто: по заданному CDF возвращается значение случайной величины. По сути, это просто тот же график CDF, но с обратными осями. \n",
    "\n",
    "![image.png](attachment:image.png)"
   ]
  },
  {
   "cell_type": "markdown",
   "metadata": {
    "id": "tS2sqsC6eBrO"
   },
   "source": [
    "## 2. Работа с библиотекой `scipy.stats`."
   ]
  },
  {
   "cell_type": "markdown",
   "metadata": {
    "id": "V52XGUUXeBrO"
   },
   "source": [
    "<b>Общий принцип</b>\n",
    "\n",
    "Пусть $X$ — класс, реализующий некоторое распределение. Конкретное распределение с параметрами `params` можно получить как **`X(params)`**. У него доступны следующие методы:\n",
    "\n",
    "\n",
    "* `X(params).rvs(size=N)` — генерация выборки размера $N$ (<b>R</b>andom <b>V</b>ariate<b>S</b>). Возвращает `numpy.array`.\n",
    "* `X(params).cdf(x)` — значение функции распределения в точке $x$ (<b>C</b>umulative <b>D</b>istribution <b>F</b>unction).\n",
    "* `X(params).logcdf(x)` — значение логарифма функции распределения в точке $x$.\n",
    "* `X(params).ppf(q)` — $q$-квантиль (<b>P</b>ercent <b>P</b>oint <b>F</b>unction).\n",
    "* `X(params).mean()` — математическое ожидание.\n",
    "* `X(params).median()` — медиана ($1/2$-квантиль).\n",
    "* `X(params).var()` — дисперсия (<b>Var</b>iance).\n",
    "* `X(params).std()` — стандартное отклонение = корень из дисперсии (<b>St</b>andard <b>D</b>eviation).\n",
    "\n",
    "Кроме того, для непрерывных распределений определены функции:\n",
    "* `X(params).pdf(x)` — значение плотности в точке $x$ (<b>P</b>robability <b>D</b>ensity <b>F</b>unction).\n",
    "* `X(params).logpdf(x)` — значение логарифма плотности в точке $x$.\n",
    "\n",
    "А для дискретных:\n",
    "* `X(params).pmf(k)` — значение дискретной плотности в точке $k$ (<b>P</b>robability <b>M</b>ass <b>F</b>unction).\n",
    "* `X(params).logpdf(k)` — значение логарифма дискретной плотности в точке $k$.\n",
    "\n",
    "Все перечисленные выше методы применимы как к конкретному распределению `X(params)`, так и к самому классу `X`. Во втором случае параметры передаются в сам метод. Например, вызов `X.rvs(size=N, params)` эквивалентен `X(params).rvs(size=N)`.\n",
    "\n",
    "Параметры могут быть следующими:\n",
    "* `loc` — параметр сдвига;\n",
    "* `scale` — параметр масштаба;\n",
    "* и другие параметры (например, $n$ и $p$ для биномиального).\n",
    "\n",
    "---"
   ]
  },
  {
   "cell_type": "markdown",
   "metadata": {
    "id": "hXY2Xf5zOL9m"
   },
   "source": [
    "## 3. Пример дискретного распределения\n",
    "\n",
    "Cгенерируем выборку размера $N = 200$ из распределения $Bin(10, 0.6)$ и посчитаем некоторые статистики.\n",
    "В терминах выше описанных функций у нас $X$ = `sps.binom`, а `params` = (`n=10, p=0.6`)."
   ]
  },
  {
   "cell_type": "code",
   "execution_count": null,
   "metadata": {
    "id": "My49RhuUOL9m",
    "outputId": "11ae9695-88af-4399-d128-437e8eda9265"
   },
   "outputs": [
    {
     "name": "stdout",
     "output_type": "stream",
     "text": [
      "Первые 10 значений выборки:\n",
      " [6 7 5 5 8 7 8 7 6 4]\n",
      "Выборочное среднее: 5.960\n",
      "Выборочная дисперсия: 2.478\n"
     ]
    }
   ],
   "source": [
    "sample = sps.binom(n=10, p=0.6).rvs(size=200)\n",
    "\n",
    "print('Первые 10 значений выборки:\\n', sample[:10])\n",
    "print('Выборочное среднее: %.3f' % sample.mean())\n",
    "print('Выборочная дисперсия: %.3f' % sample.var())"
   ]
  },
  {
   "cell_type": "code",
   "execution_count": null,
   "metadata": {
    "id": "-sBIVpYkOL9n",
    "outputId": "fe8d1d4b-0afb-4bde-b347-2e16b10dbe3c"
   },
   "outputs": [
    {
     "name": "stdout",
     "output_type": "stream",
     "text": [
      "Дискретная плотность:\t [0.00000000e+00 1.04857600e-04 2.00658125e-01 0.00000000e+00\n",
      " 6.04661760e-03]\n",
      "Функция распределения:\t [0.00000000e+00 1.04857600e-04 3.66896742e-01 3.66896742e-01\n",
      " 1.00000000e+00]\n"
     ]
    }
   ],
   "source": [
    "print('Дискретная плотность:\\t', sps.binom(n=10, p=0.6).pmf([-1, 0, 5, 5.5, 10]))\n",
    "print('Функция распределения:\\t', sps.binom(n=10, p=0.6).cdf([-1, 0, 5, 5.5, 10]))"
   ]
  },
  {
   "cell_type": "code",
   "execution_count": null,
   "metadata": {
    "id": "hUw_F9nnOL9n",
    "outputId": "c80b2306-d652-44be-be1d-59b2e33bd3be"
   },
   "outputs": [
    {
     "name": "stdout",
     "output_type": "stream",
     "text": [
      "Квантили: [3. 4. 6. 8. 8.]\n"
     ]
    }
   ],
   "source": [
    "print('Квантили:', sps.binom(n=10, p=0.6).ppf([0.05, 0.1, 0.5, 0.9, 0.95]))"
   ]
  },
  {
   "cell_type": "markdown",
   "metadata": {
    "id": "nZFWUeuSOL9o"
   },
   "source": [
    "## 4. Пример непрерывного распределения"
   ]
  },
  {
   "cell_type": "markdown",
   "metadata": {
    "id": "aYMN5zjDeBrP"
   },
   "source": [
    "Для примера сгенерируем выборку размера $N = 200$ из нормального распределения $\\mathcal{N}(1, 9)$ и посчитаем некоторые статистики.\n",
    "В терминах выше описанных функций у нас $X$ = `sps.norm`, а `params` = (`loc=1, scale=3`).\n",
    "\n",
    "*Примечание.* Выборка — набор независимых одинаково распределённых случайных величин. Часто в разговорной речи выборку отождествляют с её *реализацией* — значениями случайных величин из выборки при «выпавшем» элементарном исходе."
   ]
  },
  {
   "cell_type": "code",
   "execution_count": null,
   "metadata": {
    "ExecuteTime": {
     "end_time": "2020-03-14T07:58:32.709200Z",
     "start_time": "2020-03-14T07:58:32.700539Z"
    },
    "colab": {
     "base_uri": "https://localhost:8080/"
    },
    "id": "hydusgOXeBrP",
    "outputId": "40368799-8aeb-4294-acdc-41787025db73"
   },
   "outputs": [
    {
     "name": "stdout",
     "output_type": "stream",
     "text": [
      "Первые 10 значений выборки:\n",
      " [-0.67643912  2.02266944  4.2853819  -1.39526498 -0.84240268  1.84779828\n",
      "  0.94198438 -0.24746154  2.56334579 -0.71387845]\n"
     ]
    }
   ],
   "source": [
    "sample = sps.norm(loc=1, scale=3).rvs(size=200)\n",
    "\n",
    "print('Первые 10 значений выборки:\\n', sample[:10])"
   ]
  },
  {
   "cell_type": "code",
   "execution_count": null,
   "metadata": {
    "id": "pRfhfwa7OL9p",
    "outputId": "245ea96f-a55a-4b11-e70e-dd495e5becf5"
   },
   "outputs": [
    {
     "name": "stdout",
     "output_type": "stream",
     "text": [
      "Выборочное среднее: 0.690\n",
      "Выборочная дисперсия: 8.256\n"
     ]
    }
   ],
   "source": [
    "print('Выборочное среднее: %.3f' % sample.mean())\n",
    "print('Выборочная дисперсия: %.3f' % sample.var())"
   ]
  },
  {
   "cell_type": "markdown",
   "metadata": {
    "id": "k74NXgr4NjqM"
   },
   "source": [
    "Вероятностные характеристики:"
   ]
  },
  {
   "cell_type": "code",
   "execution_count": null,
   "metadata": {
    "ExecuteTime": {
     "end_time": "2020-03-14T07:58:32.719090Z",
     "start_time": "2020-03-14T07:58:32.711131Z"
    },
    "colab": {
     "base_uri": "https://localhost:8080/"
    },
    "id": "c5evbn48eBrP",
    "outputId": "0984b78e-449e-4718-c4b3-eea0d0ae6bee"
   },
   "outputs": [
    {
     "name": "stdout",
     "output_type": "stream",
     "text": [
      "Плотность:\t\t [0.10648267 0.12579441 0.13298076 0.12579441 0.10648267]\n",
      "Функция распределения:\t [0.25249254 0.36944134 0.5        0.63055866 0.74750746]\n"
     ]
    }
   ],
   "source": [
    "print('Плотность:\\t\\t', sps.norm(loc=1, scale=3).pdf([-1, 0, 1, 2, 3]))\n",
    "print('Функция распределения:\\t', sps.norm(loc=1, scale=3).cdf([-1, 0, 1, 2, 3]))"
   ]
  },
  {
   "cell_type": "markdown",
   "metadata": {
    "id": "K5OBJiUseBrQ"
   },
   "source": [
    "$p$-квантиль распределения с функцией распределения $F$ — это число $min\\{x: F(x) \\geqslant p\\}$."
   ]
  },
  {
   "cell_type": "code",
   "execution_count": null,
   "metadata": {
    "ExecuteTime": {
     "end_time": "2020-03-14T07:58:32.923695Z",
     "start_time": "2020-03-14T07:58:32.918335Z"
    },
    "colab": {
     "base_uri": "https://localhost:8080/"
    },
    "id": "OQKLA3N4eBrQ",
    "outputId": "9b3e763b-3361-48da-d6c2-e6c0399cacff"
   },
   "outputs": [
    {
     "name": "stdout",
     "output_type": "stream",
     "text": [
      "Квантили: [-3.93456088 -2.8446547   1.          4.8446547   5.93456088]\n"
     ]
    }
   ],
   "source": [
    "print('Квантили:', sps.norm(loc=1, scale=3).ppf([0.05, 0.1, 0.5, 0.9, 0.95]))"
   ]
  },
  {
   "cell_type": "markdown",
   "metadata": {
    "id": "Du_uQtDXOL9q"
   },
   "source": [
    "## 5. Пример многомерного распределения"
   ]
  },
  {
   "cell_type": "markdown",
   "metadata": {
    "id": "J-LyF4yIeBrR"
   },
   "source": [
    "Отдельно есть класс для <b>многомерного нормального распределения</b>.\n",
    "Для примера сгенерируем выборку размера $N=200$ из распределения $\\mathcal{N} \\left( \\begin{pmatrix} 1 \\\\ 1 \\end{pmatrix},  \\begin{pmatrix} 2 & 1 \\\\ 1 & 2 \\end{pmatrix} \\right)$."
   ]
  },
  {
   "cell_type": "code",
   "execution_count": null,
   "metadata": {
    "ExecuteTime": {
     "end_time": "2020-03-14T07:58:34.410623Z",
     "start_time": "2020-03-14T07:58:34.390140Z"
    },
    "colab": {
     "base_uri": "https://localhost:8080/"
    },
    "id": "1jlvj9gIeBrS",
    "outputId": "ad6d84b8-c977-4c1b-aa02-1e1e390fe437"
   },
   "outputs": [
    {
     "name": "stdout",
     "output_type": "stream",
     "text": [
      "Первые 10 значений выборки:\n",
      " [[ 2.82793551  0.76073392]\n",
      " [ 2.70954387  1.61891758]\n",
      " [ 1.71597808  0.24158397]\n",
      " [-1.37642607 -1.01080506]\n",
      " [ 1.2411078   1.38234158]\n",
      " [ 0.75042445  2.111333  ]\n",
      " [ 1.09051055  0.77363562]\n",
      " [ 2.58314428  1.65560268]\n",
      " [ 2.59794843 -0.32431976]\n",
      " [ 3.41862854  5.12303669]]\n",
      "Выборочное среднее: [1.04312591 1.13989052]\n",
      "Выборочная матрица ковариаций:\n",
      " [[1.72869419 0.8355988 ]\n",
      " [0.8355988  2.0273016 ]]\n"
     ]
    }
   ],
   "source": [
    "sample = sps.multivariate_normal(\n",
    "    mean=[1, 1], cov=[[2, 1], [1, 2]]\n",
    ").rvs(size=200)\n",
    "\n",
    "print('Первые 10 значений выборки:\\n', sample[:10])\n",
    "print('Выборочное среднее:', sample.mean(axis=0))\n",
    "print('Выборочная матрица ковариаций:\\n', np.cov(sample.T))"
   ]
  },
  {
   "cell_type": "markdown",
   "metadata": {
    "id": "HrGDxyHNeBrS"
   },
   "source": [
    "Некоторая хитрость :)"
   ]
  },
  {
   "cell_type": "code",
   "execution_count": null,
   "metadata": {
    "ExecuteTime": {
     "end_time": "2020-03-14T07:58:34.847186Z",
     "start_time": "2020-03-14T07:58:34.843737Z"
    },
    "colab": {
     "base_uri": "https://localhost:8080/"
    },
    "id": "zUr6BiGOeBrS",
    "outputId": "35911d37-8989-418d-d9fa-26645e23d620"
   },
   "outputs": [
    {
     "name": "stdout",
     "output_type": "stream",
     "text": [
      "[0.09883528 1.0110887  2.16812215 2.79556126 3.91853571 5.01207113\n",
      " 5.94058433 7.11375923 7.92650155 8.98969808]\n"
     ]
    }
   ],
   "source": [
    "sample = sps.norm(loc=np.arange(10), scale=0.1).rvs(size=10)\n",
    "\n",
    "print(sample)"
   ]
  },
  {
   "cell_type": "markdown",
   "metadata": {
    "id": "KKBHHNULOL9s"
   },
   "source": [
    "## 6. Новое распределение"
   ]
  },
  {
   "cell_type": "markdown",
   "metadata": {
    "id": "hZgBO7QmeBrS"
   },
   "source": [
    "Бывает так, что <b>надо сгенерировать выборку из распределения, которого нет в `scipy.stats`</b>.\n",
    "\n",
    "Для этого надо создать класс, который будет наследоваться:\n",
    "\n",
    "- от класса `rv_continuous` для непрерывных случайных величин;\n",
    "- класса `rv_discrete` для дискретных случайных величин.\n",
    "\n",
    "<a  target=\"_blank\" href=\"http://docs.scipy.org/doc/scipy/reference/generated/scipy.stats.rv_continuous.html#scipy.stats.rv_continuous\">Пример из документации</a>."
   ]
  },
  {
   "cell_type": "markdown",
   "metadata": {
    "id": "I2wdJ-F-OL9s"
   },
   "source": [
    "### 6.1 О дискретном\n",
    "\n",
    "Если дискретная случайная величина может принимать небольшое число значений, то можно не создавать новый класс, как показано выше, а явно указать эти значения и из вероятности."
   ]
  },
  {
   "cell_type": "code",
   "execution_count": null,
   "metadata": {
    "id": "dRKGQuSbOL9s",
    "outputId": "405d6258-7e69-4061-a741-b74ceb7f6751"
   },
   "outputs": [
    {
     "name": "stdout",
     "output_type": "stream",
     "text": [
      "Первые 10 значений выборки:\n",
      " [2 3 2 1 1 1 1 1 1 1]\n"
     ]
    }
   ],
   "source": [
    "some_distribution = sps.rv_discrete(\n",
    "    name='some_distribution', \n",
    "    values=([1, 2, 3], [0.6, 0.1, 0.3])  # значения и вероятности\n",
    ")\n",
    "\n",
    "sample = some_distribution.rvs(size=200)\n",
    "\n",
    "print('Первые 10 значений выборки:\\n', sample[:10])"
   ]
  },
  {
   "cell_type": "code",
   "execution_count": null,
   "metadata": {
    "id": "I_kTjTwDOL9t",
    "outputId": "cf86576f-dede-44c8-fbb8-e7e19b952d86"
   },
   "outputs": [
    {
     "name": "stdout",
     "output_type": "stream",
     "text": [
      "Выборочное среднее: 1.810\n",
      "Частота значений по выборке: 0.535 0.12 0.345\n"
     ]
    }
   ],
   "source": [
    "print('Выборочное среднее: %.3f' % sample.mean())\n",
    "print('Частота значений по выборке:', \n",
    "      (sample == 1).mean(), (sample == 2).mean(), (sample == 3).mean())"
   ]
  },
  {
   "cell_type": "markdown",
   "metadata": {
    "id": "yNZIX_-sOL9t"
   },
   "source": [
    "### 6.2 О непрерывном"
   ]
  },
  {
   "cell_type": "markdown",
   "metadata": {
    "id": "KvR6Fj2beBrT"
   },
   "source": [
    "Для примера сгенерируем выборку из распределения с плотностью $f(x) = \\frac{4}{15} x^3 I\\{x \\in [1, 2] = [a, b]\\}$."
   ]
  },
  {
   "cell_type": "code",
   "execution_count": null,
   "metadata": {
    "ExecuteTime": {
     "end_time": "2020-03-14T07:58:35.749702Z",
     "start_time": "2020-03-14T07:58:35.533423Z"
    },
    "colab": {
     "base_uri": "https://localhost:8080/"
    },
    "id": "33HoenpteBrT",
    "outputId": "777a88c6-7dc6-4307-943a-d0cf2b626d1a"
   },
   "outputs": [
    {
     "name": "stdout",
     "output_type": "stream",
     "text": [
      "Первые 10 значений выборки:\n",
      " [1.57003727 1.944973   1.86562784 1.95067131 1.39238344 1.27626708\n",
      " 1.91945333 1.93137012 1.49070625 1.84547639]\n"
     ]
    }
   ],
   "source": [
    "class cubic_gen(sps.rv_continuous):\n",
    "    def _pdf(self, x):\n",
    "        return (4 * x ** 3) / 15\n",
    "    \n",
    "cubic = cubic_gen(a=1, b=2, name='cubic')\n",
    "\n",
    "sample = cubic.rvs(size=200)\n",
    "\n",
    "print('Первые 10 значений выборки:\\n', sample[:10])"
   ]
  },
  {
   "cell_type": "code",
   "execution_count": null,
   "metadata": {
    "id": "EX7n86G9OL9t",
    "outputId": "7934d69c-f915-4992-f4b8-42718a08adda"
   },
   "outputs": [
    {
     "name": "stdout",
     "output_type": "stream",
     "text": [
      "Выборочное среднее: 1.619\n",
      "Выборочная дисперсия: 0.074\n"
     ]
    }
   ],
   "source": [
    "print('Выборочное среднее: %.3f' % sample.mean())\n",
    "print('Выборочная дисперсия: %.3f' % sample.var())"
   ]
  },
  {
   "cell_type": "markdown",
   "metadata": {
    "id": "fxk3KLXqOL9u"
   },
   "source": [
    "## 7. Метод обратного преобразования "
   ]
  },
  {
   "cell_type": "markdown",
   "metadata": {
    "id": "2TpPEnZnOL9u"
   },
   "source": [
    "В теории моделирования генерация случайных величин становится одним из наиболее важных «строительных блоков», где эти случайные величины в основном генерируются из равномерно распределенной случайной величины. Одним из методов, которые можно использовать для генерации случайных величин, является метод обратного преобразования.\n",
    "\n",
    "Дана случайная величина U, где U равномерно распределена в [0,1]. Предположим, что мы хотим сгенерировать случайную величину X, где функция распределения (CDF) равна:\n",
    "\n",
    "$$F_X(x) = P(X\\leq x)$$\n",
    "\n",
    "Идея метода обратного преобразования состоит в том, чтобы сгенерировать случайное число из любого распределения вероятностей, используя его обратный CDF следующим образом:\n",
    "\n",
    "$$F_X^{-1}(U) = X$$\n",
    "\n",
    "Математически — найти обратную функцию (вместо x подставить y, а вместо y подставить x)."
   ]
  },
  {
   "cell_type": "code",
   "execution_count": null,
   "metadata": {
    "id": "T-QihBTaOL9u",
    "outputId": "e6dfabe4-5f2c-426a-998f-4344d004ffaa"
   },
   "outputs": [
    {
     "data": {
      "image/png": "[encoded data removed]",
      "text/plain": [
       "<Figure size 432x288 with 1 Axes>"
      ]
     },
     "metadata": {
      "needs_background": "light"
     },
     "output_type": "display_data"
    }
   ],
   "source": [
    "# Функция плотности вероятности нормального распределения\n",
    "\n",
    "a, b = 0, 1\n",
    "rv_uniform = sps.uniform(loc=a, scale=b-a)\n",
    "\n",
    "X = np.linspace(-0.5, 1.5, 100)\n",
    "plt.plot(X, rv_uniform.pdf(X))\n",
    "plt.xlabel('x')\n",
    "plt.ylabel('f(x)')\n",
    "plt.title('Probability density function (pdf)')\n",
    "plt.grid()\n",
    "plt.show()"
   ]
  },
  {
   "cell_type": "markdown",
   "metadata": {
    "id": "P69RCOjwOL9u"
   },
   "source": [
    "Давайте в качестве примера рассмотрим непрерывное экспоненциальное распределение.\n",
    "    \n",
    "Предположим, что мы хотим смоделировать случайную величину X, которая следует экспоненциальному распределению со средним значением λ (т. е. X~EXP(λ)). Функция распределения (CDF) у данной случайной величины: \n",
    "\n",
    "$$F(x)= 1 - e^{-\\lambda x}$$\n",
    "\n",
    "Обратная функция: \n",
    "\n",
    "$$F^{-1}(x) = -\\frac{1}{\\lambda}ln(1-x)$$\n",
    "\n",
    "Таким образом, если ${\\displaystyle U_{1},\\ldots ,U_{n}}$ — выборка из стандартного непрерывного равномерного распределения, и\n",
    "\n",
    "$${\\displaystyle X_{i}=-{\\frac {1}{\\lambda }}\\ln(1-U_{i}),\\;i=1,\\ldots ,n},$$то мы ожидаем, что ${\\displaystyle X_{1},\\ldots ,X_{n}}$ будут из экспоненциального распределения."
   ]
  },
  {
   "cell_type": "code",
   "execution_count": null,
   "metadata": {
    "id": "vTEBRB-hOL9v"
   },
   "outputs": [],
   "source": [
    "def exponential_inverse_trans(n=1, mean=1):\n",
    "    '''\n",
    "    Функция, демонстрирующая метод обратного преобразования для экспоненциальной случайной величины.\n",
    "    n - размер генерируемой выборки.\n",
    "    mean - среднее значение.\n",
    "    '''\n",
    "    #Генерируем выборку для нормального равномерного распределения\n",
    "    U = sps.uniform.rvs(size=n)\n",
    "    \n",
    "    # Применяем формулу обратного cdf к U\n",
    "    # обратите внимание на знак умножения. Подумайте, почему так задана формула.\n",
    "    X = - np.log(1-U)*mean\n",
    "    \n",
    "    # Генерируем выборку из экспоненциального распределения для сравнения\n",
    "    actual = sps.expon.rvs(size=n, scale=mean)\n",
    "    \n",
    "    plt.figure(figsize=(12,9))\n",
    "    plt.hist(\n",
    "        X, \n",
    "        bins=50, \n",
    "        alpha=0.5, \n",
    "        label=\"Сгенерированная с.в.\")\n",
    "    \n",
    "    plt.hist(\n",
    "        actual, \n",
    "        bins=50, \n",
    "        alpha=0.5, \n",
    "        label=\"Реальная с.в.\")\n",
    "    \n",
    "    plt.title(\"Сгенерированная vs реальная %i Экспоненцальные с.в.\" %n)\n",
    "    plt.grid()\n",
    "    plt.legend()\n",
    "    plt.show()\n",
    "    return X"
   ]
  },
  {
   "cell_type": "code",
   "execution_count": null,
   "metadata": {
    "id": "Xsmx6RNUOL9v",
    "outputId": "61e1efb0-6c3b-45d1-e65f-74307dc9b479"
   },
   "outputs": [
    {
     "data": {
      "image/png": "[encoded data removed]",
      "text/plain": [
       "<Figure size 864x648 with 1 Axes>"
      ]
     },
     "metadata": {
      "needs_background": "light"
     },
     "output_type": "display_data"
    },
    {
     "data": {
      "image/png": "[encoded data removed]",
      "text/plain": [
       "<Figure size 864x648 with 1 Axes>"
      ]
     },
     "metadata": {
      "needs_background": "light"
     },
     "output_type": "display_data"
    },
    {
     "data": {
      "image/png": "[encoded data removed]",
      "text/plain": [
       "<Figure size 864x648 with 1 Axes>"
      ]
     },
     "metadata": {
      "needs_background": "light"
     },
     "output_type": "display_data"
    }
   ],
   "source": [
    "cont_example1=exponential_inverse_trans(n=100, mean=4)\n",
    "cont_example2=exponential_inverse_trans(n=500, mean=4)\n",
    "cont_example3=exponential_inverse_trans(n=1000, mean=4)"
   ]
  },
  {
   "cell_type": "markdown",
   "metadata": {
    "id": "uM9zeJx1OL9v"
   },
   "source": [
    "**Вывод:** графики показывают сравнение реальной показательной случайной величины и сгенерированной показательной случайной величины из равномерного распределения. Так как графики накладываются друг на друга и повторяют форму, то можно сделать вывод, что мы действительно получили требуемую случайную величину."
   ]
  },
  {
   "cell_type": "raw",
   "metadata": {
    "id": "rdfZ_OixOL9w"
   },
   "source": []
  },
  {
   "cell_type": "raw",
   "metadata": {
    "id": "KtSSXpw9OL9w"
   },
   "source": []
  }
 ],
 "metadata": {
  "colab": {
   "collapsed_sections": [],
   "name": "1.1_Введение в scipy и моделирование распределения с произвольной плотностью.ipynb",
   "provenance": []
  },
  "kernelspec": {
   "display_name": "Python 3 (ipykernel)",
   "language": "python",
   "name": "python3"
  },
  "language_info": {
   "codemirror_mode": {
    "name": "ipython",
    "version": 3
   },
   "file_extension": ".py",
   "mimetype": "text/x-python",
   "name": "python",
   "nbconvert_exporter": "python",
   "pygments_lexer": "ipython3",
   "version": "3.9.7"
  }
 },
 "nbformat": 4,
 "nbformat_minor": 1
}
