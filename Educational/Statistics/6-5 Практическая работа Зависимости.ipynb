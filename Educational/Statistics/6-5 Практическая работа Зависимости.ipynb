{
 "cells": [
  {
   "cell_type": "code",
   "execution_count": 1,
   "id": "152c6de1",
   "metadata": {},
   "outputs": [],
   "source": [
    "import numpy as np\n",
    "from scipy import stats\n"
   ]
  },
  {
   "cell_type": "markdown",
   "id": "e5a8998b",
   "metadata": {
    "tags": []
   },
   "source": [
    "# Задача 1"
   ]
  },
  {
   "cell_type": "code",
   "execution_count": 16,
   "id": "95f97eab",
   "metadata": {},
   "outputs": [
    {
     "data": {
      "text/plain": [
       "array([[197, 158],\n",
       "       [102, 221]])"
      ]
     },
     "execution_count": 16,
     "metadata": {},
     "output_type": "execute_result"
    }
   ],
   "source": [
    "# Таблица сопряженности\n",
    "obs = np.array([[197, 158], [102, 221]])\n",
    "obs"
   ]
  },
  {
   "cell_type": "code",
   "execution_count": 23,
   "id": "64e03702",
   "metadata": {},
   "outputs": [
    {
     "data": {
      "text/plain": [
       "39.23331432611949"
      ]
     },
     "execution_count": 23,
     "metadata": {},
     "output_type": "execute_result"
    }
   ],
   "source": [
    "# расчет статистики критерия Хи квадрат\n",
    "(197 - 355 * 299 / 678)**2 / (355 * 299 / 678) + (158 - 355 * 379 / 678)**2 / (355 * 379 / 678) + \\\n",
    "(102 - 323 * 299 / 678)**2 / (323 * 299 / 678) + (221 - 323 * 379 / 678)**2 / (323 * 379 / 678)"
   ]
  },
  {
   "cell_type": "code",
   "execution_count": 32,
   "id": "1f4ca3c2",
   "metadata": {},
   "outputs": [
    {
     "data": {
      "text/plain": [
       "(38.26924442054285,\n",
       " 6.162631103993754e-10,\n",
       " 1,\n",
       " array([[156.5560472, 198.4439528],\n",
       "        [142.4439528, 180.5560472]]))"
      ]
     },
     "execution_count": 32,
     "metadata": {},
     "output_type": "execute_result"
    }
   ],
   "source": [
    "# Критерий Хи квадрат Пирсона\n",
    "stats.chi2_contingency(obs)"
   ]
  },
  {
   "cell_type": "code",
   "execution_count": 22,
   "id": "808b063f",
   "metadata": {},
   "outputs": [
    {
     "name": "stdout",
     "output_type": "stream",
     "text": [
      "0.23758011975886253\n",
      "0.23758011975886253\n",
      "0.23114621806808983\n"
     ]
    }
   ],
   "source": [
    "# Нормированные коэффициенты\n",
    "chi2 = stats.chi2_contingency(obs)[0]\n",
    "n = np.sum(obs)\n",
    "k = obs.shape[0]\n",
    "m = obs.shape[1]\n",
    "\n",
    "tschuprow = np.sqrt(chi2 / (n * np.sqrt((k - 1) * (m - 1))))\n",
    "cramer = np.sqrt(chi2 / (n * (np.minimum(k, m) - 1)))\n",
    "pearson = np.sqrt(chi2 / (n + chi2))\n",
    "\n",
    "print(tschuprow)\n",
    "print(cramer)\n",
    "print(pearson)"
   ]
  },
  {
   "cell_type": "code",
   "execution_count": 25,
   "id": "1d0bb923",
   "metadata": {},
   "outputs": [
    {
     "data": {
      "text/plain": [
       "0.280369105000437"
      ]
     },
     "execution_count": 25,
     "metadata": {},
     "output_type": "execute_result"
    }
   ],
   "source": [
    "# Расчет коэффициента контингеции\n",
    "(197 * 221 - 102 * 158) / np.sqrt(355 * 323 * 299 * 279)"
   ]
  },
  {
   "cell_type": "code",
   "execution_count": 26,
   "id": "a0edb5cb",
   "metadata": {},
   "outputs": [
    {
     "data": {
      "text/plain": [
       "0.4596751211171274"
      ]
     },
     "execution_count": 26,
     "metadata": {},
     "output_type": "execute_result"
    }
   ],
   "source": [
    "# Расчет коэффициента ассоциации Юла\n",
    "(197 * 221 - 102 * 158) / (197 * 221 + 102 * 158)"
   ]
  },
  {
   "cell_type": "markdown",
   "id": "b0238430",
   "metadata": {
    "tags": []
   },
   "source": [
    "# Задача 2"
   ]
  },
  {
   "cell_type": "code",
   "execution_count": 28,
   "id": "87c06eed",
   "metadata": {},
   "outputs": [
    {
     "data": {
      "text/plain": [
       "1.218181818181818"
      ]
     },
     "execution_count": 28,
     "metadata": {},
     "output_type": "execute_result"
    }
   ],
   "source": [
    "# расчет критерия спирмена\n",
    "S = (8-10)**2 + (2-7)**2 + (9-8)**2 + (6-2)**2 + (4-5)**2 + (5-1)**2 + (3-6)**2 + (7-3)**2 + (10-9)**2 + (1-4)**2\n",
    "ro = 1 - (6 * S / (10**3 - 10))\n",
    "T = np.sqrt(10 - 1) * ro\n",
    "T"
   ]
  },
  {
   "cell_type": "code",
   "execution_count": 55,
   "id": "a6f7f2f3",
   "metadata": {},
   "outputs": [
    {
     "data": {
      "text/plain": [
       "0.406060606060606"
      ]
     },
     "execution_count": 55,
     "metadata": {},
     "output_type": "execute_result"
    }
   ],
   "source": [
    "ro"
   ]
  },
  {
   "cell_type": "code",
   "execution_count": 56,
   "id": "5a6a15ef",
   "metadata": {},
   "outputs": [],
   "source": [
    "x = np.array([8,2,9,6,4,5,3,7,10,1])\n",
    "y = np.array([10,7,8,2,5,1,6,3,9,4])\n"
   ]
  },
  {
   "cell_type": "code",
   "execution_count": 33,
   "id": "11fd6f0e",
   "metadata": {},
   "outputs": [
    {
     "data": {
      "text/plain": [
       "SpearmanrResult(correlation=0.406060606060606, pvalue=0.24428229408662638)"
      ]
     },
     "execution_count": 33,
     "metadata": {},
     "output_type": "execute_result"
    }
   ],
   "source": [
    "# Коэффициент Спирмена\n",
    "stats.spearmanr(x, y)"
   ]
  },
  {
   "cell_type": "code",
   "execution_count": 34,
   "id": "cf89a425",
   "metadata": {},
   "outputs": [
    {
     "data": {
      "text/plain": [
       "KendalltauResult(correlation=0.24444444444444444, pvalue=0.38071979717813054)"
      ]
     },
     "execution_count": 34,
     "metadata": {},
     "output_type": "execute_result"
    }
   ],
   "source": [
    "# Коэффициент Keндалла\n",
    "stats.kendalltau(x, y)"
   ]
  },
  {
   "cell_type": "code",
   "execution_count": 36,
   "id": "33364ed4",
   "metadata": {},
   "outputs": [
    {
     "data": {
      "text/plain": [
       "KendalltauResult(correlation=-0.9999999999999999, pvalue=0.016666666666666666)"
      ]
     },
     "execution_count": 36,
     "metadata": {},
     "output_type": "execute_result"
    }
   ],
   "source": [
    "stats.kendalltau(a, b)"
   ]
  },
  {
   "cell_type": "markdown",
   "id": "da476afe",
   "metadata": {
    "tags": []
   },
   "source": [
    "# Задача 3"
   ]
  },
  {
   "cell_type": "code",
   "execution_count": 65,
   "id": "aa2c3fc4",
   "metadata": {},
   "outputs": [],
   "source": [
    "X = np.array([66,61,67,73,51,59,48,47,58,44,41,54,52,47,51,45])\n",
    "Y = np.array([38,31,36,43,29,33,28,25,36,26,21,30,20,27,28,26])"
   ]
  },
  {
   "cell_type": "code",
   "execution_count": 43,
   "id": "52dbac85",
   "metadata": {},
   "outputs": [
    {
     "data": {
      "text/plain": [
       "7.279263791858351"
      ]
     },
     "execution_count": 43,
     "metadata": {},
     "output_type": "execute_result"
    }
   ],
   "source": [
    "# Статистика выборочного коэффициента корреляции\n",
    "Xav = X.mean()\n",
    "Yav = Y.mean()\n",
    "ch = 0\n",
    "zn1 = 0\n",
    "zn2 = 0\n",
    "for i in range(len(X)):\n",
    "    ch += (X[i] - Xav) * (Y[i] - Yav)\n",
    "    zn1 += (X[i] - Xav)**2\n",
    "    zn2 += (Y[i] - Yav)**2\n",
    "r = ch / np.sqrt(zn1 * zn2)\n",
    "T = r * np.sqrt(len(X) - 2) / np.sqrt(1 - r**2)\n",
    "T"
   ]
  },
  {
   "cell_type": "code",
   "execution_count": 40,
   "id": "d4516e5e",
   "metadata": {},
   "outputs": [
    {
     "data": {
      "text/plain": [
       "(0.8893853779200405, 4.036815535474195e-06)"
      ]
     },
     "execution_count": 40,
     "metadata": {},
     "output_type": "execute_result"
    }
   ],
   "source": [
    "# Выборочная корреляция\n",
    "stats.pearsonr(X,Y)"
   ]
  },
  {
   "cell_type": "code",
   "execution_count": 71,
   "id": "6150c424",
   "metadata": {},
   "outputs": [
    {
     "data": {
      "text/plain": [
       "3.3148180992539955"
      ]
     },
     "execution_count": 71,
     "metadata": {},
     "output_type": "execute_result"
    }
   ],
   "source": [
    "# Статистика ранговой корреляции Спирмана\n",
    "S1 = 0\n",
    "for i in range(len(X)):\n",
    "    S1 += (X.argsort().argsort()[i] - Y.argsort().argsort()[i])**2\n",
    "ro1 = 1 - (6 * S1 / (len(X)**3 - len(X)))\n",
    "T1 = np.sqrt(len(X) - 1) * ro1\n",
    "T1"
   ]
  },
  {
   "cell_type": "code",
   "execution_count": 51,
   "id": "c167a3a9",
   "metadata": {},
   "outputs": [
    {
     "data": {
      "text/plain": [
       "SpearmanrResult(correlation=0.8583028167652765, pvalue=2.096824258861966e-05)"
      ]
     },
     "execution_count": 51,
     "metadata": {},
     "output_type": "execute_result"
    }
   ],
   "source": [
    "# Коэффициент Спирмана\n",
    "stats.spearmanr(X , Y)"
   ]
  },
  {
   "cell_type": "code",
   "execution_count": 75,
   "id": "05df2d98",
   "metadata": {},
   "outputs": [
    {
     "data": {
      "text/plain": [
       "KendalltauResult(correlation=0.7404322357228396, pvalue=8.25894556613836e-05)"
      ]
     },
     "execution_count": 75,
     "metadata": {},
     "output_type": "execute_result"
    }
   ],
   "source": [
    "# Коэффициент Keндалла\n",
    "stats.kendalltau(X, Y)"
   ]
  },
  {
   "cell_type": "code",
   "execution_count": 78,
   "id": "1a08c94f",
   "metadata": {},
   "outputs": [
    {
     "data": {
      "text/plain": [
       "array([[10,  0],\n",
       "       [ 1,  5]])"
      ]
     },
     "execution_count": 78,
     "metadata": {},
     "output_type": "execute_result"
    }
   ],
   "source": [
    "# Переход к номинальной шкале\n",
    "def to_nominal(X,Y,N):\n",
    "    x_step = (max(X) - min(X)) / N\n",
    "    y_step = (max(Y) - min(Y)) / N\n",
    "    x = min(X)\n",
    "    y = min(Y)\n",
    "    n = len(X)\n",
    "    nom =[]\n",
    "    while x < max(X):\n",
    "        row = []\n",
    "        y = min(Y)\n",
    "        while y < max(Y):\n",
    "            count = 0\n",
    "            for i in range(n):\n",
    "                if (X[i] >= x) & (X[i] < x + x_step) & (Y[i] >= y) & (Y[i] < y + y_step):\n",
    "                    count += 1\n",
    "            row.append(count)\n",
    "            y += y_step\n",
    "        nom.append(row)\n",
    "        x += x_step\n",
    "    nom[N - 1][N - 1] += 1\n",
    "    return np.array(nom)\n",
    "contin =  to_nominal(X, Y, 2)\n",
    "contin"
   ]
  },
  {
   "cell_type": "code",
   "execution_count": 86,
   "id": "4cc17f43",
   "metadata": {},
   "outputs": [
    {
     "data": {
      "text/plain": [
       "12.121212121212121"
      ]
     },
     "execution_count": 86,
     "metadata": {},
     "output_type": "execute_result"
    }
   ],
   "source": [
    "# расчет статистики критерия Хи квадрат\n",
    "((10 - 10 * 11 / 16)**2) / (10 * 11 / 16) + ((0 - 10 * 5 / 16)**2) / (10 * 5 / 16) + \\\n",
    "((1 - 11 * 6 / 16)**2) / (11 * 6 / 16) + ((5 - 6 * 5 / 16)**2) / (6 * 5 / 16)"
   ]
  },
  {
   "cell_type": "code",
   "execution_count": 81,
   "id": "9f59a276",
   "metadata": {},
   "outputs": [
    {
     "data": {
      "text/plain": [
       "(8.552727272727271,\n",
       " 0.003450049583251144,\n",
       " 1,\n",
       " array([[6.875, 3.125],\n",
       "        [4.125, 1.875]]))"
      ]
     },
     "execution_count": 81,
     "metadata": {},
     "output_type": "execute_result"
    }
   ],
   "source": [
    "# Критерий Хи квадрат Пирсона\n",
    "stats.chi2_contingency(contin)"
   ]
  },
  {
   "cell_type": "code",
   "execution_count": null,
   "id": "1a07bfd6",
   "metadata": {},
   "outputs": [],
   "source": []
  }
 ],
 "metadata": {
  "kernelspec": {
   "display_name": "Python 3 (ipykernel)",
   "language": "python",
   "name": "python3"
  },
  "language_info": {
   "codemirror_mode": {
    "name": "ipython",
    "version": 3
   },
   "file_extension": ".py",
   "mimetype": "text/x-python",
   "name": "python",
   "nbconvert_exporter": "python",
   "pygments_lexer": "ipython3",
   "version": "3.9.7"
  }
 },
 "nbformat": 4,
 "nbformat_minor": 5
}
