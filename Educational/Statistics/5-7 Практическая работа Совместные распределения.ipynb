{
 "cells": [
  {
   "cell_type": "code",
   "execution_count": 55,
   "id": "32aa94d7",
   "metadata": {},
   "outputs": [],
   "source": [
    "import pandas as pd\n",
    "from sympy import *\n",
    "from scipy import stats\n",
    "import numpy as np\n",
    "import matplotlib.pyplot as plt\n",
    "import seaborn as sns"
   ]
  },
  {
   "cell_type": "markdown",
   "id": "72013f6f",
   "metadata": {},
   "source": [
    "# Задача 1"
   ]
  },
  {
   "cell_type": "code",
   "execution_count": 8,
   "id": "86993f01",
   "metadata": {},
   "outputs": [
    {
     "data": {
      "text/html": [
       "<div>\n",
       "<style scoped>\n",
       "    .dataframe tbody tr th:only-of-type {\n",
       "        vertical-align: middle;\n",
       "    }\n",
       "\n",
       "    .dataframe tbody tr th {\n",
       "        vertical-align: top;\n",
       "    }\n",
       "\n",
       "    .dataframe thead th {\n",
       "        text-align: right;\n",
       "    }\n",
       "</style>\n",
       "<table border=\"1\" class=\"dataframe\">\n",
       "  <thead>\n",
       "    <tr style=\"text-align: right;\">\n",
       "      <th></th>\n",
       "      <th>0</th>\n",
       "      <th>1</th>\n",
       "      <th>2</th>\n",
       "      <th>3</th>\n",
       "    </tr>\n",
       "  </thead>\n",
       "  <tbody>\n",
       "    <tr>\n",
       "      <th>1</th>\n",
       "      <td>0.20</td>\n",
       "      <td>0.08</td>\n",
       "      <td>0.05</td>\n",
       "      <td>0.01</td>\n",
       "    </tr>\n",
       "    <tr>\n",
       "      <th>2</th>\n",
       "      <td>0.18</td>\n",
       "      <td>0.08</td>\n",
       "      <td>0.06</td>\n",
       "      <td>0.01</td>\n",
       "    </tr>\n",
       "    <tr>\n",
       "      <th>3</th>\n",
       "      <td>0.15</td>\n",
       "      <td>0.09</td>\n",
       "      <td>0.07</td>\n",
       "      <td>0.02</td>\n",
       "    </tr>\n",
       "  </tbody>\n",
       "</table>\n",
       "</div>"
      ],
      "text/plain": [
       "      0     1     2     3\n",
       "1  0.20  0.08  0.05  0.01\n",
       "2  0.18  0.08  0.06  0.01\n",
       "3  0.15  0.09  0.07  0.02"
      ]
     },
     "execution_count": 8,
     "metadata": {},
     "output_type": "execute_result"
    }
   ],
   "source": [
    "XY = pd.DataFrame([[0.2,0.08,0.05,0.01], \n",
    "                  [0.18,0.08,0.06,0.01], \n",
    "                  [0.15,0.09,0.07,0.02]], index = [1,2,3])\n",
    "                  \n",
    "XY"
   ]
  },
  {
   "cell_type": "code",
   "execution_count": 26,
   "id": "5663ddbb",
   "metadata": {},
   "outputs": [
    {
     "name": "stdout",
     "output_type": "stream",
     "text": [
      "Частное распределение X:\n",
      " 1    0.34\n",
      "2    0.33\n",
      "3    0.33\n",
      "dtype: float64\n",
      "Частное распределение Y:\n",
      " 0    0.53\n",
      "1    0.25\n",
      "2    0.18\n",
      "3    0.04\n",
      "dtype: float64\n"
     ]
    }
   ],
   "source": [
    "X = XY.sum(axis = 1)\n",
    "print(f'Частное распределение X:\\n {X}')\n",
    "Y = XY.sum(axis = 0)\n",
    "print(f'Частное распределение Y:\\n {Y}')"
   ]
  },
  {
   "cell_type": "code",
   "execution_count": 61,
   "id": "d49493cd",
   "metadata": {},
   "outputs": [
    {
     "data": {
      "text/plain": [
       "0.33"
      ]
     },
     "execution_count": 61,
     "metadata": {},
     "output_type": "execute_result"
    }
   ],
   "source": [
    "X[2]"
   ]
  },
  {
   "cell_type": "code",
   "execution_count": 37,
   "id": "bd47b24a",
   "metadata": {},
   "outputs": [],
   "source": [
    "def dependence(XY):\n",
    "    n = 0\n",
    "    for i in XY.columns:\n",
    "        for j in XY.index:\n",
    "            if XY.loc[j, i] != X[j] * Y[i]:\n",
    "                n = 1\n",
    "                print('Величины X и Y зависимы')\n",
    "                break\n",
    "        if n > 0: \n",
    "            break\n",
    "    if n == 0:\n",
    "        print('Величины X и Y не зависимы')\n"
   ]
  },
  {
   "cell_type": "code",
   "execution_count": 38,
   "id": "a0b3dc9d",
   "metadata": {},
   "outputs": [
    {
     "name": "stdout",
     "output_type": "stream",
     "text": [
      "Величины X и Y зависимы\n"
     ]
    }
   ],
   "source": [
    "dependence(XY)"
   ]
  },
  {
   "cell_type": "code",
   "execution_count": 57,
   "id": "c28d01ff",
   "metadata": {},
   "outputs": [
    {
     "name": "stdout",
     "output_type": "stream",
     "text": [
      "Ковариация X и Y = 0.087\n",
      "Корреляция X и Y = 0.330\n"
     ]
    }
   ],
   "source": [
    "EXY = 0\n",
    "EX = 0\n",
    "EY = 0\n",
    "varX = 0\n",
    "varY = 0\n",
    "n = 0\n",
    "for i in XY.columns:\n",
    "    for j in XY.index:\n",
    "        EXY += XY.loc[j, i] * i * j\n",
    "        if n == 0:\n",
    "            EX += X[j] * j\n",
    "    n = 1\n",
    "    EY += Y[i] * i\n",
    "\n",
    "for i in XY.columns:\n",
    "    varY = (i - EY)**2 * Y[i]\n",
    "for j in XY.index:\n",
    "    varX = (j - EX)**2 * X[j]\n",
    "\n",
    "covXY = round(EXY - EX * EY, 3)\n",
    "corrXY = round(covXY / sqrt(varX * varY), 3)\n",
    "print(f\"Ковариация X и Y = {covXY}\")\n",
    "print(f\"Корреляция X и Y = {corrXY}\")"
   ]
  },
  {
   "cell_type": "markdown",
   "id": "ed52009d",
   "metadata": {},
   "source": [
    "Величины X и Y имеют слабую прямую коррляцию"
   ]
  },
  {
   "cell_type": "code",
   "execution_count": 67,
   "id": "aae94eac",
   "metadata": {},
   "outputs": [
    {
     "name": "stdout",
     "output_type": "stream",
     "text": [
      "Распределение числа котов в 2-х комнатной квартире:\n",
      " 0    0.545455\n",
      "1    0.242424\n",
      "2    0.181818\n",
      "3    0.030303\n",
      "Name: 2, dtype: float64\n",
      "Среднее число котов в 2-х комнатной квартире:\n",
      " 0.7\n"
     ]
    }
   ],
   "source": [
    "Y2 = XY.loc[2,:] / X[2]\n",
    "print(f'Распределение числа котов в 2-х комнатной квартире:\\n {Y2}')\n",
    "Y2mean = 0\n",
    "for i in Y2.index:\n",
    "    Y2mean += i * Y2[i]\n",
    "print(f'Среднее число котов в 2-х комнатной квартире:\\n {round(Y2mean,2)}')    "
   ]
  },
  {
   "cell_type": "code",
   "execution_count": 69,
   "id": "21bca5f8",
   "metadata": {},
   "outputs": [
    {
     "name": "stdout",
     "output_type": "stream",
     "text": [
      "Распределение числа комнат в квартире с одним котом:\n",
      " 1    0.32\n",
      "2    0.32\n",
      "3    0.36\n",
      "Name: 1, dtype: float64\n",
      "Среднее число комнат квартире с одним котом:\n",
      " 2.04\n"
     ]
    }
   ],
   "source": [
    "X1 = XY.loc[:,1] / Y[1]\n",
    "print(f'Распределение числа комнат в квартире с одним котом:\\n {X1}')\n",
    "X1mean = 0\n",
    "for i in X1.index:\n",
    "    X1mean += i * X1[i]\n",
    "print(f'Среднее число комнат квартире с одним котом:\\n {round(X1mean,2)}')  "
   ]
  },
  {
   "cell_type": "markdown",
   "id": "83d291b0",
   "metadata": {},
   "source": [
    "# Задача 2"
   ]
  },
  {
   "cell_type": "code",
   "execution_count": 73,
   "id": "30fdbe08",
   "metadata": {},
   "outputs": [
    {
     "data": {
      "text/html": [
       "<div>\n",
       "<style scoped>\n",
       "    .dataframe tbody tr th:only-of-type {\n",
       "        vertical-align: middle;\n",
       "    }\n",
       "\n",
       "    .dataframe tbody tr th {\n",
       "        vertical-align: top;\n",
       "    }\n",
       "\n",
       "    .dataframe thead th {\n",
       "        text-align: right;\n",
       "    }\n",
       "</style>\n",
       "<table border=\"1\" class=\"dataframe\">\n",
       "  <thead>\n",
       "    <tr style=\"text-align: right;\">\n",
       "      <th></th>\n",
       "      <th>X</th>\n",
       "      <th>Y</th>\n",
       "      <th>Z</th>\n",
       "    </tr>\n",
       "  </thead>\n",
       "  <tbody>\n",
       "    <tr>\n",
       "      <th>1</th>\n",
       "      <td>3.0</td>\n",
       "      <td>17.0</td>\n",
       "      <td>9.1</td>\n",
       "    </tr>\n",
       "    <tr>\n",
       "      <th>2</th>\n",
       "      <td>3.5</td>\n",
       "      <td>22.0</td>\n",
       "      <td>5.5</td>\n",
       "    </tr>\n",
       "    <tr>\n",
       "      <th>3</th>\n",
       "      <td>4.0</td>\n",
       "      <td>14.0</td>\n",
       "      <td>12.3</td>\n",
       "    </tr>\n",
       "    <tr>\n",
       "      <th>4</th>\n",
       "      <td>5.0</td>\n",
       "      <td>17.0</td>\n",
       "      <td>9.2</td>\n",
       "    </tr>\n",
       "    <tr>\n",
       "      <th>5</th>\n",
       "      <td>6.0</td>\n",
       "      <td>15.0</td>\n",
       "      <td>14.2</td>\n",
       "    </tr>\n",
       "    <tr>\n",
       "      <th>6</th>\n",
       "      <td>6.5</td>\n",
       "      <td>12.0</td>\n",
       "      <td>16.8</td>\n",
       "    </tr>\n",
       "    <tr>\n",
       "      <th>7</th>\n",
       "      <td>7.0</td>\n",
       "      <td>11.0</td>\n",
       "      <td>22.0</td>\n",
       "    </tr>\n",
       "    <tr>\n",
       "      <th>8</th>\n",
       "      <td>8.0</td>\n",
       "      <td>9.0</td>\n",
       "      <td>18.3</td>\n",
       "    </tr>\n",
       "    <tr>\n",
       "      <th>9</th>\n",
       "      <td>8.5</td>\n",
       "      <td>8.0</td>\n",
       "      <td>24.5</td>\n",
       "    </tr>\n",
       "    <tr>\n",
       "      <th>10</th>\n",
       "      <td>9.0</td>\n",
       "      <td>6.0</td>\n",
       "      <td>22.7</td>\n",
       "    </tr>\n",
       "  </tbody>\n",
       "</table>\n",
       "</div>"
      ],
      "text/plain": [
       "      X     Y     Z\n",
       "1   3.0  17.0   9.1\n",
       "2   3.5  22.0   5.5\n",
       "3   4.0  14.0  12.3\n",
       "4   5.0  17.0   9.2\n",
       "5   6.0  15.0  14.2\n",
       "6   6.5  12.0  16.8\n",
       "7   7.0  11.0  22.0\n",
       "8   8.0   9.0  18.3\n",
       "9   8.5   8.0  24.5\n",
       "10  9.0   6.0  22.7"
      ]
     },
     "execution_count": 73,
     "metadata": {},
     "output_type": "execute_result"
    }
   ],
   "source": [
    "data = pd.DataFrame([[3,3.5,4,5,6,6.5,7,8,8.5,9], \n",
    "                     [17,22,14,17,15,12,11,9,8,6], \n",
    "                     [9.1,5.5,12.3,9.2,14.2,16.8,22.0,18.3,24.5,22.7]], \n",
    "                     index = ['X', 'Y', 'Z'], \n",
    "                    columns = [1,2,3,4,5,6,7,8,9,10])\n",
    "data = data.transpose()\n",
    "data"
   ]
  },
  {
   "cell_type": "code",
   "execution_count": 74,
   "id": "d6cacc14",
   "metadata": {},
   "outputs": [
    {
     "data": {
      "text/html": [
       "<div>\n",
       "<style scoped>\n",
       "    .dataframe tbody tr th:only-of-type {\n",
       "        vertical-align: middle;\n",
       "    }\n",
       "\n",
       "    .dataframe tbody tr th {\n",
       "        vertical-align: top;\n",
       "    }\n",
       "\n",
       "    .dataframe thead th {\n",
       "        text-align: right;\n",
       "    }\n",
       "</style>\n",
       "<table border=\"1\" class=\"dataframe\">\n",
       "  <thead>\n",
       "    <tr style=\"text-align: right;\">\n",
       "      <th></th>\n",
       "      <th>X</th>\n",
       "      <th>Y</th>\n",
       "      <th>Z</th>\n",
       "    </tr>\n",
       "  </thead>\n",
       "  <tbody>\n",
       "    <tr>\n",
       "      <th>X</th>\n",
       "      <td>1.000000</td>\n",
       "      <td>-0.908020</td>\n",
       "      <td>0.917953</td>\n",
       "    </tr>\n",
       "    <tr>\n",
       "      <th>Y</th>\n",
       "      <td>-0.908020</td>\n",
       "      <td>1.000000</td>\n",
       "      <td>-0.943831</td>\n",
       "    </tr>\n",
       "    <tr>\n",
       "      <th>Z</th>\n",
       "      <td>0.917953</td>\n",
       "      <td>-0.943831</td>\n",
       "      <td>1.000000</td>\n",
       "    </tr>\n",
       "  </tbody>\n",
       "</table>\n",
       "</div>"
      ],
      "text/plain": [
       "          X         Y         Z\n",
       "X  1.000000 -0.908020  0.917953\n",
       "Y -0.908020  1.000000 -0.943831\n",
       "Z  0.917953 -0.943831  1.000000"
      ]
     },
     "execution_count": 74,
     "metadata": {},
     "output_type": "execute_result"
    }
   ],
   "source": [
    "corr = data.corr()\n",
    "corr"
   ]
  },
  {
   "cell_type": "code",
   "execution_count": 75,
   "id": "9374237e",
   "metadata": {},
   "outputs": [
    {
     "data": {
      "text/plain": [
       "<AxesSubplot:>"
      ]
     },
     "execution_count": 75,
     "metadata": {},
     "output_type": "execute_result"
    },
    {
     "data": {
      "image/png": "[encoded data removed]",
      "text/plain": [
       "<Figure size 432x288 with 2 Axes>"
      ]
     },
     "metadata": {
      "needs_background": "light"
     },
     "output_type": "display_data"
    }
   ],
   "source": [
    "sns.heatmap(corr, annot = True, vmin = -1, vmax = 1, center = 0, cmap = 'coolwarm')"
   ]
  },
  {
   "cell_type": "markdown",
   "id": "3e40c019",
   "metadata": {},
   "source": [
    "Таблица корреляций говорит о сильной коррелляции между исследуемыми параметрами(прямой или обратной). Чем выше дозировка(X), тем меньше время до наступления действия лекартсва(Y), и тем больше срок действия лекарства(Z). Чем меньше время наступления действия лекарства(Y), тем выше срок действия лекарства(Z)."
   ]
  },
  {
   "cell_type": "code",
   "execution_count": null,
   "id": "3fbe1160",
   "metadata": {},
   "outputs": [],
   "source": []
  }
 ],
 "metadata": {
  "kernelspec": {
   "display_name": "Python 3 (ipykernel)",
   "language": "python",
   "name": "python3"
  },
  "language_info": {
   "codemirror_mode": {
    "name": "ipython",
    "version": 3
   },
   "file_extension": ".py",
   "mimetype": "text/x-python",
   "name": "python",
   "nbconvert_exporter": "python",
   "pygments_lexer": "ipython3",
   "version": "3.9.7"
  }
 },
 "nbformat": 4,
 "nbformat_minor": 5
}
