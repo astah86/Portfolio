{
 "cells": [
  {
   "cell_type": "markdown",
   "metadata": {
    "id": "1ede1DhglCo2"
   },
   "source": [
    "## **Случайные события. Домашнее задание**\n",
    "\n",
    "### Итоги модуля\n",
    "В этом модуле было введено понятие **пространства элементарных событий**. Это пространство состоит из различных **исходов** случайной величины. Вероятности элементарных событий в этом пространстве будут принимать значения от 0 до 1. \n",
    "\n",
    "В пространстве событий помимо **элементарных** исходов есть также **сложные** события, являющиеся объединением нескольких элементарных. \n",
    "\n",
    "Мы также познакомились с **зависимыми** событиями и понятием **условной вероятности**. На основе этого определения строится **формула Байеса**. Она связывает теоретические вероятности осуществления события (**априорная** вероятность) с вероятностями, основанными на некотором опыте (условная или **апостериорная** вероятность). Эта формула позволяет как бы «поменять местами» причину и следствие — получить взаимосвязь между P(A|B) и P(B|A).\n",
    "\n",
    "Это домашнее задание поможет закрепить полученные знания. В одной части заданий нужно вычислить вероятности сложных событий. Другая часть заданий посвящена применению теоремы Байеса, а также включает в себя краткое знакомство с **наивным байесовским классификатором (НБК)** — одной из моделей машинного обучения.\n",
    "\n",
    "Основную информацию, необходимую для решения данного домашнего задания, можно найти в теоретическом разделе этого модуля. Критерии оценки заданий основаны на полноте и правильности решений, а также правильности/неправильности финальных ответов. \n",
    "\n",
    "### Цели домашнего задания\n",
    "- закрепить полученные знания о вычислении вероятностей сложных событий;\n",
    "- ближе познакомиться с условными вероятностями, теоремой Байеса и байесовским классификатором.\n",
    "\n",
    "### Что оценивается\n",
    "Умение вычислять вероятности сложных событий и вероятности с использованием теоремы Байеса, понимание условных вероятностей. В каждой задаче требуется соотнести набор известных значений вероятностей с условными вероятностями и вычислить новые вероятности. Задача считается решённой, если выполнены все её условия, а также даны правильные ответы на вопросы.\n",
    "\n",
    "### Как отправить задание на проверку\n",
    "Выполните задания, сохраните изменения при помощи опции Save and Checkpoint на вкладке меню File или кнопки Save and Checkpoint на панели инструментов. Отправьте итоговый файл Jupyter Notebook (в формате .ipynb) или ссылку на него через форму.\n"
   ]
  },
  {
   "cell_type": "markdown",
   "metadata": {
    "id": "vWRlpD8wmGom"
   },
   "source": [
    "### **Задание 1**\n",
    "\n",
    "Даны таблицы с суммами и произведениями значений при броске двух кубиков. Используя эти таблицы, вычислите вероятности следующих сложных событий.\n",
    "\n",
    "<p align=\"left\">\n",
    "  <img src=\"https://drive.google.com/uc?id=1If1NDfwPCfLC6JHqxa5IDgXLRzrbB-sI\" alt=\"drawing\" width=\"600\"/>\n",
    "</p>\n",
    "\n",
    "<p align=\"left\">\n",
    "  <img src=\"https://drive.google.com/uc?id=1vWNTqND6br6XzESVSwqKjK9AqeN0-k-4\" alt=\"drawing\" width=\"600\"/>\n",
    "</p>\n",
    "\n",
    "1. Вероятность, что полученная сумма значений на кубиках — нечётное число.\n"
   ]
  },
  {
   "cell_type": "code",
   "execution_count": 1,
   "metadata": {
    "id": "op3eZLlXm7N6"
   },
   "outputs": [
    {
     "data": {
      "text/plain": [
       "0.5"
      ]
     },
     "execution_count": 1,
     "metadata": {},
     "output_type": "execute_result"
    }
   ],
   "source": [
    "18/36"
   ]
  },
  {
   "cell_type": "markdown",
   "metadata": {
    "id": "6cgcddHem7qV"
   },
   "source": [
    "2. Вероятность, что полученная сумма значений на кубиках — число, кратное трём.\n",
    "\n"
   ]
  },
  {
   "cell_type": "code",
   "execution_count": 2,
   "metadata": {
    "id": "YyJ5fkQvm-ev"
   },
   "outputs": [
    {
     "data": {
      "text/plain": [
       "0.3333333333333333"
      ]
     },
     "execution_count": 2,
     "metadata": {},
     "output_type": "execute_result"
    }
   ],
   "source": [
    "12/36"
   ]
  },
  {
   "cell_type": "markdown",
   "metadata": {
    "id": "87xRZ-Ydm_bd"
   },
   "source": [
    "3. Вероятность, что сумма будет меньше пяти или больше десяти.\n"
   ]
  },
  {
   "cell_type": "code",
   "execution_count": 3,
   "metadata": {
    "id": "4XqHSi9BnCVs"
   },
   "outputs": [
    {
     "data": {
      "text/plain": [
       "0.25"
      ]
     },
     "execution_count": 3,
     "metadata": {},
     "output_type": "execute_result"
    }
   ],
   "source": [
    "9/36"
   ]
  },
  {
   "cell_type": "markdown",
   "metadata": {
    "id": "Dk0iqlGCnCoK"
   },
   "source": [
    "4. Вероятность, что произведение значений будет равно двенадцати.\n"
   ]
  },
  {
   "cell_type": "code",
   "execution_count": 4,
   "metadata": {
    "id": "4DsrJuKWnE_W"
   },
   "outputs": [
    {
     "data": {
      "text/plain": [
       "0.1111111111111111"
      ]
     },
     "execution_count": 4,
     "metadata": {},
     "output_type": "execute_result"
    }
   ],
   "source": [
    "4/36"
   ]
  },
  {
   "cell_type": "markdown",
   "metadata": {
    "id": "61Qt7YUlnFXc"
   },
   "source": [
    "5. Вероятность, что произведение значений — нечётно.\n"
   ]
  },
  {
   "cell_type": "code",
   "execution_count": 5,
   "metadata": {
    "id": "NH4jaPzCnIIt"
   },
   "outputs": [
    {
     "data": {
      "text/plain": [
       "0.25"
      ]
     },
     "execution_count": 5,
     "metadata": {},
     "output_type": "execute_result"
    }
   ],
   "source": [
    "9/36"
   ]
  },
  {
   "cell_type": "markdown",
   "metadata": {
    "id": "x1FyFtv9nJES"
   },
   "source": [
    "6. Вероятность, что сумма значений окажется больше или равной их произведению."
   ]
  },
  {
   "cell_type": "code",
   "execution_count": 6,
   "metadata": {
    "id": "qrPXWQYEnah2"
   },
   "outputs": [
    {
     "data": {
      "text/plain": [
       "0.3333333333333333"
      ]
     },
     "execution_count": 6,
     "metadata": {},
     "output_type": "execute_result"
    }
   ],
   "source": [
    "12/36"
   ]
  },
  {
   "cell_type": "markdown",
   "metadata": {
    "id": "HGqYRvcQnier"
   },
   "source": [
    "### **Задание 2**\n",
    "Загрузим данные о пассажирах «Титаника» с сайта [kaggle (датасет train.csv)](https://www.kaggle.com/c/titanic/data?select=train.csv). Мы ограничимся набором таких переменных, как класс билета пассажира, пол и переменной, показывающей, выжил он или нет. В этом датасете все эти переменные заполнены непустым значением.\n"
   ]
  },
  {
   "cell_type": "code",
   "execution_count": 2,
   "metadata": {
    "id": "ua6B5AdRa2Oj"
   },
   "outputs": [
    {
     "data": {
      "text/html": [
       "<div>\n",
       "<style scoped>\n",
       "    .dataframe tbody tr th:only-of-type {\n",
       "        vertical-align: middle;\n",
       "    }\n",
       "\n",
       "    .dataframe tbody tr th {\n",
       "        vertical-align: top;\n",
       "    }\n",
       "\n",
       "    .dataframe thead th {\n",
       "        text-align: right;\n",
       "    }\n",
       "</style>\n",
       "<table border=\"1\" class=\"dataframe\">\n",
       "  <thead>\n",
       "    <tr style=\"text-align: right;\">\n",
       "      <th></th>\n",
       "      <th>PassengerId</th>\n",
       "      <th>Survived</th>\n",
       "      <th>Pclass</th>\n",
       "      <th>Sex</th>\n",
       "    </tr>\n",
       "  </thead>\n",
       "  <tbody>\n",
       "    <tr>\n",
       "      <th>0</th>\n",
       "      <td>1</td>\n",
       "      <td>0</td>\n",
       "      <td>3</td>\n",
       "      <td>male</td>\n",
       "    </tr>\n",
       "    <tr>\n",
       "      <th>1</th>\n",
       "      <td>2</td>\n",
       "      <td>1</td>\n",
       "      <td>1</td>\n",
       "      <td>female</td>\n",
       "    </tr>\n",
       "    <tr>\n",
       "      <th>2</th>\n",
       "      <td>3</td>\n",
       "      <td>1</td>\n",
       "      <td>3</td>\n",
       "      <td>female</td>\n",
       "    </tr>\n",
       "    <tr>\n",
       "      <th>3</th>\n",
       "      <td>4</td>\n",
       "      <td>1</td>\n",
       "      <td>1</td>\n",
       "      <td>female</td>\n",
       "    </tr>\n",
       "    <tr>\n",
       "      <th>4</th>\n",
       "      <td>5</td>\n",
       "      <td>0</td>\n",
       "      <td>3</td>\n",
       "      <td>male</td>\n",
       "    </tr>\n",
       "    <tr>\n",
       "      <th>...</th>\n",
       "      <td>...</td>\n",
       "      <td>...</td>\n",
       "      <td>...</td>\n",
       "      <td>...</td>\n",
       "    </tr>\n",
       "    <tr>\n",
       "      <th>886</th>\n",
       "      <td>887</td>\n",
       "      <td>0</td>\n",
       "      <td>2</td>\n",
       "      <td>male</td>\n",
       "    </tr>\n",
       "    <tr>\n",
       "      <th>887</th>\n",
       "      <td>888</td>\n",
       "      <td>1</td>\n",
       "      <td>1</td>\n",
       "      <td>female</td>\n",
       "    </tr>\n",
       "    <tr>\n",
       "      <th>888</th>\n",
       "      <td>889</td>\n",
       "      <td>0</td>\n",
       "      <td>3</td>\n",
       "      <td>female</td>\n",
       "    </tr>\n",
       "    <tr>\n",
       "      <th>889</th>\n",
       "      <td>890</td>\n",
       "      <td>1</td>\n",
       "      <td>1</td>\n",
       "      <td>male</td>\n",
       "    </tr>\n",
       "    <tr>\n",
       "      <th>890</th>\n",
       "      <td>891</td>\n",
       "      <td>0</td>\n",
       "      <td>3</td>\n",
       "      <td>male</td>\n",
       "    </tr>\n",
       "  </tbody>\n",
       "</table>\n",
       "<p>891 rows × 4 columns</p>\n",
       "</div>"
      ],
      "text/plain": [
       "     PassengerId  Survived  Pclass     Sex\n",
       "0              1         0       3    male\n",
       "1              2         1       1  female\n",
       "2              3         1       3  female\n",
       "3              4         1       1  female\n",
       "4              5         0       3    male\n",
       "..           ...       ...     ...     ...\n",
       "886          887         0       2    male\n",
       "887          888         1       1  female\n",
       "888          889         0       3  female\n",
       "889          890         1       1    male\n",
       "890          891         0       3    male\n",
       "\n",
       "[891 rows x 4 columns]"
      ]
     },
     "execution_count": 2,
     "metadata": {},
     "output_type": "execute_result"
    }
   ],
   "source": [
    "import pandas as pd\n",
    "titanic = pd.read_csv(\"train.csv\")\n",
    "X = titanic[['PassengerId','Survived','Pclass','Sex']]\n",
    "X"
   ]
  },
  {
   "cell_type": "markdown",
   "metadata": {
    "id": "VREyy_REoXJ2"
   },
   "source": [
    "1. Запишите в P_fem вероятность, что случайный пассажир «Титаника» — женщина.\n"
   ]
  },
  {
   "cell_type": "code",
   "execution_count": 10,
   "metadata": {
    "id": "SOJB4aMvpdra"
   },
   "outputs": [
    {
     "data": {
      "text/plain": [
       "0.35241301907968575"
      ]
     },
     "execution_count": 10,
     "metadata": {},
     "output_type": "execute_result"
    }
   ],
   "source": [
    "P_fem = X.Sex[X.Sex == 'female'].count()/X.Sex.count()\n",
    "P_fem"
   ]
  },
  {
   "cell_type": "markdown",
   "metadata": {
    "id": "NrQTNxYbpKod"
   },
   "source": [
    "2. Запишите в P_1class вероятность, что случайный пассажир «Титаника» ехал в первом классе.\n"
   ]
  },
  {
   "cell_type": "code",
   "execution_count": 11,
   "metadata": {
    "id": "G3MuKPrvpgwN"
   },
   "outputs": [
    {
     "data": {
      "text/plain": [
       "0.24242424242424243"
      ]
     },
     "execution_count": 11,
     "metadata": {},
     "output_type": "execute_result"
    }
   ],
   "source": [
    "P_1class = X.Pclass[X.Pclass == 1].count()/X.Pclass.count()\n",
    "P_1class"
   ]
  },
  {
   "cell_type": "markdown",
   "metadata": {
    "id": "K621BwxepMms"
   },
   "source": [
    "3. Запишите в P_surv вероятность, что случайный пассажир «Титаника» выжил.\n"
   ]
  },
  {
   "cell_type": "code",
   "execution_count": 12,
   "metadata": {
    "id": "Y_hErf_ypjNQ"
   },
   "outputs": [
    {
     "data": {
      "text/plain": [
       "0.3838383838383838"
      ]
     },
     "execution_count": 12,
     "metadata": {},
     "output_type": "execute_result"
    }
   ],
   "source": [
    "P_surv = X.Survived[X.Survived == 1].count()/X.Survived.count()\n",
    "P_surv"
   ]
  },
  {
   "cell_type": "markdown",
   "metadata": {
    "id": "DpnGD270pP34"
   },
   "source": [
    "4. Запишите в P_fem_surv вероятность, что пассажир — женщина, и одновременно с этим пассажир выжила в катастрофе.\n"
   ]
  },
  {
   "cell_type": "code",
   "execution_count": 13,
   "metadata": {
    "id": "L5eF1s-EplNF"
   },
   "outputs": [
    {
     "data": {
      "text/plain": [
       "0.2615039281705948"
      ]
     },
     "execution_count": 13,
     "metadata": {},
     "output_type": "execute_result"
    }
   ],
   "source": [
    "P_fem_surv = X[(X.Survived == 1) & (X.Sex == 'female')].shape[0]/X.shape[0]\n",
    "P_fem_surv"
   ]
  },
  {
   "cell_type": "markdown",
   "metadata": {
    "id": "fZeLtDlQpRW9"
   },
   "source": [
    "5. Найдите условную вероятность того, что пассажир выживет, при условии, если пассажир — женщина.\n"
   ]
  },
  {
   "cell_type": "code",
   "execution_count": 15,
   "metadata": {
    "id": "Im6UwOEzpr_w"
   },
   "outputs": [
    {
     "data": {
      "text/plain": [
       "0.7420382165605095"
      ]
     },
     "execution_count": 15,
     "metadata": {},
     "output_type": "execute_result"
    }
   ],
   "source": [
    "P_cond_surv_fem = P_fem_surv/P_fem\n",
    "P_cond_surv_fem"
   ]
  },
  {
   "cell_type": "markdown",
   "metadata": {
    "id": "qOs5rtX1pT94"
   },
   "source": [
    "6. По аналогии найдите вероятность того, что пассажир выживет, если пассажир ехал в первом классе.\n"
   ]
  },
  {
   "cell_type": "code",
   "execution_count": 16,
   "metadata": {
    "id": "c5wuOMJAp--_"
   },
   "outputs": [
    {
     "data": {
      "text/plain": [
       "0.6296296296296297"
      ]
     },
     "execution_count": 16,
     "metadata": {},
     "output_type": "execute_result"
    }
   ],
   "source": [
    "P_1class_surv = X[(X.Survived == 1) & (X.Pclass == 1)].shape[0]/X.shape[0]\n",
    "P_cond_surv_1class = P_1class_surv/P_1class\n",
    "P_cond_surv_1class"
   ]
  },
  {
   "cell_type": "markdown",
   "metadata": {
    "id": "t0acZwYNpVjs"
   },
   "source": [
    "7. Найдите вероятность того, что пассажир выживет при условии, что пассажир ехал в первом классе и является женщиной.\n"
   ]
  },
  {
   "cell_type": "code",
   "execution_count": 17,
   "metadata": {
    "id": "bwy-iTMnqONj"
   },
   "outputs": [
    {
     "data": {
      "text/plain": [
       "0.9680851063829787"
      ]
     },
     "execution_count": 17,
     "metadata": {},
     "output_type": "execute_result"
    }
   ],
   "source": [
    "P_cond_surv_1class_fem = X[(X.Survived == 1) & (X.Sex == 'female') & (X.Pclass == 1)].shape[0]/ X[(X.Sex == 'female') & (X.Pclass == 1)].shape[0]\n",
    "P_cond_surv_1class_fem"
   ]
  },
  {
   "cell_type": "markdown",
   "metadata": {
    "id": "YUzlJ1SVpXYN"
   },
   "source": [
    "8. Найдите вероятность того, что пассажир выживет при условии, что пассажир ехал во втором классе и является мужчиной.\n"
   ]
  },
  {
   "cell_type": "code",
   "execution_count": 18,
   "metadata": {
    "id": "DWTRkJlHqW1W"
   },
   "outputs": [
    {
     "data": {
      "text/plain": [
       "0.1574074074074074"
      ]
     },
     "execution_count": 18,
     "metadata": {},
     "output_type": "execute_result"
    }
   ],
   "source": [
    "P_cond_surv_2class_male = X[(X.Survived == 1) & (X.Sex == 'male') & (X.Pclass == 2)].shape[0]/ X[(X.Sex == 'male') & (X.Pclass == 2)].shape[0]\n",
    "P_cond_surv_2class_male"
   ]
  },
  {
   "cell_type": "markdown",
   "metadata": {
    "id": "8Nbz8Xb0pYuj"
   },
   "source": [
    "9. Используя посчитанные вероятности, найдите вероятность того, что случайно выбранный пассажир — женщина, если мы знаем, что пассажир выжил.\n"
   ]
  },
  {
   "cell_type": "code",
   "execution_count": 19,
   "metadata": {
    "id": "I8JLH18Uql9V"
   },
   "outputs": [
    {
     "data": {
      "text/plain": [
       "0.6812865497076023"
      ]
     },
     "execution_count": 19,
     "metadata": {},
     "output_type": "execute_result"
    }
   ],
   "source": [
    "P_cond_fem_surv = P_cond_surv_fem*P_fem/P_surv\n",
    "P_cond_fem_surv"
   ]
  },
  {
   "cell_type": "markdown",
   "metadata": {
    "id": "b5UDgMYKpaMU"
   },
   "source": [
    "10. Используя посчитанные вероятности, найдите вероятность того, что случайно выбранный пассажир ехал в первом классе, если мы знаем, что пассажир выжил.\n"
   ]
  },
  {
   "cell_type": "code",
   "execution_count": 20,
   "metadata": {
    "id": "PcjRugZzqss1"
   },
   "outputs": [
    {
     "data": {
      "text/plain": [
       "0.3976608187134503"
      ]
     },
     "execution_count": 20,
     "metadata": {},
     "output_type": "execute_result"
    }
   ],
   "source": [
    "P_cond_1class_1class = P_cond_surv_1class*P_1class/P_surv\n",
    "P_cond_1class_1class"
   ]
  },
  {
   "cell_type": "markdown",
   "metadata": {
    "id": "yQHFXtulpbwm"
   },
   "source": [
    "11. Сравните полученные вероятности с безусловными вероятностями соответствующих событий. Объясните разницу в значениях."
   ]
  },
  {
   "cell_type": "markdown",
   "metadata": {
    "id": "rNgeDAeeq3SM"
   },
   "source": [
    "Условные вероятности в п.9 и п.10 оказались выше безусловных вероятностей в п.1 и п.2 соответственно, т.к. вероятность того, что женщина или пассажир 1-го класса выживет больше общей вероятности выживания."
   ]
  },
  {
   "cell_type": "markdown",
   "metadata": {
    "id": "o7W2eNBuqzAF"
   },
   "source": [
    "."
   ]
  },
  {
   "cell_type": "markdown",
   "metadata": {
    "id": "uPoHizfkrDDx"
   },
   "source": [
    "### **Задание 3**\n",
    "Рассмотрим датасет со статистикой почтового ящика `letters.xlsx`. Данные можно найти в материалах к домашнему заданию. Там содержится 248 записей с информацией о письмах. \n",
    "\n",
    "Нам хочется узнать, является ли новое письмо, пришедшее к нам на почту, спамом. Для этого у нас существует статистика писем. Каждое пришедшее письмо может быть либо спамом, либо нет. При этом и спам, и нормальные письма могут содержать слова, характерные для спам-писем. Данный датасет представляет собой набор записей с информацией о пришедших ранее письмах, распознанных человеком как спам или нет. \n",
    "\n",
    "\n"
   ]
  },
  {
   "cell_type": "code",
   "execution_count": 21,
   "metadata": {
    "colab": {
     "base_uri": "https://localhost:8080/",
     "height": 455
    },
    "executionInfo": {
     "elapsed": 282,
     "status": "ok",
     "timestamp": 1640857015304,
     "user": {
      "displayName": "Евгения Миллер",
      "photoUrl": "https://lh3.googleusercontent.com/a-/AOh14Gj2X0dQicVOw3_uvDLm2AdkkDjMIUubVj8NCWQ6=s64",
      "userId": "01842992490389353651"
     },
     "user_tz": -180
    },
    "id": "97q3xYj7a2On",
    "outputId": "fd7d7b10-c391-4ebe-dda4-0199fa8767f3"
   },
   "outputs": [
    {
     "data": {
      "text/html": [
       "<div>\n",
       "<style scoped>\n",
       "    .dataframe tbody tr th:only-of-type {\n",
       "        vertical-align: middle;\n",
       "    }\n",
       "\n",
       "    .dataframe tbody tr th {\n",
       "        vertical-align: top;\n",
       "    }\n",
       "\n",
       "    .dataframe thead th {\n",
       "        text-align: right;\n",
       "    }\n",
       "</style>\n",
       "<table border=\"1\" class=\"dataframe\">\n",
       "  <thead>\n",
       "    <tr style=\"text-align: right;\">\n",
       "      <th></th>\n",
       "      <th>spam</th>\n",
       "      <th>spam_words</th>\n",
       "    </tr>\n",
       "    <tr>\n",
       "      <th>id_letter</th>\n",
       "      <th></th>\n",
       "      <th></th>\n",
       "    </tr>\n",
       "  </thead>\n",
       "  <tbody>\n",
       "    <tr>\n",
       "      <th>1</th>\n",
       "      <td>да</td>\n",
       "      <td>нет</td>\n",
       "    </tr>\n",
       "    <tr>\n",
       "      <th>2</th>\n",
       "      <td>да</td>\n",
       "      <td>да</td>\n",
       "    </tr>\n",
       "    <tr>\n",
       "      <th>3</th>\n",
       "      <td>нет</td>\n",
       "      <td>нет</td>\n",
       "    </tr>\n",
       "    <tr>\n",
       "      <th>4</th>\n",
       "      <td>нет</td>\n",
       "      <td>да</td>\n",
       "    </tr>\n",
       "    <tr>\n",
       "      <th>5</th>\n",
       "      <td>да</td>\n",
       "      <td>да</td>\n",
       "    </tr>\n",
       "    <tr>\n",
       "      <th>...</th>\n",
       "      <td>...</td>\n",
       "      <td>...</td>\n",
       "    </tr>\n",
       "    <tr>\n",
       "      <th>244</th>\n",
       "      <td>нет</td>\n",
       "      <td>нет</td>\n",
       "    </tr>\n",
       "    <tr>\n",
       "      <th>245</th>\n",
       "      <td>нет</td>\n",
       "      <td>нет</td>\n",
       "    </tr>\n",
       "    <tr>\n",
       "      <th>246</th>\n",
       "      <td>нет</td>\n",
       "      <td>нет</td>\n",
       "    </tr>\n",
       "    <tr>\n",
       "      <th>247</th>\n",
       "      <td>нет</td>\n",
       "      <td>нет</td>\n",
       "    </tr>\n",
       "    <tr>\n",
       "      <th>248</th>\n",
       "      <td>нет</td>\n",
       "      <td>нет</td>\n",
       "    </tr>\n",
       "  </tbody>\n",
       "</table>\n",
       "<p>248 rows × 2 columns</p>\n",
       "</div>"
      ],
      "text/plain": [
       "          spam spam_words\n",
       "id_letter                \n",
       "1           да        нет\n",
       "2           да         да\n",
       "3          нет        нет\n",
       "4          нет         да\n",
       "5           да         да\n",
       "...        ...        ...\n",
       "244        нет        нет\n",
       "245        нет        нет\n",
       "246        нет        нет\n",
       "247        нет        нет\n",
       "248        нет        нет\n",
       "\n",
       "[248 rows x 2 columns]"
      ]
     },
     "execution_count": 21,
     "metadata": {},
     "output_type": "execute_result"
    }
   ],
   "source": [
    "df = pd.read_excel('letters.xlsx', sheet_name='Sheet1', index_col='id_letter')\n",
    "df"
   ]
  },
  {
   "cell_type": "markdown",
   "metadata": {
    "id": "VXZ48zp6s34j"
   },
   "source": [
    "Столбец `spam` отвечает на вопрос, является письмо спамом или нет, `spam_words` — содержит ли оно слова, встречающиеся в спам-письмах.\n",
    "\n",
    "1. Найдите долю спам-писем по отношению ко всем.\n",
    "\n"
   ]
  },
  {
   "cell_type": "code",
   "execution_count": 25,
   "metadata": {
    "id": "2-Xbar2xs_An"
   },
   "outputs": [
    {
     "data": {
      "text/plain": [
       "0.3548387096774194"
      ]
     },
     "execution_count": 25,
     "metadata": {},
     "output_type": "execute_result"
    }
   ],
   "source": [
    "P_spam = df[df.spam == \"да\"].shape[0]/df.shape[0]\n",
    "P_spam"
   ]
  },
  {
   "cell_type": "markdown",
   "metadata": {
    "id": "K0FHedEys_au"
   },
   "source": [
    "2. Найдите долю писем со спам-подобными словами по отношению ко всем.\n"
   ]
  },
  {
   "cell_type": "code",
   "execution_count": 26,
   "metadata": {
    "id": "USOq8sNutCxC"
   },
   "outputs": [
    {
     "data": {
      "text/plain": [
       "0.375"
      ]
     },
     "execution_count": 26,
     "metadata": {},
     "output_type": "execute_result"
    }
   ],
   "source": [
    "P_words = df[df.spam_words == \"да\"].shape[0]/df.shape[0]\n",
    "P_words"
   ]
  },
  {
   "cell_type": "markdown",
   "metadata": {
    "id": "x8OiJqvCtDCD"
   },
   "source": [
    "3. Найдите вероятность, что письмо содержит спам-подобные слова при условии, что оно является спамом.\n"
   ]
  },
  {
   "cell_type": "code",
   "execution_count": 27,
   "metadata": {
    "id": "4IwG20wNtGQ1"
   },
   "outputs": [
    {
     "data": {
      "text/plain": [
       "0.36363636363636365"
      ]
     },
     "execution_count": 27,
     "metadata": {},
     "output_type": "execute_result"
    }
   ],
   "source": [
    "P_cond_words_spam = df[(df.spam_words == \"да\") & (df.spam == \"да\")].shape[0]/df[df.spam == \"да\"].shape[0]\n",
    "P_cond_words_spam"
   ]
  },
  {
   "cell_type": "markdown",
   "metadata": {
    "id": "ruU9vLPVtGoK"
   },
   "source": [
    "4. Найдите вероятность, что письмо является спамом при условии, что оно содержит спам-подобные слова.\n"
   ]
  },
  {
   "cell_type": "code",
   "execution_count": 28,
   "metadata": {
    "id": "q93GX-X6tJOT"
   },
   "outputs": [
    {
     "data": {
      "text/plain": [
       "0.3440860215053763"
      ]
     },
     "execution_count": 28,
     "metadata": {},
     "output_type": "execute_result"
    }
   ],
   "source": [
    "P_cond_spam_words = P_cond_words_spam*P_spam/P_words\n",
    "P_cond_spam_words"
   ]
  },
  {
   "cell_type": "markdown",
   "metadata": {
    "id": "LSWmnnWptJjb"
   },
   "source": [
    "С помощью такого принципа [работает наивный байесовский классификатор](https://ru.wikipedia.org/wiki/%D0%91%D0%B0%D0%B9%D0%B5%D1%81%D0%BE%D0%B2%D1%81%D0%BA%D0%B0%D1%8F_%D1%84%D0%B8%D0%BB%D1%8C%D1%82%D1%80%D0%B0%D1%86%D0%B8%D1%8F_%D1%81%D0%BF%D0%B0%D0%BC%D0%B0). При обучении модели для каждого встреченного в письмах слова высчитывается и сохраняется вероятность того, что письмо с этим словом — спам. И в дальнейшем, на основе наличия в письме слов с высокой вероятностью встречающихся в спам-письмах, машина может рассчитать условную вероятность того, что в таком случае письмо является спамом. Если эта вероятность превысит 0,5, можно положить такое письмо в спам. Более сложные модели учитывают не только наличие определённых слов, но и множество других факторов. Тем самым, по целому ряду свойств письма можно рассчитать соответствующую условную вероятность, что письмо будет спамом при условии, что оно обладает некоторым набором характеристик. Такой классификатор работает достаточно хорошо и быстро в простых ситуациях, однако он слишком завязан на варианты значений условий. Например, если в тренировочном датасете не встречалась определённая комбинация условных факторов, то классификатор не сможет оценить вероятность в ситуации, если такая комбинация встретится в тестовой выборке."
   ]
  }
 ],
 "metadata": {
  "colab": {
   "collapsed_sections": [],
   "name": "2.6 Домашнее задание.ipynb",
   "provenance": [
    {
     "file_id": "1pRiOUZtOF7LyR5ApOAfxecKCVl1v49Qw",
     "timestamp": 1640854864452
    }
   ]
  },
  "kernelspec": {
   "display_name": "Python 3 (ipykernel)",
   "language": "python",
   "name": "python3"
  },
  "language_info": {
   "codemirror_mode": {
    "name": "ipython",
    "version": 3
   },
   "file_extension": ".py",
   "mimetype": "text/x-python",
   "name": "python",
   "nbconvert_exporter": "python",
   "pygments_lexer": "ipython3",
   "version": "3.9.7"
  }
 },
 "nbformat": 4,
 "nbformat_minor": 1
}
