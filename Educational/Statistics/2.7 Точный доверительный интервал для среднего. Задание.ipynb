{
 "cells": [
  {
   "cell_type": "markdown",
   "id": "0031c614",
   "metadata": {
    "id": "0031c614"
   },
   "source": [
    "# Практическая работа\n",
    "\n",
    "**Цели работы**\n",
    "\n",
    "Научиться строить точный доверительный интервал для среднего.\n",
    "\n",
    "**Что нужно сделать**\n",
    "\n",
    "Известно, что генеральная совокупность распределена нормально со средним квадратическим отклонением $\\sigma=5$.\n",
    "\n",
    "Найдите доверительный интервал для оценки математического ожидания $\\mu$ с надёжностью 0.95, если выборочная средняя $\\bar x = 24.15$, а объем выборки $n=100$.\n",
    "\n",
    "Для этого выполните следующее:\n",
    "1. Выберите подходящую формулу доверительного интервала.\n",
    "2. Примените формулу для доверительного интервала.\n",
    "3. Получите конкретный доверительный интервал для среднего.\n",
    "\n",
    "Результатом будут границы доверительного интервала.\n",
    "\n",
    "**Рекомендации по выполнению**\n",
    "\n",
    "- Выполняйте задания в приведённой последовательности.\n",
    "- Пользуйтесь материалами, о которых говорилось в видео.\n",
    "- Используйте подсказки и справочные значения.\n",
    "\n",
    "**Теоретическая подсказка:**\n",
    "\n",
    "- Асимптотический доверительный интервал для среднего:\n",
    "\n",
    "$$P \\left(\\bar x-z_{1-\\frac{\\alpha}{2}}\\cdot \\frac{\\hat\\sigma}{\\sqrt{n}} \\leq {\\mu} \\leq \\bar x+z_{1-\\frac{\\alpha}{2}}\\cdot \\frac{\\hat\\sigma}{\\sqrt{n}} \\right) = 1-\\alpha$$\n",
    "\n",
    "- Точный доверительный интервал для среднего, дисперсия известна:\n",
    "$$P \\left(\\bar x-z_{1-\\frac{\\alpha}{2}}\\cdot \\frac{\\sigma}{\\sqrt{n}} \\leq {\\mu} \\leq \\bar x+z_{1-\\frac{\\alpha}{2}}\\cdot \\frac{\\sigma}{\\sqrt{n}} \\right) = 1-\\alpha$$\n",
    "\n",
    "- Точный доверительный интервал для среднего, дисперсия неизвестна:\n",
    "$$P \\left(\\bar x-t_{1-\\frac{\\alpha}{2}}\\cdot \\frac{s}{\\sqrt{n}} \\leq {\\mu} \\leq \\bar x+t_{1-\\frac{\\alpha}{2}}\\cdot \\frac{s}{\\sqrt{n}} \\right) = 1-\\alpha$$\n",
    "\n",
    "**Справочные значения:**\n",
    "$$ \\alpha = 5\\%, z_{1-\\frac{\\alpha}{2}} = 1.96$$\n",
    "$$ \\alpha = 5\\%, t_{1-\\frac{\\alpha}{2}} = 2.26$$\n",
    "\n",
    "**Что оценивается**\n",
    "\n",
    "- Выбрана верная формула для доверительного интервала.\n",
    "- Получены верные границы для доверительного интервала.\n",
    "\n",
    "**Как отправить работу на проверку**\n",
    "\n",
    "Отправьте решение на проверку в конце модуля. К решению прикрепите:\n",
    "\n",
    "- расчёты на бумаге / в документе;\n",
    "- (необязательно) если пишете на latex, jupyter notebook с решением."
   ]
  },
  {
   "cell_type": "markdown",
   "id": "d73c087e",
   "metadata": {},
   "source": [
    "# Решение"
   ]
  },
  {
   "cell_type": "markdown",
   "id": "f1ae6e58",
   "metadata": {},
   "source": [
    "Т.к. объем выборки сравнительно не велик, использовать будем точный доверительный интервал при условии, что известна дисперсия.\n",
    "\n",
    "Тогда для $\\alpha$ = 5% (надежность 0.95) формула определения доверительного интервала будет выглядеть:\n",
    "\n",
    "$$P \\left(\\bar x-z_{1-\\frac{\\alpha}{2}}\\cdot \\frac{\\sigma}{\\sqrt{n}} \\leq {\\mu} \\leq \\bar x+z_{1-\\frac{\\alpha}{2}}\\cdot \\frac{\\sigma}{\\sqrt{n}} \\right) = 1-\\alpha$$\n",
    "\n",
    "С учетом:\n",
    "\n",
    "$$ \\alpha = 5\\%, z_{1-\\frac{\\alpha}{2}} = 1.96$$\n",
    "\n",
    "Получим:\n",
    "\n",
    "$$P \\left(\\bar x-1.96\\cdot \\frac{\\sigma}{\\sqrt{n}} \\leq {\\mu} \\leq \\bar x+1.96\\cdot \\frac{\\sigma}{\\sqrt{n}} \\right) = 1-\\alpha$$\n",
    "\n",
    "Все значения нам известны, подставим их в формулу:\n",
    "\n",
    "$$P \\left(24.15-1.96\\cdot \\frac{5}{\\sqrt{100}} \\leq {\\mu} \\leq 24.15+1.96\\cdot \\frac{5}{\\sqrt{100}} \\right) = 0.95$$\n"
   ]
  },
  {
   "cell_type": "code",
   "execution_count": 2,
   "id": "02285af1",
   "metadata": {},
   "outputs": [
    {
     "data": {
      "text/latex": [
       "$\\displaystyle 0.98$"
      ],
      "text/plain": [
       "0.980000000000000"
      ]
     },
     "execution_count": 2,
     "metadata": {},
     "output_type": "execute_result"
    }
   ],
   "source": [
    "from sympy import *\n",
    "1.96 * 5 / sqrt(100)"
   ]
  },
  {
   "cell_type": "code",
   "execution_count": 3,
   "id": "2ffef667",
   "metadata": {},
   "outputs": [
    {
     "data": {
      "text/plain": [
       "23.169999999999998"
      ]
     },
     "execution_count": 3,
     "metadata": {},
     "output_type": "execute_result"
    }
   ],
   "source": [
    "24.15 - 0.98"
   ]
  },
  {
   "cell_type": "code",
   "execution_count": 4,
   "id": "39147c29",
   "metadata": {},
   "outputs": [
    {
     "data": {
      "text/plain": [
       "25.13"
      ]
     },
     "execution_count": 4,
     "metadata": {},
     "output_type": "execute_result"
    }
   ],
   "source": [
    "24.15 + 0.98"
   ]
  },
  {
   "cell_type": "markdown",
   "id": "1d89e97c",
   "metadata": {},
   "source": [
    "Точный доверительный интервал для математического ожидания будет:\n",
    "\n",
    "$$P \\left(23.17 \\leq {\\mu} \\leq 25.13 \\right) = 0.95$$"
   ]
  },
  {
   "cell_type": "code",
   "execution_count": null,
   "id": "c7f6fe30",
   "metadata": {},
   "outputs": [],
   "source": []
  }
 ],
 "metadata": {
  "colab": {
   "collapsed_sections": [],
   "provenance": []
  },
  "kernelspec": {
   "display_name": "Python 3 (ipykernel)",
   "language": "python",
   "name": "python3"
  },
  "language_info": {
   "codemirror_mode": {
    "name": "ipython",
    "version": 3
   },
   "file_extension": ".py",
   "mimetype": "text/x-python",
   "name": "python",
   "nbconvert_exporter": "python",
   "pygments_lexer": "ipython3",
   "version": "3.9.7"
  }
 },
 "nbformat": 4,
 "nbformat_minor": 5
}
