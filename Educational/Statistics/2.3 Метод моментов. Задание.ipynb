{
 "cells": [
  {
   "cell_type": "markdown",
   "id": "22f11c36",
   "metadata": {
    "id": "22f11c36"
   },
   "source": [
    "# Практическая работа\n",
    "\n",
    "**Цели работы**\n",
    "\n",
    "Научиться применять метод моментов для нормального распределения.\n",
    "\n",
    "**Что нужно сделать**\n",
    "\n",
    "Пусть дано нормальное распределение с параметрами $\\mu$ и $\\sigma$.\n",
    "\n",
    "Выполните описанные ниже шаги:\n",
    "1. Найдите оценки обоих параметров с помощью метода моментов.\n",
    "2. Примените формулы данных оценок для нормального распределения с параметрами mu = 2 sigma = 4.\n",
    "3. Сравните свои оценки и значения 2 и 16 для размера выборки 200 и 1000.\n",
    "\n",
    "Результатом будет нахождение оценок неизвестных параметров, а также проверка их в Python.\n",
    "\n",
    "**Рекомендации по выполнению**\n",
    "\n",
    "- Выполняйте задания в приведённой последовательности.\n",
    "- Пользуйтесь материалами, о которых говорилось в видео.\n",
    "- Используйте приложенный к данной теме ноутбук.\n",
    "- Используйте материалы предыдущего модуля про нормальное распределение.\n",
    "\n",
    "**Что оценивается**\n",
    "\n",
    "- Найдены оценки методом моментов.\n",
    "- Получены результаты с помощью Python.\n",
    "- Полученные оценки близки к параметрам 2 и 4.\n",
    "\n",
    "**Как отправить работу на проверку**\n",
    "\n",
    "Отправьте решение на проверку в конце модуля. К решению прикрепите:\n",
    "- расчёты на бумаге / в документе;\n",
    "- (необязательно) если пишете на latex, jupyter notebook с решением;\n",
    "- jupyter notebook со скриптом на Python."
   ]
  },
  {
   "cell_type": "code",
   "execution_count": 26,
   "id": "ce45c3c5",
   "metadata": {},
   "outputs": [],
   "source": [
    "import numpy as np\n",
    "import scipy\n",
    "import matplotlib.pyplot as plt\n",
    "%matplotlib inline\n",
    "plt.style.use('seaborn-whitegrid')\n",
    "import scipy.stats as sps"
   ]
  },
  {
   "cell_type": "markdown",
   "id": "ad24d260",
   "metadata": {},
   "source": [
    "# Решение"
   ]
  },
  {
   "cell_type": "markdown",
   "id": "fea638e2",
   "metadata": {},
   "source": [
    "Формулы для математического ожидания и дисперсии для непрерывной нормлаьно распределенной величины.\n",
    "    \n",
    "$$E(X) = \\mu$$\n",
    "$$Var[X] = \\sigma^2$$\n",
    "\n",
    "Выборочное среднее и выборочная дисперсия: \n",
    "\n",
    "$$E(X_k) = \\bar{X}$$\n",
    "$$D(X_k) = S^2$$\n",
    "\n",
    "По методу моментов:\n",
    "\n",
    "$$\\begin{equation}\n",
    "\\left\\{ \n",
    "  \\begin{aligned}\n",
    "    \\mu = \\bar{X}\\\\\n",
    "    \\sigma^2 = S^2\\\\\n",
    "  \\end{aligned}\n",
    "  \\right.\n",
    "\\end{equation}\n",
    "$$\n",
    "\n",
    "Или:\n",
    "\n",
    "$$\\begin{equation}\n",
    "\\left\\{ \n",
    "  \\begin{aligned}\n",
    "    \\hat{\\mu} = \\bar{X}\\\\\n",
    "    \\hat{\\sigma}^2 = S^2\\\\\n",
    "  \\end{aligned}\n",
    "  \\right.\n",
    "\\end{equation}\n",
    "$$\n",
    "\n",
    "В итоге оценки параметров $\\mu$ и $\\sigma$ будут равны:\n",
    "\n",
    "$$\\begin{equation}\n",
    "\\left\\{ \n",
    "  \\begin{aligned}\n",
    "    \\hat{\\mu} = \\bar{X}\\\\\n",
    "    \\hat{\\sigma} = S\\\\\n",
    "  \\end{aligned}\n",
    "  \\right.\n",
    "\\end{equation}\n",
    "$$"
   ]
  },
  {
   "cell_type": "code",
   "execution_count": 9,
   "id": "dfd8c62e",
   "metadata": {},
   "outputs": [
    {
     "name": "stdout",
     "output_type": "stream",
     "text": [
      "Математическое ожидание:  2.0\n",
      "Дисперсия:  16.0\n"
     ]
    }
   ],
   "source": [
    "mu = 2\n",
    "sigma = 4\n",
    "\n",
    "rv_norm = sps.norm(mu, sigma)\n",
    "\n",
    "print('Математическое ожидание: ', rv_norm.mean())\n",
    "print('Дисперсия: ', rv_norm.var())"
   ]
  },
  {
   "cell_type": "code",
   "execution_count": 38,
   "id": "9d056389",
   "metadata": {},
   "outputs": [
    {
     "name": "stdout",
     "output_type": "stream",
     "text": [
      "Выборочное среднее для размера выборки 200: 2.185\n",
      "Выборочная дисперсия для размера выборки 200: 15.093\n",
      "Выборочное среднее для размера выборки 1000: 1.955\n",
      "Выборочная дисперсия для размера выборки 1000: 16.386\n"
     ]
    }
   ],
   "source": [
    "sample_200 = rv_norm.rvs(size=200)\n",
    "sample_1000 = rv_norm.rvs(size=1000)\n",
    "\n",
    "mu_hat_200 = sample_200.mean()\n",
    "sigma_hat_200 = sample_200.var()\n",
    "mu_hat_1000 = sample_1000.mean()\n",
    "sigma_hat_1000 = sample_1000.var()\n",
    "\n",
    "print('Выборочное среднее для размера выборки 200: %.3f' % mu_hat_200)\n",
    "print('Выборочная дисперсия для размера выборки 200: %.3f' % sigma_hat_200)\n",
    "print('Выборочное среднее для размера выборки 1000: %.3f' % mu_hat_1000)\n",
    "print('Выборочная дисперсия для размера выборки 1000: %.3f' % sigma_hat_1000)"
   ]
  },
  {
   "cell_type": "markdown",
   "id": "f88fda66",
   "metadata": {},
   "source": [
    "Оценки выборочных среднего и дисперсии получились близки к реальным, но не равны им. При бОльшем числе значений выборке точность определения величин увеличивается, возможный расброс уменьшается."
   ]
  },
  {
   "cell_type": "code",
   "execution_count": null,
   "id": "d7ced1a1",
   "metadata": {},
   "outputs": [],
   "source": []
  }
 ],
 "metadata": {
  "colab": {
   "collapsed_sections": [],
   "provenance": []
  },
  "kernelspec": {
   "display_name": "Python 3 (ipykernel)",
   "language": "python",
   "name": "python3"
  },
  "language_info": {
   "codemirror_mode": {
    "name": "ipython",
    "version": 3
   },
   "file_extension": ".py",
   "mimetype": "text/x-python",
   "name": "python",
   "nbconvert_exporter": "python",
   "pygments_lexer": "ipython3",
   "version": "3.9.7"
  }
 },
 "nbformat": 4,
 "nbformat_minor": 5
}
