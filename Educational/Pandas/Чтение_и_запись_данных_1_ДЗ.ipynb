{
 "cells": [
  {
   "cell_type": "markdown",
   "metadata": {
    "id": "15qs2Elo9J2Z"
   },
   "source": [
    "# Чтение и запись данных, часть 1\n",
    "\n",
    "## Домашнее задание \n",
    "\n",
    "### Описание домашнего задания и формат сдачи\n",
    "\n",
    "Выполните предложенные задачи — впишите свой код в ячейки после комментария `### YOUR CODE HERE ###` и сохраните изменения, используя опцию *Save and Checkpoint* из вкладки меню *File* или кнопку *Save and Checkpoint* на панели инструментов. Итоговый файл в формате `.ipynb` (файл Jupyter Notebook) загрузите в личный кабинет и отправьте на проверку."
   ]
  },
  {
   "cell_type": "markdown",
   "metadata": {
    "id": "0cwH7i-m9J2d"
   },
   "source": [
    "### Задача 1\n",
    "\n",
    "Загрузите содержимое файла `Homework1.csv` в DataFrame и выведите первые пять строк на экран. В следующей ячейке посчитайте среднее значение температуры (столбец `Temperature`) и выведите её на экран."
   ]
  },
  {
   "cell_type": "markdown",
   "metadata": {
    "id": "HCQA4Thv32Js"
   },
   "source": []
  },
  {
   "cell_type": "code",
   "execution_count": 1,
   "metadata": {
    "id": "umL48no79J2a"
   },
   "outputs": [],
   "source": [
    "import pandas as pd\n",
    "from matplotlib import pyplot as plt"
   ]
  },
  {
   "cell_type": "code",
   "execution_count": 28,
   "metadata": {
    "id": "sQsNnb4s9J2e"
   },
   "outputs": [
    {
     "data": {
      "text/html": [
       "<div>\n",
       "<style scoped>\n",
       "    .dataframe tbody tr th:only-of-type {\n",
       "        vertical-align: middle;\n",
       "    }\n",
       "\n",
       "    .dataframe tbody tr th {\n",
       "        vertical-align: top;\n",
       "    }\n",
       "\n",
       "    .dataframe thead th {\n",
       "        text-align: right;\n",
       "    }\n",
       "</style>\n",
       "<table border=\"1\" class=\"dataframe\">\n",
       "  <thead>\n",
       "    <tr style=\"text-align: right;\">\n",
       "      <th></th>\n",
       "      <th>id</th>\n",
       "      <th>Date</th>\n",
       "      <th>City</th>\n",
       "      <th>Temperature</th>\n",
       "    </tr>\n",
       "  </thead>\n",
       "  <tbody>\n",
       "    <tr>\n",
       "      <th>0</th>\n",
       "      <td>32208</td>\n",
       "      <td>01.01.2012</td>\n",
       "      <td>New York City</td>\n",
       "      <td>47.4</td>\n",
       "    </tr>\n",
       "    <tr>\n",
       "      <th>1</th>\n",
       "      <td>32209</td>\n",
       "      <td>02.01.2012</td>\n",
       "      <td>New York City</td>\n",
       "      <td>42.9</td>\n",
       "    </tr>\n",
       "    <tr>\n",
       "      <th>2</th>\n",
       "      <td>32210</td>\n",
       "      <td>03.01.2012</td>\n",
       "      <td>New York City</td>\n",
       "      <td>29.8</td>\n",
       "    </tr>\n",
       "    <tr>\n",
       "      <th>3</th>\n",
       "      <td>32211</td>\n",
       "      <td>04.01.2012</td>\n",
       "      <td>New York City</td>\n",
       "      <td>19.1</td>\n",
       "    </tr>\n",
       "    <tr>\n",
       "      <th>4</th>\n",
       "      <td>32212</td>\n",
       "      <td>05.01.2012</td>\n",
       "      <td>New York City</td>\n",
       "      <td>31.7</td>\n",
       "    </tr>\n",
       "  </tbody>\n",
       "</table>\n",
       "</div>"
      ],
      "text/plain": [
       "      id        Date           City  Temperature\n",
       "0  32208  01.01.2012  New York City         47.4\n",
       "1  32209  02.01.2012  New York City         42.9\n",
       "2  32210  03.01.2012  New York City         29.8\n",
       "3  32211  04.01.2012  New York City         19.1\n",
       "4  32212  05.01.2012  New York City         31.7"
      ]
     },
     "execution_count": 28,
     "metadata": {},
     "output_type": "execute_result"
    }
   ],
   "source": [
    "dat = pd.read_csv('Homework1.csv')\n",
    "dat.head()"
   ]
  },
  {
   "cell_type": "code",
   "execution_count": 29,
   "metadata": {
    "id": "gQFk78sfA27L"
   },
   "outputs": [
    {
     "data": {
      "text/plain": [
       "58.06857923497273"
      ]
     },
     "execution_count": 29,
     "metadata": {},
     "output_type": "execute_result"
    }
   ],
   "source": [
    "dat.describe().loc['mean', 'Temperature']"
   ]
  },
  {
   "cell_type": "markdown",
   "metadata": {
    "id": "AnxMpuTt9J2j"
   },
   "source": [
    "### Задача 2\n",
    "\n",
    "Сохраните DataFrame из предыдущей задачи в файл `result1.csv`, в качестве разделителя используйте запятую `,`, а в качестве названия столбца-индекса — `index`."
   ]
  },
  {
   "cell_type": "code",
   "execution_count": 19,
   "metadata": {
    "id": "5IT4cBRr9J2j"
   },
   "outputs": [],
   "source": [
    "dat.to_csv('result1.csv', sep = ',', index_label = 'index')"
   ]
  },
  {
   "cell_type": "markdown",
   "metadata": {
    "id": "ZDKXJ3Bk9J2m"
   },
   "source": [
    "### Задача 3\n",
    "\n",
    "Загрузите содержимое файла `Homework1.csv` в DataFrame, при этом отформатируйте столбец с датой (`Date`) и приведите его к стандартизированному виду. Выведите первые пять строк DataFrame на экран."
   ]
  },
  {
   "cell_type": "code",
   "execution_count": 20,
   "metadata": {
    "id": "yXMTcLtU9J2m"
   },
   "outputs": [
    {
     "data": {
      "text/html": [
       "<div>\n",
       "<style scoped>\n",
       "    .dataframe tbody tr th:only-of-type {\n",
       "        vertical-align: middle;\n",
       "    }\n",
       "\n",
       "    .dataframe tbody tr th {\n",
       "        vertical-align: top;\n",
       "    }\n",
       "\n",
       "    .dataframe thead th {\n",
       "        text-align: right;\n",
       "    }\n",
       "</style>\n",
       "<table border=\"1\" class=\"dataframe\">\n",
       "  <thead>\n",
       "    <tr style=\"text-align: right;\">\n",
       "      <th></th>\n",
       "      <th>id</th>\n",
       "      <th>Date</th>\n",
       "      <th>City</th>\n",
       "      <th>Temperature</th>\n",
       "    </tr>\n",
       "  </thead>\n",
       "  <tbody>\n",
       "    <tr>\n",
       "      <th>0</th>\n",
       "      <td>32208</td>\n",
       "      <td>2012-01-01</td>\n",
       "      <td>New York City</td>\n",
       "      <td>47.4</td>\n",
       "    </tr>\n",
       "    <tr>\n",
       "      <th>1</th>\n",
       "      <td>32209</td>\n",
       "      <td>2012-01-02</td>\n",
       "      <td>New York City</td>\n",
       "      <td>42.9</td>\n",
       "    </tr>\n",
       "    <tr>\n",
       "      <th>2</th>\n",
       "      <td>32210</td>\n",
       "      <td>2012-01-03</td>\n",
       "      <td>New York City</td>\n",
       "      <td>29.8</td>\n",
       "    </tr>\n",
       "    <tr>\n",
       "      <th>3</th>\n",
       "      <td>32211</td>\n",
       "      <td>2012-01-04</td>\n",
       "      <td>New York City</td>\n",
       "      <td>19.1</td>\n",
       "    </tr>\n",
       "    <tr>\n",
       "      <th>4</th>\n",
       "      <td>32212</td>\n",
       "      <td>2012-01-05</td>\n",
       "      <td>New York City</td>\n",
       "      <td>31.7</td>\n",
       "    </tr>\n",
       "  </tbody>\n",
       "</table>\n",
       "</div>"
      ],
      "text/plain": [
       "      id       Date           City  Temperature\n",
       "0  32208 2012-01-01  New York City         47.4\n",
       "1  32209 2012-01-02  New York City         42.9\n",
       "2  32210 2012-01-03  New York City         29.8\n",
       "3  32211 2012-01-04  New York City         19.1\n",
       "4  32212 2012-01-05  New York City         31.7"
      ]
     },
     "execution_count": 20,
     "metadata": {},
     "output_type": "execute_result"
    }
   ],
   "source": [
    "dat1 = pd.read_csv('Homework1.csv', parse_dates=['Date'], dayfirst=True)\n",
    "dat1.head()"
   ]
  },
  {
   "cell_type": "markdown",
   "metadata": {
    "id": "azlN6qCH9J2o"
   },
   "source": [
    "### Задача 4\n",
    "\n",
    "Сохраните DataFrame из предыдущей задачи в файл `result2.xlsx`."
   ]
  },
  {
   "cell_type": "code",
   "execution_count": 23,
   "metadata": {
    "id": "FxG6Ykjw9J2p"
   },
   "outputs": [],
   "source": [
    "dat1.to_excel('result2.xlsx')"
   ]
  },
  {
   "cell_type": "markdown",
   "metadata": {
    "id": "s5kL1jOp9J2r"
   },
   "source": [
    "### Задача 5\n",
    "\n",
    "Загрузите содержимое файла `Homework2.csv` в DataFrame, укажите правильный разделитель столбцов, отформатируйте столбец с датой (`Date`) и приведите его к стандартизированному виду. Выведите первые пять строк DataFrame на экран."
   ]
  },
  {
   "cell_type": "code",
   "execution_count": 30,
   "metadata": {
    "id": "l4C2wTYW9J2s"
   },
   "outputs": [
    {
     "data": {
      "text/html": [
       "<div>\n",
       "<style scoped>\n",
       "    .dataframe tbody tr th:only-of-type {\n",
       "        vertical-align: middle;\n",
       "    }\n",
       "\n",
       "    .dataframe tbody tr th {\n",
       "        vertical-align: top;\n",
       "    }\n",
       "\n",
       "    .dataframe thead th {\n",
       "        text-align: right;\n",
       "    }\n",
       "</style>\n",
       "<table border=\"1\" class=\"dataframe\">\n",
       "  <thead>\n",
       "    <tr style=\"text-align: right;\">\n",
       "      <th></th>\n",
       "      <th>id</th>\n",
       "      <th>Date</th>\n",
       "      <th>City</th>\n",
       "      <th>Temperature</th>\n",
       "    </tr>\n",
       "  </thead>\n",
       "  <tbody>\n",
       "    <tr>\n",
       "      <th>0</th>\n",
       "      <td>32208</td>\n",
       "      <td>2012-01-01</td>\n",
       "      <td>New York City</td>\n",
       "      <td>47.4</td>\n",
       "    </tr>\n",
       "    <tr>\n",
       "      <th>1</th>\n",
       "      <td>32209</td>\n",
       "      <td>2012-01-02</td>\n",
       "      <td>New York City</td>\n",
       "      <td>42.9</td>\n",
       "    </tr>\n",
       "    <tr>\n",
       "      <th>2</th>\n",
       "      <td>32210</td>\n",
       "      <td>2012-01-03</td>\n",
       "      <td>New York City</td>\n",
       "      <td>29.8</td>\n",
       "    </tr>\n",
       "    <tr>\n",
       "      <th>3</th>\n",
       "      <td>32211</td>\n",
       "      <td>2012-01-04</td>\n",
       "      <td>New York City</td>\n",
       "      <td>19.1</td>\n",
       "    </tr>\n",
       "    <tr>\n",
       "      <th>4</th>\n",
       "      <td>32212</td>\n",
       "      <td>2012-01-05</td>\n",
       "      <td>New York City</td>\n",
       "      <td>31.7</td>\n",
       "    </tr>\n",
       "  </tbody>\n",
       "</table>\n",
       "</div>"
      ],
      "text/plain": [
       "      id       Date           City  Temperature\n",
       "0  32208 2012-01-01  New York City         47.4\n",
       "1  32209 2012-01-02  New York City         42.9\n",
       "2  32210 2012-01-03  New York City         29.8\n",
       "3  32211 2012-01-04  New York City         19.1\n",
       "4  32212 2012-01-05  New York City         31.7"
      ]
     },
     "execution_count": 30,
     "metadata": {},
     "output_type": "execute_result"
    }
   ],
   "source": [
    "dat2 = pd.read_csv('Homework2.csv', sep = ';', parse_dates=['Date'], dayfirst=True)\n",
    "dat2.head()"
   ]
  },
  {
   "cell_type": "markdown",
   "metadata": {
    "id": "-W359rZD9J2u"
   },
   "source": [
    "### Задача 6\n",
    "\n",
    "Сохраните DataFrame из предыдущей задачи в файл `result3.xlsx`, при сохранении задайте листу имя `MySheet`.\n",
    "\n",
    "(Примечание: для указания имени листа в файле Excel как при чтении, так и при записи используется параметр `sheet_name`.)"
   ]
  },
  {
   "cell_type": "code",
   "execution_count": 31,
   "metadata": {
    "id": "88sZHxWv9J2v"
   },
   "outputs": [],
   "source": [
    "dat2.to_excel('result3.xlsx', sheet_name = 'MySheet')"
   ]
  },
  {
   "cell_type": "markdown",
   "metadata": {
    "id": "c2d_HZ8F9J2x"
   },
   "source": [
    "### Задача 7\n",
    "\n",
    "Загрузите содержимое файла `Homework3.xlsx` в DataFrame, отформатируйте столбец с датой (`Date`) и приведите его к стандартизированному виду. Выведите первые пять строк DataFrame на экран.\n",
    "\n",
    "После этого в следующей ячейке сохраните полученный DataFrame в этот же файл, в лист с названием `MySheet`. При сохранении передайте в функцию сохранения параметр `index` c булевым значением `False`, чтобы не сохранять столбец-индекс.\n",
    "\n",
    "Затем откройте файл `Homework3.xlsx` с помощью Excel или аналога и посмотрите, сколько листов сейчас содержит этот файл. Ответ запишите в секции `### YOUR COMMENTS HERE ###` под блоками для кода."
   ]
  },
  {
   "cell_type": "code",
   "execution_count": 35,
   "metadata": {
    "id": "jc6HDN0T9J2x"
   },
   "outputs": [
    {
     "data": {
      "text/html": [
       "<div>\n",
       "<style scoped>\n",
       "    .dataframe tbody tr th:only-of-type {\n",
       "        vertical-align: middle;\n",
       "    }\n",
       "\n",
       "    .dataframe tbody tr th {\n",
       "        vertical-align: top;\n",
       "    }\n",
       "\n",
       "    .dataframe thead th {\n",
       "        text-align: right;\n",
       "    }\n",
       "</style>\n",
       "<table border=\"1\" class=\"dataframe\">\n",
       "  <thead>\n",
       "    <tr style=\"text-align: right;\">\n",
       "      <th></th>\n",
       "      <th>id</th>\n",
       "      <th>Date</th>\n",
       "      <th>City</th>\n",
       "      <th>Temperature</th>\n",
       "    </tr>\n",
       "  </thead>\n",
       "  <tbody>\n",
       "    <tr>\n",
       "      <th>0</th>\n",
       "      <td>32208</td>\n",
       "      <td>2012-01-01</td>\n",
       "      <td>New York City</td>\n",
       "      <td>47.4</td>\n",
       "    </tr>\n",
       "    <tr>\n",
       "      <th>1</th>\n",
       "      <td>32209</td>\n",
       "      <td>2012-01-02</td>\n",
       "      <td>New York City</td>\n",
       "      <td>42.9</td>\n",
       "    </tr>\n",
       "    <tr>\n",
       "      <th>2</th>\n",
       "      <td>32210</td>\n",
       "      <td>2012-01-03</td>\n",
       "      <td>New York City</td>\n",
       "      <td>29.8</td>\n",
       "    </tr>\n",
       "    <tr>\n",
       "      <th>3</th>\n",
       "      <td>32211</td>\n",
       "      <td>2012-01-04</td>\n",
       "      <td>New York City</td>\n",
       "      <td>19.1</td>\n",
       "    </tr>\n",
       "    <tr>\n",
       "      <th>4</th>\n",
       "      <td>32212</td>\n",
       "      <td>2012-01-05</td>\n",
       "      <td>New York City</td>\n",
       "      <td>31.7</td>\n",
       "    </tr>\n",
       "  </tbody>\n",
       "</table>\n",
       "</div>"
      ],
      "text/plain": [
       "      id       Date           City  Temperature\n",
       "0  32208 2012-01-01  New York City         47.4\n",
       "1  32209 2012-01-02  New York City         42.9\n",
       "2  32210 2012-01-03  New York City         29.8\n",
       "3  32211 2012-01-04  New York City         19.1\n",
       "4  32212 2012-01-05  New York City         31.7"
      ]
     },
     "execution_count": 35,
     "metadata": {},
     "output_type": "execute_result"
    }
   ],
   "source": [
    "dat3 = pd.read_excel('Homework3.xlsx',  parse_dates=['Date'])\n",
    "dat3.head()"
   ]
  },
  {
   "cell_type": "code",
   "execution_count": 36,
   "metadata": {
    "id": "sXAstror9J2z"
   },
   "outputs": [],
   "source": [
    "dat3.to_excel('Homework3.xlsx', sheet_name = 'MySheet', index = False)"
   ]
  },
  {
   "cell_type": "markdown",
   "metadata": {
    "id": "EdPpkCwP9J22"
   },
   "source": [
    "\\### 1 лист ###"
   ]
  },
  {
   "cell_type": "markdown",
   "metadata": {
    "id": "yBb6Imck9J23"
   },
   "source": [
    "### Задача 8\n",
    "\n",
    "Загрузите содержимое файлов `Homework1.csv` и `Homework4.csv` в разные датафреймы (DataFrame), выведите первые пять строк каждого датафрейма на экран. После этого объедините датафреймы по столбцу `id` с использованием метода `merge`, выведите первые пять строк объединённого датафрейма на экран и запишите объединённый датафрейм в файл `result4.csv`, указав в качестве разделителя точку с запятой `;`."
   ]
  },
  {
   "cell_type": "code",
   "execution_count": 37,
   "metadata": {
    "id": "goFcjL689J23"
   },
   "outputs": [
    {
     "data": {
      "text/html": [
       "<div>\n",
       "<style scoped>\n",
       "    .dataframe tbody tr th:only-of-type {\n",
       "        vertical-align: middle;\n",
       "    }\n",
       "\n",
       "    .dataframe tbody tr th {\n",
       "        vertical-align: top;\n",
       "    }\n",
       "\n",
       "    .dataframe thead th {\n",
       "        text-align: right;\n",
       "    }\n",
       "</style>\n",
       "<table border=\"1\" class=\"dataframe\">\n",
       "  <thead>\n",
       "    <tr style=\"text-align: right;\">\n",
       "      <th></th>\n",
       "      <th>id</th>\n",
       "      <th>Date</th>\n",
       "      <th>City</th>\n",
       "      <th>Temperature</th>\n",
       "    </tr>\n",
       "  </thead>\n",
       "  <tbody>\n",
       "    <tr>\n",
       "      <th>0</th>\n",
       "      <td>32208</td>\n",
       "      <td>01.01.2012</td>\n",
       "      <td>New York City</td>\n",
       "      <td>47.4</td>\n",
       "    </tr>\n",
       "    <tr>\n",
       "      <th>1</th>\n",
       "      <td>32209</td>\n",
       "      <td>02.01.2012</td>\n",
       "      <td>New York City</td>\n",
       "      <td>42.9</td>\n",
       "    </tr>\n",
       "    <tr>\n",
       "      <th>2</th>\n",
       "      <td>32210</td>\n",
       "      <td>03.01.2012</td>\n",
       "      <td>New York City</td>\n",
       "      <td>29.8</td>\n",
       "    </tr>\n",
       "    <tr>\n",
       "      <th>3</th>\n",
       "      <td>32211</td>\n",
       "      <td>04.01.2012</td>\n",
       "      <td>New York City</td>\n",
       "      <td>19.1</td>\n",
       "    </tr>\n",
       "    <tr>\n",
       "      <th>4</th>\n",
       "      <td>32212</td>\n",
       "      <td>05.01.2012</td>\n",
       "      <td>New York City</td>\n",
       "      <td>31.7</td>\n",
       "    </tr>\n",
       "  </tbody>\n",
       "</table>\n",
       "</div>"
      ],
      "text/plain": [
       "      id        Date           City  Temperature\n",
       "0  32208  01.01.2012  New York City         47.4\n",
       "1  32209  02.01.2012  New York City         42.9\n",
       "2  32210  03.01.2012  New York City         29.8\n",
       "3  32211  04.01.2012  New York City         19.1\n",
       "4  32212  05.01.2012  New York City         31.7"
      ]
     },
     "execution_count": 37,
     "metadata": {},
     "output_type": "execute_result"
    }
   ],
   "source": [
    "dat4 = pd.read_csv('Homework1.csv')\n",
    "dat4.head()"
   ]
  },
  {
   "cell_type": "code",
   "execution_count": 38,
   "metadata": {
    "id": "F0g565uP9J25"
   },
   "outputs": [
    {
     "data": {
      "text/html": [
       "<div>\n",
       "<style scoped>\n",
       "    .dataframe tbody tr th:only-of-type {\n",
       "        vertical-align: middle;\n",
       "    }\n",
       "\n",
       "    .dataframe tbody tr th {\n",
       "        vertical-align: top;\n",
       "    }\n",
       "\n",
       "    .dataframe thead th {\n",
       "        text-align: right;\n",
       "    }\n",
       "</style>\n",
       "<table border=\"1\" class=\"dataframe\">\n",
       "  <thead>\n",
       "    <tr style=\"text-align: right;\">\n",
       "      <th></th>\n",
       "      <th>id</th>\n",
       "      <th>Sales</th>\n",
       "    </tr>\n",
       "  </thead>\n",
       "  <tbody>\n",
       "    <tr>\n",
       "      <th>0</th>\n",
       "      <td>32208</td>\n",
       "      <td>36</td>\n",
       "    </tr>\n",
       "    <tr>\n",
       "      <th>1</th>\n",
       "      <td>32209</td>\n",
       "      <td>34</td>\n",
       "    </tr>\n",
       "    <tr>\n",
       "      <th>2</th>\n",
       "      <td>32210</td>\n",
       "      <td>40</td>\n",
       "    </tr>\n",
       "    <tr>\n",
       "      <th>3</th>\n",
       "      <td>32211</td>\n",
       "      <td>35</td>\n",
       "    </tr>\n",
       "    <tr>\n",
       "      <th>4</th>\n",
       "      <td>32212</td>\n",
       "      <td>48</td>\n",
       "    </tr>\n",
       "  </tbody>\n",
       "</table>\n",
       "</div>"
      ],
      "text/plain": [
       "      id  Sales\n",
       "0  32208     36\n",
       "1  32209     34\n",
       "2  32210     40\n",
       "3  32211     35\n",
       "4  32212     48"
      ]
     },
     "execution_count": 38,
     "metadata": {},
     "output_type": "execute_result"
    }
   ],
   "source": [
    "dat5 = pd.read_csv('Homework4.csv')\n",
    "dat5.head()"
   ]
  },
  {
   "cell_type": "code",
   "execution_count": 58,
   "metadata": {
    "id": "UFZzPxRk9J27"
   },
   "outputs": [
    {
     "data": {
      "text/html": [
       "<div>\n",
       "<style scoped>\n",
       "    .dataframe tbody tr th:only-of-type {\n",
       "        vertical-align: middle;\n",
       "    }\n",
       "\n",
       "    .dataframe tbody tr th {\n",
       "        vertical-align: top;\n",
       "    }\n",
       "\n",
       "    .dataframe thead th {\n",
       "        text-align: right;\n",
       "    }\n",
       "</style>\n",
       "<table border=\"1\" class=\"dataframe\">\n",
       "  <thead>\n",
       "    <tr style=\"text-align: right;\">\n",
       "      <th></th>\n",
       "      <th>id</th>\n",
       "      <th>Date</th>\n",
       "      <th>City</th>\n",
       "      <th>Temperature</th>\n",
       "      <th>Sales</th>\n",
       "    </tr>\n",
       "  </thead>\n",
       "  <tbody>\n",
       "    <tr>\n",
       "      <th>0</th>\n",
       "      <td>32208</td>\n",
       "      <td>01.01.2012</td>\n",
       "      <td>New York City</td>\n",
       "      <td>47.4</td>\n",
       "      <td>36</td>\n",
       "    </tr>\n",
       "    <tr>\n",
       "      <th>1</th>\n",
       "      <td>32209</td>\n",
       "      <td>02.01.2012</td>\n",
       "      <td>New York City</td>\n",
       "      <td>42.9</td>\n",
       "      <td>34</td>\n",
       "    </tr>\n",
       "    <tr>\n",
       "      <th>2</th>\n",
       "      <td>32210</td>\n",
       "      <td>03.01.2012</td>\n",
       "      <td>New York City</td>\n",
       "      <td>29.8</td>\n",
       "      <td>40</td>\n",
       "    </tr>\n",
       "    <tr>\n",
       "      <th>3</th>\n",
       "      <td>32211</td>\n",
       "      <td>04.01.2012</td>\n",
       "      <td>New York City</td>\n",
       "      <td>19.1</td>\n",
       "      <td>35</td>\n",
       "    </tr>\n",
       "    <tr>\n",
       "      <th>4</th>\n",
       "      <td>32212</td>\n",
       "      <td>05.01.2012</td>\n",
       "      <td>New York City</td>\n",
       "      <td>31.7</td>\n",
       "      <td>48</td>\n",
       "    </tr>\n",
       "  </tbody>\n",
       "</table>\n",
       "</div>"
      ],
      "text/plain": [
       "      id        Date           City  Temperature  Sales\n",
       "0  32208  01.01.2012  New York City         47.4     36\n",
       "1  32209  02.01.2012  New York City         42.9     34\n",
       "2  32210  03.01.2012  New York City         29.8     40\n",
       "3  32211  04.01.2012  New York City         19.1     35\n",
       "4  32212  05.01.2012  New York City         31.7     48"
      ]
     },
     "execution_count": 58,
     "metadata": {},
     "output_type": "execute_result"
    }
   ],
   "source": [
    "dat4 = dat4.merge(dat5, on = 'id')\n",
    "dat4.head()"
   ]
  },
  {
   "cell_type": "code",
   "execution_count": 59,
   "metadata": {
    "id": "c7adGIJJ9J2_"
   },
   "outputs": [],
   "source": [
    "dat4.to_csv('result4.csv', sep = ';')"
   ]
  },
  {
   "cell_type": "markdown",
   "metadata": {
    "id": "oS0_c7Uz9J3B"
   },
   "source": [
    "## Дополнительные (необязательные) задачи\n",
    "\n",
    "### Задача 9\n",
    "\n",
    "Загрузите содержимое файлов `Homework2.csv` и `Homework5.xlsx` в разные датафреймы (DataFrame), при этом в каждом датафрейме отформатируйте столбец с датой (`Date`) и приведите его к стандартизированному виду. После этого выведите первые пять строк каждого датафрейма на экран. Затем объедините датафреймы по столбцу `Date` с использованием метода `merge`, выведите первые пять строк объединённого датафрейма на экран и запишите объединённый датафрейм в файл `result5.csv`, указав в качестве разделителя символ табуляции `\\t`."
   ]
  },
  {
   "cell_type": "code",
   "execution_count": 63,
   "metadata": {
    "id": "Bt7ucuc_9J3C"
   },
   "outputs": [
    {
     "data": {
      "text/html": [
       "<div>\n",
       "<style scoped>\n",
       "    .dataframe tbody tr th:only-of-type {\n",
       "        vertical-align: middle;\n",
       "    }\n",
       "\n",
       "    .dataframe tbody tr th {\n",
       "        vertical-align: top;\n",
       "    }\n",
       "\n",
       "    .dataframe thead th {\n",
       "        text-align: right;\n",
       "    }\n",
       "</style>\n",
       "<table border=\"1\" class=\"dataframe\">\n",
       "  <thead>\n",
       "    <tr style=\"text-align: right;\">\n",
       "      <th></th>\n",
       "      <th>id</th>\n",
       "      <th>Date</th>\n",
       "      <th>City</th>\n",
       "      <th>Temperature</th>\n",
       "    </tr>\n",
       "  </thead>\n",
       "  <tbody>\n",
       "    <tr>\n",
       "      <th>0</th>\n",
       "      <td>32208</td>\n",
       "      <td>2012-01-01</td>\n",
       "      <td>New York City</td>\n",
       "      <td>47.4</td>\n",
       "    </tr>\n",
       "    <tr>\n",
       "      <th>1</th>\n",
       "      <td>32209</td>\n",
       "      <td>2012-01-02</td>\n",
       "      <td>New York City</td>\n",
       "      <td>42.9</td>\n",
       "    </tr>\n",
       "    <tr>\n",
       "      <th>2</th>\n",
       "      <td>32210</td>\n",
       "      <td>2012-01-03</td>\n",
       "      <td>New York City</td>\n",
       "      <td>29.8</td>\n",
       "    </tr>\n",
       "    <tr>\n",
       "      <th>3</th>\n",
       "      <td>32211</td>\n",
       "      <td>2012-01-04</td>\n",
       "      <td>New York City</td>\n",
       "      <td>19.1</td>\n",
       "    </tr>\n",
       "    <tr>\n",
       "      <th>4</th>\n",
       "      <td>32212</td>\n",
       "      <td>2012-01-05</td>\n",
       "      <td>New York City</td>\n",
       "      <td>31.7</td>\n",
       "    </tr>\n",
       "  </tbody>\n",
       "</table>\n",
       "</div>"
      ],
      "text/plain": [
       "      id       Date           City  Temperature\n",
       "0  32208 2012-01-01  New York City         47.4\n",
       "1  32209 2012-01-02  New York City         42.9\n",
       "2  32210 2012-01-03  New York City         29.8\n",
       "3  32211 2012-01-04  New York City         19.1\n",
       "4  32212 2012-01-05  New York City         31.7"
      ]
     },
     "execution_count": 63,
     "metadata": {},
     "output_type": "execute_result"
    }
   ],
   "source": [
    "dat6 = pd.read_csv('Homework2.csv', sep = ';', parse_dates=['Date'], dayfirst=True)\n",
    "dat6.head()"
   ]
  },
  {
   "cell_type": "code",
   "execution_count": 64,
   "metadata": {
    "id": "H0DhY_TZ9J3E"
   },
   "outputs": [
    {
     "data": {
      "text/html": [
       "<div>\n",
       "<style scoped>\n",
       "    .dataframe tbody tr th:only-of-type {\n",
       "        vertical-align: middle;\n",
       "    }\n",
       "\n",
       "    .dataframe tbody tr th {\n",
       "        vertical-align: top;\n",
       "    }\n",
       "\n",
       "    .dataframe thead th {\n",
       "        text-align: right;\n",
       "    }\n",
       "</style>\n",
       "<table border=\"1\" class=\"dataframe\">\n",
       "  <thead>\n",
       "    <tr style=\"text-align: right;\">\n",
       "      <th></th>\n",
       "      <th>Date</th>\n",
       "      <th>Sales</th>\n",
       "    </tr>\n",
       "  </thead>\n",
       "  <tbody>\n",
       "    <tr>\n",
       "      <th>0</th>\n",
       "      <td>2012-01-01</td>\n",
       "      <td>36</td>\n",
       "    </tr>\n",
       "    <tr>\n",
       "      <th>1</th>\n",
       "      <td>2012-01-02</td>\n",
       "      <td>34</td>\n",
       "    </tr>\n",
       "    <tr>\n",
       "      <th>2</th>\n",
       "      <td>2012-01-03</td>\n",
       "      <td>40</td>\n",
       "    </tr>\n",
       "    <tr>\n",
       "      <th>3</th>\n",
       "      <td>2012-01-04</td>\n",
       "      <td>35</td>\n",
       "    </tr>\n",
       "    <tr>\n",
       "      <th>4</th>\n",
       "      <td>2012-01-05</td>\n",
       "      <td>48</td>\n",
       "    </tr>\n",
       "  </tbody>\n",
       "</table>\n",
       "</div>"
      ],
      "text/plain": [
       "        Date  Sales\n",
       "0 2012-01-01     36\n",
       "1 2012-01-02     34\n",
       "2 2012-01-03     40\n",
       "3 2012-01-04     35\n",
       "4 2012-01-05     48"
      ]
     },
     "execution_count": 64,
     "metadata": {},
     "output_type": "execute_result"
    }
   ],
   "source": [
    "dat7 = pd.read_excel('Homework5.xlsx', parse_dates=['Date'])\n",
    "dat7.head()"
   ]
  },
  {
   "cell_type": "code",
   "execution_count": 65,
   "metadata": {
    "id": "HyoM-BTI9J3H"
   },
   "outputs": [
    {
     "data": {
      "text/html": [
       "<div>\n",
       "<style scoped>\n",
       "    .dataframe tbody tr th:only-of-type {\n",
       "        vertical-align: middle;\n",
       "    }\n",
       "\n",
       "    .dataframe tbody tr th {\n",
       "        vertical-align: top;\n",
       "    }\n",
       "\n",
       "    .dataframe thead th {\n",
       "        text-align: right;\n",
       "    }\n",
       "</style>\n",
       "<table border=\"1\" class=\"dataframe\">\n",
       "  <thead>\n",
       "    <tr style=\"text-align: right;\">\n",
       "      <th></th>\n",
       "      <th>id</th>\n",
       "      <th>Date</th>\n",
       "      <th>City</th>\n",
       "      <th>Temperature</th>\n",
       "      <th>Sales</th>\n",
       "    </tr>\n",
       "  </thead>\n",
       "  <tbody>\n",
       "    <tr>\n",
       "      <th>0</th>\n",
       "      <td>32208</td>\n",
       "      <td>2012-01-01</td>\n",
       "      <td>New York City</td>\n",
       "      <td>47.4</td>\n",
       "      <td>36</td>\n",
       "    </tr>\n",
       "    <tr>\n",
       "      <th>1</th>\n",
       "      <td>32209</td>\n",
       "      <td>2012-01-02</td>\n",
       "      <td>New York City</td>\n",
       "      <td>42.9</td>\n",
       "      <td>34</td>\n",
       "    </tr>\n",
       "    <tr>\n",
       "      <th>2</th>\n",
       "      <td>32210</td>\n",
       "      <td>2012-01-03</td>\n",
       "      <td>New York City</td>\n",
       "      <td>29.8</td>\n",
       "      <td>40</td>\n",
       "    </tr>\n",
       "    <tr>\n",
       "      <th>3</th>\n",
       "      <td>32211</td>\n",
       "      <td>2012-01-04</td>\n",
       "      <td>New York City</td>\n",
       "      <td>19.1</td>\n",
       "      <td>35</td>\n",
       "    </tr>\n",
       "    <tr>\n",
       "      <th>4</th>\n",
       "      <td>32212</td>\n",
       "      <td>2012-01-05</td>\n",
       "      <td>New York City</td>\n",
       "      <td>31.7</td>\n",
       "      <td>48</td>\n",
       "    </tr>\n",
       "  </tbody>\n",
       "</table>\n",
       "</div>"
      ],
      "text/plain": [
       "      id       Date           City  Temperature  Sales\n",
       "0  32208 2012-01-01  New York City         47.4     36\n",
       "1  32209 2012-01-02  New York City         42.9     34\n",
       "2  32210 2012-01-03  New York City         29.8     40\n",
       "3  32211 2012-01-04  New York City         19.1     35\n",
       "4  32212 2012-01-05  New York City         31.7     48"
      ]
     },
     "execution_count": 65,
     "metadata": {},
     "output_type": "execute_result"
    }
   ],
   "source": [
    "dat6 = dat6.merge(dat7, on = 'Date')\n",
    "dat6.head()"
   ]
  },
  {
   "cell_type": "code",
   "execution_count": 66,
   "metadata": {
    "id": "PtBizxda9J3J"
   },
   "outputs": [],
   "source": [
    "dat6.to_csv('result5.csv', sep = '\\t')"
   ]
  },
  {
   "cell_type": "markdown",
   "metadata": {
    "id": "pR3e-0Ip9J3M"
   },
   "source": [
    "### Задача 10\n",
    "\n",
    "Вы могли заметить, что столбец `Temperature` всех предыдущих датафреймов содержит достаточно высокое значение. Это потому, что данные по температуре приведены для города Нью-Йорк, а в США принято измерять температуру в градусах Фаренгейта, а не Цельсия. Для перевода температуры из градусов Фаренгейта в градусы Цельсия используется следующая формула:\n",
    "\n",
    "$$\n",
    "T_C = (T_F-32)\\times5/9,\n",
    "$$\n",
    "\n",
    "где $T_F$ — температура в градусах Фаренгейта, а $T_C$ — температура в градусах Цельсия. \n",
    "\n",
    "Используя приведённую формулу, добавьте в объединённый датафрейм из предыдущей задачи новый столбец `Temperature_C`, содержащий температуру в градусах Цельсия. Данные по температуре в градусах Фаренгейта приведены в столбце `Temperature`. Полученный датафрейм сохраните в файл `result6.csv`."
   ]
  },
  {
   "cell_type": "code",
   "execution_count": 67,
   "metadata": {
    "id": "alj_4jOT9J3N"
   },
   "outputs": [],
   "source": [
    "dat6['Temperature_C'] = (dat6['Temperature'] - 32) * 5 / 9\n",
    "dat6.to_csv('result6.csv')"
   ]
  },
  {
   "cell_type": "markdown",
   "metadata": {
    "id": "RUJSa9th9J3P"
   },
   "source": [
    "### Задача 11\n",
    "\n",
    "Используя объединённый датафрейм из предыдущей задачи, постройте график Scatter зависимости продаж (столбец `Sales`) от температуры (столбец `Temperature_C`) с помощью библиотеки Matplotlib. Попробуйте сделать предположение о зависимости продаж от температуры. Как вы думаете, продажи какого товара приведены в датафрейме? Почему? (Ответ запишите в блоке ### YOUR COMMENTS HERE ###.)"
   ]
  },
  {
   "cell_type": "code",
   "execution_count": 75,
   "metadata": {
    "id": "fTljePy-9J3Q"
   },
   "outputs": [
    {
     "data": {
      "text/plain": [
       "[<matplotlib.lines.Line2D at 0x26382584fa0>]"
      ]
     },
     "execution_count": 75,
     "metadata": {},
     "output_type": "execute_result"
    },
    {
     "data": {
      "image/png": "[encoded data removed]",
      "text/plain": [
       "<Figure size 432x288 with 1 Axes>"
      ]
     },
     "metadata": {
      "needs_background": "light"
     },
     "output_type": "display_data"
    }
   ],
   "source": [
    "dat6 = dat6.sort_values('Temperature')\n",
    "plt.plot(dat6.loc[:,'Temperature'], dat6.loc[:,'Sales'])"
   ]
  },
  {
   "cell_type": "markdown",
   "metadata": {
    "id": "NR5HApYS9J3S"
   },
   "source": [
    "\\### Возможно это продажи кондиционеров, т.к. идет явный рост продаж при росте температуры ###"
   ]
  }
 ],
 "metadata": {
  "colab": {
   "collapsed_sections": [],
   "name": "Чтение и запись данных 1 - ДЗ.ipynb",
   "provenance": []
  },
  "kernelspec": {
   "display_name": "Python 3 (ipykernel)",
   "language": "python",
   "name": "python3"
  },
  "language_info": {
   "codemirror_mode": {
    "name": "ipython",
    "version": 3
   },
   "file_extension": ".py",
   "mimetype": "text/x-python",
   "name": "python",
   "nbconvert_exporter": "python",
   "pygments_lexer": "ipython3",
   "version": "3.9.7"
  }
 },
 "nbformat": 4,
 "nbformat_minor": 1
}
