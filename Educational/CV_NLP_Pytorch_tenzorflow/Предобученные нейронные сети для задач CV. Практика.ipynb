{
 "cells": [
  {
   "cell_type": "markdown",
   "metadata": {
    "id": "-G_B1SeZFZ9Z"
   },
   "source": [
    "## Цель ноутбука\n",
    "\n",
    "Познакомиться с подходом transfer learning для построения и обучения объёмных нейронных сетей. Воспользовавшись предобученной моделью [ResNet](https://pytorch.org/hub/pytorch_vision_resnet/), мы построим классификатор изображений с кошками и собаками на датасете [KaggleCatsAndDogs](https://www.microsoft.com/en-us/download/details.aspx?id=54765).\n",
    "\n",
    "Модель ResNet построена на свёртках. Эта матричная операция занимает много времени, будучи выполняемой на CPU. Архитектура CUDA позволяет существенно ускорить вычисление матричных операций благодаря параллельным вычислениям и использованию графических процессоров. Именно поэтому с этим ноутбуком лучше работать в Google Colab, так как он даёт возможность работы с видеокартой.\n",
    "\n",
    "### 1. Готовимся к работе.\n",
    "- Подключаем Google Drive.\n",
    "- Устанавливаем и импортируем необходимые библиотеки.\n",
    "- Извлекаем данные из архива."
   ]
  },
  {
   "cell_type": "code",
   "execution_count": null,
   "metadata": {
    "id": "gJaSaJ8TFrfL"
   },
   "outputs": [],
   "source": [
    "from google.colab import drive\n",
    "drive.mount('/content/drive')"
   ]
  },
  {
   "cell_type": "code",
   "execution_count": null,
   "metadata": {
    "id": "sTr8_mLwh2AG"
   },
   "outputs": [],
   "source": [
    "!pip install torchinfo\n",
    "!unzip \"/content/drive/MyDrive/Skillbox/ML Advanced/kagglecatsanddogs.zip\""
   ]
  },
  {
   "cell_type": "code",
   "execution_count": null,
   "metadata": {
    "id": "vNqL83I5h8LI"
   },
   "outputs": [],
   "source": [
    "import os\n",
    "from glob import glob\n",
    "import torch\n",
    "from torch import nn\n",
    "from torch.utils.data import Dataset, DataLoader, random_split\n",
    "from torchvision.transforms import ToTensor, Compose, Resize, Normalize, ToPILImage\n",
    "from PIL import Image\n",
    "from torchinfo import summary\n",
    "from torchvision import models"
   ]
  },
  {
   "cell_type": "markdown",
   "metadata": {
    "id": "4bjrAOWVFZ9e"
   },
   "source": [
    "### 2. Готовим датасет.\n",
    "- Описываем класс кастомного датасета, наследуясь от `torch.utils.data.Dataset`\n",
    "- Загружаем датасет и делим его на тренировочную и валидационную выборки.\n",
    "- Оборачиваем датасеты в DataLoader.\n",
    "\n",
    "Обратите внимание на то, что мы нормируем и центрируем наши данные не на (0.5, 0.5), а на заранее вычисленные среднее и корень из дисперсии изображений из датасета ImageNET. Так мы приближаем наши данные к тому, с чем училась работать модель ResNet. По этой же причине мы приводим все данные к размеру 224 × 224 пикселя."
   ]
  },
  {
   "cell_type": "code",
   "execution_count": null,
   "metadata": {
    "id": "80K3zoHrh8NZ"
   },
   "outputs": [],
   "source": [
    "class CatsDogsDataset(Dataset):\n",
    "    def __init__(self, datapath, transform=None):\n",
    "        super(CatsDogsDataset, self).__init__()\n",
    "        self.paths = []\n",
    "        self.labels = []\n",
    "\n",
    "        for y, cls in enumerate(['Cat', 'Dog']):\n",
    "            p_tmp = glob(os.path.join(datapath, 'PetImages', cls, '*.jpg'))\n",
    "            l_tmp = [y] * len(p_tmp)\n",
    "            self.paths.extend(p_tmp)\n",
    "            self.labels.extend(l_tmp)\n",
    "\n",
    "        self.transform = transform\n",
    "\n",
    "    def __len__(self):\n",
    "        return len(self.paths)\n",
    "\n",
    "    def __getitem__(self, idx):\n",
    "        img = Image.open(self.paths[idx])\n",
    "        label = self.labels[idx]\n",
    "\n",
    "        if self.transform is not None:\n",
    "            img = self.transform(img)\n",
    "\n",
    "        return img, label"
   ]
  },
  {
   "cell_type": "code",
   "execution_count": null,
   "metadata": {
    "colab": {
     "base_uri": "https://localhost:8080/",
     "height": 1000,
     "output_embedded_package_id": "1oLm5cSVujPRfzHZoYtyfYNT8q1sopssq"
    },
    "executionInfo": {
     "elapsed": 2393,
     "status": "ok",
     "timestamp": 1710070967185,
     "user": {
      "displayName": "Svetlana Gabdullina",
      "userId": "16740337351853078720"
     },
     "user_tz": -180
    },
    "id": "O9z-nMJXIvba",
    "outputId": "f954e47d-64ac-4606-a813-78d06c081c78"
   },
   "outputs": [
    {
     "data": {
      "text/plain": [
       "Output hidden; open in https://colab.research.google.com to view."
      ]
     },
     "metadata": {},
     "output_type": "display_data"
    }
   ],
   "source": [
    "dataset = CatsDogsDataset('/content/kagglecatsanddogs')\n",
    "for i in range(10):\n",
    "    display(dataset[i][0])\n",
    "    display(dataset[-i][0])"
   ]
  },
  {
   "cell_type": "code",
   "execution_count": null,
   "metadata": {
    "id": "ChQy2gPTh8Py"
   },
   "outputs": [],
   "source": [
    "transform = Compose([\n",
    "    ToTensor(),\n",
    "    Resize((224, 224)),\n",
    "    Normalize([0.485, 0.456, 0.406], [0.229, 0.224, 0.225])\n",
    "])\n",
    "\n",
    "dataset = CatsDogsDataset('/content/kagglecatsanddogs', transform=transform)\n",
    "\n",
    "random_generator = torch.Generator().manual_seed(42)\n",
    "train_dataset, val_dataset = random_split(dataset, [0.8, 0.2], generator=random_generator)\n",
    "print(len(train_dataset), len(val_dataset))\n",
    "\n",
    "train_loader = DataLoader(train_dataset, batch_size=200, shuffle=True)\n",
    "val_loader = DataLoader(val_dataset, batch_size=1000)"
   ]
  },
  {
   "cell_type": "markdown",
   "metadata": {
    "id": "s_rvUZirFZ9e"
   },
   "source": [
    "### 3. Собираем модель.\n",
    "- Скачиваем веса обученной модели ResNet, например resnet-50.\n",
    "- Замораживаем параметры модели путём отключения для них процесса вычисления градиентов и обновления весов.\n",
    "- Меняем последний слой под задачу бинарной классификации.\n",
    "\n",
    "Для задачи бинарной классификации мы выберем бинарную кросс-энтропию в качестве лосса — [BCELoss](https://pytorch.org/docs/stable/generated/torch.nn.BCELoss.html). В отличие от CrossEntropyLoss, BCELoss ожидает на вход именно вероятность принадлежности семпла к целевому классу. Именно поэтому нам обязательно нужно применить сигмоиду к выходу линейного слоя."
   ]
  },
  {
   "cell_type": "code",
   "execution_count": null,
   "metadata": {
    "id": "o2M6dQqyh8SF"
   },
   "outputs": [],
   "source": [
    "resnet = models.resnet50(weights=models.ResNet50_Weights.DEFAULT)\n",
    "summary(resnet, input_size=(1, 3, 224, 224))"
   ]
  },
  {
   "cell_type": "code",
   "execution_count": null,
   "metadata": {
    "id": "bcs_ZQDeGfI8"
   },
   "outputs": [],
   "source": [
    "for param in resnet.parameters():\n",
    "    param.requires_grad = False\n",
    "\n",
    "fc_inputs = resnet.fc.in_features # 2048\n",
    "resnet.fc = nn.Sequential(\n",
    "    nn.Linear(fc_inputs, 1),\n",
    "    nn.Sigmoid()\n",
    ")"
   ]
  },
  {
   "cell_type": "markdown",
   "metadata": {
    "id": "uHEL561OFZ9f"
   },
   "source": [
    "### 4. Обучаем модель и сохраняем веса.\n",
    "Пишем функции `train()` и `validate()`. Здесь добавится новый аргумент функций — `device`, так как мы хотим работать с моделью на GPU, но должны иметь возможность запустить её также и на CPU.\n",
    "\n",
    "Когда вы запускаете долгое обучение модели, обязательно предусмотрите периодическое сохранение весов. В нашем случае обучение может занять до получаса, и допустимо сохранить веса только в конце. При этом важно, чтобы ячейка с сохранением была запущена сразу же с обучением и ждала своей очереди на выполнение. Иначе можно потерять все результаты, так как Google Colab заберёт у вас видеокарту и отключит ядро в случае бездействия. По этой же причине нужно сохранять веса именно на Google Drive."
   ]
  },
  {
   "cell_type": "code",
   "execution_count": null,
   "metadata": {
    "id": "cebVBfInh8UT"
   },
   "outputs": [],
   "source": [
    "def train(model, optimizer, loss_f, train_loader, val_loader, n_epoch, val_fre, device):\n",
    "    model = model.to(device)\n",
    "    model.train()\n",
    "    for epoch in range(n_epoch):\n",
    "        loss_sum = 0\n",
    "        print(f'Epoch: {epoch}')\n",
    "        for step, (data, target) in enumerate(train_loader):\n",
    "            target = target.to(torch.float32)\n",
    "            data, target = data.to(device), target.to(device)\n",
    "            optimizer.zero_grad()\n",
    "            output = model(data).squeeze(1)\n",
    "            loss = loss_f(output, target)\n",
    "            loss.backward()\n",
    "            optimizer.step()\n",
    "\n",
    "            loss_sum += loss.item()\n",
    "\n",
    "            if step % 10 == 0:\n",
    "                print(f'Iter: {step} \\tLoss: {loss.item()}')\n",
    "\n",
    "        print(f'Mean Train Loss: {loss_sum / (step + 1):.6f}', end='\\n\\n')\n",
    "\n",
    "        if epoch % val_fre == 0:\n",
    "            validate(model, val_loader, device)\n",
    "\n",
    "def validate(model, val_loader, device):\n",
    "    model = model.to(device)\n",
    "    model.eval()\n",
    "    loss_sum = 0\n",
    "    correct = 0\n",
    "    for step, (data, target) in enumerate(val_loader):\n",
    "        target = target.to(torch.float32)\n",
    "        data, target = data.to(device), target.to(device)\n",
    "        with torch.no_grad():\n",
    "            output = model(data).squeeze(1)\n",
    "            loss = loss_f(output, target)\n",
    "        loss_sum += loss.item()\n",
    "        pred = torch.round(output)\n",
    "        correct += pred.eq(target.view_as(pred)).sum().item()\n",
    "    acc = correct / len(val_loader.dataset)\n",
    "    print(f'Val Loss: {loss_sum / (step + 1):.6f} \\tAccuracy: {acc}')\n",
    "    model.train()"
   ]
  },
  {
   "cell_type": "code",
   "execution_count": null,
   "metadata": {
    "id": "l0wJFy39h8WS",
    "scrolled": true
   },
   "outputs": [],
   "source": [
    "loss_f = nn.BCELoss()\n",
    "optimizer = torch.optim.SGD(resnet.parameters(), lr=1e-3)\n",
    "\n",
    "n_epoch = 10\n",
    "val_fre = 1\n",
    "\n",
    "device = 'cuda'\n",
    "\n",
    "# train(resnet, optimizer, loss_f, train_loader, val_loader, n_epoch, val_fre, device)\n",
    "# torch.save(resnet.fc.state_dict(), '/content/drive/MyDrive/Skillbox/ML Advanced/resnet_fc.pth')\n",
    "resnet.fc.load_state_dict(torch.load('/content/drive/MyDrive/Skillbox/ML Advanced/resnet_fc.pth'))\n",
    "\n",
    "validate(resnet, val_loader, device)"
   ]
  },
  {
   "cell_type": "code",
   "execution_count": null,
   "metadata": {
    "id": "iaP2vPuIMcsu"
   },
   "outputs": [],
   "source": []
  }
 ],
 "metadata": {
  "accelerator": "GPU",
  "colab": {
   "gpuType": "T4",
   "provenance": []
  },
  "kernelspec": {
   "display_name": "Python 3 (ipykernel)",
   "language": "python",
   "name": "python3"
  },
  "language_info": {
   "codemirror_mode": {
    "name": "ipython",
    "version": 3
   },
   "file_extension": ".py",
   "mimetype": "text/x-python",
   "name": "python",
   "nbconvert_exporter": "python",
   "pygments_lexer": "ipython3",
   "version": "3.12.4"
  }
 },
 "nbformat": 4,
 "nbformat_minor": 4
}
