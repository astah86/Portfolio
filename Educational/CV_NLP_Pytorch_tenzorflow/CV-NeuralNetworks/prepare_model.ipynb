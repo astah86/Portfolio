{
 "cells": [
  {
   "cell_type": "markdown",
   "id": "003d3879",
   "metadata": {},
   "source": [
    "# Подготовка модели распознавания рукописных букв и цифр"
   ]
  },
  {
   "cell_type": "code",
   "execution_count": 3,
   "id": "6fd87151-6cf5-40aa-ab38-8e79056934a1",
   "metadata": {},
   "outputs": [],
   "source": [
    "import os\n",
    "import pickle\n",
    "import emnist\n",
    "import matplotlib.pyplot as plt\n",
    "import numpy as np\n",
    "import seaborn as sns\n",
    "import sklearn\n",
    "import cv2\n",
    "import torch\n",
    "from torch import nn\n",
    "from torchvision.transforms import ToTensor, Compose, Resize, Normalize\n",
    "from torchvision.datasets import EMNIST\n",
    "from torch.utils.data import DataLoader\n",
    "from PIL import Image\n",
    "from torchinfo import summary"
   ]
  },
  {
   "cell_type": "code",
   "execution_count": 5,
   "id": "6215c2bb-455c-4ffb-8301-b02ee57d891e",
   "metadata": {},
   "outputs": [],
   "source": [
    "def converting (symbol):\n",
    "    if symbol < 10:\n",
    "        symbol = symbol + 48\n",
    "    elif symbol < 36:\n",
    "        symbol = symbol + 55\n",
    "    elif symbol < 38: \n",
    "        symbol = symbol + 61\n",
    "    elif symbol < 43: \n",
    "        symbol = symbol + 62\n",
    "    elif symbol < 44: \n",
    "        symbol = symbol + 67\n",
    "    elif symbol < 46: \n",
    "        symbol = symbol + 69\n",
    "    else:\n",
    "        symbol = symbol + 70\n",
    "\n",
    "    return chr(symbol)"
   ]
  },
  {
   "cell_type": "code",
   "execution_count": 263,
   "id": "79400984-28ba-41a4-bf50-b8651a83dfc9",
   "metadata": {},
   "outputs": [
    {
     "data": {
      "text/plain": [
       "Dataset EMNIST\n",
       "    Number of datapoints: 112800\n",
       "    Root location: data/\n",
       "    Split: Train"
      ]
     },
     "execution_count": 263,
     "metadata": {},
     "output_type": "execute_result"
    }
   ],
   "source": [
    "dataset = EMNIST('data/', 'balanced', download=False)\n",
    "dataset"
   ]
  },
  {
   "cell_type": "code",
   "execution_count": 267,
   "id": "c7866108-ac21-40b3-8631-19eaadff104e",
   "metadata": {},
   "outputs": [
    {
     "name": "stdout",
     "output_type": "stream",
     "text": [
      "r (28, 28)\n"
     ]
    },
    {
     "data": {
      "image/jpeg": "[encoded data removed]",
      "image/png": "[encoded data removed]",
      "text/plain": [
       "<PIL.Image.Image image mode=L size=28x28>"
      ]
     },
     "metadata": {},
     "output_type": "display_data"
    },
    {
     "name": "stdout",
     "output_type": "stream",
     "text": [
      "a (28, 28)\n"
     ]
    },
    {
     "data": {
      "image/jpeg": "[encoded data removed]",
      "image/png": "[encoded data removed]",
      "text/plain": [
       "<PIL.Image.Image image mode=L size=28x28>"
      ]
     },
     "metadata": {},
     "output_type": "display_data"
    },
    {
     "name": "stdout",
     "output_type": "stream",
     "text": [
      "n (28, 28)\n"
     ]
    },
    {
     "data": {
      "image/jpeg": "[encoded data removed]",
      "image/png": "[encoded data removed]",
      "text/plain": [
       "<PIL.Image.Image image mode=L size=28x28>"
      ]
     },
     "metadata": {},
     "output_type": "display_data"
    },
    {
     "name": "stdout",
     "output_type": "stream",
     "text": [
      "F (28, 28)\n"
     ]
    },
    {
     "data": {
      "image/jpeg": "[encoded data removed]",
      "image/png": "[encoded data removed]",
      "text/plain": [
       "<PIL.Image.Image image mode=L size=28x28>"
      ]
     },
     "metadata": {},
     "output_type": "display_data"
    },
    {
     "name": "stdout",
     "output_type": "stream",
     "text": [
      "4 (28, 28)\n"
     ]
    },
    {
     "data": {
      "image/jpeg": "[encoded data removed]",
      "image/png": "[encoded data removed]",
      "text/plain": [
       "<PIL.Image.Image image mode=L size=28x28>"
      ]
     },
     "metadata": {},
     "output_type": "display_data"
    },
    {
     "name": "stdout",
     "output_type": "stream",
     "text": [
      "h (28, 28)\n"
     ]
    },
    {
     "data": {
      "image/jpeg": "[encoded data removed]",
      "image/png": "[encoded data removed]",
      "text/plain": [
       "<PIL.Image.Image image mode=L size=28x28>"
      ]
     },
     "metadata": {},
     "output_type": "display_data"
    },
    {
     "name": "stdout",
     "output_type": "stream",
     "text": [
      "Q (28, 28)\n"
     ]
    },
    {
     "data": {
      "image/jpeg": "[encoded data removed]",
      "image/png": "[encoded data removed]",
      "text/plain": [
       "<PIL.Image.Image image mode=L size=28x28>"
      ]
     },
     "metadata": {},
     "output_type": "display_data"
    },
    {
     "name": "stdout",
     "output_type": "stream",
     "text": [
      "W (28, 28)\n"
     ]
    },
    {
     "data": {
      "image/jpeg": "[encoded data removed]",
      "image/png": "[encoded data removed]",
      "text/plain": [
       "<PIL.Image.Image image mode=L size=28x28>"
      ]
     },
     "metadata": {},
     "output_type": "display_data"
    },
    {
     "name": "stdout",
     "output_type": "stream",
     "text": [
      "K (28, 28)\n"
     ]
    },
    {
     "data": {
      "image/jpeg": "[encoded data removed]",
      "image/png": "[encoded data removed]",
      "text/plain": [
       "<PIL.Image.Image image mode=L size=28x28>"
      ]
     },
     "metadata": {},
     "output_type": "display_data"
    },
    {
     "name": "stdout",
     "output_type": "stream",
     "text": [
      "1 (28, 28)\n"
     ]
    },
    {
     "data": {
      "image/jpeg": "[encoded data removed]",
      "image/png": "[encoded data removed]",
      "text/plain": [
       "<PIL.Image.Image image mode=L size=28x28>"
      ]
     },
     "metadata": {},
     "output_type": "display_data"
    }
   ],
   "source": [
    "for i in range(10):\n",
    "    img, lbl = dataset[i]\n",
    "    print(converting(lbl), img.size)\n",
    "    display(img.transpose(method=Image.TRANSPOSE))"
   ]
  },
  {
   "cell_type": "markdown",
   "id": "06da4053-7a2e-4a4d-8690-0ae147ed62c1",
   "metadata": {},
   "source": [
    "# 1 version"
   ]
  },
  {
   "cell_type": "markdown",
   "id": "22e69c44-0f19-4f24-9647-c7084d8a914f",
   "metadata": {},
   "source": [
    "Попробуем простую модель из одного линейного слоя"
   ]
  },
  {
   "cell_type": "code",
   "execution_count": 7,
   "id": "f80b422f-27c6-49c9-94f7-f4eccd9bc823",
   "metadata": {},
   "outputs": [],
   "source": [
    "transform = Compose([\n",
    "    ToTensor(),\n",
    "    Normalize([0.5], [0.5])\n",
    "])\n",
    "\n",
    "train_dataset = EMNIST('data/', 'balanced', download=False, transform=transform)\n",
    "val_dataset = EMNIST('data/', 'balanced', download=False, train=False, transform=transform)\n",
    "\n",
    "train_loader = DataLoader(train_dataset, batch_size=1000, shuffle=True)\n",
    "val_loader = DataLoader(val_dataset, batch_size=1000)"
   ]
  },
  {
   "cell_type": "code",
   "execution_count": 31,
   "id": "d6e1780d-e107-469e-b0cc-b4b83da5e135",
   "metadata": {},
   "outputs": [],
   "source": [
    "class LogReg(nn.Module):\n",
    "    def __init__(self, in_features, n_classes):\n",
    "        super(LogReg, self).__init__()\n",
    "        self.fc = nn.Linear(in_features, n_classes)\n",
    "\n",
    "    def forward(self, x):\n",
    "        return self.fc(x)"
   ]
  },
  {
   "cell_type": "code",
   "execution_count": 50,
   "id": "5b3fe4cb-8f11-4ece-9399-7955cbd70c00",
   "metadata": {},
   "outputs": [
    {
     "name": "stdout",
     "output_type": "stream",
     "text": [
      "Epoch: 0 \tLoss: 2.051472\n",
      "Epoch: 1 \tLoss: 1.443084\n",
      "Epoch: 2 \tLoss: 1.331690\n",
      "Epoch: 3 \tLoss: 1.274793\n",
      "Epoch: 4 \tLoss: 1.239362\n",
      "Epoch: 5 \tLoss: 1.215182\n",
      "Epoch: 6 \tLoss: 1.195533\n",
      "Epoch: 7 \tLoss: 1.182575\n",
      "Epoch: 8 \tLoss: 1.170163\n",
      "Epoch: 9 \tLoss: 1.160444\n",
      "Val Loss: 1.199963 \tAccuracy: 0.6693085106382979\n",
      "Epoch: 10 \tLoss: 1.152815\n",
      "Epoch: 11 \tLoss: 1.145763\n",
      "Epoch: 12 \tLoss: 1.138802\n",
      "Epoch: 13 \tLoss: 1.134246\n",
      "Epoch: 14 \tLoss: 1.128831\n",
      "Epoch: 15 \tLoss: 1.123492\n",
      "Epoch: 16 \tLoss: 1.120272\n",
      "Epoch: 17 \tLoss: 1.117231\n",
      "Epoch: 18 \tLoss: 1.113529\n",
      "Epoch: 19 \tLoss: 1.110341\n",
      "Val Loss: 1.163621 \tAccuracy: 0.6823936170212765\n",
      "Epoch: 20 \tLoss: 1.107762\n",
      "Epoch: 21 \tLoss: 1.104937\n",
      "Epoch: 22 \tLoss: 1.101991\n",
      "Epoch: 23 \tLoss: 1.100299\n",
      "Epoch: 24 \tLoss: 1.098150\n",
      "Epoch: 25 \tLoss: 1.095890\n",
      "Epoch: 26 \tLoss: 1.093700\n",
      "Epoch: 27 \tLoss: 1.092410\n",
      "Epoch: 28 \tLoss: 1.091308\n",
      "Epoch: 29 \tLoss: 1.089684\n",
      "Val Loss: 1.149731 \tAccuracy: 0.6848404255319149\n",
      "Epoch: 30 \tLoss: 1.087789\n",
      "Epoch: 31 \tLoss: 1.086435\n",
      "Epoch: 32 \tLoss: 1.084968\n",
      "Epoch: 33 \tLoss: 1.084206\n",
      "Epoch: 34 \tLoss: 1.082555\n",
      "Epoch: 35 \tLoss: 1.081216\n",
      "Epoch: 36 \tLoss: 1.079970\n",
      "Epoch: 37 \tLoss: 1.078079\n",
      "Epoch: 38 \tLoss: 1.077989\n",
      "Epoch: 39 \tLoss: 1.076603\n",
      "Val Loss: 1.146864 \tAccuracy: 0.6872340425531915\n",
      "Epoch: 40 \tLoss: 1.075700\n",
      "Epoch: 41 \tLoss: 1.074386\n",
      "Epoch: 42 \tLoss: 1.074036\n",
      "Epoch: 43 \tLoss: 1.072788\n",
      "Epoch: 44 \tLoss: 1.071827\n",
      "Epoch: 45 \tLoss: 1.070893\n",
      "Epoch: 46 \tLoss: 1.069830\n",
      "Epoch: 47 \tLoss: 1.069050\n",
      "Epoch: 48 \tLoss: 1.068236\n",
      "Epoch: 49 \tLoss: 1.067792\n",
      "Val Loss: 1.142313 \tAccuracy: 0.6886702127659574\n"
     ]
    }
   ],
   "source": [
    "model = LogReg(in_features=28*28, n_classes=47)\n",
    "loss_f = nn.CrossEntropyLoss()\n",
    "\n",
    "optimizer = torch.optim.SGD(model.parameters(), lr=1e-1)\n",
    "\n",
    "n_epoch = 50\n",
    "val_fre = 10\n",
    "\n",
    "model.train()\n",
    "for epoch in range(n_epoch):\n",
    "    loss_sum = 0\n",
    "    for step, (data, target) in enumerate(train_loader):\n",
    "        data = data.flatten(start_dim=1)\n",
    "        optimizer.zero_grad()\n",
    "        output = model(data)\n",
    "        loss = loss_f(output, target)\n",
    "        loss.backward()\n",
    "        optimizer.step()\n",
    "\n",
    "        loss_sum += loss.item()\n",
    "\n",
    "    print(f'Epoch: {epoch} \\tLoss: {loss_sum / (step + 1):.6f}')\n",
    "\n",
    "    if (epoch+1) % val_fre == 0:\n",
    "        model.eval()\n",
    "        loss_sum = 0\n",
    "        correct = 0\n",
    "        for step, (data, target) in enumerate(val_loader):\n",
    "            data = data.flatten(start_dim=1)\n",
    "            with torch.no_grad():\n",
    "                output = model(data)\n",
    "                loss = loss_f(output, target)\n",
    "            loss_sum += loss.item()\n",
    "            pred = output.argmax(dim=1, keepdim=True)\n",
    "            correct += pred.eq(target.view_as(pred)).sum().item()\n",
    "        acc = correct / len(val_loader.dataset)\n",
    "        print(f'Val Loss: {loss_sum / (step + 1):.6f} \\tAccuracy: {acc}')\n",
    "        model.train()"
   ]
  },
  {
   "cell_type": "markdown",
   "id": "e0369b02-69ad-432d-87e3-34230ae04357",
   "metadata": {},
   "source": [
    "Точность модели недостаточная"
   ]
  },
  {
   "cell_type": "markdown",
   "id": "ab03767e-989a-4116-9f8d-47d2a5358c3d",
   "metadata": {},
   "source": [
    "# 2 version"
   ]
  },
  {
   "cell_type": "markdown",
   "id": "c5d137d3-9bf4-4daa-bf7b-c3365b3894fd",
   "metadata": {},
   "source": [
    "Добавим второй линейный слой"
   ]
  },
  {
   "cell_type": "code",
   "execution_count": 33,
   "id": "28b70751-ef76-44b5-8722-34308e16242a",
   "metadata": {},
   "outputs": [
    {
     "name": "stdout",
     "output_type": "stream",
     "text": [
      "MLP(\n",
      "  (fc1): Linear(in_features=784, out_features=45, bias=True)\n",
      "  (relu): ReLU()\n",
      "  (fc2): Linear(in_features=45, out_features=47, bias=True)\n",
      ")\n",
      "Epoch: 0 \tLoss: 2.607973\n",
      "Val Loss: 1.720239 \tAccuracy: 0.5463829787234042\n",
      "Epoch: 1 \tLoss: 1.507018\n",
      "Epoch: 2 \tLoss: 1.322468\n",
      "Epoch: 3 \tLoss: 1.242596\n",
      "Epoch: 4 \tLoss: 1.188235\n",
      "Epoch: 5 \tLoss: 1.144420\n",
      "Epoch: 6 \tLoss: 1.107208\n",
      "Epoch: 7 \tLoss: 1.072965\n",
      "Epoch: 8 \tLoss: 1.040199\n",
      "Epoch: 9 \tLoss: 1.011349\n",
      "Epoch: 10 \tLoss: 0.981901\n",
      "Val Loss: 1.005871 \tAccuracy: 0.7139893617021277\n",
      "Epoch: 11 \tLoss: 0.956062\n",
      "Epoch: 12 \tLoss: 0.929783\n",
      "Epoch: 13 \tLoss: 0.908262\n",
      "Epoch: 14 \tLoss: 0.885797\n",
      "Epoch: 15 \tLoss: 0.864728\n",
      "Epoch: 16 \tLoss: 0.847744\n",
      "Epoch: 17 \tLoss: 0.829077\n",
      "Epoch: 18 \tLoss: 0.815442\n",
      "Epoch: 19 \tLoss: 0.800696\n",
      "Val Loss: 0.850914 \tAccuracy: 0.7526595744680851\n"
     ]
    }
   ],
   "source": [
    "def train(model, optimizer, loss_f, train_loader, val_loader, n_epoch, val_fre):\n",
    "    model.train()\n",
    "    for epoch in range(n_epoch):\n",
    "        loss_sum = 0\n",
    "        for step, (data, target) in enumerate(train_loader):\n",
    "            data = data.flatten(start_dim=1)\n",
    "            optimizer.zero_grad()\n",
    "            output = model(data)\n",
    "            loss = loss_f(output, target)\n",
    "            loss.backward()\n",
    "            optimizer.step()\n",
    "\n",
    "            loss_sum += loss.item()\n",
    "\n",
    "        print(f'Epoch: {epoch} \\tLoss: {loss_sum / (step + 1):.6f}')\n",
    "\n",
    "        if epoch % val_fre == 0:\n",
    "            validate(model, val_loader)\n",
    "\n",
    "def validate(model, val_loader):\n",
    "    model.eval()\n",
    "    loss_sum = 0\n",
    "    correct = 0\n",
    "    for step, (data, target) in enumerate(val_loader):\n",
    "        data = data.flatten(start_dim=1)\n",
    "        with torch.no_grad():\n",
    "            output = model(data)\n",
    "            loss = loss_f(output, target)\n",
    "        loss_sum += loss.item()\n",
    "        pred = output.argmax(dim=1, keepdim=True)\n",
    "        correct += pred.eq(target.view_as(pred)).sum().item()\n",
    "    acc = correct / len(val_loader.dataset)\n",
    "    print(f'Val Loss: {loss_sum / (step + 1):.6f} \\tAccuracy: {acc}')\n",
    "    model.train()\n",
    "\n",
    "class MLP(nn.Module):\n",
    "    def __init__(self, in_features, hid_features, n_classes):\n",
    "        super(MLP, self).__init__()\n",
    "        self.fc1 = nn.Linear(in_features, hid_features)\n",
    "        self.relu = nn.ReLU()\n",
    "        self.fc2 = nn.Linear(hid_features, n_classes)\n",
    "\n",
    "    def forward(self, x):\n",
    "        x = self.fc1(x)\n",
    "        x = self.relu(x)\n",
    "        x = self.fc2(x)\n",
    "        return x\n",
    "\n",
    "model_mlp = MLP(in_features=28*28, hid_features=2^47, n_classes=47)\n",
    "print(model_mlp)\n",
    "loss_f = nn.CrossEntropyLoss()\n",
    "optimizer = torch.optim.SGD(model_mlp.parameters(), lr=1e-1)\n",
    "\n",
    "n_epoch = 20\n",
    "val_fre = 10\n",
    "\n",
    "train(model_mlp, optimizer, loss_f, train_loader, val_loader, n_epoch, val_fre)\n",
    "validate(model_mlp, val_loader)"
   ]
  },
  {
   "cell_type": "markdown",
   "id": "c019a14c-609a-4d41-8107-a513370f4274",
   "metadata": {},
   "source": [
    "Результат получился значительно лучше, но цель недостигнута"
   ]
  },
  {
   "cell_type": "markdown",
   "id": "b1e15285-a59c-4a6e-9e9b-431fa0695ad8",
   "metadata": {},
   "source": [
    "# 3 version"
   ]
  },
  {
   "cell_type": "markdown",
   "id": "297868af-6ff7-4835-9861-429291bb8207",
   "metadata": {},
   "source": [
    "Добавим сверточные слои"
   ]
  },
  {
   "cell_type": "code",
   "execution_count": 105,
   "id": "2d062de5-11ee-4eb6-b5a9-d35d83a39369",
   "metadata": {},
   "outputs": [
    {
     "name": "stdout",
     "output_type": "stream",
     "text": [
      "MLP(\n",
      "  (conv1): Conv2d(1, 32, kernel_size=(1, 1), stride=(1, 1))\n",
      "  (conv2): Conv2d(32, 64, kernel_size=(1, 1), stride=(1, 1))\n",
      "  (fc1): Linear(in_features=3136, out_features=45, bias=True)\n",
      "  (relu): ReLU()\n",
      "  (fc2): Linear(in_features=45, out_features=47, bias=True)\n",
      ")\n",
      "Epoch: 0 \tLoss: 3.584606\n",
      "Val Loss: 2.711091 \tAccuracy: 0.2873404255319149\n",
      "Epoch: 1 \tLoss: 1.930190\n",
      "Epoch: 2 \tLoss: 1.455408\n",
      "Epoch: 3 \tLoss: 1.314292\n",
      "Epoch: 4 \tLoss: 1.228303\n",
      "Epoch: 5 \tLoss: 1.162551\n",
      "Epoch: 6 \tLoss: 1.109569\n",
      "Epoch: 7 \tLoss: 1.067838\n",
      "Epoch: 8 \tLoss: 1.040284\n",
      "Epoch: 9 \tLoss: 1.000452\n",
      "Epoch: 10 \tLoss: 0.971190\n",
      "Val Loss: 0.976999 \tAccuracy: 0.7079255319148936\n",
      "Epoch: 11 \tLoss: 0.942609\n",
      "Epoch: 12 \tLoss: 0.924762\n",
      "Epoch: 13 \tLoss: 0.912016\n",
      "Epoch: 14 \tLoss: 0.887587\n",
      "Epoch: 15 \tLoss: 0.871460\n",
      "Epoch: 16 \tLoss: 0.857944\n",
      "Epoch: 17 \tLoss: 0.847320\n",
      "Epoch: 18 \tLoss: 0.839078\n",
      "Epoch: 19 \tLoss: 0.828477\n",
      "Val Loss: 0.869244 \tAccuracy: 0.7370212765957447\n"
     ]
    }
   ],
   "source": [
    "\n",
    "\n",
    "def train(model, optimizer, loss_f, train_loader, val_loader, n_epoch, val_fre):\n",
    "    model.train()\n",
    "    for epoch in range(n_epoch):\n",
    "        loss_sum = 0\n",
    "        for step, (data, target) in enumerate(train_loader):\n",
    "            \n",
    "            optimizer.zero_grad()\n",
    "            output = model(data).squeeze(1)\n",
    "            \n",
    "            loss = loss_f(output, target)\n",
    "            loss.backward()\n",
    "            optimizer.step()\n",
    "\n",
    "            loss_sum += loss.item()\n",
    "\n",
    "        print(f'Epoch: {epoch} \\tLoss: {loss_sum / (step + 1):.6f}')\n",
    "\n",
    "        if epoch % val_fre == 0:\n",
    "            validate(model, val_loader)\n",
    "\n",
    "def validate(model, val_loader):\n",
    "    model.eval()\n",
    "    loss_sum = 0\n",
    "    correct = 0\n",
    "    for step, (data, target) in enumerate(val_loader):\n",
    "        \n",
    "        with torch.no_grad():\n",
    "            output = model(data).squeeze(1)\n",
    "            loss = loss_f(output, target)\n",
    "        loss_sum += loss.item()\n",
    "        pred = output.argmax(dim=1, keepdim=True)\n",
    "        correct += pred.eq(target.view_as(pred)).sum().item()\n",
    "    acc = correct / len(val_loader.dataset)\n",
    "    print(f'Val Loss: {loss_sum / (step + 1):.6f} \\tAccuracy: {acc}')\n",
    "    model.train()\n",
    "\n",
    "\n",
    "\n",
    "class MLP(nn.Module):\n",
    "    def __init__(self, hid_features, n_classes):\n",
    "        super(MLP, self).__init__()\n",
    "        self.conv1 = nn.Conv2d(1, 32, 1)\n",
    "        self.conv2 = nn.Conv2d(32, 64, 1)\n",
    "        \n",
    "        self.fc1 = nn.Linear(64*7*7, hid_features)\n",
    "        self.relu = nn.ReLU()\n",
    "        \n",
    "        self.fc2 = nn.Linear(hid_features, n_classes)\n",
    "\n",
    "    def forward(self, x):\n",
    "       \n",
    "        x = self.conv1(x)\n",
    "        x = self.relu(x)\n",
    "        x = nn.functional.max_pool2d(x, 2)\n",
    "        x = self.conv2(x)\n",
    "        x = self.relu(x)\n",
    "        x = nn.functional.max_pool2d(x, 2)   \n",
    "        x = x.view(-1, 64 * 7 * 7)\n",
    "        x = self.fc1(x)\n",
    "        x = self.relu(x)\n",
    "        x = self.fc2(x)\n",
    "        return x\n",
    "\n",
    "model_mlp = MLP( hid_features=2^47, n_classes=47)\n",
    "print(model_mlp)\n",
    "loss_f = nn.CrossEntropyLoss()\n",
    "optimizer = torch.optim.SGD(model_mlp.parameters(), lr=1e-1)\n",
    "\n",
    "n_epoch = 20\n",
    "val_fre = 10\n",
    "\n",
    "train(model_mlp, optimizer, loss_f, train_loader, val_loader, n_epoch, val_fre)\n",
    "validate(model_mlp, val_loader)"
   ]
  },
  {
   "cell_type": "markdown",
   "id": "a6e1fa13-da23-4cf3-a438-972a38b57044",
   "metadata": {},
   "source": [
    "Результат улучшить не удалось"
   ]
  },
  {
   "cell_type": "markdown",
   "id": "d511f64b-9add-4375-b5f3-2d8a6275f7e4",
   "metadata": {},
   "source": [
    "# 4 Version"
   ]
  },
  {
   "cell_type": "markdown",
   "id": "7ff99505-5233-45db-adfe-58c3897ec6da",
   "metadata": {},
   "source": [
    "Добавим батч-нормализацию и макспулинг"
   ]
  },
  {
   "cell_type": "code",
   "execution_count": 110,
   "id": "b2cdfae9-bfec-44f9-bf43-03f8179cb7a1",
   "metadata": {},
   "outputs": [
    {
     "name": "stdout",
     "output_type": "stream",
     "text": [
      "MLP(\n",
      "  (layer1): Sequential(\n",
      "    (0): Conv2d(1, 32, kernel_size=(3, 3), stride=(1, 1), padding=(1, 1))\n",
      "    (1): BatchNorm2d(32, eps=1e-05, momentum=0.1, affine=True, track_running_stats=True)\n",
      "    (2): ReLU()\n",
      "    (3): MaxPool2d(kernel_size=2, stride=2, padding=0, dilation=1, ceil_mode=False)\n",
      "  )\n",
      "  (layer2): Sequential(\n",
      "    (0): Conv2d(32, 64, kernel_size=(3, 3), stride=(1, 1))\n",
      "    (1): BatchNorm2d(64, eps=1e-05, momentum=0.1, affine=True, track_running_stats=True)\n",
      "    (2): ReLU()\n",
      "    (3): MaxPool2d(kernel_size=2, stride=2, padding=0, dilation=1, ceil_mode=False)\n",
      "  )\n",
      "  (fc1): Linear(in_features=2304, out_features=3000, bias=True)\n",
      "  (drop): Dropout2d(p=0.25, inplace=False)\n",
      "  (fc2): Linear(in_features=3000, out_features=600, bias=True)\n",
      "  (fc3): Linear(in_features=600, out_features=47, bias=True)\n",
      ")\n"
     ]
    },
    {
     "name": "stderr",
     "output_type": "stream",
     "text": [
      "C:\\Users\\Msi-1\\anaconda3\\Lib\\site-packages\\torch\\nn\\functional.py:1374: UserWarning: dropout2d: Received a 2-D input to dropout2d, which is deprecated and will result in an error in a future release. To retain the behavior and silence this warning, please use dropout instead. Note that dropout2d exists to provide channel-wise dropout on inputs with 2 spatial dimensions, a channel dimension, and an optional batch dimension (i.e. 3D or 4D inputs).\n",
      "  warnings.warn(warn_msg)\n"
     ]
    },
    {
     "name": "stdout",
     "output_type": "stream",
     "text": [
      "Epoch: 0 \tLoss: 1.162711\n",
      "Val Loss: 0.654232 \tAccuracy: 0.7924468085106383\n",
      "Epoch: 1 \tLoss: 0.560543\n",
      "Epoch: 2 \tLoss: 0.488813\n",
      "Epoch: 3 \tLoss: 0.454339\n",
      "Epoch: 4 \tLoss: 0.436435\n",
      "Epoch: 5 \tLoss: 0.412805\n",
      "Epoch: 6 \tLoss: 0.396634\n",
      "Epoch: 7 \tLoss: 0.382840\n",
      "Epoch: 8 \tLoss: 0.372654\n",
      "Epoch: 9 \tLoss: 0.365446\n",
      "Epoch: 10 \tLoss: 0.355684\n",
      "Val Loss: 0.408625 \tAccuracy: 0.8633510638297872\n",
      "Epoch: 11 \tLoss: 0.347033\n",
      "Epoch: 12 \tLoss: 0.340145\n",
      "Epoch: 13 \tLoss: 0.334208\n",
      "Epoch: 14 \tLoss: 0.326531\n",
      "Epoch: 15 \tLoss: 0.321561\n",
      "Epoch: 16 \tLoss: 0.315878\n",
      "Epoch: 17 \tLoss: 0.307617\n",
      "Epoch: 18 \tLoss: 0.305559\n",
      "Epoch: 19 \tLoss: 0.298119\n",
      "Val Loss: 0.378924 \tAccuracy: 0.8720212765957447\n"
     ]
    }
   ],
   "source": [
    "def train(model, optimizer, loss_f, train_loader, val_loader, n_epoch, val_fre):\n",
    "    model.train()\n",
    "    for epoch in range(n_epoch):\n",
    "        loss_sum = 0\n",
    "        for step, (data, target) in enumerate(train_loader):\n",
    "            \n",
    "            optimizer.zero_grad()\n",
    "            output = model(data).squeeze(1)\n",
    "            \n",
    "            loss = loss_f(output, target)\n",
    "            loss.backward()\n",
    "            optimizer.step()\n",
    "\n",
    "            loss_sum += loss.item()\n",
    "\n",
    "        print(f'Epoch: {epoch} \\tLoss: {loss_sum / (step + 1):.6f}')\n",
    "\n",
    "        if epoch % val_fre == 0:\n",
    "            validate(model, val_loader)\n",
    "\n",
    "def validate(model, val_loader):\n",
    "    model.eval()\n",
    "    loss_sum = 0\n",
    "    correct = 0\n",
    "    for step, (data, target) in enumerate(val_loader):\n",
    "        \n",
    "        with torch.no_grad():\n",
    "            output = model(data).squeeze(1)\n",
    "            loss = loss_f(output, target)\n",
    "        loss_sum += loss.item()\n",
    "        pred = output.argmax(dim=1, keepdim=True)\n",
    "        correct += pred.eq(target.view_as(pred)).sum().item()\n",
    "    acc = correct / len(val_loader.dataset)\n",
    "    print(f'Val Loss: {loss_sum / (step + 1):.6f} \\tAccuracy: {acc}')\n",
    "    model.train()\n",
    "\n",
    "class MLP(nn.Module):\n",
    "    \n",
    "    def __init__(self):\n",
    "        super(MLP, self).__init__()\n",
    "        \n",
    "        self.layer1 = nn.Sequential(\n",
    "            nn.Conv2d(in_channels=1, out_channels=32, kernel_size=3, padding=1),\n",
    "            nn.BatchNorm2d(32),\n",
    "            nn.ReLU(),\n",
    "            nn.MaxPool2d(kernel_size=2, stride=2)\n",
    "        )\n",
    "        \n",
    "        self.layer2 = nn.Sequential(\n",
    "            nn.Conv2d(in_channels=32, out_channels=64, kernel_size=3),\n",
    "            nn.BatchNorm2d(64),\n",
    "            nn.ReLU(),\n",
    "            nn.MaxPool2d(2)\n",
    "        )\n",
    "        \n",
    "        self.fc1 = nn.Linear(in_features=64*6*6, out_features=3000)\n",
    "        self.drop = nn.Dropout2d(0.25)\n",
    "        self.fc2 = nn.Linear(in_features=3000, out_features=600)\n",
    "        self.fc3 = nn.Linear(in_features=600, out_features=47)\n",
    "        \n",
    "    def forward(self, x):\n",
    "        out = self.layer1(x)\n",
    "        out = self.layer2(out)\n",
    "        out = out.view(out.size(0), -1)\n",
    "        out = self.fc1(out)\n",
    "        out = self.drop(out)\n",
    "        out = self.fc2(out)\n",
    "        out = self.fc3(out)\n",
    "        \n",
    "        return out\n",
    "\n",
    "model_mlp = MLP()\n",
    "print(model_mlp)\n",
    "loss_f = nn.CrossEntropyLoss()\n",
    "optimizer = torch.optim.SGD(model_mlp.parameters(), lr=1e-1)\n",
    "\n",
    "n_epoch = 20\n",
    "val_fre = 10\n",
    "\n",
    "train(model_mlp, optimizer, loss_f, train_loader, val_loader, n_epoch, val_fre)\n",
    "validate(model_mlp, val_loader)"
   ]
  },
  {
   "cell_type": "markdown",
   "id": "ba13c6de-bd52-4537-9d30-41aab80ae848",
   "metadata": {},
   "source": [
    "Результат достиг пороговой отметки"
   ]
  },
  {
   "cell_type": "markdown",
   "id": "59421d64-a1e9-4e60-9f0e-e794fcc6bb76",
   "metadata": {},
   "source": [
    "# 5 Version"
   ]
  },
  {
   "cell_type": "markdown",
   "id": "e52c28bd-938a-4e44-9408-87403531d124",
   "metadata": {},
   "source": [
    "Добавим еще один сверточный слой и поэкспериментируем с промежуточными фичами"
   ]
  },
  {
   "cell_type": "code",
   "execution_count": 288,
   "id": "5d4d54f5-8ef5-4891-9384-3f96aa897374",
   "metadata": {},
   "outputs": [
    {
     "name": "stdout",
     "output_type": "stream",
     "text": [
      "MMM(\n",
      "  (layer1): Sequential(\n",
      "    (0): Conv2d(1, 32, kernel_size=(3, 3), stride=(1, 1), padding=(1, 1))\n",
      "    (1): BatchNorm2d(32, eps=1e-05, momentum=0.1, affine=True, track_running_stats=True)\n",
      "    (2): ReLU()\n",
      "    (3): MaxPool2d(kernel_size=2, stride=2, padding=0, dilation=1, ceil_mode=False)\n",
      "  )\n",
      "  (layer2): Sequential(\n",
      "    (0): Conv2d(32, 64, kernel_size=(3, 3), stride=(1, 1))\n",
      "    (1): BatchNorm2d(64, eps=1e-05, momentum=0.1, affine=True, track_running_stats=True)\n",
      "    (2): ReLU()\n",
      "    (3): MaxPool2d(kernel_size=2, stride=2, padding=0, dilation=1, ceil_mode=False)\n",
      "  )\n",
      "  (layer3): Sequential(\n",
      "    (0): Conv2d(64, 128, kernel_size=(3, 3), stride=(1, 1))\n",
      "    (1): BatchNorm2d(128, eps=1e-05, momentum=0.1, affine=True, track_running_stats=True)\n",
      "    (2): ReLU()\n",
      "    (3): MaxPool2d(kernel_size=2, stride=2, padding=0, dilation=1, ceil_mode=False)\n",
      "  )\n",
      "  (fc1): Linear(in_features=512, out_features=6000, bias=True)\n",
      "  (drop): Dropout2d(p=0.25, inplace=False)\n",
      "  (fc2): Linear(in_features=6000, out_features=1200, bias=True)\n",
      "  (fc3): Linear(in_features=1200, out_features=400, bias=True)\n",
      "  (fc4): Linear(in_features=400, out_features=47, bias=True)\n",
      ")\n",
      "Epoch: 0 \tLoss: 1.211187\n",
      "Val Loss: 0.628291 \tAccuracy: 0.8000531914893617\n",
      "Epoch: 1 \tLoss: 0.500560\n",
      "Epoch: 2 \tLoss: 0.429143\n",
      "Epoch: 3 \tLoss: 0.391186\n",
      "Epoch: 4 \tLoss: 0.366413\n",
      "Epoch: 5 \tLoss: 0.346320\n",
      "Epoch: 6 \tLoss: 0.331714\n",
      "Epoch: 7 \tLoss: 0.319878\n",
      "Epoch: 8 \tLoss: 0.307481\n",
      "Epoch: 9 \tLoss: 0.299149\n",
      "Epoch: 10 \tLoss: 0.287886\n",
      "Val Loss: 0.391774 \tAccuracy: 0.8676063829787234\n",
      "Epoch: 11 \tLoss: 0.281094\n",
      "Epoch: 12 \tLoss: 0.272777\n",
      "Epoch: 13 \tLoss: 0.266283\n",
      "Epoch: 14 \tLoss: 0.257570\n",
      "Epoch: 15 \tLoss: 0.251372\n",
      "Epoch: 16 \tLoss: 0.244200\n",
      "Epoch: 17 \tLoss: 0.240185\n",
      "Epoch: 18 \tLoss: 0.235766\n",
      "Epoch: 19 \tLoss: 0.229215\n",
      "Val Loss: 0.366040 \tAccuracy: 0.8777127659574468\n"
     ]
    }
   ],
   "source": [
    "def train(model, optimizer, loss_f, train_loader, val_loader, n_epoch, val_fre):\n",
    "    model.train()\n",
    "    for epoch in range(n_epoch):\n",
    "        loss_sum = 0\n",
    "        for step, (data, target) in enumerate(train_loader):\n",
    "            \n",
    "            optimizer.zero_grad()\n",
    "            output = model(data).squeeze(1)\n",
    "            \n",
    "            loss = loss_f(output, target)\n",
    "            loss.backward()\n",
    "            optimizer.step()\n",
    "\n",
    "            loss_sum += loss.item()\n",
    "\n",
    "        print(f'Epoch: {epoch} \\tLoss: {loss_sum / (step + 1):.6f}')\n",
    "\n",
    "        if epoch % val_fre == 0:\n",
    "            validate(model, val_loader)\n",
    "\n",
    "def validate(model, val_loader):\n",
    "    model.eval()\n",
    "    loss_sum = 0\n",
    "    correct = 0\n",
    "    for step, (data, target) in enumerate(val_loader):\n",
    "        \n",
    "        with torch.no_grad():\n",
    "            output = model(data).squeeze(1)\n",
    "            loss = loss_f(output, target)\n",
    "        loss_sum += loss.item()\n",
    "        pred = output.argmax(dim=1, keepdim=True)\n",
    "        correct += pred.eq(target.view_as(pred)).sum().item()\n",
    "    acc = correct / len(val_loader.dataset)\n",
    "    print(f'Val Loss: {loss_sum / (step + 1):.6f} \\tAccuracy: {acc}')\n",
    "    model.train()\n",
    "\n",
    "class MMM(nn.Module):\n",
    "    \n",
    "    def __init__(self):\n",
    "        super(MMM, self).__init__()\n",
    "        \n",
    "        self.layer1 = nn.Sequential(\n",
    "            nn.Conv2d(in_channels=1, out_channels=32, kernel_size=3, padding=1),\n",
    "            nn.BatchNorm2d(32),\n",
    "            nn.ReLU(),\n",
    "            nn.MaxPool2d(kernel_size=2, stride=2)\n",
    "        )\n",
    "        \n",
    "        self.layer2 = nn.Sequential(\n",
    "            nn.Conv2d(in_channels=32, out_channels=64, kernel_size=3),\n",
    "            nn.BatchNorm2d(64),\n",
    "            nn.ReLU(),\n",
    "            nn.MaxPool2d(kernel_size=2, stride=2)\n",
    "        )\n",
    "\n",
    "        self.layer3 = nn.Sequential(\n",
    "            nn.Conv2d(in_channels=64, out_channels=128, kernel_size=3),\n",
    "            nn.BatchNorm2d(128),\n",
    "            nn.ReLU(),\n",
    "            nn.MaxPool2d(2)\n",
    "        )\n",
    "        \n",
    "        self.fc1 = nn.Linear(in_features=128*2*2, out_features=6000)\n",
    "        self.drop = nn.Dropout2d(0.25)\n",
    "        self.fc2 = nn.Linear(in_features=6000, out_features=1200)\n",
    "        self.fc3 = nn.Linear(in_features=1200, out_features=400)\n",
    "        self.fc4 = nn.Linear(in_features=400, out_features=47)\n",
    "        \n",
    "    def forward(self, x):\n",
    "        out = self.layer1(x)\n",
    "        out = self.layer2(out)\n",
    "        out = self.layer3(out)\n",
    "       \n",
    "        out = out.view(out.size(0), -1)\n",
    "       \n",
    "        out = self.fc1(out)\n",
    "        out = self.drop(out)\n",
    "        out = self.fc2(out)\n",
    "        out = self.drop(out)\n",
    "        out = self.fc3(out)\n",
    "        out = self.fc4(out)\n",
    "        \n",
    "        return out\n",
    "\n",
    "model_mmm = MMM()\n",
    "print(model_mmm)\n",
    "loss_f = nn.CrossEntropyLoss()\n",
    "optimizer_mmm = torch.optim.SGD(model_mmm.parameters(), lr=1e-1)\n",
    "\n",
    "n_epoch = 20\n",
    "val_fre = 10\n",
    "\n",
    "train(model_mmm, optimizer_mmm, loss_f, train_loader, val_loader, n_epoch, val_fre)\n",
    "validate(model_mmm, val_loader)"
   ]
  },
  {
   "cell_type": "markdown",
   "id": "2505ed0d-574c-4b4b-b140-2ffe3e8ad410",
   "metadata": {},
   "source": [
    "Результат значительно улучшить не удалось, но метрика все еще выше порога - оставляем такой вариант"
   ]
  },
  {
   "cell_type": "code",
   "execution_count": 298,
   "id": "453792ab-23c2-40bd-ac72-48c84ab78da6",
   "metadata": {
    "scrolled": true
   },
   "outputs": [],
   "source": [
    "torch.save(model_mmm.state_dict(), 'cnn.ckpt')\n",
    "\n"
   ]
  }
 ],
 "metadata": {
  "kernelspec": {
   "display_name": "Python 3 (ipykernel)",
   "language": "python",
   "name": "python3"
  },
  "language_info": {
   "codemirror_mode": {
    "name": "ipython",
    "version": 3
   },
   "file_extension": ".py",
   "mimetype": "text/x-python",
   "name": "python",
   "nbconvert_exporter": "python",
   "pygments_lexer": "ipython3",
   "version": "3.12.4"
  }
 },
 "nbformat": 4,
 "nbformat_minor": 5
}
