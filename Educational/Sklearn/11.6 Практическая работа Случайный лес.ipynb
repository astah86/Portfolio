{
 "cells": [
  {
   "cell_type": "markdown",
   "metadata": {
    "id": "wGUh9-kKDVk_"
   },
   "source": [
    "# Случайный лес\n",
    "\n",
    "В этом практическом задании вы решите задачу регрессии на реальных данных при помощи линейной модели и случайного леса. "
   ]
  },
  {
   "cell_type": "markdown",
   "metadata": {
    "id": "RS-i_3wQqtxS"
   },
   "source": [
    "## Цели практической работы\n",
    "\n",
    "* Научиться применять случайный лес в задаче регрессии.\n",
    "* Научиться сравнивать качество случайного леса с качеством линейной модели.\n",
    "* Научиться настраивать гиперпараметры леса."
   ]
  },
  {
   "cell_type": "markdown",
   "metadata": {
    "id": "4Uo9gVtsqbJX"
   },
   "source": [
    "## Что входит в работу\n",
    "\n",
    "* Выполнить предобработку данных.\n",
    "* Обучить линейную регрессию на данных задачи.\n",
    "* Обучить случайный лес на данных задачи.\n",
    "* Подобрать гиперпараметры для леса.\n",
    "* Визуализировать важность признаков у леса."
   ]
  },
  {
   "cell_type": "markdown",
   "metadata": {
    "id": "9WSnh3hKrFZX"
   },
   "source": [
    "## Что оценивается\n",
    "\n",
    "*  Все ячейки заполнены; при запуске ячеек  Python не выдаёт информацию об ошибках.\n",
    "*  Качество итоговой модели $R^2$ превышает 0,95.\n"
   ]
  },
  {
   "cell_type": "markdown",
   "metadata": {
    "id": "Tb-5iUrybT-m"
   },
   "source": [
    "## Что нужно сделать\n",
    "\n",
    "Постройте модели, предсказывающие стоимость автомобилей по характеристикам.\n",
    "\n",
    "Признаков у машин много, но в этой работе обойдёмся только числовыми признаками:\n",
    "*  year — год производства автомобиля;\n",
    "*  km_driven — пробег;\n",
    "*  seats — количество посадочных мест;\n",
    "*  mileage — другая характеристика пробега;\n",
    "*  engine — мощность двигателя;\n",
    "*  max_power — мощность автомобиля.\n",
    "\n",
    "Целевая переменная — selling_price."
   ]
  },
  {
   "cell_type": "code",
   "execution_count": null,
   "metadata": {},
   "outputs": [],
   "source": []
  },
  {
   "cell_type": "code",
   "execution_count": 1,
   "metadata": {
    "id": "0smCupJnhCRx"
   },
   "outputs": [],
   "source": [
    "import pandas as pd\n",
    "import numpy as np\n",
    "\n",
    "train = pd.read_csv(\"11.6 cars_train.csv\")\n",
    "test = pd.read_csv(\"11.6 cars_test.csv\")"
   ]
  },
  {
   "cell_type": "code",
   "execution_count": 2,
   "metadata": {},
   "outputs": [
    {
     "data": {
      "text/html": [
       "<div>\n",
       "<style scoped>\n",
       "    .dataframe tbody tr th:only-of-type {\n",
       "        vertical-align: middle;\n",
       "    }\n",
       "\n",
       "    .dataframe tbody tr th {\n",
       "        vertical-align: top;\n",
       "    }\n",
       "\n",
       "    .dataframe thead th {\n",
       "        text-align: right;\n",
       "    }\n",
       "</style>\n",
       "<table border=\"1\" class=\"dataframe\">\n",
       "  <thead>\n",
       "    <tr style=\"text-align: right;\">\n",
       "      <th></th>\n",
       "      <th>name</th>\n",
       "      <th>year</th>\n",
       "      <th>selling_price</th>\n",
       "      <th>km_driven</th>\n",
       "      <th>fuel</th>\n",
       "      <th>seller_type</th>\n",
       "      <th>transmission</th>\n",
       "      <th>owner</th>\n",
       "      <th>mileage</th>\n",
       "      <th>engine</th>\n",
       "      <th>max_power</th>\n",
       "      <th>torque</th>\n",
       "      <th>seats</th>\n",
       "    </tr>\n",
       "  </thead>\n",
       "  <tbody>\n",
       "    <tr>\n",
       "      <th>0</th>\n",
       "      <td>Maruti Swift Dzire VDI</td>\n",
       "      <td>2014.0</td>\n",
       "      <td>450000.0</td>\n",
       "      <td>145500.0</td>\n",
       "      <td>Diesel</td>\n",
       "      <td>Individual</td>\n",
       "      <td>Manual</td>\n",
       "      <td>First Owner</td>\n",
       "      <td>23.4 kmpl</td>\n",
       "      <td>1248 CC</td>\n",
       "      <td>74 bhp</td>\n",
       "      <td>190Nm@ 2000rpm</td>\n",
       "      <td>5.0</td>\n",
       "    </tr>\n",
       "    <tr>\n",
       "      <th>1</th>\n",
       "      <td>Skoda Rapid 1.5 TDI Ambition</td>\n",
       "      <td>2014.0</td>\n",
       "      <td>370000.0</td>\n",
       "      <td>120000.0</td>\n",
       "      <td>Diesel</td>\n",
       "      <td>Individual</td>\n",
       "      <td>Manual</td>\n",
       "      <td>Second Owner</td>\n",
       "      <td>21.14 kmpl</td>\n",
       "      <td>1498 CC</td>\n",
       "      <td>103.52 bhp</td>\n",
       "      <td>250Nm@ 1500-2500rpm</td>\n",
       "      <td>5.0</td>\n",
       "    </tr>\n",
       "    <tr>\n",
       "      <th>2</th>\n",
       "      <td>Hyundai i20 Sportz Diesel</td>\n",
       "      <td>2010.0</td>\n",
       "      <td>225000.0</td>\n",
       "      <td>127000.0</td>\n",
       "      <td>Diesel</td>\n",
       "      <td>Individual</td>\n",
       "      <td>Manual</td>\n",
       "      <td>First Owner</td>\n",
       "      <td>23.0 kmpl</td>\n",
       "      <td>1396 CC</td>\n",
       "      <td>90 bhp</td>\n",
       "      <td>22.4 kgm at 1750-2750rpm</td>\n",
       "      <td>5.0</td>\n",
       "    </tr>\n",
       "    <tr>\n",
       "      <th>3</th>\n",
       "      <td>Maruti Swift VXI BSIII,2007,130000,120000,Petr...</td>\n",
       "      <td>NaN</td>\n",
       "      <td>NaN</td>\n",
       "      <td>NaN</td>\n",
       "      <td>NaN</td>\n",
       "      <td>NaN</td>\n",
       "      <td>NaN</td>\n",
       "      <td>NaN</td>\n",
       "      <td>NaN</td>\n",
       "      <td>NaN</td>\n",
       "      <td>NaN</td>\n",
       "      <td>NaN</td>\n",
       "      <td>NaN</td>\n",
       "    </tr>\n",
       "    <tr>\n",
       "      <th>4</th>\n",
       "      <td>Hyundai Xcent 1.2 VTVT E Plus</td>\n",
       "      <td>2017.0</td>\n",
       "      <td>440000.0</td>\n",
       "      <td>45000.0</td>\n",
       "      <td>Petrol</td>\n",
       "      <td>Individual</td>\n",
       "      <td>Manual</td>\n",
       "      <td>First Owner</td>\n",
       "      <td>20.14 kmpl</td>\n",
       "      <td>1197 CC</td>\n",
       "      <td>81.86 bhp</td>\n",
       "      <td>113.75nm@ 4000rpm</td>\n",
       "      <td>5.0</td>\n",
       "    </tr>\n",
       "  </tbody>\n",
       "</table>\n",
       "</div>"
      ],
      "text/plain": [
       "                                                name    year  selling_price  \\\n",
       "0                             Maruti Swift Dzire VDI  2014.0       450000.0   \n",
       "1                       Skoda Rapid 1.5 TDI Ambition  2014.0       370000.0   \n",
       "2                          Hyundai i20 Sportz Diesel  2010.0       225000.0   \n",
       "3  Maruti Swift VXI BSIII,2007,130000,120000,Petr...     NaN            NaN   \n",
       "4                      Hyundai Xcent 1.2 VTVT E Plus  2017.0       440000.0   \n",
       "\n",
       "   km_driven    fuel seller_type transmission         owner     mileage  \\\n",
       "0   145500.0  Diesel  Individual       Manual   First Owner   23.4 kmpl   \n",
       "1   120000.0  Diesel  Individual       Manual  Second Owner  21.14 kmpl   \n",
       "2   127000.0  Diesel  Individual       Manual   First Owner   23.0 kmpl   \n",
       "3        NaN     NaN         NaN          NaN           NaN         NaN   \n",
       "4    45000.0  Petrol  Individual       Manual   First Owner  20.14 kmpl   \n",
       "\n",
       "    engine   max_power                    torque  seats  \n",
       "0  1248 CC      74 bhp            190Nm@ 2000rpm    5.0  \n",
       "1  1498 CC  103.52 bhp       250Nm@ 1500-2500rpm    5.0  \n",
       "2  1396 CC      90 bhp  22.4 kgm at 1750-2750rpm    5.0  \n",
       "3      NaN         NaN                       NaN    NaN  \n",
       "4  1197 CC   81.86 bhp         113.75nm@ 4000rpm    5.0  "
      ]
     },
     "execution_count": 2,
     "metadata": {},
     "output_type": "execute_result"
    }
   ],
   "source": [
    "train.head()"
   ]
  },
  {
   "cell_type": "markdown",
   "metadata": {
    "id": "jTjAo4UEL3IG"
   },
   "source": [
    "Создайте объекты Xtrain, ytrain, Xtest, ytest. Запишите в них матрицы «объект — признак» и векторы целевой переменной для тренировочного и тестового датасетов."
   ]
  },
  {
   "cell_type": "code",
   "execution_count": 3,
   "metadata": {
    "id": "2tLR6TQAiuXf"
   },
   "outputs": [],
   "source": [
    "# Ваш код здесь\n",
    "from sklearn.model_selection import train_test_split\n",
    "Xtrain, ytrain, Xtest, ytest = train.drop(columns=['selling_price']), train.selling_price, \\\n",
    "                               test.drop(columns=['selling_price']), test.selling_price,"
   ]
  },
  {
   "cell_type": "markdown",
   "metadata": {
    "id": "TWiEH5reAKTF"
   },
   "source": [
    "В тренировочных данных есть автомобили, для которых неизвестна стоимость. Удалите эти автомобили из трейна."
   ]
  },
  {
   "cell_type": "code",
   "execution_count": 4,
   "metadata": {
    "id": "B151ci2AASUb"
   },
   "outputs": [],
   "source": [
    "# Ваш код здесь\n",
    "# Xtrain.dropna(subset=)\n",
    "index_na = ytrain[ytrain.isna()].index\n",
    "Xtrain.drop(index_na, axis=0, inplace=True)\n",
    "ytrain.drop(index_na, axis=0, inplace=True)"
   ]
  },
  {
   "cell_type": "markdown",
   "metadata": {
    "id": "3HbVvXLSlVK-"
   },
   "source": [
    "Перед обучением моделей обработайте данные.\n",
    "\n",
    "Обратите внимание, что столбцы mileage, engine и max_power по смыслу числовые. Чтобы превратить их в числовые столбцы, отбросьте единицы измерения и оставьте только числа. В столбцах есть пропущенные значения, их при обработке трогать не нужно."
   ]
  },
  {
   "cell_type": "code",
   "execution_count": 5,
   "metadata": {
    "id": "OdvsVN9Blg7r"
   },
   "outputs": [],
   "source": [
    "# Ваш код здесь\n",
    "Xtrain.mileage = Xtrain.mileage.str.split(expand = True).iloc[:,0].astype('float64')\n",
    "Xtrain.engine = Xtrain.engine.str.split(expand = True).iloc[:,0].astype('float64')\n",
    "Xtrain.max_power = Xtrain.max_power.str.split(expand = True).iloc[:,0].astype('float64')"
   ]
  },
  {
   "cell_type": "code",
   "execution_count": 6,
   "metadata": {},
   "outputs": [],
   "source": [
    "Xtest.mileage = Xtest.mileage.str.split(expand = True).iloc[:,0].astype('float64')\n",
    "Xtest.engine = Xtest.engine.str.split(expand = True).iloc[:,0].astype('float64')\n",
    "Xtest.max_power = Xtest.max_power.str.split(expand = True).iloc[:,0].astype('float64')"
   ]
  },
  {
   "cell_type": "markdown",
   "metadata": {
    "id": "p43qUhHg-_-e"
   },
   "source": [
    "Оставьте в данных только шесть числовых столбцов:\n",
    "\n",
    "year, km_driven, seats, engine, mileage, max_power"
   ]
  },
  {
   "cell_type": "code",
   "execution_count": 7,
   "metadata": {
    "id": "vP0FYosyix7_"
   },
   "outputs": [],
   "source": [
    "# Ваш код здесь\n",
    "sample = ['year', 'km_driven', 'seats', 'engine', 'mileage', 'max_power']\n",
    "Xtrain = Xtrain.loc[:,sample]\n",
    "Xtest = Xtest.loc[:,sample]\n",
    "\n"
   ]
  },
  {
   "cell_type": "markdown",
   "metadata": {
    "id": "Q0AsRR_69ZFH"
   },
   "source": [
    "Теперь заполните пропуски следующим образом:\n",
    "\n",
    "*    вычислите средние значения по столбцам тренировочной выборки;\n",
    "\n",
    "*    добавьте в пропуски в тренировочных и тестовых данных вычисленные средние."
   ]
  },
  {
   "cell_type": "code",
   "execution_count": 8,
   "metadata": {
    "id": "yk0P1b6X9qqh"
   },
   "outputs": [
    {
     "data": {
      "text/plain": [
       "year           0\n",
       "km_driven      0\n",
       "seats        202\n",
       "engine       202\n",
       "mileage      202\n",
       "max_power    196\n",
       "dtype: int64"
      ]
     },
     "execution_count": 8,
     "metadata": {},
     "output_type": "execute_result"
    }
   ],
   "source": [
    "# Ваш код здесь\n",
    "Xtrain.isna().sum()"
   ]
  },
  {
   "cell_type": "code",
   "execution_count": 9,
   "metadata": {},
   "outputs": [],
   "source": [
    "average_seats = Xtrain.seats.mean()\n",
    "average_engine = Xtrain.engine.mean()\n",
    "average_mileage = Xtrain.mileage.mean()\n",
    "average_max_power = Xtrain.max_power.mean()\n",
    "\n",
    "Xtrain.seats = Xtrain.seats.fillna(average_seats)\n",
    "Xtrain.engine = Xtrain.engine.fillna(average_engine)\n",
    "Xtrain.mileage = Xtrain.mileage.fillna(average_mileage)\n",
    "Xtrain.max_power = Xtrain.max_power.fillna(average_max_power)"
   ]
  },
  {
   "cell_type": "code",
   "execution_count": 10,
   "metadata": {},
   "outputs": [],
   "source": [
    "Xtest.seats = Xtest.seats.fillna(average_seats)\n",
    "Xtest.engine = Xtest.engine.fillna(average_engine)\n",
    "Xtest.mileage = Xtest.mileage.fillna(average_mileage)\n",
    "Xtest.max_power = Xtest.max_power.fillna(average_max_power)"
   ]
  },
  {
   "cell_type": "markdown",
   "metadata": {
    "id": "BUatWsDGi_rj"
   },
   "source": [
    "Теперь на обработанных тренировочных данных обучите:\n",
    "\n",
    "*  линейную регрессию,\n",
    "*  случайный лес с параметрами по умолчанию.\n",
    "\n",
    "На обработанных тестовых данных сделайте предсказание и вычислите метрику $R^2$. "
   ]
  },
  {
   "cell_type": "code",
   "execution_count": 11,
   "metadata": {
    "id": "cQ7iS1eu-s_8"
   },
   "outputs": [
    {
     "name": "stdout",
     "output_type": "stream",
     "text": [
      "Значение r2 для линейной регрессии: 0.6485839251280137\n",
      "Значение r2 для случайного леса: 0.9616484733622669\n"
     ]
    }
   ],
   "source": [
    "# Ваш код здесь\n",
    "from sklearn.linear_model import LinearRegression\n",
    "from sklearn.ensemble import RandomForestRegressor\n",
    "from sklearn.metrics import r2_score\n",
    "\n",
    "linreg = LinearRegression()\n",
    "linreg.fit(Xtrain, ytrain)\n",
    "pred_linreg = linreg.predict(Xtest)\n",
    "\n",
    "forest = RandomForestRegressor()\n",
    "forest.fit(Xtrain, ytrain)\n",
    "pred_forest = forest.predict(Xtest)\n",
    "\n",
    "print(f'Значение r2 для линейной регрессии: {r2_score(ytest, pred_linreg)}')\n",
    "print(f'Значение r2 для случайного леса: {r2_score(ytest, pred_forest)}')\n"
   ]
  },
  {
   "cell_type": "markdown",
   "metadata": {
    "id": "LbbD1-qC76HW"
   },
   "source": [
    "Какая модель получилась лучше?"
   ]
  },
  {
   "cell_type": "code",
   "execution_count": 12,
   "metadata": {
    "id": "j3N-kazm767P"
   },
   "outputs": [],
   "source": [
    "# Ваш ответ здесь\n",
    "# Модель случайного леса получилась значительно лучше"
   ]
  },
  {
   "cell_type": "markdown",
   "metadata": {
    "id": "J36iRaNoBEkT"
   },
   "source": [
    "Улучшите качество предсказания случайного леса путём подбора гиперпараметров:\n",
    "\n",
    "*   n_estimators,\n",
    "*   max_depth,\n",
    "*   max_features,\n",
    "*   min_samples_leaf,\n",
    "*   min_samples_split.\n",
    "\n",
    "Для подбора гиперпараметров используйте GridSearchCV. Обучайте GridSearchCV по тренировочным данным с разбивкой на три фолда и метрикой $R^2$."
   ]
  },
  {
   "cell_type": "code",
   "execution_count": 13,
   "metadata": {
    "id": "3IWEulMqBXlv"
   },
   "outputs": [],
   "source": [
    "# Ваш код здесь Т.к. посчитать все вместе не получилось, выполню подбор параметров последовательно\n",
    "# from sklearn.model_selection import GridSearchCV\n",
    "# parametrs = { 'n_estimators': np.arange(100,401, 100),\n",
    "#             'max_depth' : np.arange(2, 25, 4),\n",
    "#             'max_features' : ['sqrt', 'log2', None],\n",
    "#             'min_samples_leaf' : np.arange(1, 6, 1),\n",
    "#             'min_samples_split' : np.arange(2, 6, 1)}\n",
    "# grid = GridSearchCV(forest, parametrs, cv=3, scoring = 'r2')\n",
    "# grid.fit(Xtrain, ytrain)\n",
    "# print(f'Лучшие параметры случайного леса:\\n {grid.best_params_}')\n",
    "# print(f'Значение к2 для случайного леса: {grid.best_score_}')"
   ]
  },
  {
   "cell_type": "code",
   "execution_count": 14,
   "metadata": {},
   "outputs": [
    {
     "name": "stdout",
     "output_type": "stream",
     "text": [
      "Лучшие параметры случайного леса:\n",
      " {'n_estimators': 400}\n",
      "Значение r2 для случайного леса: 0.9538093078616147\n"
     ]
    }
   ],
   "source": [
    "from sklearn.model_selection import GridSearchCV\n",
    "parametrs = { 'n_estimators': np.arange(100,401, 100),\n",
    "            }\n",
    "grid = GridSearchCV(forest, parametrs, cv=3, scoring = 'r2')\n",
    "grid.fit(Xtrain, ytrain)\n",
    "print(f'Лучшие параметры случайного леса:\\n {grid.best_params_}')\n",
    "print(f'Значение r2 для случайного леса: {grid.best_score_}')"
   ]
  },
  {
   "cell_type": "code",
   "execution_count": 15,
   "metadata": {},
   "outputs": [
    {
     "name": "stdout",
     "output_type": "stream",
     "text": [
      "Лучшие параметры случайного леса:\n",
      " {'max_depth': 18, 'n_estimators': 400}\n",
      "Значение r2 для случайного леса: 0.9539031395460119\n"
     ]
    }
   ],
   "source": [
    "from sklearn.model_selection import GridSearchCV\n",
    "parametrs = {'n_estimators': [400],\n",
    "            'max_depth' : np.arange(2, 25, 4)}\n",
    "grid = GridSearchCV(forest, parametrs, cv=3, scoring = 'r2')\n",
    "grid.fit(Xtrain, ytrain)\n",
    "print(f'Лучшие параметры случайного леса:\\n {grid.best_params_}')\n",
    "print(f'Значение r2 для случайного леса: {grid.best_score_}')"
   ]
  },
  {
   "cell_type": "code",
   "execution_count": 16,
   "metadata": {},
   "outputs": [
    {
     "name": "stdout",
     "output_type": "stream",
     "text": [
      "Лучшие параметры случайного леса:\n",
      " {'max_depth': 14, 'max_features': None, 'n_estimators': 400}\n",
      "Значение r2 для случайного леса: 0.9535218624601516\n"
     ]
    }
   ],
   "source": [
    "from sklearn.model_selection import GridSearchCV\n",
    "parametrs = { 'n_estimators': [400],\n",
    "            'max_depth' : [14],\n",
    "            'max_features' : ['sqrt', 'log2', None]}\n",
    "grid = GridSearchCV(forest, parametrs, cv=3, scoring = 'r2')\n",
    "grid.fit(Xtrain, ytrain)\n",
    "print(f'Лучшие параметры случайного леса:\\n {grid.best_params_}')\n",
    "print(f'Значение r2 для случайного леса: {grid.best_score_}')"
   ]
  },
  {
   "cell_type": "code",
   "execution_count": 47,
   "metadata": {},
   "outputs": [
    {
     "name": "stdout",
     "output_type": "stream",
     "text": [
      "Лучшие параметры случайного леса:\n",
      " {'max_depth': 14, 'max_features': None, 'min_samples_leaf': 1, 'n_estimators': 400}\n",
      "Значение r2 для случайного леса: 0.9532095581153218\n"
     ]
    }
   ],
   "source": [
    "from sklearn.model_selection import GridSearchCV\n",
    "parametrs = { 'n_estimators': [400],\n",
    "            'max_depth' : [14],\n",
    "            'max_features' : [None],\n",
    "            'min_samples_leaf' : np.arange(1, 6, 1)}\n",
    "grid = GridSearchCV(forest, parametrs, cv=3, scoring = 'r2')\n",
    "grid.fit(Xtrain, ytrain)\n",
    "print(f'Лучшие параметры случайного леса:\\n {grid.best_params_}')\n",
    "print(f'Значение r2 для случайного леса: {grid.best_score_}')"
   ]
  },
  {
   "cell_type": "code",
   "execution_count": 17,
   "metadata": {},
   "outputs": [
    {
     "name": "stdout",
     "output_type": "stream",
     "text": [
      "Лучшие параметры случайного леса:\n",
      " {'max_depth': 14, 'max_features': None, 'min_samples_leaf': 1, 'min_samples_split': 2, 'n_estimators': 400}\n",
      "Значение r2 для случайного леса: 0.953929761174309\n"
     ]
    }
   ],
   "source": [
    "from sklearn.model_selection import GridSearchCV\n",
    "parametrs = { 'n_estimators': [400],\n",
    "            'max_depth' : [14],\n",
    "            'max_features' : [None],\n",
    "            'min_samples_leaf' : [1],\n",
    "            'min_samples_split' : np.arange(2, 6, 1)}\n",
    "grid = GridSearchCV(forest, parametrs, cv=3, scoring = 'r2')\n",
    "grid.fit(Xtrain, ytrain)\n",
    "print(f'Лучшие параметры случайного леса:\\n {grid.best_params_}')\n",
    "print(f'Значение r2 для случайного леса: {grid.best_score_}')"
   ]
  },
  {
   "cell_type": "markdown",
   "metadata": {
    "id": "TPNNp6cPDsjD"
   },
   "source": [
    "Теперь обучите на тренировочных данных случайный лес с найденными гиперпараметрами. Сделайте предсказание на тестовых данных и оцените его качество ($R^2$)."
   ]
  },
  {
   "cell_type": "code",
   "execution_count": 18,
   "metadata": {
    "id": "MPdZ9qCxDrkF"
   },
   "outputs": [
    {
     "name": "stdout",
     "output_type": "stream",
     "text": [
      "Значение r2 для случайного леса: 0.9627205254583434\n"
     ]
    }
   ],
   "source": [
    "# Ваш код здесь\n",
    "forest = RandomForestRegressor(max_depth=14, max_features=None, min_samples_leaf=1, min_samples_split=3, n_estimators=400)\n",
    "forest.fit(Xtrain, ytrain)\n",
    "pred_forest = forest.predict(Xtest)\n",
    "\n",
    "print(f'Значение r2 для случайного леса: {r2_score(ytest, pred_forest)}')"
   ]
  },
  {
   "cell_type": "markdown",
   "metadata": {
    "id": "dpWSQeD4ENby"
   },
   "source": [
    "Модель готова. Осталось её проинтерпретировать.\n",
    "\n",
    "При помощи метода model.feature_importances_ визуализируйте гистограмму важности признаков у случайного леса с настроенными гиперпараметрами."
   ]
  },
  {
   "cell_type": "code",
   "execution_count": 19,
   "metadata": {
    "id": "7uZzKbUnD54w"
   },
   "outputs": [
    {
     "data": {
      "image/png": "[encoded data removed]",
      "text/plain": [
       "<Figure size 640x480 with 1 Axes>"
      ]
     },
     "metadata": {},
     "output_type": "display_data"
    }
   ],
   "source": [
    "# Ваш код здесь\n",
    "import matplotlib.pyplot as plt\n",
    "features = Xtrain.columns\n",
    "importances = forest.feature_importances_\n",
    "indices = np.argsort(importances)\n",
    "\n",
    "plt.title('Feature Importances Forest')\n",
    "plt.barh(range(len(indices)), importances[indices], color='b', align='center')\n",
    "plt.yticks(range(len(indices)), [features[i] for i in indices])\n",
    "plt.xlabel('Relative Importance')\n",
    "plt.show()"
   ]
  },
  {
   "cell_type": "code",
   "execution_count": 20,
   "metadata": {},
   "outputs": [
    {
     "data": {
      "text/plain": [
       "array([0.18757252, 0.02459466, 0.00648449, 0.02438068, 0.02012067,\n",
       "       0.73684697])"
      ]
     },
     "execution_count": 20,
     "metadata": {},
     "output_type": "execute_result"
    }
   ],
   "source": [
    "forest.feature_importances_"
   ]
  },
  {
   "cell_type": "code",
   "execution_count": null,
   "metadata": {},
   "outputs": [],
   "source": []
  }
 ],
 "metadata": {
  "colab": {
   "provenance": []
  },
  "kernelspec": {
   "display_name": "Python 3 (ipykernel)",
   "language": "python",
   "name": "python3"
  },
  "language_info": {
   "codemirror_mode": {
    "name": "ipython",
    "version": 3
   },
   "file_extension": ".py",
   "mimetype": "text/x-python",
   "name": "python",
   "nbconvert_exporter": "python",
   "pygments_lexer": "ipython3",
   "version": "3.9.13"
  }
 },
 "nbformat": 4,
 "nbformat_minor": 1
}
