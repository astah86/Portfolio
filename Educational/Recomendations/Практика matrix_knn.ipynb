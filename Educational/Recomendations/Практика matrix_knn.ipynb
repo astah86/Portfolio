{
 "cells": [
  {
   "cell_type": "code",
   "execution_count": null,
   "id": "d9ff4b0f",
   "metadata": {
    "id": "d9ff4b0f"
   },
   "outputs": [],
   "source": [
    "import numpy as np\n",
    "import pandas as pd"
   ]
  },
  {
   "cell_type": "code",
   "execution_count": null,
   "id": "ce41b07a",
   "metadata": {
    "id": "ce41b07a",
    "outputId": "cfa71591-30b8-4b74-a12c-4a92a3b2c813"
   },
   "outputs": [
    {
     "name": "stderr",
     "output_type": "stream",
     "text": [
      "/var/folders/y9/369ghyk55mgbb3cn3tbv74440000gn/T/ipykernel_69487/2343206172.py:2: DtypeWarning: Columns (10) have mixed types. Specify dtype option on import or set low_memory=False.\n",
      "  movies = pd.read_csv('movies_metadata.csv')\n"
     ]
    }
   ],
   "source": [
    "links = pd.read_csv('links_small.csv')\n",
    "movies = pd.read_csv('movies_metadata.csv')"
   ]
  },
  {
   "cell_type": "code",
   "execution_count": null,
   "id": "6ae2866d",
   "metadata": {
    "id": "6ae2866d",
    "outputId": "a055fe48-f15f-4291-ead6-3c9978ac033a"
   },
   "outputs": [
    {
     "data": {
      "text/html": [
       "<div>\n",
       "<style scoped>\n",
       "    .dataframe tbody tr th:only-of-type {\n",
       "        vertical-align: middle;\n",
       "    }\n",
       "\n",
       "    .dataframe tbody tr th {\n",
       "        vertical-align: top;\n",
       "    }\n",
       "\n",
       "    .dataframe thead th {\n",
       "        text-align: right;\n",
       "    }\n",
       "</style>\n",
       "<table border=\"1\" class=\"dataframe\">\n",
       "  <thead>\n",
       "    <tr style=\"text-align: right;\">\n",
       "      <th></th>\n",
       "      <th>userId</th>\n",
       "      <th>movieId</th>\n",
       "      <th>rating</th>\n",
       "      <th>timestamp</th>\n",
       "    </tr>\n",
       "  </thead>\n",
       "  <tbody>\n",
       "    <tr>\n",
       "      <th>0</th>\n",
       "      <td>1</td>\n",
       "      <td>31</td>\n",
       "      <td>2.5</td>\n",
       "      <td>1260759144</td>\n",
       "    </tr>\n",
       "    <tr>\n",
       "      <th>1</th>\n",
       "      <td>1</td>\n",
       "      <td>1029</td>\n",
       "      <td>3.0</td>\n",
       "      <td>1260759179</td>\n",
       "    </tr>\n",
       "    <tr>\n",
       "      <th>2</th>\n",
       "      <td>1</td>\n",
       "      <td>1061</td>\n",
       "      <td>3.0</td>\n",
       "      <td>1260759182</td>\n",
       "    </tr>\n",
       "    <tr>\n",
       "      <th>3</th>\n",
       "      <td>1</td>\n",
       "      <td>1129</td>\n",
       "      <td>2.0</td>\n",
       "      <td>1260759185</td>\n",
       "    </tr>\n",
       "    <tr>\n",
       "      <th>4</th>\n",
       "      <td>1</td>\n",
       "      <td>1172</td>\n",
       "      <td>4.0</td>\n",
       "      <td>1260759205</td>\n",
       "    </tr>\n",
       "    <tr>\n",
       "      <th>...</th>\n",
       "      <td>...</td>\n",
       "      <td>...</td>\n",
       "      <td>...</td>\n",
       "      <td>...</td>\n",
       "    </tr>\n",
       "    <tr>\n",
       "      <th>99999</th>\n",
       "      <td>671</td>\n",
       "      <td>6268</td>\n",
       "      <td>2.5</td>\n",
       "      <td>1065579370</td>\n",
       "    </tr>\n",
       "    <tr>\n",
       "      <th>100000</th>\n",
       "      <td>671</td>\n",
       "      <td>6269</td>\n",
       "      <td>4.0</td>\n",
       "      <td>1065149201</td>\n",
       "    </tr>\n",
       "    <tr>\n",
       "      <th>100001</th>\n",
       "      <td>671</td>\n",
       "      <td>6365</td>\n",
       "      <td>4.0</td>\n",
       "      <td>1070940363</td>\n",
       "    </tr>\n",
       "    <tr>\n",
       "      <th>100002</th>\n",
       "      <td>671</td>\n",
       "      <td>6385</td>\n",
       "      <td>2.5</td>\n",
       "      <td>1070979663</td>\n",
       "    </tr>\n",
       "    <tr>\n",
       "      <th>100003</th>\n",
       "      <td>671</td>\n",
       "      <td>6565</td>\n",
       "      <td>3.5</td>\n",
       "      <td>1074784724</td>\n",
       "    </tr>\n",
       "  </tbody>\n",
       "</table>\n",
       "<p>100004 rows × 4 columns</p>\n",
       "</div>"
      ],
      "text/plain": [
       "        userId  movieId  rating   timestamp\n",
       "0            1       31     2.5  1260759144\n",
       "1            1     1029     3.0  1260759179\n",
       "2            1     1061     3.0  1260759182\n",
       "3            1     1129     2.0  1260759185\n",
       "4            1     1172     4.0  1260759205\n",
       "...        ...      ...     ...         ...\n",
       "99999      671     6268     2.5  1065579370\n",
       "100000     671     6269     4.0  1065149201\n",
       "100001     671     6365     4.0  1070940363\n",
       "100002     671     6385     2.5  1070979663\n",
       "100003     671     6565     3.5  1074784724\n",
       "\n",
       "[100004 rows x 4 columns]"
      ]
     },
     "execution_count": 21,
     "metadata": {},
     "output_type": "execute_result"
    }
   ],
   "source": [
    "ratings = pd.read_csv('ratings_small.csv')\n",
    "ratings"
   ]
  },
  {
   "cell_type": "code",
   "execution_count": null,
   "id": "6e7366b6",
   "metadata": {
    "id": "6e7366b6",
    "outputId": "df7b43a3-3908-4d3a-f3de-57aa3270da40"
   },
   "outputs": [
    {
     "name": "stdout",
     "output_type": "stream",
     "text": [
      "Count of unique users: 671\n",
      "Count of unique movies: 9066\n"
     ]
    }
   ],
   "source": [
    "print(f'Count of unique users: {ratings.userId.nunique()}')\n",
    "print(f'Count of unique movies: {ratings.movieId.nunique()}')"
   ]
  },
  {
   "cell_type": "code",
   "execution_count": null,
   "id": "3cd8ad2c",
   "metadata": {
    "id": "3cd8ad2c"
   },
   "outputs": [],
   "source": [
    "import scipy.sparse as sparse\n",
    "from pandas.api.types import CategoricalDtype"
   ]
  },
  {
   "cell_type": "code",
   "execution_count": null,
   "id": "9e0ee06e",
   "metadata": {
    "id": "9e0ee06e"
   },
   "outputs": [],
   "source": [
    "user_index = ratings.userId.unique()\n",
    "movies_index = ratings.movieId.unique()\n"
   ]
  },
  {
   "cell_type": "code",
   "execution_count": null,
   "id": "34d58bd2",
   "metadata": {
    "id": "34d58bd2"
   },
   "outputs": [],
   "source": [
    "rows = ratings['userId'].astype(CategoricalDtype(categories=user_index)).cat.codes\n",
    "cols = ratings['movieId'].astype(CategoricalDtype(categories=movies_index)).cat.codes\n"
   ]
  },
  {
   "cell_type": "code",
   "execution_count": null,
   "id": "090f50cb",
   "metadata": {
    "id": "090f50cb"
   },
   "outputs": [],
   "source": [
    "matrix = sparse.csr_matrix((ratings.rating, (rows, cols)), shape=(len(user_index), len(movies_index)))"
   ]
  },
  {
   "cell_type": "code",
   "execution_count": null,
   "id": "03afaa98",
   "metadata": {
    "id": "03afaa98",
    "outputId": "9883cca9-645f-4ba4-dc84-ecdcbde2a634"
   },
   "outputs": [
    {
     "data": {
      "text/plain": [
       "<671x9066 sparse matrix of type '<class 'numpy.float64'>'\n",
       "\twith 100004 stored elements in Compressed Sparse Row format>"
      ]
     },
     "execution_count": 27,
     "metadata": {},
     "output_type": "execute_result"
    }
   ],
   "source": [
    "matrix"
   ]
  },
  {
   "cell_type": "code",
   "execution_count": null,
   "id": "cc633e7f",
   "metadata": {
    "id": "cc633e7f"
   },
   "outputs": [],
   "source": [
    "matrix = matrix.toarray()"
   ]
  },
  {
   "cell_type": "code",
   "execution_count": null,
   "id": "d2dcb86e",
   "metadata": {
    "id": "d2dcb86e",
    "outputId": "d87ca4f3-d55d-460f-925c-2c5d8048eb90"
   },
   "outputs": [
    {
     "data": {
      "text/plain": [
       "array([2.5, 3. , 3. , ..., 0. , 0. , 0. ])"
      ]
     },
     "execution_count": 29,
     "metadata": {},
     "output_type": "execute_result"
    }
   ],
   "source": [
    "matrix[0]"
   ]
  },
  {
   "cell_type": "code",
   "execution_count": null,
   "id": "ac0a0bc5",
   "metadata": {
    "id": "ac0a0bc5",
    "outputId": "b89d9de3-cb0e-4f03-e670-2f09ba93f7b2"
   },
   "outputs": [
    {
     "name": "stdout",
     "output_type": "stream",
     "text": [
      "5.0 Stir of Echoes\n",
      "5.0 Frequency\n",
      "4.0 The Maltese Falcon\n",
      "4.0 The Breakfast Club\n",
      "4.0 Austin Powers: The Spy Who Shagged Me\n",
      "4.0 Arachnophobia\n",
      "3.0 The Mosquito Coast\n",
      "5.0 Who Framed Roger Rabbit\n",
      "5.0 The Iron Giant\n",
      "5.0 The 13th Warrior\n",
      "4.0 The Astronaut's Wife\n",
      "3.0 Stigmata\n",
      "5.0 Double Jeopardy\n",
      "5.0 Stuart Little\n",
      "4.0 Galaxy Quest\n",
      "3.0 Desperately Seeking Susan\n",
      "5.0 Entrapment\n",
      "5.0 Lake Placid\n",
      "5.0 Deep Blue Sea\n",
      "4.0 The Thomas Crown Affair\n",
      "5.0 Pacific Heights\n",
      "4.0 Diner\n",
      "4.0 Out of Africa\n",
      "4.0 The General's Daughter\n",
      "3.0 Hope Floats\n",
      "4.0 Tom Jones\n",
      "5.0 Run Silent, Run Deep\n"
     ]
    }
   ],
   "source": [
    "for ind, score in enumerate(matrix[50]):\n",
    "    if score>=3:\n",
    "        movie_id = int(links[links.movieId==movies_index[ind]].tmdbId.values[0])\n",
    "        print(score, movies[movies['id']==str(movie_id)].original_title.values[0])\n"
   ]
  },
  {
   "cell_type": "code",
   "execution_count": null,
   "id": "8c54f000",
   "metadata": {
    "id": "8c54f000"
   },
   "outputs": [],
   "source": [
    "viwed_arr = np.where(matrix[50]>0)[0]"
   ]
  },
  {
   "cell_type": "code",
   "execution_count": null,
   "id": "9e27c944",
   "metadata": {
    "id": "9e27c944"
   },
   "outputs": [],
   "source": [
    "from scipy.spatial.distance import cdist"
   ]
  },
  {
   "cell_type": "code",
   "execution_count": null,
   "id": "c7e82427",
   "metadata": {
    "id": "c7e82427",
    "outputId": "cb29dd5f-e979-4ce1-cc7e-e64999940729"
   },
   "outputs": [
    {
     "data": {
      "text/plain": [
       "array([ 50, 578,  13, 169,   0])"
      ]
     },
     "execution_count": 33,
     "metadata": {},
     "output_type": "execute_result"
    }
   ],
   "source": [
    "np.argsort(cdist(matrix, matrix))[50][:5]"
   ]
  },
  {
   "cell_type": "code",
   "execution_count": null,
   "id": "214fdccd",
   "metadata": {
    "id": "214fdccd",
    "outputId": "f909df3b-f5fc-4015-8280-743f972f3a33"
   },
   "outputs": [
    {
     "name": "stdout",
     "output_type": "stream",
     "text": [
      "3.0 The Matrix\n",
      "3.5 Memento\n",
      "3.5 The Game Plan\n",
      "4.5 The Twilight Saga: Breaking Dawn - Part 1\n"
     ]
    }
   ],
   "source": [
    "for ind, score in enumerate(matrix[578]):\n",
    "    if score>=3:\n",
    "        movie_id = int(links[links.movieId==movies_index[ind]].tmdbId.values[0])\n",
    "        if movie_id not in viwed_arr:\n",
    "            print(score, movies[movies['id']==str(movie_id)].original_title.values[0])\n"
   ]
  }
 ],
 "metadata": {
  "colab": {
   "provenance": []
  },
  "kernelspec": {
   "display_name": "Python 3 (ipykernel)",
   "language": "python",
   "name": "python3"
  },
  "language_info": {
   "codemirror_mode": {
    "name": "ipython",
    "version": 3
   },
   "file_extension": ".py",
   "mimetype": "text/x-python",
   "name": "python",
   "nbconvert_exporter": "python",
   "pygments_lexer": "ipython3",
   "version": "3.12.4"
  }
 },
 "nbformat": 4,
 "nbformat_minor": 5
}
