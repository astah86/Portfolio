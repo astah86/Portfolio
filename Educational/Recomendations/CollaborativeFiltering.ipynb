{
 "cells": [
  {
   "cell_type": "code",
   "execution_count": 243,
   "id": "19807821-a92b-47da-b19b-c53025b54442",
   "metadata": {},
   "outputs": [],
   "source": [
    "import numpy as np\n",
    "import pandas as pd\n",
    "import scipy.sparse as sparse\n",
    "from pandas.api.types import CategoricalDtype \n",
    "import implicit\n",
    "import tqdm\n"
   ]
  },
  {
   "cell_type": "code",
   "execution_count": 130,
   "id": "9446a4b1-456d-4bf1-9228-389ad396ca99",
   "metadata": {},
   "outputs": [
    {
     "data": {
      "text/html": [
       "<div>\n",
       "<style scoped>\n",
       "    .dataframe tbody tr th:only-of-type {\n",
       "        vertical-align: middle;\n",
       "    }\n",
       "\n",
       "    .dataframe tbody tr th {\n",
       "        vertical-align: top;\n",
       "    }\n",
       "\n",
       "    .dataframe thead th {\n",
       "        text-align: right;\n",
       "    }\n",
       "</style>\n",
       "<table border=\"1\" class=\"dataframe\">\n",
       "  <thead>\n",
       "    <tr style=\"text-align: right;\">\n",
       "      <th></th>\n",
       "      <th>user_id</th>\n",
       "      <th>book_id</th>\n",
       "      <th>rating</th>\n",
       "    </tr>\n",
       "  </thead>\n",
       "  <tbody>\n",
       "    <tr>\n",
       "      <th>0</th>\n",
       "      <td>1</td>\n",
       "      <td>258</td>\n",
       "      <td>5</td>\n",
       "    </tr>\n",
       "    <tr>\n",
       "      <th>1</th>\n",
       "      <td>2</td>\n",
       "      <td>4081</td>\n",
       "      <td>4</td>\n",
       "    </tr>\n",
       "    <tr>\n",
       "      <th>2</th>\n",
       "      <td>2</td>\n",
       "      <td>260</td>\n",
       "      <td>5</td>\n",
       "    </tr>\n",
       "    <tr>\n",
       "      <th>3</th>\n",
       "      <td>2</td>\n",
       "      <td>9296</td>\n",
       "      <td>5</td>\n",
       "    </tr>\n",
       "    <tr>\n",
       "      <th>4</th>\n",
       "      <td>2</td>\n",
       "      <td>2318</td>\n",
       "      <td>3</td>\n",
       "    </tr>\n",
       "    <tr>\n",
       "      <th>...</th>\n",
       "      <td>...</td>\n",
       "      <td>...</td>\n",
       "      <td>...</td>\n",
       "    </tr>\n",
       "    <tr>\n",
       "      <th>5976474</th>\n",
       "      <td>49925</td>\n",
       "      <td>510</td>\n",
       "      <td>5</td>\n",
       "    </tr>\n",
       "    <tr>\n",
       "      <th>5976475</th>\n",
       "      <td>49925</td>\n",
       "      <td>528</td>\n",
       "      <td>4</td>\n",
       "    </tr>\n",
       "    <tr>\n",
       "      <th>5976476</th>\n",
       "      <td>49925</td>\n",
       "      <td>722</td>\n",
       "      <td>4</td>\n",
       "    </tr>\n",
       "    <tr>\n",
       "      <th>5976477</th>\n",
       "      <td>49925</td>\n",
       "      <td>949</td>\n",
       "      <td>5</td>\n",
       "    </tr>\n",
       "    <tr>\n",
       "      <th>5976478</th>\n",
       "      <td>49925</td>\n",
       "      <td>1023</td>\n",
       "      <td>4</td>\n",
       "    </tr>\n",
       "  </tbody>\n",
       "</table>\n",
       "<p>5976479 rows × 3 columns</p>\n",
       "</div>"
      ],
      "text/plain": [
       "         user_id  book_id  rating\n",
       "0              1      258       5\n",
       "1              2     4081       4\n",
       "2              2      260       5\n",
       "3              2     9296       5\n",
       "4              2     2318       3\n",
       "...          ...      ...     ...\n",
       "5976474    49925      510       5\n",
       "5976475    49925      528       4\n",
       "5976476    49925      722       4\n",
       "5976477    49925      949       5\n",
       "5976478    49925     1023       4\n",
       "\n",
       "[5976479 rows x 3 columns]"
      ]
     },
     "execution_count": 130,
     "metadata": {},
     "output_type": "execute_result"
    }
   ],
   "source": [
    "# Загрузим датасет\n",
    "ratings = pd.read_csv('ratings.csv')\n",
    "ratings"
   ]
  },
  {
   "cell_type": "code",
   "execution_count": 132,
   "id": "47f50ce3-16d9-44ec-b4cd-4403276d1288",
   "metadata": {},
   "outputs": [
    {
     "data": {
      "text/html": [
       "<div>\n",
       "<style scoped>\n",
       "    .dataframe tbody tr th:only-of-type {\n",
       "        vertical-align: middle;\n",
       "    }\n",
       "\n",
       "    .dataframe tbody tr th {\n",
       "        vertical-align: top;\n",
       "    }\n",
       "\n",
       "    .dataframe thead th {\n",
       "        text-align: right;\n",
       "    }\n",
       "</style>\n",
       "<table border=\"1\" class=\"dataframe\">\n",
       "  <thead>\n",
       "    <tr style=\"text-align: right;\">\n",
       "      <th></th>\n",
       "      <th>user_id</th>\n",
       "      <th>book_id</th>\n",
       "      <th>rating</th>\n",
       "    </tr>\n",
       "  </thead>\n",
       "  <tbody>\n",
       "    <tr>\n",
       "      <th>0</th>\n",
       "      <td>1</td>\n",
       "      <td>258</td>\n",
       "      <td>2</td>\n",
       "    </tr>\n",
       "    <tr>\n",
       "      <th>1</th>\n",
       "      <td>2</td>\n",
       "      <td>4081</td>\n",
       "      <td>2</td>\n",
       "    </tr>\n",
       "    <tr>\n",
       "      <th>2</th>\n",
       "      <td>2</td>\n",
       "      <td>260</td>\n",
       "      <td>2</td>\n",
       "    </tr>\n",
       "    <tr>\n",
       "      <th>3</th>\n",
       "      <td>2</td>\n",
       "      <td>9296</td>\n",
       "      <td>2</td>\n",
       "    </tr>\n",
       "    <tr>\n",
       "      <th>4</th>\n",
       "      <td>2</td>\n",
       "      <td>2318</td>\n",
       "      <td>1</td>\n",
       "    </tr>\n",
       "    <tr>\n",
       "      <th>...</th>\n",
       "      <td>...</td>\n",
       "      <td>...</td>\n",
       "      <td>...</td>\n",
       "    </tr>\n",
       "    <tr>\n",
       "      <th>5976474</th>\n",
       "      <td>49925</td>\n",
       "      <td>510</td>\n",
       "      <td>2</td>\n",
       "    </tr>\n",
       "    <tr>\n",
       "      <th>5976475</th>\n",
       "      <td>49925</td>\n",
       "      <td>528</td>\n",
       "      <td>2</td>\n",
       "    </tr>\n",
       "    <tr>\n",
       "      <th>5976476</th>\n",
       "      <td>49925</td>\n",
       "      <td>722</td>\n",
       "      <td>2</td>\n",
       "    </tr>\n",
       "    <tr>\n",
       "      <th>5976477</th>\n",
       "      <td>49925</td>\n",
       "      <td>949</td>\n",
       "      <td>2</td>\n",
       "    </tr>\n",
       "    <tr>\n",
       "      <th>5976478</th>\n",
       "      <td>49925</td>\n",
       "      <td>1023</td>\n",
       "      <td>2</td>\n",
       "    </tr>\n",
       "  </tbody>\n",
       "</table>\n",
       "<p>5976479 rows × 3 columns</p>\n",
       "</div>"
      ],
      "text/plain": [
       "         user_id  book_id  rating\n",
       "0              1      258       2\n",
       "1              2     4081       2\n",
       "2              2      260       2\n",
       "3              2     9296       2\n",
       "4              2     2318       1\n",
       "...          ...      ...     ...\n",
       "5976474    49925      510       2\n",
       "5976475    49925      528       2\n",
       "5976476    49925      722       2\n",
       "5976477    49925      949       2\n",
       "5976478    49925     1023       2\n",
       "\n",
       "[5976479 rows x 3 columns]"
      ]
     },
     "execution_count": 132,
     "metadata": {},
     "output_type": "execute_result"
    }
   ],
   "source": [
    "# Зададим бинарные оценки 2 - книга понравилась, 1 - не понравилась, если задать, как в задании, то книги, которые не читали и книги, \n",
    "# которые не понравились, не будут отличаться\n",
    "ratings.loc[ratings['rating'] <= 3, 'rating'] = 1\n",
    "ratings.loc[ratings['rating'] > 3, 'rating'] = 2\n",
    "ratings"
   ]
  },
  {
   "cell_type": "code",
   "execution_count": 134,
   "id": "eb1318a6-4c04-4cc7-8076-f278758e6e7c",
   "metadata": {},
   "outputs": [
    {
     "data": {
      "text/html": [
       "<div>\n",
       "<style scoped>\n",
       "    .dataframe tbody tr th:only-of-type {\n",
       "        vertical-align: middle;\n",
       "    }\n",
       "\n",
       "    .dataframe tbody tr th {\n",
       "        vertical-align: top;\n",
       "    }\n",
       "\n",
       "    .dataframe thead th {\n",
       "        text-align: right;\n",
       "    }\n",
       "</style>\n",
       "<table border=\"1\" class=\"dataframe\">\n",
       "  <thead>\n",
       "    <tr style=\"text-align: right;\">\n",
       "      <th></th>\n",
       "      <th>user_id</th>\n",
       "      <th>book_id</th>\n",
       "      <th>rating</th>\n",
       "      <th>number</th>\n",
       "    </tr>\n",
       "  </thead>\n",
       "  <tbody>\n",
       "    <tr>\n",
       "      <th>0</th>\n",
       "      <td>1</td>\n",
       "      <td>258</td>\n",
       "      <td>2</td>\n",
       "      <td>1</td>\n",
       "    </tr>\n",
       "    <tr>\n",
       "      <th>999485</th>\n",
       "      <td>1</td>\n",
       "      <td>140</td>\n",
       "      <td>1</td>\n",
       "      <td>2</td>\n",
       "    </tr>\n",
       "    <tr>\n",
       "      <th>999486</th>\n",
       "      <td>1</td>\n",
       "      <td>869</td>\n",
       "      <td>2</td>\n",
       "      <td>3</td>\n",
       "    </tr>\n",
       "    <tr>\n",
       "      <th>999487</th>\n",
       "      <td>1</td>\n",
       "      <td>2679</td>\n",
       "      <td>1</td>\n",
       "      <td>4</td>\n",
       "    </tr>\n",
       "    <tr>\n",
       "      <th>999488</th>\n",
       "      <td>1</td>\n",
       "      <td>1310</td>\n",
       "      <td>2</td>\n",
       "      <td>5</td>\n",
       "    </tr>\n",
       "    <tr>\n",
       "      <th>...</th>\n",
       "      <td>...</td>\n",
       "      <td>...</td>\n",
       "      <td>...</td>\n",
       "      <td>...</td>\n",
       "    </tr>\n",
       "    <tr>\n",
       "      <th>5404305</th>\n",
       "      <td>53424</td>\n",
       "      <td>5500</td>\n",
       "      <td>2</td>\n",
       "      <td>129</td>\n",
       "    </tr>\n",
       "    <tr>\n",
       "      <th>5404304</th>\n",
       "      <td>53424</td>\n",
       "      <td>4214</td>\n",
       "      <td>2</td>\n",
       "      <td>130</td>\n",
       "    </tr>\n",
       "    <tr>\n",
       "      <th>5404302</th>\n",
       "      <td>53424</td>\n",
       "      <td>2032</td>\n",
       "      <td>2</td>\n",
       "      <td>131</td>\n",
       "    </tr>\n",
       "    <tr>\n",
       "      <th>5404318</th>\n",
       "      <td>53424</td>\n",
       "      <td>41</td>\n",
       "      <td>2</td>\n",
       "      <td>132</td>\n",
       "    </tr>\n",
       "    <tr>\n",
       "      <th>5404267</th>\n",
       "      <td>53424</td>\n",
       "      <td>77</td>\n",
       "      <td>2</td>\n",
       "      <td>133</td>\n",
       "    </tr>\n",
       "  </tbody>\n",
       "</table>\n",
       "<p>5976479 rows × 4 columns</p>\n",
       "</div>"
      ],
      "text/plain": [
       "         user_id  book_id  rating  number\n",
       "0              1      258       2       1\n",
       "999485         1      140       1       2\n",
       "999486         1      869       2       3\n",
       "999487         1     2679       1       4\n",
       "999488         1     1310       2       5\n",
       "...          ...      ...     ...     ...\n",
       "5404305    53424     5500       2     129\n",
       "5404304    53424     4214       2     130\n",
       "5404302    53424     2032       2     131\n",
       "5404318    53424       41       2     132\n",
       "5404267    53424       77       2     133\n",
       "\n",
       "[5976479 rows x 4 columns]"
      ]
     },
     "execution_count": 134,
     "metadata": {},
     "output_type": "execute_result"
    }
   ],
   "source": [
    "# Пронумеруем прочитанные книги\n",
    "ratings = ratings.sort_values(by=['user_id'])\n",
    "number = []\n",
    "n = 1\n",
    "for i in range(0, len(ratings)):\n",
    "    if i == 0:\n",
    "        number.append(n)\n",
    "        continue\n",
    "    if ratings.iloc[i,0] != ratings.iloc[i-1,0]:\n",
    "        n = 1\n",
    "        number.append(n)\n",
    "        continue\n",
    "    else:\n",
    "        n += 1\n",
    "        number.append(n)\n",
    "        continue\n",
    "ratings['number'] = number\n",
    "ratings  \n",
    "    "
   ]
  },
  {
   "cell_type": "code",
   "execution_count": 136,
   "id": "e8ec8d50-122d-447c-b469-d530e0280f74",
   "metadata": {},
   "outputs": [
    {
     "data": {
      "text/html": [
       "<div>\n",
       "<style scoped>\n",
       "    .dataframe tbody tr th:only-of-type {\n",
       "        vertical-align: middle;\n",
       "    }\n",
       "\n",
       "    .dataframe tbody tr th {\n",
       "        vertical-align: top;\n",
       "    }\n",
       "\n",
       "    .dataframe thead th {\n",
       "        text-align: right;\n",
       "    }\n",
       "</style>\n",
       "<table border=\"1\" class=\"dataframe\">\n",
       "  <thead>\n",
       "    <tr style=\"text-align: right;\">\n",
       "      <th></th>\n",
       "      <th>user_id</th>\n",
       "      <th>book_id</th>\n",
       "      <th>rating</th>\n",
       "      <th>number</th>\n",
       "      <th>count</th>\n",
       "    </tr>\n",
       "  </thead>\n",
       "  <tbody>\n",
       "    <tr>\n",
       "      <th>0</th>\n",
       "      <td>1</td>\n",
       "      <td>258</td>\n",
       "      <td>2</td>\n",
       "      <td>1</td>\n",
       "      <td>117</td>\n",
       "    </tr>\n",
       "    <tr>\n",
       "      <th>1</th>\n",
       "      <td>1</td>\n",
       "      <td>140</td>\n",
       "      <td>1</td>\n",
       "      <td>2</td>\n",
       "      <td>117</td>\n",
       "    </tr>\n",
       "    <tr>\n",
       "      <th>2</th>\n",
       "      <td>1</td>\n",
       "      <td>869</td>\n",
       "      <td>2</td>\n",
       "      <td>3</td>\n",
       "      <td>117</td>\n",
       "    </tr>\n",
       "    <tr>\n",
       "      <th>3</th>\n",
       "      <td>1</td>\n",
       "      <td>2679</td>\n",
       "      <td>1</td>\n",
       "      <td>4</td>\n",
       "      <td>117</td>\n",
       "    </tr>\n",
       "    <tr>\n",
       "      <th>4</th>\n",
       "      <td>1</td>\n",
       "      <td>1310</td>\n",
       "      <td>2</td>\n",
       "      <td>5</td>\n",
       "      <td>117</td>\n",
       "    </tr>\n",
       "    <tr>\n",
       "      <th>...</th>\n",
       "      <td>...</td>\n",
       "      <td>...</td>\n",
       "      <td>...</td>\n",
       "      <td>...</td>\n",
       "      <td>...</td>\n",
       "    </tr>\n",
       "    <tr>\n",
       "      <th>5976474</th>\n",
       "      <td>53424</td>\n",
       "      <td>5500</td>\n",
       "      <td>2</td>\n",
       "      <td>129</td>\n",
       "      <td>133</td>\n",
       "    </tr>\n",
       "    <tr>\n",
       "      <th>5976475</th>\n",
       "      <td>53424</td>\n",
       "      <td>4214</td>\n",
       "      <td>2</td>\n",
       "      <td>130</td>\n",
       "      <td>133</td>\n",
       "    </tr>\n",
       "    <tr>\n",
       "      <th>5976476</th>\n",
       "      <td>53424</td>\n",
       "      <td>2032</td>\n",
       "      <td>2</td>\n",
       "      <td>131</td>\n",
       "      <td>133</td>\n",
       "    </tr>\n",
       "    <tr>\n",
       "      <th>5976477</th>\n",
       "      <td>53424</td>\n",
       "      <td>41</td>\n",
       "      <td>2</td>\n",
       "      <td>132</td>\n",
       "      <td>133</td>\n",
       "    </tr>\n",
       "    <tr>\n",
       "      <th>5976478</th>\n",
       "      <td>53424</td>\n",
       "      <td>77</td>\n",
       "      <td>2</td>\n",
       "      <td>133</td>\n",
       "      <td>133</td>\n",
       "    </tr>\n",
       "  </tbody>\n",
       "</table>\n",
       "<p>5976479 rows × 5 columns</p>\n",
       "</div>"
      ],
      "text/plain": [
       "         user_id  book_id  rating  number  count\n",
       "0              1      258       2       1    117\n",
       "1              1      140       1       2    117\n",
       "2              1      869       2       3    117\n",
       "3              1     2679       1       4    117\n",
       "4              1     1310       2       5    117\n",
       "...          ...      ...     ...     ...    ...\n",
       "5976474    53424     5500       2     129    133\n",
       "5976475    53424     4214       2     130    133\n",
       "5976476    53424     2032       2     131    133\n",
       "5976477    53424       41       2     132    133\n",
       "5976478    53424       77       2     133    133\n",
       "\n",
       "[5976479 rows x 5 columns]"
      ]
     },
     "execution_count": 136,
     "metadata": {},
     "output_type": "execute_result"
    }
   ],
   "source": [
    "# Посчитаем количество прочитанных\n",
    "count = ratings.groupby('user_id').max().reset_index()[['user_id', 'number']]\n",
    "count.rename(columns={'number': 'count'}, inplace=True)\n",
    "ratings = ratings.merge(count, how='left')\n",
    "ratings"
   ]
  },
  {
   "cell_type": "code",
   "execution_count": 138,
   "id": "72773e59-2a85-4ab2-8393-4726867e78ec",
   "metadata": {},
   "outputs": [
    {
     "data": {
      "text/html": [
       "<div>\n",
       "<style scoped>\n",
       "    .dataframe tbody tr th:only-of-type {\n",
       "        vertical-align: middle;\n",
       "    }\n",
       "\n",
       "    .dataframe tbody tr th {\n",
       "        vertical-align: top;\n",
       "    }\n",
       "\n",
       "    .dataframe thead th {\n",
       "        text-align: right;\n",
       "    }\n",
       "</style>\n",
       "<table border=\"1\" class=\"dataframe\">\n",
       "  <thead>\n",
       "    <tr style=\"text-align: right;\">\n",
       "      <th></th>\n",
       "      <th>user_id</th>\n",
       "      <th>book_id</th>\n",
       "      <th>rating</th>\n",
       "      <th>number</th>\n",
       "      <th>count</th>\n",
       "      <th>fractions</th>\n",
       "    </tr>\n",
       "  </thead>\n",
       "  <tbody>\n",
       "    <tr>\n",
       "      <th>0</th>\n",
       "      <td>1</td>\n",
       "      <td>258</td>\n",
       "      <td>2</td>\n",
       "      <td>1</td>\n",
       "      <td>117</td>\n",
       "      <td>0.008547</td>\n",
       "    </tr>\n",
       "    <tr>\n",
       "      <th>1</th>\n",
       "      <td>1</td>\n",
       "      <td>140</td>\n",
       "      <td>1</td>\n",
       "      <td>2</td>\n",
       "      <td>117</td>\n",
       "      <td>0.017094</td>\n",
       "    </tr>\n",
       "    <tr>\n",
       "      <th>2</th>\n",
       "      <td>1</td>\n",
       "      <td>869</td>\n",
       "      <td>2</td>\n",
       "      <td>3</td>\n",
       "      <td>117</td>\n",
       "      <td>0.025641</td>\n",
       "    </tr>\n",
       "    <tr>\n",
       "      <th>3</th>\n",
       "      <td>1</td>\n",
       "      <td>2679</td>\n",
       "      <td>1</td>\n",
       "      <td>4</td>\n",
       "      <td>117</td>\n",
       "      <td>0.034188</td>\n",
       "    </tr>\n",
       "    <tr>\n",
       "      <th>4</th>\n",
       "      <td>1</td>\n",
       "      <td>1310</td>\n",
       "      <td>2</td>\n",
       "      <td>5</td>\n",
       "      <td>117</td>\n",
       "      <td>0.042735</td>\n",
       "    </tr>\n",
       "    <tr>\n",
       "      <th>...</th>\n",
       "      <td>...</td>\n",
       "      <td>...</td>\n",
       "      <td>...</td>\n",
       "      <td>...</td>\n",
       "      <td>...</td>\n",
       "      <td>...</td>\n",
       "    </tr>\n",
       "    <tr>\n",
       "      <th>5976474</th>\n",
       "      <td>53424</td>\n",
       "      <td>5500</td>\n",
       "      <td>2</td>\n",
       "      <td>129</td>\n",
       "      <td>133</td>\n",
       "      <td>0.969925</td>\n",
       "    </tr>\n",
       "    <tr>\n",
       "      <th>5976475</th>\n",
       "      <td>53424</td>\n",
       "      <td>4214</td>\n",
       "      <td>2</td>\n",
       "      <td>130</td>\n",
       "      <td>133</td>\n",
       "      <td>0.977444</td>\n",
       "    </tr>\n",
       "    <tr>\n",
       "      <th>5976476</th>\n",
       "      <td>53424</td>\n",
       "      <td>2032</td>\n",
       "      <td>2</td>\n",
       "      <td>131</td>\n",
       "      <td>133</td>\n",
       "      <td>0.984962</td>\n",
       "    </tr>\n",
       "    <tr>\n",
       "      <th>5976477</th>\n",
       "      <td>53424</td>\n",
       "      <td>41</td>\n",
       "      <td>2</td>\n",
       "      <td>132</td>\n",
       "      <td>133</td>\n",
       "      <td>0.992481</td>\n",
       "    </tr>\n",
       "    <tr>\n",
       "      <th>5976478</th>\n",
       "      <td>53424</td>\n",
       "      <td>77</td>\n",
       "      <td>2</td>\n",
       "      <td>133</td>\n",
       "      <td>133</td>\n",
       "      <td>1.000000</td>\n",
       "    </tr>\n",
       "  </tbody>\n",
       "</table>\n",
       "<p>5976479 rows × 6 columns</p>\n",
       "</div>"
      ],
      "text/plain": [
       "         user_id  book_id  rating  number  count  fractions\n",
       "0              1      258       2       1    117   0.008547\n",
       "1              1      140       1       2    117   0.017094\n",
       "2              1      869       2       3    117   0.025641\n",
       "3              1     2679       1       4    117   0.034188\n",
       "4              1     1310       2       5    117   0.042735\n",
       "...          ...      ...     ...     ...    ...        ...\n",
       "5976474    53424     5500       2     129    133   0.969925\n",
       "5976475    53424     4214       2     130    133   0.977444\n",
       "5976476    53424     2032       2     131    133   0.984962\n",
       "5976477    53424       41       2     132    133   0.992481\n",
       "5976478    53424       77       2     133    133   1.000000\n",
       "\n",
       "[5976479 rows x 6 columns]"
      ]
     },
     "execution_count": 138,
     "metadata": {},
     "output_type": "execute_result"
    }
   ],
   "source": [
    "# Переведем номера прочитанных книг в доли\n",
    "ratings['fractions'] = ratings['number'] / ratings['count']\n",
    "ratings"
   ]
  },
  {
   "cell_type": "code",
   "execution_count": 140,
   "id": "0c8f405e-afea-4f87-9adc-0bec5b8baddc",
   "metadata": {},
   "outputs": [
    {
     "data": {
      "text/html": [
       "<div>\n",
       "<style scoped>\n",
       "    .dataframe tbody tr th:only-of-type {\n",
       "        vertical-align: middle;\n",
       "    }\n",
       "\n",
       "    .dataframe tbody tr th {\n",
       "        vertical-align: top;\n",
       "    }\n",
       "\n",
       "    .dataframe thead th {\n",
       "        text-align: right;\n",
       "    }\n",
       "</style>\n",
       "<table border=\"1\" class=\"dataframe\">\n",
       "  <thead>\n",
       "    <tr style=\"text-align: right;\">\n",
       "      <th></th>\n",
       "      <th>user_id</th>\n",
       "      <th>book_id</th>\n",
       "      <th>rating</th>\n",
       "    </tr>\n",
       "  </thead>\n",
       "  <tbody>\n",
       "    <tr>\n",
       "      <th>0</th>\n",
       "      <td>1</td>\n",
       "      <td>258</td>\n",
       "      <td>2</td>\n",
       "    </tr>\n",
       "    <tr>\n",
       "      <th>1</th>\n",
       "      <td>1</td>\n",
       "      <td>140</td>\n",
       "      <td>1</td>\n",
       "    </tr>\n",
       "    <tr>\n",
       "      <th>2</th>\n",
       "      <td>1</td>\n",
       "      <td>869</td>\n",
       "      <td>2</td>\n",
       "    </tr>\n",
       "    <tr>\n",
       "      <th>3</th>\n",
       "      <td>1</td>\n",
       "      <td>2679</td>\n",
       "      <td>1</td>\n",
       "    </tr>\n",
       "    <tr>\n",
       "      <th>4</th>\n",
       "      <td>1</td>\n",
       "      <td>1310</td>\n",
       "      <td>2</td>\n",
       "    </tr>\n",
       "    <tr>\n",
       "      <th>...</th>\n",
       "      <td>...</td>\n",
       "      <td>...</td>\n",
       "      <td>...</td>\n",
       "    </tr>\n",
       "    <tr>\n",
       "      <th>5976434</th>\n",
       "      <td>53424</td>\n",
       "      <td>518</td>\n",
       "      <td>2</td>\n",
       "    </tr>\n",
       "    <tr>\n",
       "      <th>5976435</th>\n",
       "      <td>53424</td>\n",
       "      <td>257</td>\n",
       "      <td>2</td>\n",
       "    </tr>\n",
       "    <tr>\n",
       "      <th>5976436</th>\n",
       "      <td>53424</td>\n",
       "      <td>332</td>\n",
       "      <td>2</td>\n",
       "    </tr>\n",
       "    <tr>\n",
       "      <th>5976437</th>\n",
       "      <td>53424</td>\n",
       "      <td>245</td>\n",
       "      <td>2</td>\n",
       "    </tr>\n",
       "    <tr>\n",
       "      <th>5976438</th>\n",
       "      <td>53424</td>\n",
       "      <td>133</td>\n",
       "      <td>2</td>\n",
       "    </tr>\n",
       "  </tbody>\n",
       "</table>\n",
       "<p>4159553 rows × 3 columns</p>\n",
       "</div>"
      ],
      "text/plain": [
       "         user_id  book_id  rating\n",
       "0              1      258       2\n",
       "1              1      140       1\n",
       "2              1      869       2\n",
       "3              1     2679       1\n",
       "4              1     1310       2\n",
       "...          ...      ...     ...\n",
       "5976434    53424      518       2\n",
       "5976435    53424      257       2\n",
       "5976436    53424      332       2\n",
       "5976437    53424      245       2\n",
       "5976438    53424      133       2\n",
       "\n",
       "[4159553 rows x 3 columns]"
      ]
     },
     "execution_count": 140,
     "metadata": {},
     "output_type": "execute_result"
    }
   ],
   "source": [
    "# Разобъем на трейн\n",
    "train = ratings[ratings.fractions <= 0.7].drop(columns=['number', 'count', 'fractions'])\n",
    "train    "
   ]
  },
  {
   "cell_type": "code",
   "execution_count": 142,
   "id": "d2ee67dc-7336-4a07-ad18-5559bf86fcca",
   "metadata": {},
   "outputs": [],
   "source": [
    "# train.to_csv('train for Collabaration.csv', index=False)"
   ]
  },
  {
   "cell_type": "code",
   "execution_count": 144,
   "id": "656b7546-33e5-4acb-bb56-7811299e96b4",
   "metadata": {},
   "outputs": [
    {
     "data": {
      "text/plain": [
       "(53424, 10000)"
      ]
     },
     "execution_count": 144,
     "metadata": {},
     "output_type": "execute_result"
    }
   ],
   "source": [
    "# Получим матрицу для трейна\n",
    "user_index = train.user_id.unique()\n",
    "books_index = train.book_id.unique()\n",
    "\n",
    "rows = train['user_id'].astype(CategoricalDtype(categories=user_index)).cat.codes\n",
    "cols = train['book_id'].astype(CategoricalDtype(categories=books_index)).cat.codes\n",
    "\n",
    "matrix = sparse.csr_matrix((train.rating, (rows, cols)), shape=(len(user_index), len(books_index)))\n",
    "matrix = matrix.toarray()\n",
    "matrix.shape"
   ]
  },
  {
   "cell_type": "code",
   "execution_count": 154,
   "id": "3fd567e1-df7f-41f1-91c8-790ebc48e319",
   "metadata": {},
   "outputs": [
    {
     "data": {
      "text/plain": [
       "(53424, 10000)"
      ]
     },
     "execution_count": 154,
     "metadata": {},
     "output_type": "execute_result"
    }
   ],
   "source": [
    "# Получим матрицу для теста\n",
    "test = ratings[ratings.fractions > 0.7].drop(columns=['number', 'count', 'fractions'])\n",
    "# test.to_csv('test for Collabaration.csv', index=False)\n",
    "user_index1 = test.user_id.unique()\n",
    "books_index1 = test.book_id.unique()\n",
    "\n",
    "rows1 = test['user_id'].astype(CategoricalDtype(categories=user_index1)).cat.codes\n",
    "cols1 = test['book_id'].astype(CategoricalDtype(categories=books_index1)).cat.codes\n",
    "\n",
    "matrix1 = sparse.csr_matrix((test.rating, (rows1, cols1)), shape=(len(user_index1), len(books_index1)))\n",
    "matrix1 = matrix1.toarray()\n",
    "matrix1.shape"
   ]
  },
  {
   "cell_type": "code",
   "execution_count": 146,
   "id": "2b5c136c-5f30-4734-8e58-e31d676bf74f",
   "metadata": {},
   "outputs": [
    {
     "name": "stdout",
     "output_type": "stream",
     "text": [
      "2 The Last Lecture\n",
      "2 The Great Gatsby\n",
      "2 Het Achterhuis: Dagboekbrieven 14 juni 1942 - 1 augustus 1944\n",
      "2 Velvet Elvis: Repainting the Christian Faith\n",
      "1 Where the Sidewalk Ends: The Poems and Drawings of Shel Silverstein\n",
      "1 The Hobbit or There and Back Again\n",
      "2 Hatchet\n",
      "1 The Fault in Our Stars\n",
      "2 Maus: A Survivor's Tale : My Father Bleeds History\n",
      "2 The Shack: Where Tragedy Confronts Eternity\n",
      "2 バトル・ロワイアル\n",
      "2 Artemis Fowl\n",
      "2 The Arctic Incident\n",
      "2 The Opal Deception\n",
      "2 The Eternity Code\n",
      "1 Ensaio Sobre a Cegueira\n",
      "2 Fahrenheit 451\n",
      "2 Freakonomics: A Rogue Economist Explores the Hidden Side of Everything\n",
      "1 Persepolis\n",
      "1 The Graveyard Book\n",
      "1 Gregor the Overlander\n",
      "2 The Outsiders\n",
      "2 The Lost Hero\n",
      "2 Legend\n",
      "1 The Art of Fielding\n",
      "1 Insurgent\n",
      "1 Liar & Spy\n",
      "2 Lost in Shangri-la\n",
      "2 Unbroken: A World War II Story of Survival, Resilience, and Redemption\n",
      "2 The Mark of Athena\n",
      "2 The Chosen\n",
      "1 Drama\n",
      "1 The Forever War\n",
      "1 Pursuit of God\n",
      "2 The Litigators\n",
      "2 Fablehaven\n",
      "2 The Stonekeeper\n",
      "2 Darth Paper Strikes Back\n",
      "2 The Wednesday Wars\n",
      "1 Magyk\n",
      "2 The City of Ember\n",
      "2 nan\n",
      "2 The Pit and the Pendulum\n",
      "2 The Serpent's Shadow\n",
      "2 The Black Cat\n",
      "1 Crank (Crank, #1)\n",
      "1 The Adventures of Captain Underpants\n",
      "2 Amulet: Book Three: The Cloud Searchers\n",
      "2 nan\n",
      "2 The Blood Gospel: The Order of the Sanguines Series\n",
      "1 Maniac Magee\n",
      "2 Smile\n",
      "2 Monster\n",
      "2 The Dragonslayer (Bone, #4)\n",
      "2 The Essential Calvin and Hobbes: A Calvin and Hobbes Treasury\n",
      "2 One False Note (The 39 Clues, Book 2)\n",
      "2 Ungifted\n",
      "2 Rodrick Rules\n",
      "1 Captain Underpants and the Attack of the Talking Toilets\n",
      "1 Coraline\n",
      "2 Zita the Spacegirl\n",
      "1 nan\n",
      "1 The Emperor's Tomb\n",
      "1 Big Nate: In a Class By Himself\n",
      "2 Bomb: The Race to Build—and Steal—the World's Most Dangerous Weapon\n",
      "2 The Third Wheel\n",
      "1 Big Nate on a Roll\n"
     ]
    }
   ],
   "source": [
    "# Выведем список названий книг с высокой оценкой для пользователя 29104\n",
    "books = pd.read_csv('books.csv')\n",
    "user_number = 29104\n",
    "for ind, score in enumerate(matrix[user_number]):\n",
    "    if score>0:\n",
    "        books_id = books_index[ind]\n",
    "        print(score, books[books['book_id']==books_id].original_title.values[0])"
   ]
  },
  {
   "cell_type": "code",
   "execution_count": 186,
   "id": "1309741e-d1f1-4165-b9d5-766750805131",
   "metadata": {},
   "outputs": [],
   "source": [
    "# Функция, которая подсчитывает метрику AP@K\n",
    "def average_precision_at_k(recommendations, positive_books, k):\n",
    "    found = 0\n",
    "    accumulated_precision = 0\n",
    "    if len(positive_books) > 0:\n",
    "        for i, book in enumerate(recommendations):\n",
    "            if book in positive_books:\n",
    "                found += 1\n",
    "                precision_at_k = found / (i + 1)\n",
    "                accumulated_precision += precision_at_k\n",
    "        \n",
    "        average_precision = accumulated_precision / min(k, len(positive_books))\n",
    "    else:\n",
    "        average_precision = 0\n",
    "    \n",
    "    return average_precision"
   ]
  },
  {
   "cell_type": "code",
   "execution_count": 180,
   "id": "7bdd20a1-45d6-4ccb-b2be-aa9b6223d1d0",
   "metadata": {},
   "outputs": [],
   "source": [
    "# случайный список из 500 пользовательских индексов\n",
    "user_random = np.random.randint(matrix.shape[0], size=500)"
   ]
  },
  {
   "cell_type": "code",
   "execution_count": 188,
   "id": "83e37266-134b-4816-82e8-17690ed75ac9",
   "metadata": {},
   "outputs": [
    {
     "name": "stdout",
     "output_type": "stream",
     "text": [
      "Средняя метрика AP@10 для случайного бейзлайна: 0.010286600972127287\n"
     ]
    }
   ],
   "source": [
    "# Посчитаем метрики случайного бейзлайна\n",
    "baseline_ap_list = []\n",
    "for user in user_random:\n",
    "    recommendations = set(np.random.randint(matrix.shape[1], size=20))\n",
    "    user_books = set(np.where(matrix[user]>0)[0])\n",
    "    recommendations = recommendations - user_books\n",
    "    positive_books = []\n",
    "    \n",
    "    for recommendation in recommendations:\n",
    "        if recommendation in np.where(matrix1[user]>1)[0]:\n",
    "            positive_books.append(recommendation)\n",
    "\n",
    "    AP = average_precision_at_k(recommendations,  positive_books, 10)\n",
    "    baseline_ap_list.append(AP) \n",
    "            \n",
    "mean_ap_at_10 = sum(baseline_ap_list) / len(baseline_ap_list)\n",
    "\n",
    "print(\"Средняя метрика AP@10 для случайного бейзлайна:\", mean_ap_at_10)    "
   ]
  },
  {
   "cell_type": "code",
   "execution_count": 239,
   "id": "cfc4122e-c7bb-4893-bfd5-cc753732b1e6",
   "metadata": {},
   "outputs": [
    {
     "name": "stdout",
     "output_type": "stream",
     "text": [
      "Средняя метрика AP@10 для бейзлайна «Популярные айтемы»: 0.05060265909271327\n"
     ]
    }
   ],
   "source": [
    "# Посчитаем метрики бейзлайна «Популярные айтемы»\n",
    "baseline_ap_list = []\n",
    "popular_books = set(train.groupby('book_id').count().reset_index()[['book_id', 'user_id']].sort_values(by=['user_id'], ascending=False).iloc[:20,0])\n",
    "for user in user_random:\n",
    "    user_books = set(np.where(matrix[user]>0)[0])\n",
    "    recommendations = popular_books - user_books\n",
    "    positive_books = []\n",
    "    \n",
    "    for recommendation in recommendations:\n",
    "        if recommendation in np.where(matrix1[user]>1)[0]:\n",
    "            positive_books.append(recommendation)\n",
    "\n",
    "    AP = average_precision_at_k(recommendations,  positive_books, 10)\n",
    "    baseline_ap_list.append(AP) \n",
    "            \n",
    "mean_ap_at_10 = sum(baseline_ap_list) / len(baseline_ap_list)\n",
    "\n",
    "print(\"Средняя метрика AP@10 для бейзлайна «Популярные айтемы»:\", mean_ap_at_10)    "
   ]
  },
  {
   "cell_type": "code",
   "execution_count": 249,
   "id": "950c5301-aea1-4596-93cc-e3be13519a06",
   "metadata": {},
   "outputs": [
    {
     "data": {
      "application/vnd.jupyter.widget-view+json": {
       "model_id": "3aa72b8662b3493fb3991f769b24404f",
       "version_major": 2,
       "version_minor": 0
      },
      "text/plain": [
       "  0%|          | 0/15 [00:00<?, ?it/s]"
      ]
     },
     "metadata": {},
     "output_type": "display_data"
    }
   ],
   "source": [
    "# Обучим модель с базовыми парамтерами\n",
    "model = implicit.als.AlternatingLeastSquares(factors=100, iterations=15, num_threads=7)\n",
    "\n",
    "model.fit(sparse.csr_matrix(matrix))"
   ]
  },
  {
   "cell_type": "code",
   "execution_count": 255,
   "id": "b101ee5e-dbd9-4c76-adc8-11a30adf9028",
   "metadata": {},
   "outputs": [
    {
     "name": "stdout",
     "output_type": "stream",
     "text": [
      "The Lost Hero\n",
      "61 Hours\n",
      "Obsidian\n",
      "Prince of Thorns\n",
      "Blood of the Fold\n",
      "He's Just Not That Into You: The No-Excuses Truth to Understanding Guys\n",
      "Same Kind of Different as Me\n",
      "The Red Badge of Courage\n",
      "The Curious Incident of the Dog in the Night-Time\n",
      "George's Marvellous Medicine\n",
      "One for the Money\n",
      "Jurassic Park\n",
      "The Hobbit or There and Back Again\n",
      "Batman: Year One\n",
      "Illusions: The Adventures of a Reluctant Messiah\n",
      "Ramona the Pest\n",
      "The Story of My Life\n",
      "Black Hawk Down\n",
      "Freakonomics: A Rogue Economist Explores the Hidden Side of Everything\n",
      "Sushi for Beginners\n"
     ]
    }
   ],
   "source": [
    "# Получим список рекомендаций для пользователя 29104\n",
    "recommendations = model.recommend(user_number, sparse.csr_matrix(matrix)[user_number], N=20)\n",
    "for ind in recommendations[0]: \n",
    "   print(books[books['book_id']==ind].original_title.values[0])"
   ]
  },
  {
   "cell_type": "code",
   "execution_count": 265,
   "id": "1efde33b-1508-41f4-a0d0-16b441105d70",
   "metadata": {},
   "outputs": [
    {
     "name": "stderr",
     "output_type": "stream",
     "text": [
      "100%|████████████████████████████████████████████████████████████████████████████████| 500/500 [23:07<00:00,  2.77s/it]"
     ]
    },
    {
     "name": "stdout",
     "output_type": "stream",
     "text": [
      "Средняя метрика AP@10 для модели Implicit: 0.02918189098769594\n"
     ]
    },
    {
     "name": "stderr",
     "output_type": "stream",
     "text": [
      "\n"
     ]
    }
   ],
   "source": [
    "# Посчитаем метрики модели Implicit\n",
    "baseline_ap_list = []\n",
    "\n",
    "for user in tqdm.tqdm(user_random):\n",
    "    recomended_books = set(model.recommend(user_number, sparse.csr_matrix(matrix)[user_number], N=20)[0])\n",
    "    user_books = set(np.where(matrix[user]>0)[0])\n",
    "    recommendations = recomended_books - user_books\n",
    "    positive_books = []\n",
    "    \n",
    "    for recommendation in recommendations:\n",
    "        if recommendation in np.where(matrix1[user]>1)[0]:\n",
    "            positive_books.append(recommendation)\n",
    "\n",
    "    AP = average_precision_at_k(recommendations,  positive_books, 10)\n",
    "    baseline_ap_list.append(AP) \n",
    "            \n",
    "mean_ap_at_10 = sum(baseline_ap_list) / len(baseline_ap_list)\n",
    "\n",
    "print(\"Средняя метрика AP@10 для модели Implicit:\", mean_ap_at_10)   "
   ]
  },
  {
   "cell_type": "code",
   "execution_count": 271,
   "id": "10934ed8-ab95-4c77-8dc2-8373c1ef0cb3",
   "metadata": {},
   "outputs": [
    {
     "name": "stderr",
     "output_type": "stream",
     "text": [
      "  0%|                                                                                            | 0/3 [00:00<?, ?it/s]\n",
      "  0%|                                                                                            | 0/2 [00:00<?, ?it/s]\u001b[A"
     ]
    },
    {
     "data": {
      "application/vnd.jupyter.widget-view+json": {
       "model_id": "2c4ae6cdeab9468da803d59c6e96b93a",
       "version_major": 2,
       "version_minor": 0
      },
      "text/plain": [
       "  0%|          | 0/15 [00:00<?, ?it/s]"
      ]
     },
     "metadata": {},
     "output_type": "display_data"
    },
    {
     "name": "stderr",
     "output_type": "stream",
     "text": [
      "\n",
      "100%|███████████████████████████████████████████████████████████████████████████████████| 2/2 [23:47<00:00, 713.69s/it]\u001b[A\n",
      " 33%|███████████████████████████▎                                                      | 1/3 [23:47<47:34, 1427.39s/it]"
     ]
    },
    {
     "name": "stdout",
     "output_type": "stream",
     "text": [
      "Средняя метрика AP@10 для модели Implicit c factors = 200 и iterations=15: 0.030396550903516846\n"
     ]
    },
    {
     "name": "stderr",
     "output_type": "stream",
     "text": [
      "\n",
      "  0%|                                                                                            | 0/2 [00:00<?, ?it/s]\u001b[A"
     ]
    },
    {
     "data": {
      "application/vnd.jupyter.widget-view+json": {
       "model_id": "1f02b5ed06dc474e93ea68fc1e82f522",
       "version_major": 2,
       "version_minor": 0
      },
      "text/plain": [
       "  0%|          | 0/15 [00:00<?, ?it/s]"
      ]
     },
     "metadata": {},
     "output_type": "display_data"
    },
    {
     "name": "stderr",
     "output_type": "stream",
     "text": [
      "\n",
      " 50%|█████████████████████████████████████████                                         | 1/2 [24:05<24:05, 1445.32s/it]\u001b[A"
     ]
    },
    {
     "name": "stdout",
     "output_type": "stream",
     "text": [
      "Средняя метрика AP@10 для модели Implicit c factors = 100 и iterations=45: 0.034454256705340296\n"
     ]
    },
    {
     "data": {
      "application/vnd.jupyter.widget-view+json": {
       "model_id": "dd7fd00d31a34665957e2648a4591828",
       "version_major": 2,
       "version_minor": 0
      },
      "text/plain": [
       "  0%|          | 0/15 [00:00<?, ?it/s]"
      ]
     },
     "metadata": {},
     "output_type": "display_data"
    },
    {
     "name": "stderr",
     "output_type": "stream",
     "text": [
      "\n",
      "100%|██████████████████████████████████████████████████████████████████████████████████| 2/2 [48:16<00:00, 1448.44s/it]\u001b[A\n",
      " 67%|█████████████████████████████████████████████████████▎                          | 2/3 [1:12:04<38:11, 2291.80s/it]"
     ]
    },
    {
     "name": "stdout",
     "output_type": "stream",
     "text": [
      "Средняя метрика AP@10 для модели Implicit c factors = 200 и iterations=45: 0.025759885986046976\n"
     ]
    },
    {
     "name": "stderr",
     "output_type": "stream",
     "text": [
      "\n",
      "  0%|                                                                                            | 0/2 [00:00<?, ?it/s]\u001b[A"
     ]
    },
    {
     "data": {
      "application/vnd.jupyter.widget-view+json": {
       "model_id": "5be972080c7047b0a97861768ec68459",
       "version_major": 2,
       "version_minor": 0
      },
      "text/plain": [
       "  0%|          | 0/15 [00:00<?, ?it/s]"
      ]
     },
     "metadata": {},
     "output_type": "display_data"
    },
    {
     "name": "stderr",
     "output_type": "stream",
     "text": [
      "\n",
      " 50%|█████████████████████████████████████████                                         | 1/2 [24:11<24:11, 1451.95s/it]\u001b[A"
     ]
    },
    {
     "name": "stdout",
     "output_type": "stream",
     "text": [
      "Средняя метрика AP@10 для модели Implicit c factors = 100 и iterations=75: 0.029469270555725666\n"
     ]
    },
    {
     "data": {
      "application/vnd.jupyter.widget-view+json": {
       "model_id": "9d51bcfe0d2849058c2ae02bcba28605",
       "version_major": 2,
       "version_minor": 0
      },
      "text/plain": [
       "  0%|          | 0/15 [00:00<?, ?it/s]"
      ]
     },
     "metadata": {},
     "output_type": "display_data"
    },
    {
     "name": "stderr",
     "output_type": "stream",
     "text": [
      "\n",
      "100%|██████████████████████████████████████████████████████████████████████████████████| 2/2 [48:22<00:00, 1451.46s/it]\u001b[A\n",
      "100%|████████████████████████████████████████████████████████████████████████████████| 3/3 [2:00:27<00:00, 2409.07s/it]"
     ]
    },
    {
     "name": "stdout",
     "output_type": "stream",
     "text": [
      "Средняя метрика AP@10 для модели Implicit c factors = 200 и iterations=75: 0.02845836181362497\n"
     ]
    },
    {
     "name": "stderr",
     "output_type": "stream",
     "text": [
      "\n"
     ]
    }
   ],
   "source": [
    "# Посчитаем несколько версий с разными параметрами модели Implicit\n",
    "for iteration in tqdm.tqdm(range(15,100,30)):\n",
    "    for factor in tqdm.tqdm(range(100,300,100)):\n",
    "        if iteration > 15 or factor > 100:\n",
    "            model = implicit.als.AlternatingLeastSquares(factors=100, iterations=15, num_threads=7)\n",
    "    \n",
    "            model.fit(sparse.csr_matrix(matrix))\n",
    "            baseline_ap_list = []\n",
    "            for user in user_random:\n",
    "                recomended_books = set(model.recommend(user_number, sparse.csr_matrix(matrix)[user_number], N=20)[0])\n",
    "                user_books = set(np.where(matrix[user]>0)[0])\n",
    "                recommendations = recomended_books - user_books\n",
    "                positive_books = []\n",
    "                \n",
    "                for recommendation in recommendations:\n",
    "                    if recommendation in np.where(matrix1[user]>1)[0]:\n",
    "                        positive_books.append(recommendation)\n",
    "            \n",
    "                AP = average_precision_at_k(recommendations,  positive_books, 10)\n",
    "                baseline_ap_list.append(AP) \n",
    "                        \n",
    "            mean_ap_at_10 = sum(baseline_ap_list) / len(baseline_ap_list)\n",
    "    \n",
    "            print(f\"Средняя метрика AP@10 для модели Implicit c factors = {factor} и iterations={iteration}:\", mean_ap_at_10) \n",
    "        "
   ]
  },
  {
   "cell_type": "markdown",
   "id": "7e8c3038-66f8-4160-936c-2980b56e28b3",
   "metadata": {},
   "source": [
    "Наилучшего результата удалось достичь при параметрах factors = 100 и iterations=45, при этом mAP=0.0345, что ниже \n",
    ", чем у бейзлайна «Популярные айтемы». Данную модель нельзя назвать удачной, т.к. гораздо менее трудозатратный подход с самымыми популярными айтемами даёт к тому же лучшие метрики."
   ]
  }
 ],
 "metadata": {
  "kernelspec": {
   "display_name": "Python 3 (ipykernel)",
   "language": "python",
   "name": "python3"
  },
  "language_info": {
   "codemirror_mode": {
    "name": "ipython",
    "version": 3
   },
   "file_extension": ".py",
   "mimetype": "text/x-python",
   "name": "python",
   "nbconvert_exporter": "python",
   "pygments_lexer": "ipython3",
   "version": "3.12.4"
  }
 },
 "nbformat": 4,
 "nbformat_minor": 5
}
