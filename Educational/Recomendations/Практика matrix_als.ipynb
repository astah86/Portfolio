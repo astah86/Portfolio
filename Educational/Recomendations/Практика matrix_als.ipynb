{
 "cells": [
  {
   "cell_type": "code",
   "execution_count": 1,
   "id": "d9ff4b0f",
   "metadata": {},
   "outputs": [],
   "source": [
    "import numpy as np\n",
    "import pandas as pd"
   ]
  },
  {
   "cell_type": "code",
   "execution_count": 2,
   "id": "ce41b07a",
   "metadata": {},
   "outputs": [
    {
     "name": "stderr",
     "output_type": "stream",
     "text": [
      "/var/folders/y9/369ghyk55mgbb3cn3tbv74440000gn/T/ipykernel_75539/2343206172.py:2: DtypeWarning: Columns (10) have mixed types. Specify dtype option on import or set low_memory=False.\n",
      "  movies = pd.read_csv('movies_metadata.csv')\n"
     ]
    }
   ],
   "source": [
    "links = pd.read_csv('links_small.csv')\n",
    "movies = pd.read_csv('movies_metadata.csv')"
   ]
  },
  {
   "cell_type": "code",
   "execution_count": 3,
   "id": "6ae2866d",
   "metadata": {},
   "outputs": [
    {
     "data": {
      "text/html": [
       "<div>\n",
       "<style scoped>\n",
       "    .dataframe tbody tr th:only-of-type {\n",
       "        vertical-align: middle;\n",
       "    }\n",
       "\n",
       "    .dataframe tbody tr th {\n",
       "        vertical-align: top;\n",
       "    }\n",
       "\n",
       "    .dataframe thead th {\n",
       "        text-align: right;\n",
       "    }\n",
       "</style>\n",
       "<table border=\"1\" class=\"dataframe\">\n",
       "  <thead>\n",
       "    <tr style=\"text-align: right;\">\n",
       "      <th></th>\n",
       "      <th>userId</th>\n",
       "      <th>movieId</th>\n",
       "      <th>rating</th>\n",
       "      <th>timestamp</th>\n",
       "    </tr>\n",
       "  </thead>\n",
       "  <tbody>\n",
       "    <tr>\n",
       "      <th>0</th>\n",
       "      <td>1</td>\n",
       "      <td>31</td>\n",
       "      <td>2.5</td>\n",
       "      <td>1260759144</td>\n",
       "    </tr>\n",
       "    <tr>\n",
       "      <th>1</th>\n",
       "      <td>1</td>\n",
       "      <td>1029</td>\n",
       "      <td>3.0</td>\n",
       "      <td>1260759179</td>\n",
       "    </tr>\n",
       "    <tr>\n",
       "      <th>2</th>\n",
       "      <td>1</td>\n",
       "      <td>1061</td>\n",
       "      <td>3.0</td>\n",
       "      <td>1260759182</td>\n",
       "    </tr>\n",
       "    <tr>\n",
       "      <th>3</th>\n",
       "      <td>1</td>\n",
       "      <td>1129</td>\n",
       "      <td>2.0</td>\n",
       "      <td>1260759185</td>\n",
       "    </tr>\n",
       "    <tr>\n",
       "      <th>4</th>\n",
       "      <td>1</td>\n",
       "      <td>1172</td>\n",
       "      <td>4.0</td>\n",
       "      <td>1260759205</td>\n",
       "    </tr>\n",
       "    <tr>\n",
       "      <th>...</th>\n",
       "      <td>...</td>\n",
       "      <td>...</td>\n",
       "      <td>...</td>\n",
       "      <td>...</td>\n",
       "    </tr>\n",
       "    <tr>\n",
       "      <th>99999</th>\n",
       "      <td>671</td>\n",
       "      <td>6268</td>\n",
       "      <td>2.5</td>\n",
       "      <td>1065579370</td>\n",
       "    </tr>\n",
       "    <tr>\n",
       "      <th>100000</th>\n",
       "      <td>671</td>\n",
       "      <td>6269</td>\n",
       "      <td>4.0</td>\n",
       "      <td>1065149201</td>\n",
       "    </tr>\n",
       "    <tr>\n",
       "      <th>100001</th>\n",
       "      <td>671</td>\n",
       "      <td>6365</td>\n",
       "      <td>4.0</td>\n",
       "      <td>1070940363</td>\n",
       "    </tr>\n",
       "    <tr>\n",
       "      <th>100002</th>\n",
       "      <td>671</td>\n",
       "      <td>6385</td>\n",
       "      <td>2.5</td>\n",
       "      <td>1070979663</td>\n",
       "    </tr>\n",
       "    <tr>\n",
       "      <th>100003</th>\n",
       "      <td>671</td>\n",
       "      <td>6565</td>\n",
       "      <td>3.5</td>\n",
       "      <td>1074784724</td>\n",
       "    </tr>\n",
       "  </tbody>\n",
       "</table>\n",
       "<p>100004 rows × 4 columns</p>\n",
       "</div>"
      ],
      "text/plain": [
       "        userId  movieId  rating   timestamp\n",
       "0            1       31     2.5  1260759144\n",
       "1            1     1029     3.0  1260759179\n",
       "2            1     1061     3.0  1260759182\n",
       "3            1     1129     2.0  1260759185\n",
       "4            1     1172     4.0  1260759205\n",
       "...        ...      ...     ...         ...\n",
       "99999      671     6268     2.5  1065579370\n",
       "100000     671     6269     4.0  1065149201\n",
       "100001     671     6365     4.0  1070940363\n",
       "100002     671     6385     2.5  1070979663\n",
       "100003     671     6565     3.5  1074784724\n",
       "\n",
       "[100004 rows x 4 columns]"
      ]
     },
     "execution_count": 3,
     "metadata": {},
     "output_type": "execute_result"
    }
   ],
   "source": [
    "ratings = pd.read_csv('ratings_small.csv')\n",
    "ratings"
   ]
  },
  {
   "cell_type": "code",
   "execution_count": 4,
   "id": "34d58bd2",
   "metadata": {},
   "outputs": [],
   "source": [
    "import scipy.sparse as sparse\n",
    "from pandas.api.types import CategoricalDtype \n",
    "\n",
    "user_index = ratings.userId.unique()\n",
    "movies_index = ratings.movieId.unique()\n",
    "\n",
    "rows = ratings['userId'].astype(CategoricalDtype(categories=user_index)).cat.codes \n",
    "cols = ratings['movieId'].astype(CategoricalDtype(categories=movies_index)).cat.codes \n",
    "\n",
    "matrix = sparse.csr_matrix((ratings.rating, (rows, cols)), shape=(len(user_index), len(movies_index)))\n",
    "\n",
    "matrix = matrix.toarray()"
   ]
  },
  {
   "cell_type": "code",
   "execution_count": 5,
   "id": "ac0a0bc5",
   "metadata": {},
   "outputs": [
    {
     "name": "stdout",
     "output_type": "stream",
     "text": [
      "5.0 Stir of Echoes\n",
      "5.0 Frequency\n",
      "4.0 The Maltese Falcon\n",
      "4.0 The Breakfast Club\n",
      "4.0 Austin Powers: The Spy Who Shagged Me\n",
      "4.0 Arachnophobia\n",
      "3.0 The Mosquito Coast\n",
      "5.0 Who Framed Roger Rabbit\n",
      "5.0 The Iron Giant\n",
      "5.0 The 13th Warrior\n",
      "4.0 The Astronaut's Wife\n",
      "3.0 Stigmata\n",
      "5.0 Double Jeopardy\n",
      "5.0 Stuart Little\n",
      "4.0 Galaxy Quest\n",
      "3.0 Desperately Seeking Susan\n",
      "5.0 Entrapment\n",
      "5.0 Lake Placid\n",
      "5.0 Deep Blue Sea\n",
      "4.0 The Thomas Crown Affair\n",
      "5.0 Pacific Heights\n",
      "4.0 Diner\n",
      "4.0 Out of Africa\n",
      "4.0 The General's Daughter\n",
      "3.0 Hope Floats\n",
      "4.0 Tom Jones\n",
      "5.0 Run Silent, Run Deep\n"
     ]
    }
   ],
   "source": [
    "for ind, score in enumerate(matrix[50]): \n",
    "    if score>=3:\n",
    "        movie_id = int(links[links.movieId==movies_index[ind]].tmdbId.values[0])\n",
    "        print(score, movies[movies['id']==str(movie_id)].original_title.values[0])\n"
   ]
  },
  {
   "cell_type": "code",
   "execution_count": 6,
   "id": "ccb671a9",
   "metadata": {},
   "outputs": [
    {
     "name": "stderr",
     "output_type": "stream",
     "text": [
      "/Library/Frameworks/Python.framework/Versions/3.10/lib/python3.10/site-packages/implicit/cpu/als.py:95: RuntimeWarning: OpenBLAS is configured to use 10 threads. It is highly recommended to disable its internal threadpool by setting the environment variable 'OPENBLAS_NUM_THREADS=1' or by calling 'threadpoolctl.threadpool_limits(1, \"blas\")'. Having OpenBLAS use a threadpool can lead to severe performance issues here.\n",
      "  check_blas_config()\n"
     ]
    },
    {
     "data": {
      "application/vnd.jupyter.widget-view+json": {
       "model_id": "862163bac7b646168b8981ef2cad91c7",
       "version_major": 2,
       "version_minor": 0
      },
      "text/plain": [
       "  0%|          | 0/30 [00:00<?, ?it/s]"
      ]
     },
     "metadata": {},
     "output_type": "display_data"
    }
   ],
   "source": [
    "import implicit\n",
    "\n",
    "model = implicit.als.AlternatingLeastSquares(factors=64, iterations=30)\n",
    "\n",
    "model.fit(sparse.csr_matrix(matrix))"
   ]
  },
  {
   "cell_type": "code",
   "execution_count": 7,
   "id": "5445665a",
   "metadata": {},
   "outputs": [
    {
     "data": {
      "text/plain": [
       "array([[ 0.1456562 , -0.22609325, -0.08109295, ...,  0.13658348,\n",
       "         0.17909677,  0.11419078],\n",
       "       [-0.48129943, -0.28109854,  0.45365852, ..., -0.72991306,\n",
       "         1.9579935 ,  0.05197343],\n",
       "       [ 0.01626042, -0.64669824,  1.3102347 , ..., -0.7088846 ,\n",
       "         0.05020762,  1.0883926 ],\n",
       "       ...,\n",
       "       [ 0.05483034,  0.35578984,  0.9336086 , ..., -0.07237514,\n",
       "         0.36479282,  0.8144462 ],\n",
       "       [-0.20480546, -0.60882026,  1.4960787 , ..., -0.8383628 ,\n",
       "         0.0149623 ,  1.249608  ],\n",
       "       [-0.88748705, -0.88270146,  1.8505199 , ..., -1.2109996 ,\n",
       "        -0.59309584,  0.69532543]], dtype=float32)"
      ]
     },
     "execution_count": 7,
     "metadata": {},
     "output_type": "execute_result"
    }
   ],
   "source": [
    "model.user_factors"
   ]
  },
  {
   "cell_type": "code",
   "execution_count": 8,
   "id": "f6b46ac5",
   "metadata": {},
   "outputs": [
    {
     "data": {
      "text/plain": [
       "array([[-0.0001673 ,  0.00242258, -0.01121366, ...,  0.03105991,\n",
       "         0.05189091,  0.00477436],\n",
       "       [ 0.03064282, -0.05440148, -0.00052225, ...,  0.00338218,\n",
       "        -0.00122851, -0.03955786],\n",
       "       [-0.03540804,  0.03527637,  0.00025152, ..., -0.00951132,\n",
       "        -0.0101826 ,  0.01577788],\n",
       "       ...,\n",
       "       [ 0.00162506, -0.00482273, -0.00032332, ...,  0.00439688,\n",
       "         0.00360549, -0.010636  ],\n",
       "       [ 0.00082471, -0.0024502 , -0.00016462, ...,  0.00223475,\n",
       "         0.00183168, -0.00540441],\n",
       "       [ 0.00068062, -0.00012429,  0.00106485, ...,  0.00017621,\n",
       "         0.00050912,  0.00020801]], dtype=float32)"
      ]
     },
     "execution_count": 8,
     "metadata": {},
     "output_type": "execute_result"
    }
   ],
   "source": [
    "model.item_factors"
   ]
  },
  {
   "cell_type": "code",
   "execution_count": 9,
   "id": "c124ab19",
   "metadata": {},
   "outputs": [],
   "source": [
    "recommendations = model.recommend(50, sparse.csr_matrix(matrix)[50])"
   ]
  },
  {
   "cell_type": "code",
   "execution_count": 10,
   "id": "5831eade",
   "metadata": {},
   "outputs": [
    {
     "data": {
      "text/plain": [
       "(array([119, 945, 118, 816, 947, 904, 521, 339, 550, 917], dtype=int32),\n",
       " array([0.5727198 , 0.56173766, 0.47739434, 0.47697037, 0.45804954,\n",
       "        0.45561853, 0.4503094 , 0.43525553, 0.4259323 , 0.42253944],\n",
       "       dtype=float32))"
      ]
     },
     "execution_count": 10,
     "metadata": {},
     "output_type": "execute_result"
    }
   ],
   "source": [
    "recommendations"
   ]
  },
  {
   "cell_type": "code",
   "execution_count": 11,
   "id": "66e67d1c",
   "metadata": {},
   "outputs": [
    {
     "name": "stdout",
     "output_type": "stream",
     "text": [
      "The Sixth Sense\n",
      "Arlington Road\n",
      "Ghostbusters\n",
      "Romy and Michele's High School Reunion\n",
      "The Blair Witch Project\n",
      "Elizabeth\n",
      "Payback\n",
      "A Bug's Life\n",
      "Kingpin\n",
      "The Faculty\n"
     ]
    }
   ],
   "source": [
    "for ind in recommendations[0]: \n",
    "        movie_id = int(links[links.movieId==movies_index[ind]].tmdbId.values[0])\n",
    "        print(movies[movies['id']==str(movie_id)].original_title.values[0])\n"
   ]
  }
 ],
 "metadata": {
  "kernelspec": {
   "display_name": "Python 3 (ipykernel)",
   "language": "python",
   "name": "python3"
  },
  "language_info": {
   "codemirror_mode": {
    "name": "ipython",
    "version": 3
   },
   "file_extension": ".py",
   "mimetype": "text/x-python",
   "name": "python",
   "nbconvert_exporter": "python",
   "pygments_lexer": "ipython3",
   "version": "3.12.4"
  }
 },
 "nbformat": 4,
 "nbformat_minor": 5
}
